{
 "cells": [
  {
   "cell_type": "markdown",
   "metadata": {},
   "source": [
    "<img src=\"../static/logo.png\" alt=\"datio\" style=\"width: 150px \"align=\"right\"/>"
   ]
  },
  {
   "cell_type": "markdown",
   "metadata": {},
   "source": [
    "# Introducción a Lenguajes de Programación (Python)"
   ]
  },
  
  {
   "cell_type": "markdown",
   "metadata": {},
   "source": [
    "##Contenido:\n",
    "* **1. Repositorios Python**: Repositorios Github ofrecidos tanto para realizar el curso de introducción al lenguaje como para complementar la formación. \n",
    "* **2. Herramienta de trabajo**: Breve descripción de la tecnología utilizada como entorno para el curso.\n",
    "* **3. Docker**: Descripción del contenedor Docker utilizado para disponibilizar el entorno de trabajo.\n",
    "* **4. Puesta en marcha:**: Pasos necesarios a llevar a cabo para tener disponible el entorno de trabajo y la documentación."
   ]
  },
  {
   "cell_type": "markdown",
   "metadata": {},
   "source": [
    "## 1. Repositorios Python:"
   ]
  },
  {
   "cell_type": "markdown",
   "metadata": {},
   "source": [
    "<img src=\"../static/github.png\"alt=\"github\" style=\"width: 100px \"align=\"center\"/>"
   ]
  },
  {
   "cell_type": "markdown",
   "metadata": {},
   "source": [
    "En el [repositorio de Github de Academy](https://github.com/DatioBD/academy/blob/master/languages/python.md) destinado al lenguaje, se encuentra la documentación necesaria para complementar la introducción desde cero al lenguaje de programación Python. Aquí se ofrecen cursos online recomendados para profundizar en el lenguaje y bibliografía básica.\n",
    "\n",
    "Asímismo, el contenido de la formación de Python, se encuentra aquí: [datiopython](https://github.com/DatioBD/academy/tree/master/courses/python)"
   ]
  },
  {
   "cell_type": "markdown",
   "metadata": {},
   "source": [
    "## 2. Herramienta de Trabajo:"
   ]
  },
  {
   "cell_type": "markdown",
   "metadata": {},
   "source": [
    "<img src=\"../static/jupyter.png\"alt=\"jupyter\" style=\"width: 150px \"align=\"center\"/>"
   ]
  },
  {
   "cell_type": "markdown",
   "metadata": {},
   "source": [
    "La herramienta elegida para llevar a cabo la formación ha sido el notebook de [Jupyter](http://jupyter.org).\n",
    "A continuación se explicarán brevemente una serie de conceptos relacionados con el entorno de trabajo:\n",
    "* **Jupyter**: Jupyter es un entorno interactivo de computación que permite la edición de *notebooks*. \n",
    "* **Notebook**: entorno interactivo web de ejecución de código. El notebook de Jupyter combina tres componentes:\n",
    "  * *Aplicación web*: aplicación que permite escribir y ejecutar código de forma interactiva sobre un entorno web.\n",
    "  * *Kernel*: antes de abrir un notebook, la aplicación web inicia el kernel sobre el que corre el código de ese notebook. Un kernel es capaz de soportar un único lenguaje de programación, sin embargo Jupyter ofrece múltiples kernels para los siguientes lenguajes:\n",
    "    * [Python](https://github.com/ipython/ipython)\n",
    "    * [Julia](https://github.com/JuliaLang/IJulia.jl)\n",
    "    * [R](https://github.com/takluyver/IRkernel)\n",
    "    * [Ruby](https://github.com/minrk/iruby)\n",
    "    * [Haskell](https://github.com/gibiansky/IHaskell)\n",
    "    * [Scala](https://github.com/Bridgewater/scala-notebook)\n",
    "    * [node.js](https://gist.github.com/Carreau/4279371)\n",
    "    * [Go](https://github.com/takluyver/igo) \n",
    "  * *Documento*: documento \"auto-contenido\" que agrupa todos los tipos de contenido visibles de la aplicación web (entradas y salidas de código, texto, imágenes, etc.). Cada documento tiene su propio kernel e internamente está estructurado como documento JSON que contiene tantos documentos como celdas.\n",
    "* **Celda**: Entrada de texto del notebook que puede contener:\n",
    "    * Código\n",
    "    * Widgets interactivos\n",
    "    * Plots\n",
    "    * Texto \n",
    "    * Imágenes \n",
    "* **IPython**: kernel de Python para Jupyter / shell de python"
   ]
  },
  {
   "cell_type": "markdown",
   "metadata": {},
   "source": [
    "## 3. Docker"
   ]
  },
  {
   "cell_type": "markdown",
   "metadata": {},
   "source": [
    "<img src=\"../static/docker.png\"alt=\"docker\" style=\"width: 150px \"align=\"center\"/>"
   ]
  },
  {
   "cell_type": "markdown",
   "metadata": {},
   "source": [
    "La instalación del entorno de trabajo (que se explicará a continuación), se llevará a cabo por medio de un **contenedor docker**.<br/>\n",
    "**Docker** es una tecnología de código abierto que permite crear, ejecutar, probar e implementar aplicaciones (con todas sus dependencias) dentro de contenedores de software.<br/>\n",
    "Los **contenedores** no son más que paquetes de elementos que permiten ejecutar una aplicación desde cualquier sistema operativo (linux, mac o windows). \n",
    "Estos contenedores resuelven:\n",
    "* La necesidad de tener disponibles todas las dependencias (librerías, sistemas de archivos, etc.) necesarias para ejecutar una aplicación de forma correcta\n",
    "* El aislamiento y asignación de recursos de un proceso (memoria, disco, cpu) durante el tiempo de vida del proceso.<br/> \n",
    "La estructura de un contenedor se define en un fichero llamado **Dockerfile**. Este fichero no deja de ser una *receta* que define los pasos necesarios para construir la imagen de dicho contenedor. </br>\n",
    "Otra ventaja que ofrece Docker es la posibilidad de hacer uso de un registro (público o privado), llamado [Docker Registry](https://hub.docker.com) donde subir y bajar las imágenes docker, de forma que para construir una imagen no sea necesario tener ficheros en local, sino simplemente una conexión web. <br/>\n"
   ]
  },
  {
   "cell_type": "markdown",
   "metadata": {
    "collapsed": true
   },
   "source": [
    "#### Docker Jupyter Notebook"
   ]
  },
  {
   "cell_type": "markdown",
   "metadata": {},
   "source": [
    "Para llevar a cabo la instalación del entorno, se hará uso del proyecto [Docker-Stacks](https://github.com/jupyter/docker-stacks) que agrupa una serie de contenedores docker capaces de lanzar aplicaciones Jupyter de diversas tecnologías:\n",
    "* Python\n",
    "* Scala\n",
    "* R\n",
    "* Spark\n",
    "* Mesos stack<br/>\n",
    "\n",
    "La imagen de este proyecto se encuentra accesible de forma pública desde el [Docker Registry del proyecto](https://hub.docker.com/r/jupyter/all-spark-notebook/)"
   ]
  },
  {
   "cell_type": "markdown",
   "metadata": {},
   "source": [
    "Ya que esta imagen contiene un notebook que permite ejecutar los kernels de distintas tecnologías. Este entorno de trabajo será el utilizado para toda la formación orientada a lenguajes de programación (**Python**, **Scala** y **R**) así como para la centrada en el procesamiento mediante **Apache Spark**."
   ]
  },
  {
   "cell_type": "markdown",
   "metadata": {},
   "source": [
    "## 4. Puesta en marcha:"
   ]
  },
  {
   "cell_type": "markdown",
   "metadata": {},
   "source": [
    "<img src=\"../static/checklist.png\"alt=\"datio\" style=\"width: 150px \"align=\"center\"/>"
   ]
  },
  {
   "cell_type": "markdown",
   "metadata": {},
   "source": [
    "#### Opción A: Configuración de la máquina virtual proporcionada para la formación de Datio"
   ]
  },
  {
   "cell_type": "markdown",
   "metadata": {},
   "source": [
    "Para llevar a cabo la configuración del entorno de trabajo recomendado para la formación de lenguajes de programación, se ha elaborado la siguiente guía donde se explica paso a paso cómo importar una máquina virtual con el software necesario:<br/>\n",
    "[Instrucciones de configuración de máquina virtual](https://github.com/DatioBD/academy/blob/master/courses/python/notebooks_completos/1_VirtualBoxDocker.ipynb)"
   ]
  },
  {
   "cell_type": "markdown",
   "metadata": {},
   "source": [
    "#### Opción B: Configuración libre sin hacer uso de software de virtualización"
   ]
  },
  {
   "cell_type": "markdown",
   "metadata": {},
   "source": [
    "#### B.1. Descarga del material del curso"
   ]
  },
  {
   "cell_type": "markdown",
   "metadata": {},
   "source": [
    "En primer lugar, se recomienda acceder al [repositorio de Datio Academy](https://github.com/DatioBD/academy) desde el navegador, para a continuación descargar una copia en local."
   ]
  },
  {
   "cell_type": "markdown",
   "metadata": {},
   "source": [
    "<img src=\"../static/download.gif\">"
   ]
  },
  {
   "cell_type": "markdown",
   "metadata": {},
   "source": [
    "A continuación, el arhivo zip se descomprime en una carpeta local *$CURSO_DATIO*"
   ]
  },
  {
   "cell_type": "markdown",
   "metadata": {},
   "source": [
    "#### B.2. Construcción y ejecución del notebook"
   ]
  },
  {
   "cell_type": "markdown",
   "metadata": {},
   "source": [
    "##### B.2.1. Instalación Docker Engine\n",
    "En caso de no tener instalado el motor de docker, recomendamos revisar previamente la [documentación]https://github.com/docker/labs/blob/master/beginner/chapters/setup.md), o ir al [sitio oficial](https://docs.docker.com/engine/installation/) para descargar el que corresponda con la versión de sistema operativo.
    "Una vez completado el proceso de instalación, desde el terminal de sistema debe aparecer un mensaje similar al que se muestra a continuación, cuando se ejecuta el mandato \"docker\": <br/>"
   ]
  },
  {
   "cell_type": "markdown",
   "metadata": {},
   "source": [
    "<img src=\"../static/dockerprompt.png\">"
   ]
  },
  {
   "cell_type": "markdown",
   "metadata": {},
   "source": [
    "##### B.2.2. Creación contenedor del entorno de trabajo"
   ]
  },
  {
   "cell_type": "markdown",
   "metadata": {},
   "source": [
    "Una vez instalado docker, para crear el contenedor con los notebooks necesarios para la formación, basta con ejecutar la siguiente instrucción desde un terminal que tenga el docker engine instalado: <br/>"
   ]
  },
  {
   "cell_type": "markdown",
   "metadata": {},
   "source": [
    "docker run -d -p 8888:8888 -v $CURSO_DATIO:/home/jovyan/work jupyter/all-spark-notebook start-notebook.sh --NotebookApp.token='' "
   ]
  },
  {
   "cell_type": "markdown",
   "metadata": {},
   "source": [
    "Esta instrucción realiza lo siguiente:<br/>\n",
    "1.- Descarga el contenedor con los notebooks necesarios, en caso de que no estén descargados (jupyter/all-spark-notebook)<br/>\n",
    "2.- Monta en el directorio home del notebook (/home/jovyan/work), el material para la formación que se ha descargado en la ruta $CURSO_DATIO.<br/>\n",
    "3.- Mapea el puerto 8888 local para poder acceder desde el navegador al notebook (-p 8888:8888).<br/>"
   ]
  },
  {
   "cell_type": "markdown",
   "metadata": {},
   "source": [
    "Un ejemplo de ello, sería si la descarga del repositorio es en /home/rbravo/datiobd/curso:\n"
   ]
  },
  {
   "cell_type": "markdown",
   "metadata": {},
   "source": [
    "docker run -d -p 8888:8888 -v /home/rbravo/datiobd/curso:/home/jovyan/work jupyter/all-spark-notebook start-notebook.sh --NotebookApp.token=''"
   ]
  },
  {
   "cell_type": "markdown",
   "metadata": {},
   "source": [
    "#### B.3. Acceso al notebook"
   ]
  },
  {
   "cell_type": "markdown",
   "metadata": {},
   "source": [
    "Una vez descargado el contenedor, se ejecuta por medio del mandato \"docker run\" y si todo va bien, estará disponible desde el navegador desde la siguiente url:"
   ]
  },
  {
   "cell_type": "markdown",
   "metadata": {},
   "source": [
    "http://localhost:8888"
   ]
  },
  {
   "cell_type": "markdown",
   "metadata": {},
   "source": [
    "Nota: En el caso que el sistema operativo utilizado no sea Linux, habrá que cambiar la dirección ip por la dirección ip del docker engine."
   ]
  },
  {
   "cell_type": "markdown",
   "metadata": {},
   "source": [
    "<img src=\"../static/notebooklocal.png\">"
   ]
  },
  {
   "cell_type": "markdown",
   "metadata": {},
   "source": [
    "Una vez aparezca el notebook desde el navegador, para seguir el curso, bastará con acceder a cada uno de los contenidos existentes."
   ]
  }
 ],
 "metadata": {
  "kernelspec": {
   "display_name": "Python 3",
   "language": "python",
   "name": "python3"
  },
  "language_info": {
   "codemirror_mode": {
    "name": "ipython",
    "version": 3
   },
   "file_extension": ".py",
   "mimetype": "text/x-python",
   "name": "python",
   "nbconvert_exporter": "python",
   "pygments_lexer": "ipython3",
   "version": "3.5.2"
  }
 },
 "nbformat": 4,
 "nbformat_minor": 2
}

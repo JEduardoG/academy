{
 "cells": [
  {
   "cell_type": "markdown",
   "metadata": {},
   "source": [
    "<img src=\"../static/logo.png\">"
   ]
  },
  {
   "cell_type": "markdown",
   "metadata": {},
   "source": [
    "# Bienvenido al curso de #DatioPython"
   ]
  },
  {
   "cell_type": "markdown",
   "metadata": {},
   "source": [
    "El objetivo de esta guía es presentar los siguientes puntos:\n",
    "* **Repositorios Python**: repositorios github ofrecidos tanto para realizar el curso de introducción al lenguaje python como para complementar la formación. \n",
    "* **Herramienta de trabajo**: breve descripción de la tecnología utilizada como entorno para realizar el curso\n",
    "* **Docker**: Descripción del contenedor docker utilizado para disponibilizar el entorno de trabajo\n",
    "* **Pasos a seguir**: guía que facilitan los pasos necesarios a llevar a cabo para tener disponible el entorno de trabajo y el material del curso"
   ]
  },
  {
   "cell_type": "markdown",
   "metadata": {},
   "source": [
    "## Repositorios Python"
   ]
  },
  {
   "cell_type": "markdown",
   "metadata": {},
   "source": [
    "<img src=\"../static/github.png\">"
   ]
  },
  {
   "cell_type": "markdown",
   "metadata": {},
   "source": [
    "En el [repositorio de Github](https://github.com/DatioBD/academy/blob/master/languages/python.md) destinado al lenguaje academy, se encuentra la documentación necesaria para complementar la introducción desde cero al lenguaje de programación Python. Aquí se ofrecen cursos online recomendados para profundizar en el lenguaje y bibliografía básica.\n",
    "\n",
    "Así mismo, el contenido de la formación de python, se encuentra en este otro repositorio: [datiopython](https://github.com/DatioBD/academy/tree/master/courses/python)"
   ]
  },
  {
   "cell_type": "markdown",
   "metadata": {},
   "source": [
    "## Herramienta de Trabajo"
   ]
  },
  {
   "cell_type": "markdown",
   "metadata": {},
   "source": [
    "<img src=\"../static/jupyter.png\">"
   ]
  },
  {
   "cell_type": "markdown",
   "metadata": {},
   "source": [
    "La herramienta elegida para llevar a cabo la formación ha sido el notebook de [jupyter](http://jupyter.org).\n",
    "A continuación se explicarán de forma breve y concisa una serie de conceptos relacionados con el entorno de trabajo:\n",
    "* **Jupyter**: Jupyter es un entorno interactivo de computación que permite la edición de *notebooks*. \n",
    "* **Notebook**: Entorno interactivo web de ejecución de código. El notebook de jupyter combina tres componentes:\n",
    "  * *Aplicación web*: aplicación que permite escribir y ejecutar código de forma interactiva sobre un entorno web.\n",
    "  * *Kernel*: antes de abrir un notebook, la aplicación web inicia el kernel sobre el que corre el código de ese notebook. Un kernel es capaz de soportar un único lenguaje de programación, sin embargo jupyter ofrece múltiples kernels para los siguientes lenguajes:\n",
    "    * [Python](https://github.com/ipython/ipython)\n",
    "    * [Julia](https://github.com/JuliaLang/IJulia.jl)\n",
    "    * [R](https://github.com/takluyver/IRkernel)\n",
    "    * [Ruby](https://github.com/minrk/iruby)\n",
    "    * [Haskell](https://github.com/gibiansky/IHaskell)\n",
    "    * [Scala](https://github.com/Bridgewater/scala-notebook)\n",
    "    * [node.js](https://gist.github.com/Carreau/4279371)\n",
    "    * [Go](https://github.com/takluyver/igo) \n",
    "  * *Documento*: Documento \"auto-contenido\" que agrupa todos los tipos de contenido visible de la aplicación web (entradas y salidas de código, texto, imágenes, etc.). Cada documento tiene su propio kernel e internamente está estructurado como documento JSON que contiene tantos documentos como celdas.\n",
    "* **Celda**: Entrada de texto del notebook que puede contener:\n",
    "    * Código\n",
    "    * Widgets interactivos\n",
    "    * Plots\n",
    "    * Texto \n",
    "    * Imágenes \n",
    "* **IPython**: kernel de python para jupyter / shell de python"
   ]
  },
  {
   "cell_type": "markdown",
   "metadata": {},
   "source": [
    "## Docker"
   ]
  },
  {
   "cell_type": "markdown",
   "metadata": {},
   "source": [
    "<img src=\"../static/docker.png\">"
   ]
  },
  {
   "cell_type": "markdown",
   "metadata": {},
   "source": [
    "#### Introducción a Docker\n",
    "La instalación del entorno de trabajo (se explicará a continuación), se llevará a cabo por medio de un **contenedor docker**.<br/>\n",
    "**Docker** es una tecnología de código abierto que permite crear, ejecutar, probar e implementar aplicaciones (con todas sus dependencias) dentro de contenedores de software.<br/>\n",
    "Los **contenedores** no son más que paquetes de elementos que permiten ejecutar una aplicación desde cualquier sistema operativo (linux, mac o windows). \n",
    "Estos contenedores resuelven:\n",
    "* La necesidad de tener disponibles todas las dependencias (librerías, sistemas de archivos, etc.) necesarias para ejecutar una aplicación de forma correcta\n",
    "* El aislamiento y asignación de recursos de un proceso (memoria, disco, cpu) durante el tiempo de vida del proceso.<br/> \n",
    "La estructura de un contenedor se define en un fichero llamado **Dockerfile**. Este fichero no deja de ser una *receta* que define los pasos necesarios para construir la imagen de dicho contenedor. </br>\n",
    "Otra ventaja que ofrece Docker es la posibilidad de hacer uso de un registro (público o privado), llamado [Docker Registry](https://hub.docker.com) donde subir y bajar las imágenes docker, de forma que para construir una imagen no sea necesario tener ficheros en local, sino simplemente una conexión web. <br/>\n"
   ]
  },
  {
   "cell_type": "markdown",
   "metadata": {
    "collapsed": true
   },
   "source": [
    "#### Docker Jupyter Notebook"
   ]
  },
  {
   "cell_type": "markdown",
   "metadata": {},
   "source": [
    "Para llevar a cabo la instalación del entorno, se hará uso del proyecto [Docker-Stacks](https://github.com/jupyter/docker-stacks) que agrupa una serie de contenedores docker capaces de lanzar aplicaciones Jupyter de diversas tecnologías:\n",
    "* Python\n",
    "* Scala\n",
    "* R\n",
    "* Spark\n",
    "* Mesos stack<br/>\n",
    "\n",
    "La imagen de este proyecto se encuentra accesible de forma pública desde el [Docker Registry del proyecto](https://hub.docker.com/r/jupyter/all-spark-notebook/)"
   ]
  },
  {
   "cell_type": "markdown",
   "metadata": {},
   "source": [
    "Ya que esta imagen contiene un notebook que permite ejecutar los kernels de distintas tecnologías. Este entorno de trabajo será el utilizado para toda la formación orientada a lenguajes de programación (**Python**, **Scala** y **R**) así como para la centrada en el procesamiento mediante Apache **Spark**."
   ]
  },
  {
   "cell_type": "markdown",
   "metadata": {},
   "source": [
    "## Pasos a Seguir"
   ]
  },
  {
   "cell_type": "markdown",
   "metadata": {},
   "source": [
    "<img src=\"../static/checklist.png\" style=\"max-width:20%; width: 20%;\">"
   ]
  },
  {
   "cell_type": "markdown",
   "metadata": {},
   "source": [
    "#### 1. Descarga del material del curso"
   ]
  },
  {
   "cell_type": "markdown",
   "metadata": {},
   "source": []
  },
  {
   "cell_type": "markdown",
   "metadata": {},
   "source": [
    "#### 2. Construcción y ejecución del notebook"
   ]
  },
  {
   "cell_type": "markdown",
   "metadata": {},
   "source": []
  },
  {
   "cell_type": "markdown",
   "metadata": {},
   "source": [
    "#### 3. Acceso al notebook"
   ]
  },
  {
   "cell_type": "markdown",
   "metadata": {},
   "source": []
  }
 ],
 "metadata": {
  "kernelspec": {
   "display_name": "Python 3",
   "language": "python",
   "name": "python3"
  },
  "language_info": {
   "codemirror_mode": {
    "name": "ipython",
    "version": 3
   },
   "file_extension": ".py",
   "mimetype": "text/x-python",
   "name": "python",
   "nbconvert_exporter": "python",
   "pygments_lexer": "ipython3",
   "version": "3.5.2"
  }
 },
 "nbformat": 4,
 "nbformat_minor": 2
}

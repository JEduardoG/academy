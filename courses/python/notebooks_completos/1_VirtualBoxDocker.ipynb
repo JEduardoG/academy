{
 "cells": [
  {
   "cell_type": "markdown",
   "metadata": {},
   "source": [
    "<img src=\"../static/logo.png\">"
   ]
  },
  {
   "cell_type": "markdown",
   "metadata": {},
   "source": [
    "# Manual de instalación del entorno de trabajo desde Virtual Box"
   ]
  },
  {
   "cell_type": "markdown",
   "metadata": {},
   "source": [
    "Los pasos a llevar a cabo para tener disponible el entorno de trabajo (notebook) de la formación de datio, son los siguientes:<br/>"
   ]
  },
  {
   "cell_type": "markdown",
   "metadata": {},
   "source": [
    "## Importar Imagen"
   ]
  },
  {
   "cell_type": "markdown",
   "metadata": {},
   "source": [
    "#### Prerrequisito: VirtualBox instalado"
   ]
  },
  {
   "cell_type": "markdown",
   "metadata": {},
   "source": [
    "Para llevar a cabo la importación de la máquina virtual que contiene los contenedores, bastará con abrir el programa VirtualBox y desde el menú principal, seleccionar la siguiente opción:<br/>\n",
    "** Archivo -> Importar servicio virtualizado **<br/>\n",
    "Una vez elegida esta opción, se abre una carpeta que permite seleccionar el fichero .ova que contiene la máquina virtual preparada para el curso."
   ]
  },
  {
   "cell_type": "markdown",
   "metadata": {},
   "source": [
    "<img src=\"../static/importImage.gif\">"
   ]
  },
  {
   "cell_type": "markdown",
   "metadata": {},
   "source": [
    "## Iniciar Máquina Virtual"
   ]
  },
  {
   "cell_type": "markdown",
   "metadata": {},
   "source": [
    "Una vez se ha importado la imagen, aparece en el menú lateral izquierdo de Virtual Box, con el nombre del archivo (en este caso centos).<br/>\n",
    "Estando seleccionada esa imagen (aparece iniclamente como apagada), se pulsa la opción **iniciar**.<br/>\n",
    "Una vez iniciada la máquina virtual, se abre una ventana que inicia el sistema operativo centos, hasta acabar en una pantalla de login."
   ]
  },
  {
   "cell_type": "markdown",
   "metadata": {},
   "source": [
    "<img src=\"../static/initimage.gif\">"
   ]
  },
  {
   "cell_type": "markdown",
   "metadata": {},
   "source": [
    "## Lanzar contenedor docker"
   ]
  },
  {
   "cell_type": "markdown",
   "metadata": {},
   "source": [
    "Una vez, aparece la pantalla de login. Hay que llevar a cabo los siguientes pasos:<br/>\n",
    "* Autenticarse\n",
    "* Bajar el material de formación\n",
    "* Crear el contenedor docker con el entorno de trabajo (notebook)"
   ]
  },
  {
   "cell_type": "markdown",
   "metadata": {},
   "source": [
    "El primer punto (autenticación) se lleva a cabo con las credenciales root/datio (usuario/password). <br/>\n",
    "Los dos siguientes, se llevan acabo dentro del script **start_notebook.sh**.<br/>\n",
    "Este script, baja la información del repositorio de github y ejecuta la llamada a docker que baja la imagen existente en el siguiente [repositorio público](https://hub.docker.com/r/jupyter/all-spark-notebook/) que contiene el entorno de trabajo. <br/>\n",
    "Para ejecutarlo, bastará simplemente con introducir el mandato: **sh start_notebook.sh** desde el directorio al que se llega tras autenticarse (/root)"
   ]
  },
  {
   "cell_type": "markdown",
   "metadata": {},
   "source": [
    "<img src=\"../static/startnotebook.gif\">"
   ]
  },
  {
   "cell_type": "markdown",
   "metadata": {},
   "source": [
    "## Acceso al notebook"
   ]
  },
  {
   "cell_type": "markdown",
   "metadata": {},
   "source": [
    "Cuando finaliza la creación del contenedor docker, aparece un mensaje indicando que se ha bajado la última imagen del repositorio de docker jupyter/all-spark-notebook:latest. En ese momento, el entorno de trabajo ya está preparado.</br>\n",
    "Para acceder a él, solo es necesario abrir un navegador e introducir la siguiente url: <br/>\n",
    "http://localhost:8888"
   ]
  },
  {
   "cell_type": "markdown",
   "metadata": {},
   "source": [
    "<img src=\"../static/notebook.gif\">"
   ]
  }
 ],
 "metadata": {
  "kernelspec": {
   "display_name": "Python 3",
   "language": "python",
   "name": "python3"
  },
  "language_info": {
   "codemirror_mode": {
    "name": "ipython",
    "version": 3
   },
   "file_extension": ".py",
   "mimetype": "text/x-python",
   "name": "python",
   "nbconvert_exporter": "python",
   "pygments_lexer": "ipython3",
   "version": "3.5.2"
  }
 },
 "nbformat": 4,
 "nbformat_minor": 2
}

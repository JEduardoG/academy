{
 "cells": [
  {
   "cell_type": "markdown",
   "metadata": {
    "deletable": false,
    "editable": false,
    "run_control": {
     "frozen": true
    }
   },
   "source": [
    "**PART 1**"
   ]
  },
  {
   "cell_type": "code",
   "execution_count": null,
   "metadata": {},
   "outputs": [],
   "source": [
    "def CheckPasswordConditions(pwd):\n",
    "    \"\"\"\n",
    "    Check if a given password 'pwd' satisfies all the conditions specified\n",
    "    \"\"\"\n",
    "    \n",
    "    def CheckIfContains(string, char_list):\n",
    "        \"\"\"\n",
    "        Function to check if each of the characters of a 'string' are\n",
    "        contained in a given list of characters 'char_list'\n",
    "        \"\"\""
   ]
  },
  {
   "cell_type": "code",
   "execution_count": null,
   "metadata": {},
   "outputs": [],
   "source": [
    "from getpass import getpass #This function is similar to input() but it does not show the input on the screen.\n",
    "\n",
    "# Ask the user to enter his user and password\n",
    "usr = \n",
    "pwd = \n",
    "\n",
    "# Check if the password entered is correct or not\n"
   ]
  },
  {
   "cell_type": "markdown",
   "metadata": {
    "deletable": false,
    "editable": false,
    "run_control": {
     "frozen": true
    }
   },
   "source": [
    "**PART 2**"
   ]
  },
  {
   "cell_type": "code",
   "execution_count": null,
   "metadata": {},
   "outputs": [],
   "source": []
  }
 ],
 "metadata": {
  "kernelspec": {
   "display_name": "Python 3",
   "language": "python",
   "name": "python3"
  },
  "language_info": {
   "codemirror_mode": {
    "name": "ipython",
    "version": 3
   },
   "file_extension": ".py",
   "mimetype": "text/x-python",
   "name": "python",
   "nbconvert_exporter": "python",
   "pygments_lexer": "ipython3",
   "version": "3.5.2"
  }
 },
 "nbformat": 4,
 "nbformat_minor": 2
}

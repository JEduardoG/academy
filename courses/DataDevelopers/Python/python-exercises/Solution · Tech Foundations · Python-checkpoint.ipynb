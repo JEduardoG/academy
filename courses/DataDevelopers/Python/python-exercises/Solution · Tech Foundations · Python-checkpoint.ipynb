{
 "cells": [
  {
   "cell_type": "markdown",
   "metadata": {
    "deletable": false,
    "editable": false,
    "run_control": {
     "frozen": true
    }
   },
   "source": [
    " **Complete exercise solution**"
   ]
  },
  {
   "cell_type": "markdown",
   "metadata": {
    "deletable": false,
    "editable": false,
    "run_control": {
     "frozen": true
    }
   },
   "source": [
    "**PART 1**"
   ]
  },
  {
   "cell_type": "code",
   "execution_count": 1,
   "metadata": {
    "deletable": false,
    "editable": false
   },
   "outputs": [],
   "source": [
    "class LogIn(object):\n",
    "    \"\"\"\n",
    "    La clase LogIn(logNow = True) tiene dos modos de trabajo:\n",
    "        - En caso de no recibir ningún argumento, procederá a lanzar el método LogUserIn\n",
    "        - En caso de recibir un string, procede a asignar a los atributos del objeto dicho string.\n",
    "    \"\"\"\n",
    "    def CheckPasswordConditions(self, pwd, display):\n",
    "        \"\"\"\n",
    "        Método que checkea si una contraseña cumple los siguientes requisitos:\n",
    "\n",
    "            At least 1 letter between [a-z]\n",
    "            At least 1 number between [0-9]\n",
    "            At least 1 letter between [A-Z]\n",
    "            At least 1 character from [$#@]\n",
    "            Minimum length of transaction password: 6\n",
    "            Maximum length of transaction password: 12\n",
    "\n",
    "        En caso de no cumplir alguno de los anteriores, devuelve un mensaje indicando el error.\n",
    "        \"\"\"\n",
    "        PwdCorrect = False\n",
    "        \n",
    "        def CheckIfContains(pwd, char_list):\n",
    "            \"\"\"\n",
    "            Función que comprueba si existe al menos un elemento\n",
    "            de la lista 'char_list' en la contraseña 'pwd'\n",
    "            \"\"\"\n",
    "            for char in pwd:\n",
    "                contained_in_pwd = char in char_list\n",
    "                if contained_in_pwd == True:\n",
    "                    break\n",
    "            return contained_in_pwd\n",
    "\n",
    "        pwd_length = len(pwd)\n",
    "        lowercase = ['a','b','c','d','e','f','g','h','i','j','k','l','m',\n",
    "                     'n','o','p','q','r','s','t','u','v','w','x','y','z']\n",
    "\n",
    "        uppercase = []\n",
    "        for element in lowercase:\n",
    "            uppercase.append(element.upper())\n",
    "\n",
    "        number = str(list(range(10)))\n",
    "        special = ['$','@','#']\n",
    "\n",
    "        correct_length = 5 < pwd_length <= 12\n",
    "        lowercase_in_pwd = CheckIfContains(pwd, lowercase)\n",
    "        uppercase_in_pwd = CheckIfContains(pwd, uppercase)\n",
    "        number_in_pwd = CheckIfContains(pwd, number)\n",
    "        special_in_pwd = CheckIfContains(pwd, special)\n",
    "\n",
    "        if (not correct_length):\n",
    "            Error = \"longitud entre 6 y 12\"\n",
    "        elif (not lowercase_in_pwd):\n",
    "            pass\n",
    "            Error = \"una letra minúscula\"\n",
    "        elif (not uppercase_in_pwd):\n",
    "            pass\n",
    "            Error = \"una letra mayúscula\"\n",
    "        elif (not number_in_pwd):\n",
    "            pass\n",
    "            Error = \"un dígito del 0 al 9\"\n",
    "        elif (not special_in_pwd):\n",
    "            pass\n",
    "            Error = \"uno de $,@,#\"\n",
    "        else:\n",
    "            Error = \"none\"\n",
    "            PwdCorrect = True\n",
    "        \n",
    "        if (not PwdCorrect and display):\n",
    "            print(\"La contraseña debe incluir al menos\",Error)\n",
    "        return PwdCorrect, Error\n",
    "    \n",
    "    def SaveUser(self, line):\n",
    "        \"\"\"\n",
    "        Método que guarda los atributos de un logeo de usuario en caso de recibir un string de tres atributos\n",
    "        \"\"\"\n",
    "        self.usr, self.pwd,self.logtime = line.split(',')\n",
    "        self.PwdCorrect, self.Error = self.CheckPasswordConditions(self.pwd, False)\n",
    "    \n",
    "    def LogUserIn(self):\n",
    "        \"\"\"\n",
    "        Método que pide al usuario introducir su nombre y contraseña, \n",
    "        posteriormente chequea si la contraseña es correcta\n",
    "        \"\"\"\n",
    "        from getpass import getpass\n",
    "        from datetime import datetime\n",
    "        \n",
    "        self.usr = input(\"Introduzca su usuario: \")\n",
    "        self.pwd = getpass(\"Introduzca su contraseña: \")\n",
    "        self.logtime = \"Not logged correctly\"\n",
    "        self.PwdCorrect, self.Error = self.CheckPasswordConditions(self.pwd, True)\n",
    "        if self.PwdCorrect:\n",
    "            self.logtime = str(datetime.now())\n",
    "            \n",
    "    def __init__(self, logNow = True):\n",
    "        if logNow == True:\n",
    "            self.LogUserIn()\n",
    "        else:\n",
    "            self.SaveUser(logNow)"
   ]
  },
  {
   "cell_type": "code",
   "execution_count": 2,
   "metadata": {
    "deletable": false,
    "editable": false
   },
   "outputs": [
    {
     "name": "stdout",
     "output_type": "stream",
     "text": [
      "afernandez\n",
      "cuyVBe2@\n",
      "2018-04-05 11:06:15.414298\n",
      "True\n"
     ]
    }
   ],
   "source": [
    "user = LogIn('afernandez,cuyVBe2@,2018-04-05 11:06:15.414298')\n",
    "\n",
    "print(user.usr)\n",
    "print(user.pwd)\n",
    "print(user.logtime)\n",
    "print(user.PwdCorrect)"
   ]
  },
  {
   "cell_type": "code",
   "execution_count": 3,
   "metadata": {
    "deletable": false,
    "editable": false
   },
   "outputs": [
    {
     "name": "stdout",
     "output_type": "stream",
     "text": [
      "Introduzca su usuario: afernandez\n",
      "Introduzca su contraseña: ········\n",
      "afernandez\n",
      "cUyV2#$\n",
      "2018-04-06 09:02:16.770132\n",
      "True\n"
     ]
    }
   ],
   "source": [
    "user = LogIn()\n",
    "\n",
    "print(user.usr)\n",
    "print(user.pwd)\n",
    "print(user.logtime)\n",
    "print(user.PwdCorrect)"
   ]
  },
  {
   "cell_type": "markdown",
   "metadata": {
    "deletable": false,
    "editable": false,
    "run_control": {
     "frozen": true
    }
   },
   "source": [
    "**PART 2**"
   ]
  },
  {
   "cell_type": "code",
   "execution_count": 4,
   "metadata": {
    "deletable": false,
    "editable": false
   },
   "outputs": [
    {
     "data": {
      "text/html": [
       "<div>\n",
       "<style scoped>\n",
       "    .dataframe tbody tr th:only-of-type {\n",
       "        vertical-align: middle;\n",
       "    }\n",
       "\n",
       "    .dataframe tbody tr th {\n",
       "        vertical-align: top;\n",
       "    }\n",
       "\n",
       "    .dataframe thead th {\n",
       "        text-align: right;\n",
       "    }\n",
       "</style>\n",
       "<table border=\"1\" class=\"dataframe\">\n",
       "  <thead>\n",
       "    <tr style=\"text-align: right;\">\n",
       "      <th></th>\n",
       "      <th>User</th>\n",
       "      <th>Password</th>\n",
       "      <th>LoggedTime</th>\n",
       "    </tr>\n",
       "  </thead>\n",
       "  <tbody>\n",
       "    <tr>\n",
       "      <th>0</th>\n",
       "      <td>afernandez</td>\n",
       "      <td>!mhp4d$#</td>\n",
       "      <td>2018-04-05 17:08:21</td>\n",
       "    </tr>\n",
       "    <tr>\n",
       "      <th>1</th>\n",
       "      <td>afernandez</td>\n",
       "      <td>#U4BRT2</td>\n",
       "      <td>2018-04-05 21:52:11</td>\n",
       "    </tr>\n",
       "    <tr>\n",
       "      <th>2</th>\n",
       "      <td>afernandez</td>\n",
       "      <td>~YD?68T7</td>\n",
       "      <td>2018-04-05 21:52:11</td>\n",
       "    </tr>\n",
       "    <tr>\n",
       "      <th>3</th>\n",
       "      <td>afernandez</td>\n",
       "      <td>~2%qaxu$</td>\n",
       "      <td>2018-04-05 21:52:11</td>\n",
       "    </tr>\n",
       "    <tr>\n",
       "      <th>4</th>\n",
       "      <td>afernandez</td>\n",
       "      <td>NEx^qWd</td>\n",
       "      <td>2018-04-05 21:52:11</td>\n",
       "    </tr>\n",
       "  </tbody>\n",
       "</table>\n",
       "</div>"
      ],
      "text/plain": [
       "         User  Password           LoggedTime\n",
       "0  afernandez  !mhp4d$#  2018-04-05 17:08:21\n",
       "1  afernandez   #U4BRT2  2018-04-05 21:52:11\n",
       "2  afernandez  ~YD?68T7  2018-04-05 21:52:11\n",
       "3  afernandez  ~2%qaxu$  2018-04-05 21:52:11\n",
       "4  afernandez   NEx^qWd  2018-04-05 21:52:11"
      ]
     },
     "execution_count": 4,
     "metadata": {},
     "output_type": "execute_result"
    }
   ],
   "source": [
    "import pandas as pd\n",
    "afernandez_logs = \"../data/userlogs.csv\"\n",
    "df = pd.read_csv(afernandez_logs, header= 0)\n",
    "df.head()"
   ]
  },
  {
   "cell_type": "code",
   "execution_count": 5,
   "metadata": {
    "deletable": false,
    "editable": false
   },
   "outputs": [
    {
     "data": {
      "text/html": [
       "<div>\n",
       "<style scoped>\n",
       "    .dataframe tbody tr th:only-of-type {\n",
       "        vertical-align: middle;\n",
       "    }\n",
       "\n",
       "    .dataframe tbody tr th {\n",
       "        vertical-align: top;\n",
       "    }\n",
       "\n",
       "    .dataframe thead th {\n",
       "        text-align: right;\n",
       "    }\n",
       "</style>\n",
       "<table border=\"1\" class=\"dataframe\">\n",
       "  <thead>\n",
       "    <tr style=\"text-align: right;\">\n",
       "      <th></th>\n",
       "      <th>User</th>\n",
       "      <th>Password</th>\n",
       "      <th>LoggedTime</th>\n",
       "      <th>Valid</th>\n",
       "      <th>ErrorDescription</th>\n",
       "    </tr>\n",
       "  </thead>\n",
       "  <tbody>\n",
       "    <tr>\n",
       "      <th>80</th>\n",
       "      <td>afernandez</td>\n",
       "      <td>3waBVSd</td>\n",
       "      <td>2018-04-05 21:52:11</td>\n",
       "      <td>False</td>\n",
       "      <td>uno de $,@,#</td>\n",
       "    </tr>\n",
       "    <tr>\n",
       "      <th>81</th>\n",
       "      <td>afernandez</td>\n",
       "      <td>?8f#</td>\n",
       "      <td>2018-04-05 21:52:11</td>\n",
       "      <td>False</td>\n",
       "      <td>longitud entre 6 y 12</td>\n",
       "    </tr>\n",
       "    <tr>\n",
       "      <th>82</th>\n",
       "      <td>afernandez</td>\n",
       "      <td>JGx#tq45</td>\n",
       "      <td>2018-04-05 21:52:11</td>\n",
       "      <td>True</td>\n",
       "      <td>none</td>\n",
       "    </tr>\n",
       "    <tr>\n",
       "      <th>83</th>\n",
       "      <td>afernandez</td>\n",
       "      <td>$h7J#!R+</td>\n",
       "      <td>2018-04-05 21:12:24</td>\n",
       "      <td>True</td>\n",
       "      <td>none</td>\n",
       "    </tr>\n",
       "    <tr>\n",
       "      <th>84</th>\n",
       "      <td>afernandez</td>\n",
       "      <td>??7bd7v^</td>\n",
       "      <td>2018-04-05 21:52:11</td>\n",
       "      <td>False</td>\n",
       "      <td>una letra mayúscula</td>\n",
       "    </tr>\n",
       "  </tbody>\n",
       "</table>\n",
       "</div>"
      ],
      "text/plain": [
       "          User  Password           LoggedTime  Valid       ErrorDescription\n",
       "80  afernandez   3waBVSd  2018-04-05 21:52:11  False           uno de $,@,#\n",
       "81  afernandez      ?8f#  2018-04-05 21:52:11  False  longitud entre 6 y 12\n",
       "82  afernandez  JGx#tq45  2018-04-05 21:52:11   True                   none\n",
       "83  afernandez  $h7J#!R+  2018-04-05 21:12:24   True                   none\n",
       "84  afernandez  ??7bd7v^  2018-04-05 21:52:11  False    una letra mayúscula"
      ]
     },
     "execution_count": 5,
     "metadata": {},
     "output_type": "execute_result"
    }
   ],
   "source": [
    "df['Object'] = (df['User'] + \",\" + df['Password'] + \",\" + df['LoggedTime']).apply(lambda x: LogIn(x))\n",
    "\n",
    "df['Valid'] = df['Object'].apply(lambda x: x.PwdCorrect)\n",
    "df['ErrorDescription'] = df['Object'].apply(lambda x: x.Error)\n",
    "\n",
    "del df['Object']\n",
    "\n",
    "df.tail()"
   ]
  },
  {
   "cell_type": "code",
   "execution_count": 6,
   "metadata": {
    "deletable": false,
    "editable": false
   },
   "outputs": [
    {
     "name": "stdout",
     "output_type": "stream",
     "text": [
      "['8w$prT3L' 'gt#qc#D3' '5DDU@sMR' '4@Jm5?GV' 'emYuN$>3' 'Xe4?a@mV'\n",
      " '>K#FaH8Y' 'cuyVBe2@' '6@5Sn2^P' 'JGx#tq45' '$h7J#!R+']\n"
     ]
    }
   ],
   "source": [
    "ValidPasswords = df[df['Valid'] == True]['Password'].values\n",
    "print(ValidPasswords)\n",
    "\n",
    "pd.DataFrame.to_csv(df, path_or_buf = \"../data/userlogserrors.csv\", sep = \",\", index = False)"
   ]
  },
  {
   "cell_type": "markdown",
   "metadata": {
    "deletable": false,
    "editable": false,
    "run_control": {
     "frozen": true
    }
   },
   "source": [
    "### 10.2. Ámbitos y espacios de nombres en Python\n",
    "Antes de ver clases, primero debo decirte algo acerca de las reglas de ámbito de Python. Las definiciones de clases hacen unos lindos trucos con los espacios de nombres, y necesitás saber cómo funcionan los alcances y espacios de nombres para entender por completo cómo es la cosa. De paso, los conocimientos en este tema son útiles para cualquier programador Python avanzado.\n",
    "\n",
    "Comencemos con unas definiciones.\n",
    "\n",
    "Un espacio de nombres es una relación de nombres a objetos. Muchos espacios de nombres están implementados en este momento como diccionarios de Python, pero eso no se nota para nada (excepto por el desempeño), y puede cambiar en el futuro. Como ejemplos de espacios de nombres tenés: el conjunto de nombres incluidos (conteniendo funciones como abs(), y los nombres de excepciones integradas); los nombres globales en un módulo; y los nombres locales en la invocación a una función. Lo que es importante saber de los espacios de nombres es que no hay relación en absoluto entre los nombres de espacios de nombres distintos; por ejemplo, dos módulos diferentes pueden tener definidos los dos una función maximizar sin confusión; los usuarios de los módulos deben usar el nombre del módulo como prefijo.\n",
    "\n",
    "Por cierto, yo uso la palabra atributo para cualquier cosa después de un punto; por ejemplo, en la expresión z.real, real es un atributo del objeto z. Estrictamente hablando, las referencias a nombres en módulos son referencias a atributos: en la expresión modulo.funcion, modulo es un objeto módulo y funcion es un atributo de éste. En este caso hay una relación directa entre los atributos del módulo y los nombres globales definidos en el módulo: ¡están compartiendo el mismo espacio de nombres! [1]\n",
    "\n",
    "Los atributos pueden ser de sólo lectura, o de escritura. En el último caso es posible la asignación a atributos. Los atributos de módulo pueden escribirse: modulo.la_respuesta = 42. Los atributos de escritura se pueden borrar también con la declaración del. Por ejemplo, del modulo.la_respuesta va a eliminar el atributo la_respuesta del objeto con nombre modulo.\n",
    "\n",
    "Los espacios de nombres se crean en diferentes momentos y con diferentes tiempos de vida. El espacio de nombres que contiene los nombres incluidos se crea cuando se inicia el intérprete, y nunca se borra. El espacio de nombres global de un módulo se crea cuando se lee la definición de un módulo; normalmente, los espacios de nombres de módulos también duran hasta que el intérprete finaliza. Las instrucciones ejecutadas en el nivel de llamadas superior del intérprete, ya sea desde un script o interactivamente, se consideran parte del módulo llamado __main__, por lo tanto tienen su propio espacio de nombres global. (Los nombres incluidos en realidad también viven en un módulo; este se llama builtins.)\n",
    "\n",
    "El espacio de nombres local a una función se crea cuando la función es llamada, y se elimina cuando la función retorna o lanza una excepción que no se maneje dentro de la función. (Podríamos decir que lo que pasa en realidad es que ese espacio de nombres se “olvida”.) Por supuesto, las llamadas recursivas tienen cada una su propio espacio de nombres local.\n",
    "\n",
    "Un ámbito es una región textual de un programa en Python donde un espacio de nombres es accesible directamente. “Accesible directamente” significa que una referencia sin calificar a un nombre intenta encontrar dicho nombre dentro del espacio de nombres.\n",
    "\n",
    "Aunque los alcances se determinan estáticamente, se usan dinámicamente. En cualquier momento durante la ejecución hay por lo menos cuatro alcances anidados cuyos espacios de nombres son directamente accesibles:\n",
    "\n",
    "el ámbito interno, donde se busca primero, contiene los nombres locales\n",
    "los espacios de nombres de las funciones anexas, en las cuales se busca empezando por el ámbito adjunto más cercano, contiene los nombres no locales pero también los no globales\n",
    "el ámbito anteúltimo contiene los nombres globales del módulo actual\n",
    "el ámbito exterior (donde se busca al final) es el espacio de nombres que contiene los nombres incluidos\n",
    "Si un nombre se declara como global, entonces todas las referencias y asignaciones al mismo van directo al ámbito intermedio que contiene los nombres globales del módulo. Para reasignar nombres encontrados afuera del ámbito más interno, se puede usar la declaración nonlocal; si no se declara nonlocal, esas variables serán de sólo lectura (un intento de escribir a esas variables simplemente crea una nueva variable local en el ámbito interno, dejando intacta la variable externa del mismo nombre).\n",
    "\n",
    "Habitualmente, el ámbito local referencia los nombres locales de la función actual. Fuera de una función, el ámbito local referencia al mismo espacio de nombres que el ámbito global: el espacio de nombres del módulo. Las definiciones de clases crean un espacio de nombres más en el ámbito local.\n",
    "\n",
    "Es importante notar que los alcances se determinan textualmente: el ámbito global de una función definida en un módulo es el espacio de nombres de ese módulo, no importa desde dónde o con qué alias se llame a la función. Por otro lado, la búsqueda de nombres se hace dinámicamente, en tiempo de ejecución; sin embargo, la definición del lenguaje está evolucionando a hacer resolución de nombres estáticamente, en tiempo de “compilación”, ¡así que no te confíes de la resolución de nombres dinámica! (De hecho, las variables locales ya se determinan estáticamente.)\n",
    "\n",
    "Una peculiaridad especial de Python es que, si no hay una declaración global o nonlocal en efecto, las asignaciones a nombres siempre van al ámbito interno. Las asignaciones no copian datos, solamente asocian nombres a objetos. Lo mismo cuando se borra: la declaración del x quita la asociación de x del espacio de nombres referenciado por el ámbito local. De hecho, todas las operaciones que introducen nuevos nombres usan el ámbito local: en particular, las instrucciones import y las definiciones de funciones asocian el módulo o nombre de la función al espacio de nombres en el ámbito local.\n",
    "\n",
    "La declaración global puede usarse para indicar que ciertas variables viven en el ámbito global y deberían reasignarse allí; la declaración nonlocal indica que ciertas variables viven en un ámbito encerrado y deberían reasignarse allí.\n",
    "\n",
    "#### 10.2.1. Ejémplo de ámbitos y espacios de nombre\n",
    "Este es un ejemplo que muestra como hacer referencia a distintos ámbitos y espacios de nombres, y cómo las declaraciones global y nonlocal afectan la asignación de variables:"
   ]
  },
  {
   "cell_type": "code",
   "execution_count": 7,
   "metadata": {
    "deletable": false,
    "editable": false
   },
   "outputs": [
    {
     "name": "stdout",
     "output_type": "stream",
     "text": [
      "Luego de la asignación local: algo de prueba\n",
      "Luego de la asignación no local: algo no local\n",
      "Luego de la asignación global: algo no local\n",
      "In global scope: algo global\n"
     ]
    }
   ],
   "source": [
    "def prueba_ambitos():\n",
    "    def hacer_local():\n",
    "        algo = \"algo local\"\n",
    "    def hacer_nonlocal():\n",
    "        nonlocal algo\n",
    "        algo = \"algo no local\"\n",
    "    def hacer_global():\n",
    "        global algo\n",
    "        algo = \"algo global\"\n",
    "    algo = \"algo de prueba\"\n",
    "    hacer_local()\n",
    "    print(\"Luego de la asignación local:\", algo)\n",
    "    hacer_nonlocal()\n",
    "    print(\"Luego de la asignación no local:\", algo)\n",
    "    hacer_global()\n",
    "    print(\"Luego de la asignación global:\", algo)\n",
    "\n",
    "prueba_ambitos()\n",
    "print(\"In global scope:\", algo)"
   ]
  }
 ],
 "metadata": {
  "kernelspec": {
   "display_name": "Python 3",
   "language": "python",
   "name": "python3"
  },
  "language_info": {
   "codemirror_mode": {
    "name": "ipython",
    "version": 3
   },
   "file_extension": ".py",
   "mimetype": "text/x-python",
   "name": "python",
   "nbconvert_exporter": "python",
   "pygments_lexer": "ipython3",
   "version": "3.5.2"
  }
 },
 "nbformat": 4,
 "nbformat_minor": 2
}

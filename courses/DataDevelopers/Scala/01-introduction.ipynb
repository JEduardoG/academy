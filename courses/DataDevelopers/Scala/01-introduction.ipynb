{
 "cells": [
  {
   "cell_type": "markdown",
   "metadata": {},
   "source": [
    "![](./scala.jpg)\n",
    "# Introduction to Scala"
   ]
  },
  {
   "cell_type": "markdown",
   "metadata": {},
   "source": [
    "## Scala\n",
    "* Scala = Scalable language (grows with the demands of its users. Fits: Scripting, Applications and Enterprise Applications)\n",
    "* Modern language (Martin Odersky, 2004), that combines Functional Programming with Object Oriented Programming\n",
    "* Compiles to Bytecode and runs on JVM (full interoperability with Java)"
   ]
  },
  {
   "cell_type": "markdown",
   "metadata": {},
   "source": [
    "## Bibliography\n",
    "* Programming in Scala, Third Edition, 2016; Martin Odersky, Lex Spoon and Bill Venners\n",
    "* Functional Programming in Scala, 2014; Paul Chiusano and Rúnar Bjarnason\n",
    "* Recipes for Object-Oriented and Functional Programming, 2013; Alvin Alexander"
   ]
  },
  {
   "cell_type": "markdown",
   "metadata": {},
   "source": [
    "## First Example in Scala: Hello World!\n",
    "\n",
    "~~~Java\n",
    "public class MyApp {\n",
    "    public static void main(String[] args) {\n",
    "        System.out.println(\"Hello World!\");\n",
    "    }\n",
    "}\n",
    "~~~"
   ]
  },
  {
   "cell_type": "code",
   "execution_count": null,
   "metadata": {},
   "outputs": [],
   "source": [
    "// In Scala:\n",
    "object MyApp extends App {\n",
    "    println(\"Hello World!\")\n",
    "}"
   ]
  },
  {
   "cell_type": "markdown",
   "metadata": {},
   "source": [
    "## Features on Scala\n",
    "* Concise: line number reductions in a factor of ten compared with Java\n",
    "* Statically typed (no verbosity)\n",
    "* High level abstraction (Rising the level of abstractions. See next example)"
   ]
  },
  {
   "cell_type": "markdown",
   "metadata": {},
   "source": [
    "## Comments"
   ]
  },
  {
   "cell_type": "code",
   "execution_count": null,
   "metadata": {},
   "outputs": [],
   "source": [
    "// This is a comment: from double slash until the endline\n",
    "\n",
    "20+30 // The rest of a line is a comment\n",
    "\n",
    "/* This is a multiline \n",
    "comment\n",
    "*/\n",
    "1"
   ]
  },
  {
   "cell_type": "markdown",
   "metadata": {},
   "source": [
    "** In Scala everything is an Object (No primitive types as in Java) **"
   ]
  },
  {
   "cell_type": "code",
   "execution_count": null,
   "metadata": {
    "scrolled": true
   },
   "outputs": [],
   "source": [
    "1+4/2"
   ]
  },
  {
   "cell_type": "markdown",
   "metadata": {},
   "source": [
    "** Expression 1+4/2 is equivalent to 1.+(4./(2)) **"
   ]
  },
  {
   "cell_type": "code",
   "execution_count": null,
   "metadata": {},
   "outputs": [],
   "source": [
    "1.+(4./(2))\n"
   ]
  },
  {
   "cell_type": "markdown",
   "metadata": {},
   "source": [
    "** Simpler syntaxis: semicolons at the end of sentences are optional, except for several sentences in the same line **"
   ]
  },
  {
   "cell_type": "code",
   "execution_count": null,
   "metadata": {},
   "outputs": [],
   "source": [
    "println(\"Hola\")\n",
    "println(\"Mundo\"); println(\"Bye\");"
   ]
  },
  {
   "cell_type": "markdown",
   "metadata": {},
   "source": [
    "## Functional Programming\n",
    "\n",
    "* Functional Programming is a programming paradigm that treats computation as the evaluation of mathematical functions and avoids changing-state and mutable data.\n",
    "* It is a declarative programming paradigm, which means programming is done with expressions or declarations instead of statements.\n",
    "* In functional code, the output value of a function depends only on the arguments that are input to the function, so calling a function f twice with the same value for an argument x will produce the same result f(x) each time.\n",
    "* Eliminating side effects can make it much easier to understand and predict the behavior of a program\n"
   ]
  },
  {
   "cell_type": "markdown",
   "metadata": {},
   "source": [
    "***"
   ]
  }
 ],
 "metadata": {
  "kernelspec": {
   "display_name": "Apache Toree - Scala",
   "language": "scala",
   "name": "apache_toree_scala"
  },
  "language_info": {
   "file_extension": ".scala",
   "name": "scala",
   "version": "2.11.8"
  }
 },
 "nbformat": 4,
 "nbformat_minor": 2
}

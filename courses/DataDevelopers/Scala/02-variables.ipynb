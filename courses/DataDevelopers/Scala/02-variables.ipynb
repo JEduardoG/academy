{
 "cells": [
  {
   "cell_type": "markdown",
   "metadata": {},
   "source": [
    "![](./scala.jpg)\n",
    "# Variables"
   ]
  },
  {
   "cell_type": "markdown",
   "metadata": {},
   "source": [
    "Scala has two kind of variables: **val**s and **var**s\n",
    "\n",
    "Once initialized, a **val** can never be reassigned (similar to final variable in Java)\n",
    "~~~scala\n",
    "val x = 10\n",
    "x = 11 //error\n",
    "~~~\n",
    "\n",
    "A **var** can be reassigned during its lifetime (similar to non-final variable in Java)\n",
    "~~~scala\n",
    "var x = 10\n",
    "...\n",
    "x=11 //Ok\n",
    "...\n",
    "x=12 //Ok\n",
    "~~~"
   ]
  },
  {
   "cell_type": "code",
   "execution_count": null,
   "metadata": {},
   "outputs": [],
   "source": [
    "// val\n",
    "val st = \"Hello World\""
   ]
  },
  {
   "cell_type": "code",
   "execution_count": null,
   "metadata": {},
   "outputs": [],
   "source": [
    "// In contrast to Java, in Scala you specify a variable's type after its name separate by a colon\n",
    "val st2: java.lang.String = \"Hello World\"\n",
    "\n",
    "// Since java.lang types are visible with their simple names in Scala, you may write:\n",
    "val st3: String = \"Hello World\"\n",
    "\n",
    "val x = 70.1123233333\n",
    "x"
   ]
  },
  {
   "cell_type": "code",
   "execution_count": null,
   "metadata": {},
   "outputs": [],
   "source": [
    "// String Interpolation\n",
    "val st2 = s\"Dame ${x*2} euros\"\n",
    "st2"
   ]
  },
  {
   "cell_type": "code",
   "execution_count": null,
   "metadata": {},
   "outputs": [],
   "source": [
    "//Type inference: Scala's ability to figure out types you leave off\n",
    "st.getClass"
   ]
  },
  {
   "cell_type": "code",
   "execution_count": null,
   "metadata": {},
   "outputs": [],
   "source": [
    "// But we can't reasign it\n",
    "st = \"Goodbye!\""
   ]
  },
  {
   "cell_type": "code",
   "execution_count": null,
   "metadata": {},
   "outputs": [],
   "source": [
    "// We may use st but can't reassign it\n",
    "print(st)"
   ]
  },
  {
   "cell_type": "code",
   "execution_count": null,
   "metadata": {},
   "outputs": [],
   "source": [
    "// If we need reasigment we should use a var\n",
    "var st = \"Hello World\"\n",
    "println(st)\n",
    "st = \"Goodbye!\"\n",
    "println(st)"
   ]
  },
  {
   "cell_type": "markdown",
   "metadata": {
    "slideshow": {
     "slide_type": "-"
    }
   },
   "source": [
    "#### Data Types\n",
    "Scala has all the same data types as Java, with the same memory footprint and precision\n",
    "\n",
    "|Data Type  |Precision|\n",
    "|-----------|:-------:|\n",
    "|**Byte**   | 8 bit signed value. Range from -128 to 127 |\n",
    "|**Short**  | 16 bit signed value. Range from -32768 to 32767 |\n",
    "|**Int**    | 32 bit signed value. Range from -2147483648 to 2147483647 |\n",
    "|**Long**   | 64 bit signed value. Range from -9223372036854775808 to 9223372036854775807 |\n",
    "|**Float**  | 32 bit IEEE 754 single-precision float |\n",
    "|**Double** | 64 bit IEEE 754 double-precision float |\n",
    "|**Char**   | 16 bit unsigned Unicode character |\n",
    "|**String** | A sequence of Chars |\n",
    "|**Boolean**|Either the literal true or the literal false |\n"
   ]
  },
  {
   "cell_type": "code",
   "execution_count": null,
   "metadata": {},
   "outputs": [],
   "source": [
    "// Boolean\n",
    "val b1 = true\n",
    "println(b1)\n",
    "println(b1 && false)\n",
    "println(b1 || false)\n",
    "println(!b1)"
   ]
  },
  {
   "cell_type": "code",
   "execution_count": null,
   "metadata": {},
   "outputs": [],
   "source": [
    "// What is the difference between && and &?\n",
    "println(b1 | false)  //evaluates both operands\n",
    "println(true || b1) //short-circuit evaluation"
   ]
  },
  {
   "cell_type": "code",
   "execution_count": null,
   "metadata": {},
   "outputs": [],
   "source": [
    "// Arrays\n",
    "val a = Array(\"1\", \"2\", \"3\")\n",
    "a(0) = \"Jejeje\"\n",
    "a(0)"
   ]
  },
  {
   "cell_type": "code",
   "execution_count": null,
   "metadata": {},
   "outputs": [],
   "source": [
    "val words = Array(\"Hi\", \"Thanks\", \"Please\", \"Scala!\")"
   ]
  },
  {
   "cell_type": "code",
   "execution_count": null,
   "metadata": {},
   "outputs": [],
   "source": [
    "words.length"
   ]
  },
  {
   "cell_type": "code",
   "execution_count": null,
   "metadata": {},
   "outputs": [],
   "source": [
    "words.reverse"
   ]
  },
  {
   "cell_type": "code",
   "execution_count": null,
   "metadata": {},
   "outputs": [],
   "source": [
    "words.mkString(\"Bueno bueno: \", \",\", \"!!!\")"
   ]
  },
  {
   "cell_type": "markdown",
   "metadata": {
    "collapsed": true
   },
   "source": [
    "***"
   ]
  }
 ],
 "metadata": {
  "kernelspec": {
   "display_name": "Apache Toree - Scala",
   "language": "scala",
   "name": "apache_toree_scala"
  },
  "language_info": {
   "file_extension": ".scala",
   "name": "scala",
   "version": "2.11.8"
  }
 },
 "nbformat": 4,
 "nbformat_minor": 2
}

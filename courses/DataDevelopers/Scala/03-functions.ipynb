{
 "cells": [
  {
   "cell_type": "markdown",
   "metadata": {},
   "source": [
    "![](./scala.jpg)\n",
    "# Functions"
   ]
  },
  {
   "cell_type": "markdown",
   "metadata": {},
   "source": [
    "To define a function in Scala we use reserved word **def**\n",
    "~~~scala\n",
    "def sum(x:Int, y:Int): Int = {\n",
    "  x+y\n",
    "}\n",
    "~~~\n",
    "Where:\n",
    "* **def**: reserved word, starts a function definition\n",
    "* **sum**: function name\n",
    "* **(x:Int, y:Int)**: parameter list in parentheses\n",
    "* **Int**: function's result type\n",
    "* **=**: equals sign\n",
    "* **{...}**: function body in curly braces \n",
    "\n",
    "> Please, notice **return** word is not required"
   ]
  },
  {
   "cell_type": "code",
   "execution_count": null,
   "metadata": {},
   "outputs": [],
   "source": [
    "// Let's define some functions \n",
    "def sum(x:Int, y:Int): Int = x+y\n",
    "def max(x:Int, y:Int): Int = if (x<y) y else x\n",
    "def min(x:Int, y:Int): Int = sum(x,y) - max(x,y)"
   ]
  },
  {
   "cell_type": "code",
   "execution_count": null,
   "metadata": {},
   "outputs": [],
   "source": [
    "// Let's evaluate some functions\n",
    "println(sum(10,11))\n",
    "println(max(5,10))\n",
    "min(5,10)"
   ]
  },
  {
   "cell_type": "code",
   "execution_count": null,
   "metadata": {},
   "outputs": [],
   "source": [
    "// Recursive functions (Requires explicit function's result type)\n",
    "def factorial(n: Int): Int = {\n",
    "   if (n==0) 1\n",
    "    else n*factorial(n-1)\n",
    "}"
   ]
  },
  {
   "cell_type": "code",
   "execution_count": null,
   "metadata": {},
   "outputs": [],
   "source": [
    "factorial(10)"
   ]
  },
  {
   "cell_type": "markdown",
   "metadata": {},
   "source": [
    "## Functions As Arguments "
   ]
  },
  {
   "cell_type": "code",
   "execution_count": null,
   "metadata": {
    "slideshow": {
     "slide_type": "-"
    }
   },
   "outputs": [],
   "source": [
    "def sum(x:Int, y:Int): Int = x+y\n",
    "def prod(x:Int, y:Int): Int = x*y\n",
    "\n",
    "def combines(x1:Int, y1:Int, x2:Int, y2:Int, op1:(Int,Int)=>Int, op2:(Int,Int)=>Int): Int = op2(op1(x1,y1), op1(x2,y2))\n",
    "\n",
    "type Fn2Ints = (Int, Int) => Int\n",
    "def combines2(x1:Int, y1:Int, x2:Int, y2:Int, op1: Fn2Ints, op2: Fn2Ints): Int = op2(op1(x1,y1), op1(x2,y2))"
   ]
  },
  {
   "cell_type": "code",
   "execution_count": null,
   "metadata": {},
   "outputs": [],
   "source": [
    "// (1+3) * (2+1) => 12\n",
    "println(combines1(1,3,2,1, sum, prod))\n",
    "combines2(1,3,2,1, sum, prod)"
   ]
  },
  {
   "cell_type": "code",
   "execution_count": null,
   "metadata": {},
   "outputs": [],
   "source": [
    "// (1+2) + (3+0) => 6\n",
    "combines(2,3,1,0, sum, sum)"
   ]
  },
  {
   "cell_type": "code",
   "execution_count": null,
   "metadata": {},
   "outputs": [],
   "source": [
    "// (1*2) + (3*0) => 3\n",
    "combines(2,3,1,0, prod, sum)"
   ]
  },
  {
   "cell_type": "code",
   "execution_count": null,
   "metadata": {
    "slideshow": {
     "slide_type": "-"
    }
   },
   "outputs": [],
   "source": [
    "// (1*2) * (3*0) => 0\n",
    "combines(2,3,1,0, prod, prod)"
   ]
  },
  {
   "cell_type": "markdown",
   "metadata": {},
   "source": [
    "## Anonymous Functions"
   ]
  },
  {
   "cell_type": "code",
   "execution_count": null,
   "metadata": {},
   "outputs": [],
   "source": [
    "// Anonymous functions\n",
    "(x:Int) => x+1"
   ]
  },
  {
   "cell_type": "code",
   "execution_count": null,
   "metadata": {},
   "outputs": [],
   "source": [
    "// Anonymous functions\n",
    "(x:Int,y:Int) => x+y"
   ]
  },
  {
   "cell_type": "code",
   "execution_count": null,
   "metadata": {},
   "outputs": [],
   "source": [
    "// Using function inc()\n",
    "val inc = (x:Int) => x+1\n",
    "inc(11)"
   ]
  },
  {
   "cell_type": "code",
   "execution_count": null,
   "metadata": {},
   "outputs": [],
   "source": [
    "// Array of Int\n",
    "val A = Array(1,2,3,4,5,6)\n",
    "A"
   ]
  },
  {
   "cell_type": "code",
   "execution_count": null,
   "metadata": {},
   "outputs": [],
   "source": [
    "// passing inc() as argument to map()\n",
    "//val B = A.map(x => inc(x)) \n",
    "//val B = A.map(inc(_)) \n",
    "//val B = A.map(inc)\n",
    "\n",
    "val B = A.map(inc)\n",
    "B"
   ]
  },
  {
   "cell_type": "code",
   "execution_count": null,
   "metadata": {},
   "outputs": [],
   "source": [
    "// Previous example is the same as:\n",
    "A.map(x => 3*x+2) //A.map(x => inc(x))"
   ]
  },
  {
   "cell_type": "markdown",
   "metadata": {},
   "source": [
    "## Nested Functions"
   ]
  },
  {
   "cell_type": "code",
   "execution_count": null,
   "metadata": {},
   "outputs": [],
   "source": [
    "// We may use nested functions (auxiliar functions)\n",
    "// Next code is just for illustrate nested functions (functional version is better and also checks)\n",
    "def min(a: Array[Int]): Int = {\n",
    "\n",
    "    def minor(x: Int, y:Int) = if (x<y) x else y\n",
    "    \n",
    "    var i = 1\n",
    "    var xmin = a(0)\n",
    "    while (i<a.size) {\n",
    "        xmin = minor(xmin, a(i))\n",
    "        i += 1\n",
    "    }\n",
    "    xmin\n",
    "}\n",
    "min(Array(1,-14,-5,-2,-3,3,7))"
   ]
  },
  {
   "cell_type": "markdown",
   "metadata": {},
   "source": [
    "## Loops"
   ]
  },
  {
   "cell_type": "code",
   "execution_count": null,
   "metadata": {},
   "outputs": [],
   "source": [
    "val l = Array(1,3,-2,3,11,-1,-9,12,11)"
   ]
  },
  {
   "cell_type": "code",
   "execution_count": null,
   "metadata": {},
   "outputs": [],
   "source": [
    "// \"loop with while; decide with if\"\n",
    "var i = 0\n",
    "while (i<l.size) {\n",
    "    if (l(i) >= 0) println(l(i))\n",
    "    i += 1\n",
    "}"
   ]
  },
  {
   "cell_type": "code",
   "execution_count": null,
   "metadata": {},
   "outputs": [],
   "source": [
    "// \"iterate with foreach and for\"\n",
    "l.filter(x => x>=0).foreach(x => println(x))"
   ]
  },
  {
   "cell_type": "code",
   "execution_count": null,
   "metadata": {},
   "outputs": [],
   "source": [
    "for(x <- l) {\n",
    "    if (x>=0) println(x)\n",
    "}"
   ]
  },
  {
   "cell_type": "markdown",
   "metadata": {
    "collapsed": true
   },
   "source": [
    "***"
   ]
  }
 ],
 "metadata": {
  "kernelspec": {
   "display_name": "Apache Toree - Scala",
   "language": "scala",
   "name": "apache_toree_scala"
  },
  "language_info": {
   "file_extension": ".scala",
   "name": "scala",
   "version": "2.11.8"
  }
 },
 "nbformat": 4,
 "nbformat_minor": 2
}

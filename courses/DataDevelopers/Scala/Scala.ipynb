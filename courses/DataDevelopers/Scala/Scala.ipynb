{
 "cells": [
  {
   "cell_type": "markdown",
   "metadata": {},
   "source": [
    "![](./scala.jpg)\n",
    "# Introduction to Scala"
   ]
  },
  {
   "cell_type": "markdown",
   "metadata": {},
   "source": [
    "## Scala\n",
    "* Scala = Scalable language (grows with the demands of its users. Fits: Scripting, Applications and Enterprise Applications)\n",
    "* Modern language (Martin Odersky, 2004), that combines Functional Programming with Object Oriented Programming\n",
    "* Compiles to Bytecode and runs on JVM (full interoperability with Java)"
   ]
  },
  {
   "cell_type": "markdown",
   "metadata": {},
   "source": [
    "## Bibliography\n",
    "* Programming in Scala, Third Edition, 2016; Martin Odersky, Lex Spoon and Bill Venners\n",
    "* Functional Programming in Scala, 2014; Paul Chiusano and Rúnar Bjarnason\n",
    "* Recipes for Object-Oriented and Functional Programming, 2013; Alvin Alexander"
   ]
  },
  {
   "cell_type": "markdown",
   "metadata": {},
   "source": [
    "## First Example in Scala: Hello World!\n",
    "\n",
    "~~~Java\n",
    "public class MyApp {\n",
    "    public static void main(String[] args) {\n",
    "        System.out.println(\"Hello World!\");\n",
    "    }\n",
    "}\n",
    "~~~"
   ]
  },
  {
   "cell_type": "code",
   "execution_count": 10,
   "metadata": {},
   "outputs": [],
   "source": [
    "// In Scala:\n",
    "object MyApp extends App {\n",
    "    println(\"Hello World!\")\n",
    "}"
   ]
  },
  {
   "cell_type": "markdown",
   "metadata": {},
   "source": [
    "## Features on Scala\n",
    "* Concise: line number reductions in a factor of ten compared with Java\n",
    "* Statically typed (no verbosity)\n",
    "* High level abstraction (Rising the level of abstractions. See next example)"
   ]
  },
  {
   "cell_type": "markdown",
   "metadata": {},
   "source": [
    "## Comments\n",
    "bla bla bla"
   ]
  },
  {
   "cell_type": "markdown",
   "metadata": {},
   "source": [
    "## Variables\n",
    "bla bla bla"
   ]
  },
  {
   "cell_type": "code",
   "execution_count": null,
   "metadata": {},
   "outputs": [],
   "source": []
  },
  {
   "cell_type": "code",
   "execution_count": null,
   "metadata": {},
   "outputs": [],
   "source": [
    "## Example \"High Level of Abstractions\""
   ]
  },
  {
   "cell_type": "markdown",
   "metadata": {},
   "source": [
    "Example: Given a string to determine if contains an uppercase character or not\n",
    "val st1 = \"Hello World\" // True\n",
    "val st2 = \"String \n"
   ]
  },
  {
   "cell_type": "code",
   "execution_count": null,
   "metadata": {},
   "outputs": [],
   "source": []
  },
  {
   "cell_type": "markdown",
   "metadata": {},
   "source": [
    "## Functions\n",
    "bla bla bla\n"
   ]
  },
  {
   "cell_type": "code",
   "execution_count": null,
   "metadata": {},
   "outputs": [],
   "source": [
    "## Functional Programming\n",
    "bla bla bla\n"
   ]
  },
  {
   "cell_type": "code",
   "execution_count": null,
   "metadata": {},
   "outputs": [],
   "source": []
  }
 ],
 "metadata": {
  "kernelspec": {
   "display_name": "Apache Toree - Scala",
   "language": "scala",
   "name": "apache_toree_scala"
  },
  "language_info": {
   "file_extension": ".scala",
   "name": "scala",
   "version": "2.11.8"
  }
 },
 "nbformat": 4,
 "nbformat_minor": 2
}

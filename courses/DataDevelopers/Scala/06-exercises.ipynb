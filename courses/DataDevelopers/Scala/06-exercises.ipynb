{
 "cells": [
  {
   "cell_type": "markdown",
   "metadata": {},
   "source": [
    "![](./scala.jpg)\n",
    "# Exercises (1)"
   ]
  },
  {
   "cell_type": "markdown",
   "metadata": {},
   "source": [
    "## Scala has a \"High Level of Abstractions\"\n",
    "Given a string to determine if contains an uppercase character or not. For example:"
   ]
  },
  {
   "cell_type": "code",
   "execution_count": null,
   "metadata": {},
   "outputs": [],
   "source": [
    "val st1 = \"Hello World\"            //true\n",
    "val st2 = \"a string in lowercase\"  //false"
   ]
  },
  {
   "cell_type": "markdown",
   "metadata": {},
   "source": [
    "__Solution 1: In Scala, but thinking like a \"Java Developer\"__"
   ]
  },
  {
   "cell_type": "code",
   "execution_count": null,
   "metadata": {},
   "outputs": [],
   "source": [
    "\n",
    "def hasUpperCase1(st: String): Boolean = {\n",
    "  var wordHasUpperCase = false\n",
    "  var i = 0\n",
    "  while (i< st.length && !wordHasUpperCase) {\n",
    "    if (Character.isUpperCase(st.charAt(i))) {\n",
    "      wordHasUpperCase = true\n",
    "    }\n",
    "    i += 1\n",
    "  }\n",
    "  wordHasUpperCase\n",
    "}\n",
    "\n",
    "hasUpperCase1(st2)"
   ]
  },
  {
   "cell_type": "markdown",
   "metadata": {},
   "source": [
    "__Solution 2: More Concise!__"
   ]
  },
  {
   "cell_type": "code",
   "execution_count": null,
   "metadata": {},
   "outputs": [],
   "source": [
    "def hasUpperCase2(st: String): Boolean = st.exists(x => x.isUpper)\n",
    "\n",
    "hasUpperCase2(st2)"
   ]
  },
  {
   "cell_type": "markdown",
   "metadata": {},
   "source": [
    "***"
   ]
  },
  {
   "cell_type": "markdown",
   "metadata": {},
   "source": [
    "## Exercise #1\n",
    "__To write a function to find the penultimate element of a list of Int__\n",
    "* You should consider edge cases: empty list, list of just one element, etc.\n"
   ]
  },
  {
   "cell_type": "code",
   "execution_count": null,
   "metadata": {},
   "outputs": [],
   "source": [
    "def penultimate(list: List[Int]): Option[Int] = ???"
   ]
  },
  {
   "cell_type": "markdown",
   "metadata": {},
   "source": [
    "## Exercise #2\n",
    "__To write a function to find the k-th element of a list__\n",
    "* The first element is in position 0"
   ]
  },
  {
   "cell_type": "code",
   "execution_count": null,
   "metadata": {},
   "outputs": [],
   "source": [
    "def kth(list: List[Int], k: Int): Option[Int] = ???"
   ]
  },
  {
   "cell_type": "markdown",
   "metadata": {},
   "source": [
    "## Exercise #3\n",
    "__To write a function to determine if a number is prime or not__"
   ]
  },
  {
   "cell_type": "code",
   "execution_count": null,
   "metadata": {},
   "outputs": [],
   "source": [
    "def isPrime(n: Int): Boolean = ???"
   ]
  },
  {
   "cell_type": "markdown",
   "metadata": {},
   "source": [
    "***"
   ]
  }
 ],
 "metadata": {
  "kernelspec": {
   "display_name": "Apache Toree - Scala",
   "language": "scala",
   "name": "apache_toree_scala"
  },
  "language_info": {
   "file_extension": ".scala",
   "name": "scala",
   "version": "2.11.8"
  }
 },
 "nbformat": 4,
 "nbformat_minor": 2
}

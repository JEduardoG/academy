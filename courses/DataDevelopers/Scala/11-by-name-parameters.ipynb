{
 "cells": [
  {
   "cell_type": "markdown",
   "metadata": {},
   "source": [
    "![](./scala.jpg)\n",
    "# By Name Parameters"
   ]
  },
  {
   "cell_type": "markdown",
   "metadata": {},
   "source": [
    "You may pass a parameter to a function in two ways:\n",
    "* by-value: the expression correspondent to the parameter is evaluated right before the function execution\n",
    "* by-name: the expression correspondent to the parameter is evaluated in each use inside the function\n",
    "\n",
    "Especification:\n",
    "* by-value parameter: x: Int\n",
    "* by-name parameter: x: => Int"
   ]
  },
  {
   "cell_type": "code",
   "execution_count": null,
   "metadata": {},
   "outputs": [],
   "source": [
    "def currentTime(): Long = System.nanoTime"
   ]
  },
  {
   "cell_type": "code",
   "execution_count": null,
   "metadata": {},
   "outputs": [],
   "source": [
    "// by-value parameters\n",
    "def byValueFn(time: Long) {\n",
    "  println(s\"time is $time\")\n",
    "  (1 to 100000).foreach(x => x+1)\n",
    "  println(s\"time is $time\")\n",
    "}\n",
    "\n",
    "byValueFn(currentTime())"
   ]
  },
  {
   "cell_type": "code",
   "execution_count": null,
   "metadata": {},
   "outputs": [],
   "source": [
    "// by-name parameters\n",
    "def byNameFn(time: => Long) {\n",
    "  println(s\"time is $time\")\n",
    "  (1 to 100000).foreach(x => x+1)\n",
    "  println(s\"time is $time\")\n",
    "}\n",
    "\n",
    "byNameFn(currentTime())"
   ]
  },
  {
   "cell_type": "markdown",
   "metadata": {},
   "source": [
    "***"
   ]
  }
 ],
 "metadata": {
  "kernelspec": {
   "display_name": "Apache Toree - Scala",
   "language": "scala",
   "name": "apache_toree_scala"
  },
  "language_info": {
   "file_extension": ".scala",
   "name": "scala",
   "version": "2.11.8"
  }
 },
 "nbformat": 4,
 "nbformat_minor": 2
}

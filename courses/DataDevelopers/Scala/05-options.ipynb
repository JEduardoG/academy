{
 "cells": [
  {
   "cell_type": "markdown",
   "metadata": {},
   "source": [
    "![](./scala.jpg)\n",
    "# Options"
   ]
  },
  {
   "cell_type": "markdown",
   "metadata": {},
   "source": [
    "**Option** is the type for optional values\n",
    "\n",
    "Options can be of two forms:\n",
    "1. Some(v) - where v is the actual value \n",
    "2. None - the value is missing"
   ]
  },
  {
   "cell_type": "code",
   "execution_count": null,
   "metadata": {},
   "outputs": [],
   "source": [
    "// For example, an optional value will result from the get method of a Map \n",
    "val romans = Map(1 -> \"I\", 2 -> \"II\", 3 -> \"III\", 4 -> \"IV\", 5 -> \"V\")\n",
    "romans.get(15)"
   ]
  },
  {
   "cell_type": "code",
   "execution_count": null,
   "metadata": {},
   "outputs": [],
   "source": [
    "// If the key doesn't exist we will get a None \n",
    "romans.get(6)"
   ]
  },
  {
   "cell_type": "code",
   "execution_count": null,
   "metadata": {},
   "outputs": [],
   "source": [
    "// We may indicate that a function may return a value or not\n",
    "def penultimate(list: List[Int]): Option[Int] = ???"
   ]
  },
  {
   "cell_type": "code",
   "execution_count": null,
   "metadata": {},
   "outputs": [],
   "source": [
    "// If you try to use the return value of penultimate() as an Int you will get a compilation error\n",
    "val k: Int = penultimate(List(1,2,3,4,5))"
   ]
  },
  {
   "cell_type": "code",
   "execution_count": null,
   "metadata": {},
   "outputs": [],
   "source": [
    "// Options (alternative to Java's null)\n",
    "// Option -> Some(value) or None\n",
    "\n",
    "def toInt(s: String): Option[Int] = {\n",
    "    try {\n",
    "        Some(s.toInt)\n",
    "    } catch {\n",
    "        case e: Exception => None\n",
    "    }\n",
    "}"
   ]
  },
  {
   "cell_type": "code",
   "execution_count": null,
   "metadata": {},
   "outputs": [],
   "source": [
    "toInt(\"12\")"
   ]
  },
  {
   "cell_type": "code",
   "execution_count": null,
   "metadata": {},
   "outputs": [],
   "source": [
    "// Accessing the actual value\n",
    "toInt(\"15\").get"
   ]
  },
  {
   "cell_type": "code",
   "execution_count": null,
   "metadata": {},
   "outputs": [],
   "source": [
    "// Accessing the actual value with a default value\n",
    "toInt(\"1000\").getOrElse(-100000)"
   ]
  },
  {
   "cell_type": "code",
   "execution_count": null,
   "metadata": {},
   "outputs": [],
   "source": [
    "// As we will learn in next notebooks\n",
    "// We may process option values by using pattern matching\n",
    "toInt(\"12\") match {\n",
    "    case Some(i) => println(s\"Triple of $i is ${i*3}\")\n",
    "    case None => println(\"Error: Could not convert String to Int.\")\n",
    "}"
   ]
  },
  {
   "cell_type": "markdown",
   "metadata": {
    "collapsed": true
   },
   "source": [
    "***"
   ]
  }
 ],
 "metadata": {
  "kernelspec": {
   "display_name": "Apache Toree - Scala",
   "language": "scala",
   "name": "apache_toree_scala"
  },
  "language_info": {
   "file_extension": ".scala",
   "name": "scala",
   "version": "2.11.8"
  }
 },
 "nbformat": 4,
 "nbformat_minor": 2
}

{
 "cells": [
  {
   "cell_type": "markdown",
   "metadata": {},
   "source": [
    "![](./scala.jpg)\n",
    "# Pattern Matching"
   ]
  },
  {
   "cell_type": "code",
   "execution_count": null,
   "metadata": {},
   "outputs": [],
   "source": [
    "// first think \"Pattern matching\" like a switch in Java\n",
    "val i = 8"
   ]
  },
  {
   "cell_type": "code",
   "execution_count": null,
   "metadata": {},
   "outputs": [],
   "source": [
    "val month = i match {\n",
    "    case 1  => \"January\"\n",
    "    case 2  => \"February\"\n",
    "    case 3  => \"March\"\n",
    "    case 4  => \"April\"\n",
    "    case 5  => \"May\"\n",
    "    case 6  => \"June\"\n",
    "    case 7  => \"July\"\n",
    "    case 8  => \"August\"\n",
    "    case 9  => \"September\"\n",
    "    case 10 => \"October\"\n",
    "    case 11 => \"November\"\n",
    "    case 12 => \"December\"\n",
    "    case _  => \"Invalid month\"  // the default, catch-all\n",
    "\n",
    "}\n",
    "month"
   ]
  },
  {
   "cell_type": "code",
   "execution_count": null,
   "metadata": {},
   "outputs": [],
   "source": [
    "// You may combine options\n",
    "i match {\n",
    "    case 1 | 3 | 5 | 7 | 9 => println(\"odd\")\n",
    "    case 2 | 4 | 6 | 8 | 10 => println(\"even\")\n",
    "    case _ => println(\"pufff\")\n",
    "}"
   ]
  },
  {
   "cell_type": "code",
   "execution_count": null,
   "metadata": {},
   "outputs": [],
   "source": [
    "i match {\n",
    "    case 1 => println(\"odd\") \n",
    "    case 3 => println(\"odd\")\n",
    "    case 5 | 7 | 9 => println(\"odd\")\n",
    "    case 2 | 4 | 6 | 8 | 10 => println(\"even\")\n",
    "}\n"
   ]
  },
  {
   "cell_type": "code",
   "execution_count": null,
   "metadata": {},
   "outputs": [],
   "source": [
    "val st: Any = true"
   ]
  },
  {
   "cell_type": "code",
   "execution_count": null,
   "metadata": {},
   "outputs": [],
   "source": [
    "st match {\n",
    "    case s: String => \"String\"\n",
    "    case i: Int => \"Int\"\n",
    "    case b: Boolean => \"Boolean\"\n",
    "    case l: List[_] => \"List\"\n",
    "    case _ => \"Unknown\"\n",
    "}"
   ]
  },
  {
   "cell_type": "markdown",
   "metadata": {},
   "source": [
    "## Using Pattern Matching with Lists"
   ]
  },
  {
   "cell_type": "code",
   "execution_count": null,
   "metadata": {},
   "outputs": [],
   "source": [
    "def sum(list: List[Int]): Int = list match {\n",
    "    case Nil => 0\n",
    "    case n :: rest => n + sum(rest)\n",
    "}"
   ]
  },
  {
   "cell_type": "code",
   "execution_count": null,
   "metadata": {},
   "outputs": [],
   "source": [
    "sum(List(1,2,3,4))"
   ]
  },
  {
   "cell_type": "code",
   "execution_count": null,
   "metadata": {},
   "outputs": [],
   "source": [
    "def third(l: List[Int]): Option[Int] = {\n",
    "   l match {\n",
    "     case e1 :: e2 :: e3 :: _ => Some(e3)\n",
    "     case _ => None\n",
    "   }\n",
    "}"
   ]
  },
  {
   "cell_type": "code",
   "execution_count": null,
   "metadata": {},
   "outputs": [],
   "source": [
    "third(List(12,1))"
   ]
  },
  {
   "cell_type": "code",
   "execution_count": null,
   "metadata": {},
   "outputs": [],
   "source": [
    "def start0(l: List[Int]): Boolean = {\n",
    "  l match {\n",
    "    case 0 :: _ => true\n",
    "    case _ => false\n",
    "  }\n",
    "}"
   ]
  },
  {
   "cell_type": "code",
   "execution_count": null,
   "metadata": {},
   "outputs": [],
   "source": [
    "start0(List(0,1,0))"
   ]
  },
  {
   "cell_type": "markdown",
   "metadata": {},
   "source": [
    "## Pattern guards"
   ]
  },
  {
   "cell_type": "code",
   "execution_count": null,
   "metadata": {},
   "outputs": [],
   "source": [
    "// List with three first elements equals\n",
    "def f1[T](l: List[T]): Option[T] = {\n",
    "  l match {\n",
    "    case x :: y :: z :: _ if  (x == y) && (y == z) => Some(z)\n",
    "    case _ => None  }\n",
    "}\n"
   ]
  },
  {
   "cell_type": "code",
   "execution_count": null,
   "metadata": {},
   "outputs": [],
   "source": [
    "f1(List(\"11\", \"11\", \"11\"))"
   ]
  },
  {
   "cell_type": "code",
   "execution_count": null,
   "metadata": {},
   "outputs": [],
   "source": [
    "// List with just two elements and they are equals\n",
    "def xxAndNotMore(l: List[Int]): Boolean = {\n",
    "  l match {\n",
    "    case x :: y :: List() if x==y => true\n",
    "    case _ => false\n",
    "  }\n",
    "}"
   ]
  },
  {
   "cell_type": "code",
   "execution_count": null,
   "metadata": {},
   "outputs": [],
   "source": [
    "xxAndNotMore(List(1,1))"
   ]
  },
  {
   "cell_type": "markdown",
   "metadata": {
    "collapsed": true
   },
   "source": [
    "***"
   ]
  }
 ],
 "metadata": {
  "kernelspec": {
   "display_name": "Apache Toree - Scala",
   "language": "scala",
   "name": "apache_toree_scala"
  },
  "language_info": {
   "file_extension": ".scala",
   "name": "scala",
   "version": "2.11.8"
  }
 },
 "nbformat": 4,
 "nbformat_minor": 2
}

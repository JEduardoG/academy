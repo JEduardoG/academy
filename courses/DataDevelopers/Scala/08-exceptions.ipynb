{
 "cells": [
  {
   "cell_type": "markdown",
   "metadata": {},
   "source": [
    "![](./scala.jpg)\n",
    "# Exceptions"
   ]
  },
  {
   "cell_type": "markdown",
   "metadata": {},
   "source": [
    "Sometimes a function may return an **Exception** instead of return a normal value"
   ]
  },
  {
   "cell_type": "code",
   "execution_count": null,
   "metadata": {},
   "outputs": [],
   "source": [
    "val x = -10.0\n",
    "if (x > 0) Math.log(x) else throw new RuntimeException(\"x must be positive\")"
   ]
  },
  {
   "cell_type": "markdown",
   "metadata": {},
   "source": [
    "The function's caller can handle the exception (try-catch) or allows the propagation of the exception to its caller (simply by terminate the execution)"
   ]
  },
  {
   "cell_type": "markdown",
   "metadata": {},
   "source": [
    "## Handling exceptions"
   ]
  },
  {
   "cell_type": "code",
   "execution_count": null,
   "metadata": {},
   "outputs": [],
   "source": [
    "// By using try-catch\n",
    "try {\n",
    "  1/0\n",
    "} catch {\n",
    "  case ex: RuntimeException => println(s\"Runtime Exception ${ex.toString}\")\n",
    "}"
   ]
  },
  {
   "cell_type": "markdown",
   "metadata": {},
   "source": [
    "Scala doesn't require that we to catch checked exceptions or to declare them in a throws clause"
   ]
  },
  {
   "cell_type": "code",
   "execution_count": null,
   "metadata": {},
   "outputs": [],
   "source": [
    "// Obsviously we may/should use/handle the exceptions in Java packages we use\n",
    "import java.io.FileNotFoundException\n",
    "import java.io.IOException"
   ]
  },
  {
   "cell_type": "markdown",
   "metadata": {},
   "source": [
    "## Finally clause"
   ]
  },
  {
   "cell_type": "markdown",
   "metadata": {},
   "source": [
    "Use **finally** to execute code no matter how the code terminates: either returning an exception or not. \n",
    "\n",
    "Examples: to close an open file, to "
   ]
  },
  {
   "cell_type": "code",
   "execution_count": null,
   "metadata": {},
   "outputs": [],
   "source": [
    "import scala.io.Source\n",
    "\n",
    "val myFile = \"06-exercises.ipynb\"\n",
    "val buffer = Source.fromFile(myFile)\n",
    "\n",
    "for(line <- buffer.getLines) {\n",
    "  println(line.toUpperCase)\n",
    "}\n",
    "buffer.close"
   ]
  },
  {
   "cell_type": "code",
   "execution_count": null,
   "metadata": {},
   "outputs": [],
   "source": [
    "// Closing the file in any \n",
    "\n",
    "import scala.io.Source\n",
    "\n",
    "val myFile = \"06-exercises-2.ipynb\"\n",
    "val buffer = Source.fromFile(myFile)\n",
    "\n",
    "try {\n",
    "  for(line <- buffer.getLines) {\n",
    "    // Processing the line\n",
    "    1/0\n",
    "    println(line.toUpperCase)\n",
    "  }\n",
    "} catch {\n",
    "  case ex: Exception => println(s\"Exception: ${ex.toString}\")\n",
    "} finally {\n",
    "  buffer.close\n",
    "}"
   ]
  },
  {
   "cell_type": "markdown",
   "metadata": {
    "collapsed": true
   },
   "source": [
    "***"
   ]
  }
 ],
 "metadata": {
  "kernelspec": {
   "display_name": "Apache Toree - Scala",
   "language": "scala",
   "name": "apache_toree_scala"
  },
  "language_info": {
   "file_extension": ".scala",
   "name": "scala",
   "version": "2.11.8"
  }
 },
 "nbformat": 4,
 "nbformat_minor": 2
}

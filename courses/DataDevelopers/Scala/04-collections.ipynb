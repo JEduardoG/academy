{
 "cells": [
  {
   "cell_type": "markdown",
   "metadata": {},
   "source": [
    "![](./scala.jpg)\n",
    "# Collections"
   ]
  },
  {
   "cell_type": "markdown",
   "metadata": {},
   "source": [
    "Previously we had work with Arrays. An Array is an special kind of collection: corresponds to Java arrays and can be generics (Array[T])\n"
   ]
  },
  {
   "cell_type": "code",
   "execution_count": null,
   "metadata": {
    "slideshow": {
     "slide_type": "-"
    }
   },
   "outputs": [],
   "source": [
    "// Print array's elements\n",
    "val a = Array(\"Ana\", \"Maria\", \"Daniela\")\n",
    "a.foreach(println)"
   ]
  },
  {
   "cell_type": "markdown",
   "metadata": {
    "slideshow": {
     "slide_type": "-"
    }
   },
   "source": [
    "#### Scala has several classes to work with collections. Most of them are \"traversable\" and \"iterable\"\n",
    "We may divide this set in three subsets:\n",
    "* Seq\n",
    "* Set\n",
    "* Map\n",
    "> By another hand, some classes comes in two flavours: mutables and inmutables\n",
    "\n",
    "We will choose some classes:\n",
    "* Vector\n",
    "* List\n",
    "* HashSet (immutable)\n",
    "* HashMap (immutable)\n",
    "\n",
    "We also review **tuple**"
   ]
  },
  {
   "cell_type": "markdown",
   "metadata": {
    "collapsed": true,
    "slideshow": {
     "slide_type": "-"
    }
   },
   "source": [
    "### Vector and List are Seq\n",
    "* **Vector** is an IndexedSeq\n",
    "* **List** is a LinearSeq\n"
   ]
  },
  {
   "cell_type": "code",
   "execution_count": null,
   "metadata": {},
   "outputs": [],
   "source": [
    "// Vector\n",
    "val v: Vector[Int] = Vector(1,2,3,4,5)\n",
    "v"
   ]
  },
  {
   "cell_type": "code",
   "execution_count": null,
   "metadata": {},
   "outputs": [],
   "source": [
    "// Accesing elements (first element has index 0)\n",
    "v(0)"
   ]
  },
  {
   "cell_type": "code",
   "execution_count": null,
   "metadata": {},
   "outputs": [],
   "source": [
    "// As a collection: map() \n",
    "// for example: v -> 3*v+1\n",
    "v.map(x => 3*x+1)"
   ]
  },
  {
   "cell_type": "code",
   "execution_count": null,
   "metadata": {},
   "outputs": [],
   "source": [
    "// List creation\n",
    "// list1 and list2 are equal, but list2 was created by prepending elements to the list (Nil is the empty list)\n",
    "val list1 = List(1,2,3,4,5)\n",
    "val list2 = 6 :: 2 :: 3 :: 4 :: 5 :: 6 :: list1\n",
    "list2"
   ]
  },
  {
   "cell_type": "code",
   "execution_count": null,
   "metadata": {},
   "outputs": [],
   "source": [
    "// There are several useful operations on Lists (similar to other collections)\n",
    "// To concatenate two lists :::\n",
    "List(1,3,5) ::: List(9,8,7)"
   ]
  },
  {
   "cell_type": "code",
   "execution_count": null,
   "metadata": {},
   "outputs": [],
   "source": [
    "// To return the element with a specific index (first element has index 0)\n",
    "list1(2)"
   ]
  },
  {
   "cell_type": "code",
   "execution_count": null,
   "metadata": {},
   "outputs": [],
   "source": [
    "// Return the first element of a list\n",
    "list1.head"
   ]
  },
  {
   "cell_type": "code",
   "execution_count": null,
   "metadata": {},
   "outputs": [],
   "source": [
    "// Return the rest of element of a list but the first one\n",
    "// Please notice that: list1 == list1.head :: list2.tail\n",
    "list1.tail"
   ]
  },
  {
   "cell_type": "code",
   "execution_count": null,
   "metadata": {},
   "outputs": [],
   "source": [
    "// Return the list without the first two elements (also there are the dropRigth() function)\n",
    "list1.dropRight(3)"
   ]
  },
  {
   "cell_type": "code",
   "execution_count": null,
   "metadata": {},
   "outputs": [],
   "source": [
    "// To filter the list: return sublist with elements that fullfils a condition\n",
    "val list2 = list1.filter(x => x%3==0)"
   ]
  },
  {
   "cell_type": "code",
   "execution_count": null,
   "metadata": {},
   "outputs": [],
   "source": [
    "// Make a string with elements of the list\n",
    "list1.mkString(\"\", \"+\", \"=???\")"
   ]
  },
  {
   "cell_type": "code",
   "execution_count": null,
   "metadata": {},
   "outputs": [],
   "source": [
    "// Return a transformed list\n",
    "val listx = list1.map(x => Math.sqrt(x))\n",
    "listx"
   ]
  },
  {
   "cell_type": "code",
   "execution_count": null,
   "metadata": {},
   "outputs": [],
   "source": [
    "// Execute an action on each element in the list\n",
    "list1.foreach(x => println(x))"
   ]
  },
  {
   "cell_type": "code",
   "execution_count": null,
   "metadata": {},
   "outputs": [],
   "source": [
    "// Reverse the list\n",
    "list1.reverse"
   ]
  },
  {
   "cell_type": "markdown",
   "metadata": {},
   "source": [
    "### TO DO"
   ]
  },
  {
   "cell_type": "code",
   "execution_count": null,
   "metadata": {},
   "outputs": [],
   "source": [
    "// function to check if a list is a palindrome one\n",
    "def palindrome(list: List[Int]): Boolean = ???   //palindrome(List(1,2,1,2,1))"
   ]
  },
  {
   "cell_type": "markdown",
   "metadata": {},
   "source": [
    "#### There are many other operations on lists ..."
   ]
  },
  {
   "cell_type": "markdown",
   "metadata": {},
   "source": [
    "### Set and Maps\n",
    "\n",
    "Set and Map can be mutable or immutable"
   ]
  },
  {
   "cell_type": "code",
   "execution_count": null,
   "metadata": {},
   "outputs": [],
   "source": [
    "// Sets\n",
    "val div3 = Set(0,3,6,9)\n",
    "val div2 = Set(0,2,4,6,8)"
   ]
  },
  {
   "cell_type": "code",
   "execution_count": null,
   "metadata": {},
   "outputs": [],
   "source": [
    "// Contains some element?\n",
    "div2.contains(2) //div2(2)"
   ]
  },
  {
   "cell_type": "code",
   "execution_count": null,
   "metadata": {},
   "outputs": [],
   "source": [
    "// Set union\n",
    "val div2or3 = div3.union(div2) // div3 | div2\n",
    "div2or3"
   ]
  },
  {
   "cell_type": "code",
   "execution_count": null,
   "metadata": {},
   "outputs": [],
   "source": [
    "// Set intersection\n",
    "val div6 = div3.intersect(div2) // div3 & div2"
   ]
  },
  {
   "cell_type": "code",
   "execution_count": null,
   "metadata": {},
   "outputs": [],
   "source": [
    "// Set difference\n",
    "val div2no3 = div2.diff(div3) // div2 &~ div3\n",
    "div2no3"
   ]
  },
  {
   "cell_type": "code",
   "execution_count": null,
   "metadata": {},
   "outputs": [],
   "source": [
    "// Mutable sets\n",
    "val mdiv2: collection.mutable.Set[Int] = collection.mutable.Set(0,2,4,6,8)"
   ]
  },
  {
   "cell_type": "code",
   "execution_count": null,
   "metadata": {},
   "outputs": [],
   "source": [
    "// Adding elements \n",
    "mdiv2 += 10\n",
    "mdiv2"
   ]
  },
  {
   "cell_type": "code",
   "execution_count": null,
   "metadata": {},
   "outputs": [],
   "source": [
    "val s3 = mdiv2 ++ collection.mutable.Set(12, 14, 16)\n",
    "s3"
   ]
  },
  {
   "cell_type": "code",
   "execution_count": null,
   "metadata": {},
   "outputs": [],
   "source": [
    "mdiv2"
   ]
  },
  {
   "cell_type": "code",
   "execution_count": null,
   "metadata": {},
   "outputs": [],
   "source": [
    "mdiv2 = collection.mutable.Set(20,22,24)"
   ]
  },
  {
   "cell_type": "code",
   "execution_count": null,
   "metadata": {},
   "outputs": [],
   "source": [
    "mdiv2"
   ]
  },
  {
   "cell_type": "code",
   "execution_count": null,
   "metadata": {},
   "outputs": [],
   "source": [
    "// Convert an ordinary set to a sorted-set\n",
    "val set1 = Set(13, 11, 2, 3, 5, 17, 7)\n",
    "val set2 = collection.immutable.SortedSet[Int]() ++ set1\n",
    "set2"
   ]
  },
  {
   "cell_type": "code",
   "execution_count": null,
   "metadata": {},
   "outputs": [],
   "source": [
    "// \n",
    "set1.toSeq.sorted"
   ]
  },
  {
   "cell_type": "markdown",
   "metadata": {},
   "source": [
    "### Map"
   ]
  },
  {
   "cell_type": "code",
   "execution_count": null,
   "metadata": {},
   "outputs": [],
   "source": [
    "// Map\n",
    "val roman = Map(1->\"I\", 2->\"II\", 3->\"III\", 4->\"IV\", 5->\"V\", 6->\"VI\", 7->\"VII\", 8->\"VIII\", 9->\"IX\", 10->\"X\")"
   ]
  },
  {
   "cell_type": "code",
   "execution_count": null,
   "metadata": {},
   "outputs": [],
   "source": [
    "roman(5)"
   ]
  },
  {
   "cell_type": "code",
   "execution_count": null,
   "metadata": {},
   "outputs": [],
   "source": [
    "roman.get(5)"
   ]
  },
  {
   "cell_type": "code",
   "execution_count": null,
   "metadata": {},
   "outputs": [],
   "source": [
    "//println(roman.get(11))\n",
    "println(roman.getOrElse(15, \"???\"))"
   ]
  },
  {
   "cell_type": "code",
   "execution_count": null,
   "metadata": {},
   "outputs": [],
   "source": [
    "roman.contains(15)"
   ]
  },
  {
   "cell_type": "code",
   "execution_count": null,
   "metadata": {},
   "outputs": [],
   "source": [
    "roman.keys\n",
    "roman.keys.foreach(x => println(s\"$x -> ${roman(x)}\"))"
   ]
  },
  {
   "cell_type": "markdown",
   "metadata": {},
   "source": [
    "### Tuples"
   ]
  },
  {
   "cell_type": "code",
   "execution_count": null,
   "metadata": {},
   "outputs": [],
   "source": [
    "// Tuple is another container object \n",
    "// Are immutable and can contain different types of elements \n",
    "// Fields in a tuple are accessing by: _1, _2, etc\n",
    "val personData = (\"John\", \"USA\", 45, 90000)\n",
    "personData._3"
   ]
  },
  {
   "cell_type": "code",
   "execution_count": null,
   "metadata": {},
   "outputs": [],
   "source": [
    "// Number of elements limited to 22: (Tuple1, Tuple2... Tuple22)\n",
    "println(personData.getClass())\n",
    "\n",
    "val t23 = (1,2,3,4,5,6,7,8,9,10,11,12,13,14,15,16,17,18,19,20,21,22,23)\n",
    "t23"
   ]
  },
  {
   "cell_type": "code",
   "execution_count": null,
   "metadata": {},
   "outputs": [],
   "source": [
    "// Assigning to variables the tuple elements\n",
    "val (name, country, age, salary) = personData\n",
    "name"
   ]
  },
  {
   "cell_type": "code",
   "execution_count": null,
   "metadata": {},
   "outputs": [],
   "source": [
    "// Iterate over a tuple elements\n",
    "personData.productIterator.foreach(x => println(x))"
   ]
  },
  {
   "cell_type": "markdown",
   "metadata": {
    "collapsed": true
   },
   "source": [
    "***"
   ]
  }
 ],
 "metadata": {
  "kernelspec": {
   "display_name": "Apache Toree - Scala",
   "language": "scala",
   "name": "apache_toree_scala"
  },
  "language_info": {
   "file_extension": ".scala",
   "name": "scala",
   "version": "2.11.8"
  }
 },
 "nbformat": 4,
 "nbformat_minor": 2
}

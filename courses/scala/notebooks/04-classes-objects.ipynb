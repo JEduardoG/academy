{
 "cells": [
  {
   "cell_type": "markdown",
   "metadata": {},
   "source": [
    " ![](../static/scala.jpg)"
   ]
  },
  {
   "cell_type": "markdown",
   "metadata": {},
   "source": [
    "## Classes and Objects"
   ]
  },
  {
   "cell_type": "markdown",
   "metadata": {},
   "source": [
    "Scala enables Object Oriented Programming\n",
    "\n",
    "* **Class** Creates a class and define members (fields and methods). New instances are created with *new*\n",
    "* **Object** Creates a Singleton (just one instance of the class)\n"
   ]
  },
  {
   "cell_type": "code",
   "execution_count": 22,
   "metadata": {
    "collapsed": true
   },
   "outputs": [],
   "source": [
    "class Person(val name: String, val age: Int) {\n",
    "\n",
    "    def greeting() = \"Hello \" + name + \"[\" + age +\"]\"\n",
    "    \n",
    "}\n",
    "val john = new Person(\"John\", 45)"
   ]
  },
  {
   "cell_type": "code",
   "execution_count": 23,
   "metadata": {
    "collapsed": false,
    "slideshow": {
     "slide_type": "-"
    }
   },
   "outputs": [
    {
     "name": "stdout",
     "output_type": "stream",
     "text": [
      "Hello John[45]\n"
     ]
    }
   ],
   "source": [
    "println(john.greeting)"
   ]
  },
  {
   "cell_type": "code",
   "execution_count": 24,
   "metadata": {
    "collapsed": false,
    "slideshow": {
     "slide_type": "-"
    }
   },
   "outputs": [],
   "source": [
    "object Juan {\n",
    "    val name = \"Juan\"\n",
    "    def greeting() = \"Hola \" + name\n",
    "}"
   ]
  },
  {
   "cell_type": "code",
   "execution_count": 25,
   "metadata": {
    "collapsed": false
   },
   "outputs": [
    {
     "name": "stdout",
     "output_type": "stream",
     "text": [
      "Hola Juan\n"
     ]
    }
   ],
   "source": [
    "println(Juan.greeting)"
   ]
  },
  {
   "cell_type": "markdown",
   "metadata": {},
   "source": [
    "#### Traits and Case Classes\n",
    "In addition to standard classes (**class**) and singleton (**objects**), in Scala we have: **trait** and **case class**\n",
    "\n",
    "* A **trait** its like an interface in Java with some differences (traits may contain concrete methods)\n",
    "* A **case class** enables pattern matching. We can think of a data-container\n"
   ]
  },
  {
   "cell_type": "code",
   "execution_count": 26,
   "metadata": {
    "collapsed": true,
    "slideshow": {
     "slide_type": "-"
    }
   },
   "outputs": [],
   "source": [
    "// Trait example\n",
    "trait Similarity {\n",
    "    def isSimilar(x: String): Boolean\n",
    "    def isNotSimilar(x: String): Boolean = !isSimilar(x)\n",
    "}"
   ]
  },
  {
   "cell_type": "code",
   "execution_count": 27,
   "metadata": {
    "collapsed": true
   },
   "outputs": [],
   "source": [
    "// Case class example\n",
    "case class Person(name: String, age: Int)"
   ]
  },
  {
   "cell_type": "code",
   "execution_count": 28,
   "metadata": {
    "collapsed": false
   },
   "outputs": [
    {
     "data": {
      "text/plain": [
       "Person(Maria,22)"
      ]
     },
     "execution_count": 28,
     "metadata": {},
     "output_type": "execute_result"
    }
   ],
   "source": [
    "Person(\"Maria\", 22)"
   ]
  },
  {
   "cell_type": "markdown",
   "metadata": {},
   "source": [
    "**Object Oriented Programming** is crucial for develop Applications and Enterprise-Applications.\n",
    "\n",
    "In Scala, we should use \"extends\" to create a sub-class of an existing one\n",
    "\n",
    "By another hand, we use \"with\" in order to mix the class with the trait"
   ]
  },
  {
   "cell_type": "code",
   "execution_count": null,
   "metadata": {
    "collapsed": true
   },
   "outputs": [],
   "source": []
  }
 ],
 "metadata": {
  "kernelspec": {
   "display_name": "Apache Toree - Scala",
   "language": "scala",
   "name": "apache_toree_scala"
  },
  "language_info": {
   "file_extension": ".scala",
   "name": "scala",
   "version": "2.11.8"
  }
 },
 "nbformat": 4,
 "nbformat_minor": 2
}

{
 "cells": [
  {
   "cell_type": "markdown",
   "metadata": {},
   "source": [
    "![](../static/scala.jpg)"
   ]
  },
  {
   "cell_type": "markdown",
   "metadata": {},
   "source": [
    "## Workshop\n",
    "\n",
    "We have choosen two algorithms: \n",
    "* **Merge Sort**: to illustrate some important elements of programming in Scala\n",
    "* **Tower of Hanoi**: to be solved!"
   ]
  },
  {
   "cell_type": "markdown",
   "metadata": {},
   "source": [
    "### 1- Merge Sort\n",
    "* Efficient, general-purpose, comparisson-based sorting algorithm\n",
    "* Developed by John von Neumann, 1945"
   ]
  },
  {
   "cell_type": "code",
   "execution_count": 1,
   "metadata": {
    "collapsed": true
   },
   "outputs": [],
   "source": [
    "def msort[T](less: (T, T) => Boolean, xs: List[T]): List[T] = {\n",
    "\n",
    "  def merge(xs: List[T], ys: List[T]): List[T] = (xs, ys) match {\n",
    "    case (Nil, _) => ys\n",
    "    case (_, Nil) => xs\n",
    "    case (x :: xs1, y :: ys1) =>\n",
    "      if (less(x, y)) x :: merge(xs1, ys)\n",
    "      else y :: merge(xs, ys1)\n",
    "  }\n",
    "\n",
    "  val n = xs.length / 2\n",
    "  if (n == 0) xs\n",
    "  else {\n",
    "    val (ys, zs) = xs.splitAt(n)\n",
    "    merge(msort(less, ys), msort(less,zs))\n",
    "  }\n",
    "}"
   ]
  },
  {
   "cell_type": "markdown",
   "metadata": {},
   "source": [
    "#### Implementation Details\n",
    "* Sorting algorithm (Divide-and-conquer strategy)\n",
    "* Generic Type T (enables to use the algorithm with List[Int] or List[String], etc.) \n",
    "* Local function (merge)\n",
    "* Pattern matching (match)"
   ]
  },
  {
   "cell_type": "code",
   "execution_count": 2,
   "metadata": {
    "collapsed": false
   },
   "outputs": [
    {
     "data": {
      "text/plain": [
       "List(2, 3, 4, 5)"
      ]
     },
     "execution_count": 2,
     "metadata": {},
     "output_type": "execute_result"
    }
   ],
   "source": [
    "//Playing with msort\n",
    "msort((x:Int, y:Int)=>x<y, List(5,4,2,3))"
   ]
  },
  {
   "cell_type": "markdown",
   "metadata": {},
   "source": [
    "## 2- Tower of Hanoi\n",
    "\n",
    "The game consists of three rods and disks of different sizes. It starts with the disks in ascending order of size on the first rod, the smallest at the top. The objective of the game is to move the entire stack to the third rod, obeying the following simple rules:\n",
    "* Only one disk can be moved at a time\n",
    "* Each move consists of taking the upper disk from one of the stacks and placing it on top of another stack\n",
    "* No disk may be placed on top of a smaller disk"
   ]
  },
  {
   "cell_type": "code",
   "execution_count": 1,
   "metadata": {
    "collapsed": false,
    "slideshow": {
     "slide_type": "-"
    }
   },
   "outputs": [],
   "source": [
    "def torresHanoi(n: Int): List[(Int, Int)] = {\n",
    "    def hanoi(n: Int, origin: Int, pivot: Int, destination: Int, acc: List[(Int, Int)]): List[(Int, Int)] = {\n",
    "        if (n==1) ???\n",
    "        else ???\n",
    "    }\n",
    "    hanoi(n, 1, 2, 3, List())\n",
    "}"
   ]
  },
  {
   "cell_type": "markdown",
   "metadata": {},
   "source": [
    "#### Auxiliary functions: printPos(), printSolution()"
   ]
  },
  {
   "cell_type": "code",
   "execution_count": 4,
   "metadata": {
    "collapsed": true
   },
   "outputs": [],
   "source": [
    "def printPos(title: String, col1: List[Int], col2: List[Int], col3: List[Int], colWidth: Int): Unit = {\n",
    "        \n",
    "        def disk(k: Int): String = {\n",
    "            val right = (colWidth - k)/2\n",
    "            val left = colWidth - k - right\n",
    "            \" \"*left + \"X\"*k + \" \"*right\n",
    "        }\n",
    "\n",
    "        val height = Math.max(col1.size, Math.max(col2.size, col3.size))\n",
    "        val column1 = (1 until height-col1.size).map(i => 0).toList ++ col1\n",
    "        val column2 = (1 until height-col2.size).map(i => 0).toList ++ col2\n",
    "        val column3 = (1 until height-col3.size).map(i => 0).toList ++ col3\n",
    "        val lines = (0 until height).map(i => {\n",
    "            val part1 = if (i < column1.size) disk(column1(i)) else disk(0)\n",
    "            val part2 = if (i < column2.size) disk(column2(i)) else disk(0)\n",
    "            val part3 = if (i < column3.size) disk(column3(i)) else disk(0)\n",
    "            part1 + \"|\" + part2 + \"|\" + part3\n",
    "        })\n",
    "    \n",
    "        println(title)\n",
    "        //println(\" \"*colWidth + \"|\" + \" \"*colWidth + \"|\" + \" \"*colWidth)    \n",
    "        lines.foreach(println)\n",
    "        println\n",
    "    }\n"
   ]
  },
  {
   "cell_type": "code",
   "execution_count": 7,
   "metadata": {
    "collapsed": false,
    "slideshow": {
     "slide_type": "-"
    }
   },
   "outputs": [],
   "source": [
    "def printSolution(n: Int, moves: List[(Int, Int)]): Unit = {\n",
    "    \n",
    "    val initialPos = List(((1 to n).toList, List(), List(), \"Initial Pos\"))\n",
    "\n",
    "    def nextPos(move: (Int, Int), col1: List[Int], col2: List[Int], col3: List[Int]): \n",
    "        (List[Int], List[Int], List[Int], String) = {\n",
    "        val title = move._1 + \" -> \" + move._2\n",
    "        val origin = if (move._1 == 1) col1 else if (move._1 == 2) col2 else col3\n",
    "        val destination = if (move._2 == 1) col1 else if (move._2 == 2) col2 else col3\n",
    "        val origin2 = origin.tail\n",
    "        val destination2 = List(origin.head) ++ destination\n",
    "        val response : (List[Int], List[Int], List[Int], String) = \n",
    "            if (move._1==1 && move._2==2) (origin2, destination2, col3, title) else\n",
    "            if (move._1==1 && move._2==3) (origin2, col2, destination2, title) else\n",
    "            if (move._1==2 && move._2==3) (col1, origin2, destination2, title) else\n",
    "            if (move._1==2 && move._2==1) (destination2, origin2, col3, title) else\n",
    "            if (move._1==3 && move._2==1) (destination2, col2, origin2, title) else\n",
    "            (col1, destination2, origin2, title)\n",
    "        response\n",
    "    }\n",
    "\n",
    "    def buildSolution(moves: List[(Int, Int)], acc: List[(List[Int], List[Int], List[Int], String)]): \n",
    "        List[(List[Int], List[Int], List[Int], String)] = {\n",
    "        if (moves == List()) acc else \n",
    "        buildSolution(moves.tail, List(nextPos(moves.head, acc.head._1, acc.head._2, acc.head._3)) ++ acc)\n",
    "    }\n",
    "\n",
    "    val solution = buildSolution(moves, initialPos)\n",
    "    solution.reverse.foreach(t => printPos(t._4, t._1, t._2, t._3, n))\n",
    "\n",
    "}"
   ]
  },
  {
   "cell_type": "code",
   "execution_count": 5,
   "metadata": {
    "collapsed": false,
    "slideshow": {
     "slide_type": "-"
    }
   },
   "outputs": [],
   "source": [
    "val solution1 = List((1,3))\n",
    "val solution2 = List((1,2), (1,3), (2,3))\n",
    "val solution3 = List((1,3), (1,2), (3,2), (1,3), (2,1), (2,3), (1,3))"
   ]
  },
  {
   "cell_type": "code",
   "execution_count": 8,
   "metadata": {
    "collapsed": false
   },
   "outputs": [
    {
     "name": "stdout",
     "output_type": "stream",
     "text": [
      "Initial Pos\n",
      " X |   |   \n",
      " XX|   |   \n",
      "XXX|   |   \n",
      "\n",
      "1 -> 3\n",
      " XX|   | X \n",
      "XXX|   |   \n",
      "\n",
      "1 -> 2\n",
      "XXX| XX| X \n",
      "\n",
      "3 -> 2\n",
      "XXX| X |   \n",
      "   | XX|   \n",
      "\n",
      "1 -> 3\n",
      "   | X |XXX\n",
      "   | XX|   \n",
      "\n",
      "2 -> 1\n",
      " X | XX|XXX\n",
      "\n",
      "2 -> 3\n",
      " X |   | XX\n",
      "   |   |XXX\n",
      "\n",
      "1 -> 3\n",
      "   |   | X \n",
      "   |   | XX\n",
      "   |   |XXX\n",
      "\n"
     ]
    }
   ],
   "source": [
    "printSolution(3, torresHanoi(3))"
   ]
  },
  {
   "cell_type": "code",
   "execution_count": null,
   "metadata": {
    "collapsed": true
   },
   "outputs": [],
   "source": []
  }
 ],
 "metadata": {
  "kernelspec": {
   "display_name": "Apache Toree - Scala",
   "language": "scala",
   "name": "apache_toree_scala"
  },
  "language_info": {
   "file_extension": ".scala",
   "name": "scala",
   "version": "2.11.8"
  }
 },
 "nbformat": 4,
 "nbformat_minor": 2
}

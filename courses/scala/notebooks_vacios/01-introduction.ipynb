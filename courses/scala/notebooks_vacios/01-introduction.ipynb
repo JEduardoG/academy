{
 "cells": [
  {
   "cell_type": "markdown",
   "metadata": {},
   "source": [
    "![](../static/scala.jpg)"
   ]
  },
  {
   "cell_type": "markdown",
   "metadata": {},
   "source": [
    "## Introduction"
   ]
  },
  {
   "cell_type": "markdown",
   "metadata": {},
   "source": [
    "### Scala\n",
    "* Scala = Scalable language (grows with the demands of its users. Fits: Scripting, Applications and Enterprise Applications)\n",
    "* Combines Functional Programming with Object Oriented Programming\n",
    "* Compiles to Bytecode and runs on JVM\n",
    "* ...\n"
   ]
  },
  {
   "cell_type": "markdown",
   "metadata": {
    "collapsed": false,
    "slideshow": {
     "slide_type": "-"
    }
   },
   "source": [
    "### Examples\n",
    "\n",
    "#### Hello World!\n",
    "~~~scala\n",
    "object MyApp extends App {\n",
    "    println(\"Hello World!\")\n",
    "}\n",
    "~~~\n",
    "\n",
    "Equivalent in Java:\n",
    "~~~java\n",
    "public class MyApp {\n",
    "    public static void main(String[] args) {\n",
    "        System.out.println(\"Hello World!\");\n",
    "    }\n",
    "}\n",
    "~~~\n"
   ]
  },
  {
   "cell_type": "code",
   "execution_count": null,
   "metadata": {
    "collapsed": false
   },
   "outputs": [],
   "source": [
    "// Everything is an Object\n"
   ]
  },
  {
   "cell_type": "code",
   "execution_count": null,
   "metadata": {
    "collapsed": false
   },
   "outputs": [],
   "source": [
    "// 1+4/2 == 1.+(4./(2))\n"
   ]
  },
  {
   "cell_type": "code",
   "execution_count": null,
   "metadata": {
    "collapsed": false
   },
   "outputs": [],
   "source": [
    "// Semicolons at the end of sentences are optional, except for several sentences in the same line\n"
   ]
  },
  {
   "cell_type": "markdown",
   "metadata": {},
   "source": [
    "### Functional Programming\n",
    "\n",
    "* **Functional Programming** is a programming paradigm that treats computation as the evaluation of mathematical functions and avoids changing-state and mutable data. \n",
    "\n",
    "* It is a declarative programming paradigm, which means programming is done with expressions or declarations instead of statements. \n",
    "\n",
    "* In functional code, the output value of a function depends only on the arguments that are input to the function, so calling a function f twice with the same value for an argument x will produce the same result f(x) each time.\n",
    "\n",
    "* Eliminating side effects can make it much easier to understand and predict the behavior of a program."
   ]
  },
  {
   "cell_type": "markdown",
   "metadata": {},
   "source": [
    "### More features of Scala\n",
    "* Concise (line number reductions in a factor of ten compared with Java)\n",
    "* Statically typed (no verbosity)\n",
    "* High level (Rising the level of abstractions. See next example)"
   ]
  },
  {
   "cell_type": "code",
   "execution_count": null,
   "metadata": {
    "collapsed": true
   },
   "outputs": [],
   "source": [
    "// We want to know if the word contains an uppercase\n"
   ]
  },
  {
   "cell_type": "markdown",
   "metadata": {
    "collapsed": false
   },
   "source": [
    "// Scala (like in Java)\n",
    "var wordHasUpperCase = false\n",
    "var i = 0\n",
    "while (i< word.length && !wordHasUpperCase) {\n",
    "  if (Character.isUpperCase(word.charAt(i))) {\n",
    "    wordHasUpperCase = true\n",
    "  }\n",
    "  i += 1\n",
    "}\n",
    "\n",
    "wordHasUpperCase"
   ]
  },
  {
   "cell_type": "code",
   "execution_count": null,
   "metadata": {
    "collapsed": false
   },
   "outputs": [],
   "source": [
    "// Scala\n",
    "//word.exists(_.isUpper)\n"
   ]
  },
  {
   "cell_type": "markdown",
   "metadata": {
    "collapsed": true
   },
   "source": [
    "### Bibliography\n",
    "* [Programming in Scala, Third Edition, 2016; Martin Odersky, Lex Spoon and Bill Venners](https://www.amazon.es/Programming-Scala-Martin-Odersky/dp/0981531644)\n",
    "* [Functional Programming in Scala, 2014; Paul Chiusano and Rúnar Bjarnason](https://www.amazon.es/dp/1617290653)"
   ]
  }
 ],
 "metadata": {
  "kernelspec": {
   "display_name": "Apache Toree - Scala",
   "language": "scala",
   "name": "apache_toree_scala"
  },
  "language_info": {
   "file_extension": ".scala",
   "name": "scala",
   "version": "2.11.8"
  }
 },
 "nbformat": 4,
 "nbformat_minor": 2
}

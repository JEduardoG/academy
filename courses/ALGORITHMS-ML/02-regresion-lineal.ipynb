{
 "cells": [
  {
   "cell_type": "markdown",
   "metadata": {},
   "source": [
    "![](static/python.jpg)"
   ]
  },
  {
   "cell_type": "markdown",
   "metadata": {},
   "source": [
    "## Regresión Lineal\n",
    "\n",
    "### Dataset\n",
    "$(x_1^{(1)}, x_2^{(1)}, ... ,x_n^{(1)}, y^{(1)})$  \n",
    "$(x_1^{(2)}, x_2^{(2)}, ... ,x_n^{(2)}, y^{(m)})$  \n",
    "\n",
    "$...$\n",
    "\n",
    "$(x_1^{(m)}, x_2^{(m)}, ... ,x_n^{(m)}, y^{(m)})$  \n",
    "\n",
    "* m registros\n",
    "* n features\n",
    "* un ouptut (y)\n",
    "\n",
    "\n",
    "### Modelo\n",
    "$h_\\theta(X)=\\theta_0 + \\theta_1 x_1 + \\theta_2 x_2 + ... + \\theta_n x_n$ \n",
    "\n",
    "### Función de Coste (\"Squared Error Function\")\n",
    "$J(\\theta) = \\frac{1}{2m}\\sum_{i=1}^{m}(h_\\theta(X^{(i)})-y^{(i)})^2$\n",
    "\n",
    "$min_\\theta J(\\theta)$ ?"
   ]
  },
  {
   "cell_type": "markdown",
   "metadata": {
    "collapsed": true
   },
   "source": [
    "### Gradiente Descendiente\n",
    "\n",
    "Repetir hasta convergencia:\n",
    "\n",
    "$\\theta_i := \\theta_i - \\alpha \\frac{\\partial}{\\partial\\theta_i}J(\\theta)$\n",
    "\n",
    "La actualización de cada $\\theta_i$ tiene que ser \"simultánea\" (variables temporal)"
   ]
  },
  {
   "cell_type": "code",
   "execution_count": 56,
   "metadata": {
    "collapsed": false
   },
   "outputs": [
    {
     "name": "stdout",
     "output_type": "stream",
     "text": [
      "[1 2 3 7]\n"
     ]
    }
   ],
   "source": [
    "import numpy as np\n",
    "data = np.array([[1,2], [2,3], [3,4], [7,11]])\n",
    "X = data[:,0]\n",
    "y = data[:,1]\n",
    "m = len(data)\n",
    "\n",
    "print(X)\n",
    "\n",
    "b0 = 0.7\n",
    "b1 = 0.6\n",
    "y2 = [b0+b1*x for x in X]\n",
    "\n",
    "b11 = 1.1\n",
    "y3 = [b0+b11*x for x in X]\n",
    "\n",
    "b12 = 1.3\n",
    "y4 = [b0+b12*x for x in X]"
   ]
  },
  {
   "cell_type": "code",
   "execution_count": 40,
   "metadata": {
    "collapsed": false
   },
   "outputs": [
    {
     "data": {
      "text/plain": [
       "[<matplotlib.lines.Line2D at 0x7f686a040a50>]"
      ]
     },
     "execution_count": 40,
     "metadata": {},
     "output_type": "execute_result"
    },
    {
     "data": {
      "image/png": "[encoded data removed]",
      "text/plain": [
       "<matplotlib.figure.Figure at 0x7f686a10f810>"
      ]
     },
     "metadata": {},
     "output_type": "display_data"
    }
   ],
   "source": [
    "import matplotlib.pyplot as plt\n",
    "plt.scatter(X, y,  color='black')\n",
    "plt.plot(X, y2, color='blue')\n",
    "plt.plot(X, y3, color='red')\n",
    "plt.plot(X, y4, color='green')"
   ]
  },
  {
   "cell_type": "code",
   "execution_count": 54,
   "metadata": {
    "collapsed": true
   },
   "outputs": [],
   "source": [
    "def h(x, b0, b1):\n",
    "    return b0 + b1*x\n",
    "\n",
    "def J(b0, b1):\n",
    "    s = 0\n",
    "    for i in range(0, m):\n",
    "        s += (h(X[i], b0, b1) - y[i])**2\n",
    "    return s/(2.0*m)"
   ]
  },
  {
   "cell_type": "code",
   "execution_count": 55,
   "metadata": {
    "collapsed": false
   },
   "outputs": [
    {
     "data": {
      "text/plain": [
       "726.645"
      ]
     },
     "execution_count": 55,
     "metadata": {},
     "output_type": "execute_result"
    }
   ],
   "source": [
    "print(h(3, 0.7, 1.1))\n",
    "print(J(0.7,11))"
   ]
  }
 ],
 "metadata": {
  "kernelspec": {
   "display_name": "Python 2",
   "language": "python",
   "name": "python2"
  },
  "language_info": {
   "codemirror_mode": {
    "name": "ipython",
    "version": 2
   },
   "file_extension": ".py",
   "mimetype": "text/x-python",
   "name": "python",
   "nbconvert_exporter": "python",
   "pygments_lexer": "ipython2",
   "version": "2.7.12"
  }
 },
 "nbformat": 4,
 "nbformat_minor": 2
}

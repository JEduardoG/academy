{
 "cells": [
  {
   "cell_type": "markdown",
   "metadata": {},
   "source": [
    "![](static/python.jpg)"
   ]
  },
  {
   "cell_type": "markdown",
   "metadata": {
    "collapsed": false
   },
   "source": [
    "### Resumen\n",
    "\n",
    "* Conceptos de Aprendizaje Supervisado y Problemas de Regresión\n",
    "* Planteamiento de un modelo de Regresión Lineal\n",
    "* Carga y exploración de los datos, elección de las features que entran al modelo \n",
    "* Separación del conjunto de datos en conjunto de entrenamiento y de test\n",
    "* Creación y entrenamiento de un modelo de Regresión Lineal (Scikit-Learn)\n",
    "* Evaluación de los resultados (nueva iteración?!)\n",
    "\n",
    "\n",
    "### Referencias\n",
    "* Machine Learning. A Probabilistic Perspective, Kevin P. Murphy https://www.amazon.es/Machine-Learning-Probabilistic-Perspective-Computation/dp/0262018020\n",
    "* Coursera: Curso \"Machine Learning\" de Andrew Ng\n",
    "* http://scikit-learn.org/stable/\n",
    "* https://pypi.python.org/pypi/pandas\n",
    "* https://pypi.python.org/pypi/numpy\n",
    "\n",
    "\n",
    "### Ejercicio Propuesto\n",
    "\n",
    "Basados en el dataset Boston de Scikit-Learn, preparar un modelo de Regresión Lineal para predecir el precio de una vivienda."
   ]
  },
  {
   "cell_type": "code",
   "execution_count": null,
   "metadata": {
    "collapsed": true
   },
   "outputs": [],
   "source": []
  }
 ],
 "metadata": {
  "kernelspec": {
   "display_name": "Python 2",
   "language": "python",
   "name": "python2"
  },
  "language_info": {
   "codemirror_mode": {
    "name": "ipython",
    "version": 2
   },
   "file_extension": ".py",
   "mimetype": "text/x-python",
   "name": "python",
   "nbconvert_exporter": "python",
   "pygments_lexer": "ipython2",
   "version": "2.7.12"
  }
 },
 "nbformat": 4,
 "nbformat_minor": 2
}

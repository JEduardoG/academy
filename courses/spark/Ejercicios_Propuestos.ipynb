{
 "cells": [
  {
   "cell_type": "markdown",
   "metadata": {},
   "source": [
    "## Ejercicios propuestos"
   ]
  },
  {
   "cell_type": "markdown",
   "metadata": {},
   "source": [
    "Ejercicio 1. Escribir la función \"subcadena\" que dadas dos cadenas cuenta las apariciones de la segunda en la primera, es decir, subcadena(\"holacaracola\", \"la\") debería devolver 2. (En python existe la función count para este efecto, pero no deberemos utilizarla en la solución)"
   ]
  },
  {
   "cell_type": "code",
   "execution_count": null,
   "metadata": {
    "collapsed": false
   },
   "outputs": [],
   "source": []
  },
  {
   "cell_type": "markdown",
   "metadata": {},
   "source": [
    "Ejercicio 2. Multiplicar dos números es muy sencillo, pero en este caso vamos a complicarlo utilizando un método distinto al tradicional. Utilizaremos la multiplicación rusa (https://es.wikipedia.org/wiki/Multiplicaci%C3%B3n_por_duplicaci%C3%B3n) de forma que solo multiplicaremos por 2 y dividiremos entre 2. Escribir una función que dados dos números los multiplique mediante este método"
   ]
  },
  {
   "cell_type": "code",
   "execution_count": null,
   "metadata": {
    "collapsed": true
   },
   "outputs": [],
   "source": []
  },
  {
   "cell_type": "markdown",
   "metadata": {},
   "source": [
    "Ejercicio 3. Programar un conjunto de clases que representen figuras geométricas sencillas como triángulo, rectángulo, polígono (genérico), basándose en una clase punto y si es necesario en las estructuras de datos típicas, es decir, listas, tuplas, diccionarios... . Las clases que representen las figuras deben tener métodos para desplazarlas, imprimir sus vertices, calcular su perímetro, etc."
   ]
  },
  {
   "cell_type": "code",
   "execution_count": null,
   "metadata": {
    "collapsed": true
   },
   "outputs": [],
   "source": []
  }
 ],
 "metadata": {
  "anaconda-cloud": {},
  "kernelspec": {
   "display_name": "Python [default]",
   "language": "python",
   "name": "python3"
  },
  "language_info": {
   "codemirror_mode": {
    "name": "ipython",
    "version": 3
   },
   "file_extension": ".py",
   "mimetype": "text/x-python",
   "name": "python",
   "nbconvert_exporter": "python",
   "pygments_lexer": "ipython3",
   "version": "3.5.2"
  }
 },
 "nbformat": 4,
 "nbformat_minor": 1
}

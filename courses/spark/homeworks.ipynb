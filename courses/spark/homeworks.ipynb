{
 "cells": [
  {
   "cell_type": "markdown",
   "metadata": {},
   "source": [
    "### Ejercicios propuestos (Spark)"
   ]
  },
  {
   "cell_type": "markdown",
   "metadata": {},
   "source": [
    "Ejercicio 1: Vamos a trabajar con el fichero \"tweets.txt\". Si lo editais podeis ver que tiene la siguiente estructura:\n",
    "\n",
    "    Me encanta Melania Trump#Trump,Melania,USA\n",
    "\n",
    "Cada línea del fichero esta compuesta por un Tweet y por un listado de Hashtags. El carácter \"#\" nos hará de separados, así como, el carácter \",\" hará de separador en el listado de Hashtags.\n",
    "\n",
    "Lo que se propone como ejercicio es leer este fichero y convertirlo en un RDD de líneas de texto. A base de transformaciones sobre este RDD deberemos conseguir saber ¿cuál es la palabra más repetida en los tweets? y ¿cuál es el hashtag más repetido?"
   ]
  },
  {
   "cell_type": "code",
   "execution_count": null,
   "metadata": {
    "collapsed": true
   },
   "outputs": [],
   "source": []
  },
  {
   "cell_type": "markdown",
   "metadata": {},
   "source": [
    "Ejercicio 2: En este ejercicio partimos de dos ficheros.\n",
    "\n",
    "Fichero \"autores.txt\", con la estructura:\n",
    "        \n",
    "        id_autor,Nombre_autor\n",
    "        \n",
    "Fichero \"libros.txt\", con la estructura:\n",
    "        \n",
    "        id_autor,Nombre_libro,Precio\n",
    "\n",
    "Al igual que en el ejercicio anterior, deberemos leer los dos ficheros y convertirlos en sendos RDDs. A base de\n",
    "transformaciones sobre estos RDDs deberemos mostrar un listado de autores con la suma de los precios de los libros que \n",
    "les pertenezcan"
   ]
  },
  {
   "cell_type": "code",
   "execution_count": null,
   "metadata": {
    "collapsed": true
   },
   "outputs": [],
   "source": []
  }
 ],
 "metadata": {
  "kernelspec": {
   "display_name": "Python 2",
   "language": "python",
   "name": "python2"
  },
  "language_info": {
   "codemirror_mode": {
    "name": "ipython",
    "version": 2
   },
   "file_extension": ".py",
   "mimetype": "text/x-python",
   "name": "python",
   "nbconvert_exporter": "python",
   "pygments_lexer": "ipython2",
   "version": "2.7.12"
  }
 },
 "nbformat": 4,
 "nbformat_minor": 1
}

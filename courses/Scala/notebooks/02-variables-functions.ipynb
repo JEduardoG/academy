{
 "cells": [
  {
   "cell_type": "markdown",
   "metadata": {},
   "source": [
    "![](../static/scala.jpg)"
   ]
  },
  {
   "cell_type": "markdown",
   "metadata": {},
   "source": [
    "## Variables and Functions\n",
    "\n",
    "Scala has two kind of variables: **val**s and **var**s\n",
    "\n",
    "Once initialized, a **val** can never be reassigned (similar to final variable in Java)\n",
    "~~~scala\n",
    "val x = 10\n",
    "x = 11 //error\n",
    "~~~\n",
    "\n",
    "A **var** can be reassigned during its lifetime (similar to non-final variable in Java)\n",
    "~~~scala\n",
    "var x = 10\n",
    "...\n",
    "x=11 //Ok\n",
    "...\n",
    "x=12 //Ok\n",
    "~~~"
   ]
  },
  {
   "cell_type": "code",
   "execution_count": 26,
   "metadata": {
    "collapsed": false
   },
   "outputs": [],
   "source": [
    "// val\n",
    "val x = 10\n",
    "val st = \"Hello World\""
   ]
  },
  {
   "cell_type": "code",
   "execution_count": 27,
   "metadata": {
    "collapsed": false
   },
   "outputs": [
    {
     "data": {
      "text/plain": [
       "class java.lang.String"
      ]
     },
     "execution_count": 27,
     "metadata": {},
     "output_type": "execute_result"
    }
   ],
   "source": [
    "//Type inference: Scala's ability to figure out types you leave off\n",
    "st.getClass"
   ]
  },
  {
   "cell_type": "code",
   "execution_count": 28,
   "metadata": {
    "collapsed": false
   },
   "outputs": [],
   "source": [
    "// In contrast to Java, in Scala you specify a variable's type afte its name separate by a colon\n",
    "val st2: java.lang.String = \"Hello World\"\n",
    "\n",
    "// Since java.lang types are visible with their simple names in Scala, you may write:\n",
    "val st3: String = \"Hello World\""
   ]
  },
  {
   "cell_type": "code",
   "execution_count": 30,
   "metadata": {
    "collapsed": false
   },
   "outputs": [
    {
     "name": "stdout",
     "output_type": "stream",
     "text": [
      "Hello World\n"
     ]
    }
   ],
   "source": [
    "// We may use st but can't reassign it\n",
    "println(st)"
   ]
  },
  {
   "cell_type": "code",
   "execution_count": 31,
   "metadata": {
    "collapsed": false
   },
   "outputs": [
    {
     "data": {
      "text/plain": [
       "Name: Compile Error\n",
       "Message: <console>:20: error: reassignment to val\n",
       "       st = \"Goodbye!\"\n",
       "          ^\n",
       "StackTrace: "
      ]
     },
     "execution_count": 31,
     "metadata": {},
     "output_type": "execute_result"
    }
   ],
   "source": [
    "// But we can't reasign it\n",
    "st = \"Goodbye!\""
   ]
  },
  {
   "cell_type": "code",
   "execution_count": 33,
   "metadata": {
    "collapsed": false
   },
   "outputs": [
    {
     "name": "stdout",
     "output_type": "stream",
     "text": [
      "Hello World\n",
      "Goodbye!\n"
     ]
    }
   ],
   "source": [
    "// If we need reasigment we should use a var\n",
    "var st = \"Hello World\"\n",
    "println(st)\n",
    "st = \"Goodbye!\"\n",
    "println(st)"
   ]
  },
  {
   "cell_type": "markdown",
   "metadata": {},
   "source": [
    "### Functions\n",
    "To define a function in Scala we use reserved word **def**\n",
    "~~~scala\n",
    "def sum(x:Int, y:Int): Int = {\n",
    "  x+y\n",
    "}\n",
    "~~~\n",
    "Where:\n",
    "* **def**: reserved word, starts a function definition\n",
    "* **sum**: function name\n",
    "* **(x:Int, y:Int)**: parameter list in parentheses\n",
    "* **Int**: function's result type\n",
    "* **=**: equals sign\n",
    "* **{...}**: function body in curly braces \n",
    "\n",
    "> Please, notice **return** word is not required"
   ]
  },
  {
   "cell_type": "code",
   "execution_count": 43,
   "metadata": {
    "collapsed": true
   },
   "outputs": [],
   "source": [
    "// Let's define some functions \n",
    "def sum(x:Int, y:Int): Int = ???\n",
    "def max(x:Int, y:Int): Int = ???\n",
    "def min(x:Int, y:Int): Int = ???"
   ]
  },
  {
   "cell_type": "code",
   "execution_count": 46,
   "metadata": {
    "collapsed": false
   },
   "outputs": [
    {
     "data": {
      "text/plain": [
       "Name: scala.NotImplementedError\n",
       "Message: an implementation is missing\n",
       "StackTrace:   at scala.Predef$.$qmark$qmark$qmark(Predef.scala:230)\n",
       "  at max(<console>:17)"
      ]
     },
     "execution_count": 46,
     "metadata": {},
     "output_type": "execute_result"
    }
   ],
   "source": [
    "// Let's evaluate some functions\n",
    "sum(10,11)\n",
    "max(5,10)\n",
    "min(5,10)"
   ]
  },
  {
   "cell_type": "code",
   "execution_count": 47,
   "metadata": {
    "collapsed": false
   },
   "outputs": [],
   "source": [
    "// Recursive functions (Requires explicit function's result type)\n",
    "def factorial(n: Int): Int = ???"
   ]
  },
  {
   "cell_type": "code",
   "execution_count": 51,
   "metadata": {
    "collapsed": false,
    "slideshow": {
     "slide_type": "-"
    }
   },
   "outputs": [],
   "source": [
    "def sum(x:Int, y:Int): Int = x+y\n",
    "def prod(x:Int, y:Int): Int = x*y\n",
    "def combines(x1:Int, y1:Int, x2:Int, y2:Int, op1:(Int,Int)=>Int, op2:(Int,Int)=>Int): Int = op2(op1(x1,y1), op1(x2,y2))"
   ]
  },
  {
   "cell_type": "code",
   "execution_count": 54,
   "metadata": {
    "collapsed": false
   },
   "outputs": [
    {
     "data": {
      "text/plain": [
       "9"
      ]
     },
     "execution_count": 54,
     "metadata": {},
     "output_type": "execute_result"
    }
   ],
   "source": [
    "// (1+2) * (3+0) => 9\n",
    "combines(1,2,3,0, sum, prod)"
   ]
  },
  {
   "cell_type": "code",
   "execution_count": 55,
   "metadata": {
    "collapsed": false
   },
   "outputs": [
    {
     "data": {
      "text/plain": [
       "6"
      ]
     },
     "execution_count": 55,
     "metadata": {},
     "output_type": "execute_result"
    }
   ],
   "source": [
    "// (1+2) + (3+0) => 6\n",
    "combines(2,3,1,0, sum, sum)"
   ]
  },
  {
   "cell_type": "code",
   "execution_count": 56,
   "metadata": {
    "collapsed": false
   },
   "outputs": [
    {
     "data": {
      "text/plain": [
       "6"
      ]
     },
     "execution_count": 56,
     "metadata": {},
     "output_type": "execute_result"
    }
   ],
   "source": [
    "// (1*2) + (3*0) => 3\n",
    "combines(2,3,1,0, prod, sum)"
   ]
  },
  {
   "cell_type": "code",
   "execution_count": 57,
   "metadata": {
    "collapsed": false,
    "slideshow": {
     "slide_type": "-"
    }
   },
   "outputs": [
    {
     "data": {
      "text/plain": [
       "0"
      ]
     },
     "execution_count": 57,
     "metadata": {},
     "output_type": "execute_result"
    }
   ],
   "source": [
    "// (1*2) * (3*0) => 0\n",
    "combines(2,3,1,0, prod, prod)"
   ]
  },
  {
   "cell_type": "markdown",
   "metadata": {
    "collapsed": false,
    "slideshow": {
     "slide_type": "-"
    }
   },
   "source": [
    "#### Data Types\n",
    "Scala has all the same data types as Java, with the same memory footprint and precision\n",
    "\n",
    "|Data Type  |Precision|\n",
    "|-----------|:-------:|\n",
    "|**Byte**   | 8 bit signed value. Range from -128 to 127 |\n",
    "|**Short**  | 16 bit signed value. Range from -32768 to 32767 |\n",
    "|**Int**    | 32 bit signed value. Range from -2147483648 to 2147483647 |\n",
    "|**Long**   | 64 bit signed value. Range from -9223372036854775808 to 9223372036854775807 |\n",
    "|**Float**  | 32 bit IEEE 754 single-precision float |\n",
    "|**Double** | 64 bit IEEE 754 double-precision float |\n",
    "|**Char**   | 16 bit unsigned Unicode character |\n",
    "|**String** | A sequence of Chars |\n",
    "|**Boolean**|Either the literal true or the literal false |\n"
   ]
  },
  {
   "cell_type": "markdown",
   "metadata": {
    "collapsed": true
   },
   "source": [
    " "
   ]
  },
  {
   "cell_type": "code",
   "execution_count": 2,
   "metadata": {
    "collapsed": false
   },
   "outputs": [
    {
     "data": {
      "text/plain": [
       "<function1>"
      ]
     },
     "execution_count": 2,
     "metadata": {},
     "output_type": "execute_result"
    }
   ],
   "source": [
    "// Anonymous functions\n",
    "(x:Int) => x+1"
   ]
  },
  {
   "cell_type": "code",
   "execution_count": 9,
   "metadata": {
    "collapsed": false
   },
   "outputs": [
    {
     "data": {
      "text/plain": [
       "<function2>"
      ]
     },
     "execution_count": 9,
     "metadata": {},
     "output_type": "execute_result"
    }
   ],
   "source": [
    "// Anonymous functions\n",
    "(x:Int,y:Int) => x+y"
   ]
  },
  {
   "cell_type": "code",
   "execution_count": 4,
   "metadata": {
    "collapsed": false
   },
   "outputs": [
    {
     "data": {
      "text/plain": [
       "8"
      ]
     },
     "execution_count": 4,
     "metadata": {},
     "output_type": "execute_result"
    }
   ],
   "source": [
    "// Using function inc()\n",
    "val inc = (x:Int) => x+1\n",
    "inc(7)"
   ]
  },
  {
   "cell_type": "code",
   "execution_count": 3,
   "metadata": {
    "collapsed": false
   },
   "outputs": [
    {
     "data": {
      "text/plain": [
       "Array(1, 2, 3, 4, 5, 6)"
      ]
     },
     "execution_count": 3,
     "metadata": {},
     "output_type": "execute_result"
    }
   ],
   "source": [
    "// Array of Int\n",
    "val A = Array(1,2,3,4,5,6)\n",
    "A"
   ]
  },
  {
   "cell_type": "code",
   "execution_count": 8,
   "metadata": {
    "collapsed": false
   },
   "outputs": [
    {
     "data": {
      "text/plain": [
       "Array(2, 3, 4, 5, 6, 7)"
      ]
     },
     "execution_count": 8,
     "metadata": {},
     "output_type": "execute_result"
    }
   ],
   "source": [
    "// passing inc() as argument to map()\n",
    "val B = A.map(inc)\n",
    "B"
   ]
  },
  {
   "cell_type": "code",
   "execution_count": 11,
   "metadata": {
    "collapsed": false
   },
   "outputs": [
    {
     "data": {
      "text/plain": [
       "Array(2, 3, 4, 5, 6, 7)"
      ]
     },
     "execution_count": 11,
     "metadata": {},
     "output_type": "execute_result"
    }
   ],
   "source": [
    "// Previous example is the same as:\n",
    "A.map(x => inc(x))"
   ]
  },
  {
   "cell_type": "code",
   "execution_count": 4,
   "metadata": {
    "collapsed": false
   },
   "outputs": [
    {
     "data": {
      "text/plain": [
       "Array(1, 4, 9, 16, 25, 36)"
      ]
     },
     "execution_count": 4,
     "metadata": {},
     "output_type": "execute_result"
    }
   ],
   "source": [
    "// Another example of anonymous function\n",
    "A.map(x => x*x)"
   ]
  },
  {
   "cell_type": "code",
   "execution_count": 8,
   "metadata": {
    "collapsed": false
   },
   "outputs": [
    {
     "data": {
      "text/plain": [
       "0"
      ]
     },
     "execution_count": 8,
     "metadata": {},
     "output_type": "execute_result"
    }
   ],
   "source": [
    "// We may use nested functions (auxiliar functions)\n",
    "// Next code is just for illustrate nested functions (functional version is better and also checks)\n",
    "def min(a: Array[Int]): Int = {\n",
    "    def minor(x: Int, y:Int) = if (x<y) x else y\n",
    "    var i = 1\n",
    "    var xmin = a(0)\n",
    "    while (i<a.size) {\n",
    "        xmin = minor(xmin, a(i))\n",
    "        i += 1\n",
    "    }\n",
    "    xmin\n",
    "}\n",
    "min(Array(1,4,5,2,0,3,7))"
   ]
  },
  {
   "cell_type": "code",
   "execution_count": null,
   "metadata": {
    "collapsed": true
   },
   "outputs": [],
   "source": []
  }
 ],
 "metadata": {
  "kernelspec": {
   "display_name": "Apache Toree - Scala",
   "language": "scala",
   "name": "apache_toree_scala"
  },
  "language_info": {
   "file_extension": ".scala",
   "name": "scala",
   "version": "2.11.8"
  }
 },
 "nbformat": 4,
 "nbformat_minor": 2
}

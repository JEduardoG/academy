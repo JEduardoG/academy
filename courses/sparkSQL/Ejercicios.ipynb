{
 "cells": [
  {
   "cell_type": "markdown",
   "metadata": {},
   "source": [
    "# SPARK CONTEXT Y SQL CONTEXT"
   ]
  },
  {
   "cell_type": "code",
   "execution_count": null,
   "metadata": {
    "collapsed": true
   },
   "outputs": [],
   "source": [
    "import pyspark\n",
    "sc = pyspark.SparkContext('local[*]')"
   ]
  },
  {
   "cell_type": "code",
   "execution_count": null,
   "metadata": {},
   "outputs": [],
   "source": [
    "sc"
   ]
  },
  {
   "cell_type": "code",
   "execution_count": null,
   "metadata": {
    "collapsed": true
   },
   "outputs": [],
   "source": [
    "sqlContext = pyspark.sql.SQLContext(sc)"
   ]
  },
  {
   "cell_type": "code",
   "execution_count": null,
   "metadata": {},
   "outputs": [],
   "source": [
    "sqlContext"
   ]
  },
  {
   "cell_type": "markdown",
   "metadata": {},
   "source": [
    "# CARGA DE DATASETS"
   ]
  },
  {
   "cell_type": "code",
   "execution_count": null,
   "metadata": {},
   "outputs": [],
   "source": [
    "df = sqlContext.read.option('header', 'true').option('delimiter', ',').csv('data/Base_evolucion_fondos.csv')"
   ]
  },
  {
   "cell_type": "code",
   "execution_count": null,
   "metadata": {},
   "outputs": [],
   "source": [
    "df.head()"
   ]
  },
  {
   "cell_type": "code",
   "execution_count": null,
   "metadata": {},
   "outputs": [],
   "source": [
    "df.printSchema()"
   ]
  },
  {
   "cell_type": "code",
   "execution_count": null,
   "metadata": {},
   "outputs": [],
   "source": [
    "from pyspark.sql.types import DoubleType\n",
    "fondos_ev = df.withColumn(\"fondos_201507\", df['fondos_201507'].cast(DoubleType()))\\\n",
    "    .withColumn(\"fondos_201508\", df['fondos_201508'].cast(DoubleType()))\\\n",
    "    .withColumn(\"fondos_201509\", df['fondos_201509'].cast(DoubleType()))\\\n",
    "    .withColumn(\"fondos_201510\", df['fondos_201510'].cast(DoubleType()))\\\n",
    "    .withColumn(\"fondos_201511\", df['fondos_201511'].cast(DoubleType()))\\\n",
    "    .withColumn(\"fondos_201512\", df['fondos_201512'].cast(DoubleType()))"
   ]
  },
  {
   "cell_type": "code",
   "execution_count": null,
   "metadata": {},
   "outputs": [],
   "source": [
    "fondos_ev.show()"
   ]
  },
  {
   "cell_type": "code",
   "execution_count": null,
   "metadata": {
    "collapsed": true
   },
   "outputs": [],
   "source": [
    "gestores = sqlContext.read.option('header', 'true').option('delimiter', ',').csv('data/Base_puesto_gestores.csv')"
   ]
  },
  {
   "cell_type": "code",
   "execution_count": null,
   "metadata": {},
   "outputs": [],
   "source": [
    "gestores.printSchema()"
   ]
  },
  {
   "cell_type": "code",
   "execution_count": null,
   "metadata": {},
   "outputs": [],
   "source": [
    "gestores.show(5)"
   ]
  },
  {
   "cell_type": "code",
   "execution_count": null,
   "metadata": {
    "collapsed": true
   },
   "outputs": [],
   "source": [
    "df = sqlContext.read.option('header', 'true').option('delimiter', ',').csv('data/txc_aport_extr_fondos.csv')"
   ]
  },
  {
   "cell_type": "code",
   "execution_count": null,
   "metadata": {},
   "outputs": [],
   "source": [
    "df.printSchema()"
   ]
  },
  {
   "cell_type": "code",
   "execution_count": null,
   "metadata": {},
   "outputs": [],
   "source": [
    "extr_fondos = df.withColumn(\"cod_ofictrn\", df['cod_ofictrn'].cast(DoubleType()))\\\n",
    "    .withColumn(\"imp_trans\", df['imp_trans'].cast(DoubleType()))\\\n",
    "    .withColumn(\"cod_npuesto\", df['cod_npuesto'].cast(DoubleType()))\\\n",
    "    .withColumn(\"cod_persona\", df['cod_persona'].cast(DoubleType()))\\\n",
    "    .withColumn(\"cod_medio_dv\", df['cod_medio_dv'].cast(DoubleType()))\\\n",
    "    .withColumn(\"cod_canal_dv\", df['cod_canal_dv'].cast(DoubleType()))\\\n",
    "    .withColumn(\"cod_serv_dv\", df['cod_serv_dv'].cast(DoubleType()))\\\n",
    "    .withColumn(\"cod_geve_trn\", df['cod_geve_trn'].cast(DoubleType()))\\\n",
    "    .withColumn(\"cod_eve_trn\", df['cod_eve_trn'].cast(DoubleType()))\\\n",
    "    .withColumn(\"cod_deve_trn\", df['cod_deve_trn'].cast(DoubleType()))"
   ]
  },
  {
   "cell_type": "code",
   "execution_count": null,
   "metadata": {},
   "outputs": [],
   "source": [
    "extr_fondos.show(5)"
   ]
  },
  {
   "cell_type": "markdown",
   "metadata": {},
   "source": [
    "# EJERCICIO 2.1: BORRAR VALORES NAN"
   ]
  },
  {
   "cell_type": "code",
   "execution_count": null,
   "metadata": {},
   "outputs": [],
   "source": []
  },
  {
   "cell_type": "markdown",
   "metadata": {},
   "source": [
    "# EJERCICIO 2.2: RENOMBRAR LA COLUMNA cod_user COMO COD_USUARIO"
   ]
  },
  {
   "cell_type": "code",
   "execution_count": null,
   "metadata": {},
   "outputs": [],
   "source": []
  },
  {
   "cell_type": "markdown",
   "metadata": {},
   "source": [
    "# EJERCICIO 3.1: ¿CUANTOS GESTORES TIENEN EL TIPO DE PUESTO 'AF'?"
   ]
  },
  {
   "cell_type": "code",
   "execution_count": null,
   "metadata": {},
   "outputs": [],
   "source": []
  },
  {
   "cell_type": "markdown",
   "metadata": {},
   "source": [
    "# EJERCICIO 3.2: MUESTRA LAS ULTIMAS DOS APORTACIONES DEL USUARIO UA16687"
   ]
  },
  {
   "cell_type": "code",
   "execution_count": null,
   "metadata": {},
   "outputs": [],
   "source": []
  },
  {
   "cell_type": "markdown",
   "metadata": {},
   "source": [
    "# EJERCICIO 3.3: CUENTA LOS USUARIOS CUYO COD_USUARIO COMIENZA POR 'UA'"
   ]
  },
  {
   "cell_type": "code",
   "execution_count": null,
   "metadata": {},
   "outputs": [],
   "source": []
  },
  {
   "cell_type": "markdown",
   "metadata": {},
   "source": [
    "# EJERCICIO 4: TOTAL DE GESTORES POR PUESTO"
   ]
  },
  {
   "cell_type": "code",
   "execution_count": null,
   "metadata": {
    "collapsed": true
   },
   "outputs": [],
   "source": []
  },
  {
   "cell_type": "markdown",
   "metadata": {},
   "source": [
    "# EJERCICIO 5.1: INCLUIR LA DESCRIPCION DEL PUESTO DE TRABAJO EN LA TABLA DE GESTORES (a partir del archivo tabla_puestos.csv)"
   ]
  },
  {
   "cell_type": "code",
   "execution_count": null,
   "metadata": {},
   "outputs": [],
   "source": []
  },
  {
   "cell_type": "markdown",
   "metadata": {},
   "source": [
    "# EJERCICIO 5.2: AÑADIR UNA COLUMNA CON EL TOTAL DE PERSONAS POR PUESTO "
   ]
  },
  {
   "cell_type": "code",
   "execution_count": null,
   "metadata": {
    "collapsed": true
   },
   "outputs": [],
   "source": []
  },
  {
   "cell_type": "markdown",
   "metadata": {},
   "source": [
    "# EJERCICIO 5.3: CAMBIAR EL NOMBRE DE LA COLUMNA DEL TOTAL A \"total_por_puesto\""
   ]
  },
  {
   "cell_type": "code",
   "execution_count": null,
   "metadata": {
    "collapsed": true
   },
   "outputs": [],
   "source": []
  },
  {
   "cell_type": "markdown",
   "metadata": {},
   "source": [
    "# EJERCICIO 5: Top 10 de gestores, para un conjunto del segmento global, que tengan mayor cantidad de importe en fondos para el segmento global = 41"
   ]
  },
  {
   "cell_type": "code",
   "execution_count": null,
   "metadata": {},
   "outputs": [],
   "source": []
  },
  {
   "cell_type": "markdown",
   "metadata": {},
   "source": [
    "# EJERCICIO 6: Top 10 de gestores, para un conjunto del segmento global, que tengan una mayor evolución en saldo en fondos con cod_seglobal= 41"
   ]
  },
  {
   "cell_type": "code",
   "execution_count": null,
   "metadata": {
    "collapsed": true
   },
   "outputs": [],
   "source": []
  },
  {
   "cell_type": "markdown",
   "metadata": {},
   "source": [
    "# EJERCICIO 7 : Cuales son los 3 tipos de puesto que manejan mayor cantidad de fondos en media por mes"
   ]
  },
  {
   "cell_type": "code",
   "execution_count": null,
   "metadata": {},
   "outputs": [],
   "source": [
    "\n"
   ]
  }
 ],
 "metadata": {
  "kernelspec": {
   "display_name": "Python 3",
   "language": "python",
   "name": "python3"
  },
  "language_info": {
   "codemirror_mode": {
    "name": "ipython",
    "version": 3
   },
   "file_extension": ".py",
   "mimetype": "text/x-python",
   "name": "python",
   "nbconvert_exporter": "python",
   "pygments_lexer": "ipython3",
   "version": "3.5.2"
  }
 },
 "nbformat": 4,
 "nbformat_minor": 2
}

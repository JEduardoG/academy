{
 "cells": [
  {
   "cell_type": "markdown",
   "metadata": {},
   "source": [
    "# SPARK CONTEXT Y SQL CONTEXT"
   ]
  },
  {
   "cell_type": "code",
   "execution_count": 1,
   "metadata": {},
   "outputs": [],
   "source": [
    "import pyspark\n",
    "sc = pyspark.SparkContext('local[*]')"
   ]
  },
  {
   "cell_type": "code",
   "execution_count": 2,
   "metadata": {},
   "outputs": [
    {
     "data": {
      "text/plain": [
       "<pyspark.context.SparkContext at 0x7f505ac5c0b8>"
      ]
     },
     "execution_count": 2,
     "metadata": {},
     "output_type": "execute_result"
    }
   ],
   "source": [
    "sc"
   ]
  },
  {
   "cell_type": "code",
   "execution_count": 3,
   "metadata": {
    "collapsed": true
   },
   "outputs": [],
   "source": [
    "sqlContext = pyspark.sql.SQLContext(sc)"
   ]
  },
  {
   "cell_type": "code",
   "execution_count": 4,
   "metadata": {},
   "outputs": [
    {
     "data": {
      "text/plain": [
       "<pyspark.sql.context.SQLContext at 0x7f50263eaa58>"
      ]
     },
     "execution_count": 4,
     "metadata": {},
     "output_type": "execute_result"
    }
   ],
   "source": [
    "sqlContext"
   ]
  },
  {
   "cell_type": "markdown",
   "metadata": {},
   "source": [
    "# CARGA DE DATASET"
   ]
  },
  {
   "cell_type": "code",
   "execution_count": 5,
   "metadata": {
    "collapsed": true
   },
   "outputs": [],
   "source": [
    "df_test = sqlContext.read.csv('data/factbook.csv')"
   ]
  },
  {
   "cell_type": "code",
   "execution_count": 6,
   "metadata": {},
   "outputs": [
    {
     "data": {
      "text/plain": [
       "pyspark.sql.dataframe.DataFrame"
      ]
     },
     "execution_count": 6,
     "metadata": {},
     "output_type": "execute_result"
    }
   ],
   "source": [
    "type(df_test)"
   ]
  },
  {
   "cell_type": "code",
   "execution_count": 7,
   "metadata": {},
   "outputs": [
    {
     "name": "stdout",
     "output_type": "stream",
     "text": [
      "+--------------------+\n",
      "|                 _c0|\n",
      "+--------------------+\n",
      "|Country;Area(sq k...|\n",
      "|String;double;dou...|\n",
      "|Afghanistan;64750...|\n",
      "|Akrotiri;123;;;;;...|\n",
      "|Albania;28748;15....|\n",
      "|Algeria;2381740;1...|\n",
      "|American Samoa;19...|\n",
      "|Andorra;468;9.00;...|\n",
      "|Angola;1246700;44...|\n",
      "|Anguilla;102;14.2...|\n",
      "|Antarctica;140000...|\n",
      "|Antigua and Barbu...|\n",
      "|Argentina;2766890...|\n",
      "|Armenia;29800;11....|\n",
      "|Aruba;193;11.26;;...|\n",
      "|Ashmore and Carti...|\n",
      "|Australia;7686850...|\n",
      "|Austria;83870;8.8...|\n",
      "|Azerbaijan;86600;...|\n",
      "|Bahamas The;13940...|\n",
      "+--------------------+\n",
      "only showing top 20 rows\n",
      "\n"
     ]
    }
   ],
   "source": [
    "df_test.show()"
   ]
  },
  {
   "cell_type": "code",
   "execution_count": 8,
   "metadata": {},
   "outputs": [
    {
     "name": "stdout",
     "output_type": "stream",
     "text": [
      "root\n",
      " |-- _c0: string (nullable = true)\n",
      "\n"
     ]
    }
   ],
   "source": [
    "df_test.printSchema()"
   ]
  },
  {
   "cell_type": "code",
   "execution_count": 59,
   "metadata": {},
   "outputs": [],
   "source": [
    "df_test = sqlContext.read.option('header', 'true').csv('data/factbook.csv')"
   ]
  },
  {
   "cell_type": "code",
   "execution_count": 60,
   "metadata": {},
   "outputs": [
    {
     "data": {
      "text/plain": [
       "pyspark.sql.dataframe.DataFrame"
      ]
     },
     "execution_count": 60,
     "metadata": {},
     "output_type": "execute_result"
    }
   ],
   "source": [
    "type(df_test)"
   ]
  },
  {
   "cell_type": "code",
   "execution_count": 61,
   "metadata": {},
   "outputs": [
    {
     "name": "stdout",
     "output_type": "stream",
     "text": [
      "+--------------------------------------------------------------------------------------------------------------------------------------------------------------------------------------------------------------------------------------------------------------------------------------------------------------------------------------------------------------------------------------------------------------------------------------------------------------------------------------------------------------------------------------------------------------------------------------------------------------------------------------------------------------------------------------------------------------------------------------------------------------------------------------------------------------------------------------------------------------------------------------------------------------------------------------------------------------------------------------------------------------------------------------------------------------------------------------------------------------------------------------------------------------------------------------------------+\n",
      "|Country;Area(sq km);Birth rate(births/1000 population);Current account balance;Death rate(deaths/1000 population);Debt - external;Electricity - consumption(kWh);Electricity - production(kWh);Exports;GDP;GDP - per capita;GDP - real growth rate(%);HIV/AIDS - adult prevalence rate(%);HIV/AIDS - deaths;HIV/AIDS - people living with HIV/AIDS;Highways(km);Imports;Industrial production growth rate(%);Infant mortality rate(deaths/1000 live births);Inflation rate (consumer prices)(%);Internet hosts;Internet users;Investment (gross fixed)(% of GDP);Labor force;Life expectancy at birth(years);Military expenditures - dollar figure;Military expenditures - percent of GDP(%);Natural gas - consumption(cu m);Natural gas - exports(cu m);Natural gas - imports(cu m);Natural gas - production(cu m);Natural gas - proved reserves(cu m);Oil - consumption(bbl/day);Oil - exports(bbl/day);Oil - imports(bbl/day);Oil - production(bbl/day);Oil - proved reserves(bbl);Population;Public debt(% of GDP);Railways(km);Reserves of foreign exchange & gold;Telephones - main lines in use;Telephones - mobile cellular;Total fertility rate(children born/woman);Unemployment rate(%)|\n",
      "+--------------------------------------------------------------------------------------------------------------------------------------------------------------------------------------------------------------------------------------------------------------------------------------------------------------------------------------------------------------------------------------------------------------------------------------------------------------------------------------------------------------------------------------------------------------------------------------------------------------------------------------------------------------------------------------------------------------------------------------------------------------------------------------------------------------------------------------------------------------------------------------------------------------------------------------------------------------------------------------------------------------------------------------------------------------------------------------------------------------------------------------------------------------------------------------------------+\n",
      "|                                                                                                                                                                                                                                                                                                                                                                                                                                                                                                                                                                                                                                                                                                                                                                                                                                                                                                                                                                                                                                                                                                                                                                              String;double;dou...|\n",
      "|                                                                                                                                                                                                                                                                                                                                                                                                                                                                                                                                                                                                                                                                                                                                                                                                                                                                                                                                                                                                                                                                                                                                                                              Afghanistan;64750...|\n",
      "|                                                                                                                                                                                                                                                                                                                                                                                                                                                                                                                                                                                                                                                                                                                                                                                                                                                                                                                                                                                                                                                                                                                                                                              Akrotiri;123;;;;;...|\n",
      "|                                                                                                                                                                                                                                                                                                                                                                                                                                                                                                                                                                                                                                                                                                                                                                                                                                                                                                                                                                                                                                                                                                                                                                              Albania;28748;15....|\n",
      "|                                                                                                                                                                                                                                                                                                                                                                                                                                                                                                                                                                                                                                                                                                                                                                                                                                                                                                                                                                                                                                                                                                                                                                              Algeria;2381740;1...|\n",
      "|                                                                                                                                                                                                                                                                                                                                                                                                                                                                                                                                                                                                                                                                                                                                                                                                                                                                                                                                                                                                                                                                                                                                                                              American Samoa;19...|\n",
      "|                                                                                                                                                                                                                                                                                                                                                                                                                                                                                                                                                                                                                                                                                                                                                                                                                                                                                                                                                                                                                                                                                                                                                                              Andorra;468;9.00;...|\n",
      "|                                                                                                                                                                                                                                                                                                                                                                                                                                                                                                                                                                                                                                                                                                                                                                                                                                                                                                                                                                                                                                                                                                                                                                              Angola;1246700;44...|\n",
      "|                                                                                                                                                                                                                                                                                                                                                                                                                                                                                                                                                                                                                                                                                                                                                                                                                                                                                                                                                                                                                                                                                                                                                                              Anguilla;102;14.2...|\n",
      "|                                                                                                                                                                                                                                                                                                                                                                                                                                                                                                                                                                                                                                                                                                                                                                                                                                                                                                                                                                                                                                                                                                                                                                              Antarctica;140000...|\n",
      "|                                                                                                                                                                                                                                                                                                                                                                                                                                                                                                                                                                                                                                                                                                                                                                                                                                                                                                                                                                                                                                                                                                                                                                              Antigua and Barbu...|\n",
      "|                                                                                                                                                                                                                                                                                                                                                                                                                                                                                                                                                                                                                                                                                                                                                                                                                                                                                                                                                                                                                                                                                                                                                                              Argentina;2766890...|\n",
      "|                                                                                                                                                                                                                                                                                                                                                                                                                                                                                                                                                                                                                                                                                                                                                                                                                                                                                                                                                                                                                                                                                                                                                                              Armenia;29800;11....|\n",
      "|                                                                                                                                                                                                                                                                                                                                                                                                                                                                                                                                                                                                                                                                                                                                                                                                                                                                                                                                                                                                                                                                                                                                                                              Aruba;193;11.26;;...|\n",
      "|                                                                                                                                                                                                                                                                                                                                                                                                                                                                                                                                                                                                                                                                                                                                                                                                                                                                                                                                                                                                                                                                                                                                                                              Ashmore and Carti...|\n",
      "|                                                                                                                                                                                                                                                                                                                                                                                                                                                                                                                                                                                                                                                                                                                                                                                                                                                                                                                                                                                                                                                                                                                                                                              Australia;7686850...|\n",
      "|                                                                                                                                                                                                                                                                                                                                                                                                                                                                                                                                                                                                                                                                                                                                                                                                                                                                                                                                                                                                                                                                                                                                                                              Austria;83870;8.8...|\n",
      "|                                                                                                                                                                                                                                                                                                                                                                                                                                                                                                                                                                                                                                                                                                                                                                                                                                                                                                                                                                                                                                                                                                                                                                              Azerbaijan;86600;...|\n",
      "|                                                                                                                                                                                                                                                                                                                                                                                                                                                                                                                                                                                                                                                                                                                                                                                                                                                                                                                                                                                                                                                                                                                                                                              Bahamas The;13940...|\n",
      "|                                                                                                                                                                                                                                                                                                                                                                                                                                                                                                                                                                                                                                                                                                                                                                                                                                                                                                                                                                                                                                                                                                                                                                              Bahrain;665;18.10...|\n",
      "+--------------------------------------------------------------------------------------------------------------------------------------------------------------------------------------------------------------------------------------------------------------------------------------------------------------------------------------------------------------------------------------------------------------------------------------------------------------------------------------------------------------------------------------------------------------------------------------------------------------------------------------------------------------------------------------------------------------------------------------------------------------------------------------------------------------------------------------------------------------------------------------------------------------------------------------------------------------------------------------------------------------------------------------------------------------------------------------------------------------------------------------------------------------------------------------------------+\n",
      "only showing top 20 rows\n",
      "\n"
     ]
    }
   ],
   "source": [
    "df_test.show()"
   ]
  },
  {
   "cell_type": "code",
   "execution_count": 62,
   "metadata": {},
   "outputs": [
    {
     "name": "stdout",
     "output_type": "stream",
     "text": [
      "root\n",
      " |-- Country;Area(sq km);Birth rate(births/1000 population);Current account balance;Death rate(deaths/1000 population);Debt - external;Electricity - consumption(kWh);Electricity - production(kWh);Exports;GDP;GDP - per capita;GDP - real growth rate(%);HIV/AIDS - adult prevalence rate(%);HIV/AIDS - deaths;HIV/AIDS - people living with HIV/AIDS;Highways(km);Imports;Industrial production growth rate(%);Infant mortality rate(deaths/1000 live births);Inflation rate (consumer prices)(%);Internet hosts;Internet users;Investment (gross fixed)(% of GDP);Labor force;Life expectancy at birth(years);Military expenditures - dollar figure;Military expenditures - percent of GDP(%);Natural gas - consumption(cu m);Natural gas - exports(cu m);Natural gas - imports(cu m);Natural gas - production(cu m);Natural gas - proved reserves(cu m);Oil - consumption(bbl/day);Oil - exports(bbl/day);Oil - imports(bbl/day);Oil - production(bbl/day);Oil - proved reserves(bbl);Population;Public debt(% of GDP);Railways(km);Reserves of foreign exchange & gold;Telephones - main lines in use;Telephones - mobile cellular;Total fertility rate(children born/woman);Unemployment rate(%): string (nullable = true)\n",
      "\n"
     ]
    }
   ],
   "source": [
    "df_test.printSchema()"
   ]
  },
  {
   "cell_type": "code",
   "execution_count": 53,
   "metadata": {
    "collapsed": true
   },
   "outputs": [],
   "source": [
    "df = sqlContext.read.option('header', 'true').option('delimiter', ';').csv('data/factbook.csv')"
   ]
  },
  {
   "cell_type": "code",
   "execution_count": 58,
   "metadata": {},
   "outputs": [
    {
     "data": {
      "text/plain": [
       "pyspark.sql.dataframe.DataFrame"
      ]
     },
     "execution_count": 58,
     "metadata": {},
     "output_type": "execute_result"
    }
   ],
   "source": [
    "type(df)"
   ]
  },
  {
   "cell_type": "code",
   "execution_count": 54,
   "metadata": {},
   "outputs": [
    {
     "name": "stdout",
     "output_type": "stream",
     "text": [
      "root\n",
      " |-- Country: string (nullable = true)\n",
      " |-- Area(sq km): string (nullable = true)\n",
      " |-- Birth rate(births/1000 population): string (nullable = true)\n",
      " |-- Current account balance: string (nullable = true)\n",
      " |-- Death rate(deaths/1000 population): string (nullable = true)\n",
      " |-- Debt - external: string (nullable = true)\n",
      " |-- Electricity - consumption(kWh): string (nullable = true)\n",
      " |-- Electricity - production(kWh): string (nullable = true)\n",
      " |-- Exports: string (nullable = true)\n",
      " |-- GDP: string (nullable = true)\n",
      " |-- GDP - per capita: string (nullable = true)\n",
      " |-- GDP - real growth rate(%): string (nullable = true)\n",
      " |-- HIV/AIDS - adult prevalence rate(%): string (nullable = true)\n",
      " |-- HIV/AIDS - deaths: string (nullable = true)\n",
      " |-- HIV/AIDS - people living with HIV/AIDS: string (nullable = true)\n",
      " |-- Highways(km): string (nullable = true)\n",
      " |-- Imports: string (nullable = true)\n",
      " |-- Industrial production growth rate(%): string (nullable = true)\n",
      " |-- Infant mortality rate(deaths/1000 live births): string (nullable = true)\n",
      " |-- Inflation rate (consumer prices)(%): string (nullable = true)\n",
      " |-- Internet hosts: string (nullable = true)\n",
      " |-- Internet users: string (nullable = true)\n",
      " |-- Investment (gross fixed)(% of GDP): string (nullable = true)\n",
      " |-- Labor force: string (nullable = true)\n",
      " |-- Life expectancy at birth(years): string (nullable = true)\n",
      " |-- Military expenditures - dollar figure: string (nullable = true)\n",
      " |-- Military expenditures - percent of GDP(%): string (nullable = true)\n",
      " |-- Natural gas - consumption(cu m): string (nullable = true)\n",
      " |-- Natural gas - exports(cu m): string (nullable = true)\n",
      " |-- Natural gas - imports(cu m): string (nullable = true)\n",
      " |-- Natural gas - production(cu m): string (nullable = true)\n",
      " |-- Natural gas - proved reserves(cu m): string (nullable = true)\n",
      " |-- Oil - consumption(bbl/day): string (nullable = true)\n",
      " |-- Oil - exports(bbl/day): string (nullable = true)\n",
      " |-- Oil - imports(bbl/day): string (nullable = true)\n",
      " |-- Oil - production(bbl/day): string (nullable = true)\n",
      " |-- Oil - proved reserves(bbl): string (nullable = true)\n",
      " |-- Population: string (nullable = true)\n",
      " |-- Public debt(% of GDP): string (nullable = true)\n",
      " |-- Railways(km): string (nullable = true)\n",
      " |-- Reserves of foreign exchange & gold: string (nullable = true)\n",
      " |-- Telephones - main lines in use: string (nullable = true)\n",
      " |-- Telephones - mobile cellular: string (nullable = true)\n",
      " |-- Total fertility rate(children born/woman): string (nullable = true)\n",
      " |-- Unemployment rate(%): string (nullable = true)\n",
      "\n"
     ]
    }
   ],
   "source": [
    "df.printSchema()"
   ]
  },
  {
   "cell_type": "code",
   "execution_count": 70,
   "metadata": {},
   "outputs": [],
   "source": [
    "from pyspark.sql.types import DoubleType\n",
    "df_test = df.withColumn(\"Area\", df['Area(sq km)'].cast(DoubleType()))\\\n",
    "    .withColumn(\"Birth rate\", df['Birth rate(births/1000 population)'].cast(DoubleType()))\\\n",
    "    .withColumn(\"Current account balance\", df['Current account balance'].cast(DoubleType()))\\\n",
    "    .withColumn(\"Death rate\", df['Death rate(deaths/1000 population)'].cast(DoubleType()))\\\n",
    "    .withColumn(\"Debt\", df['Debt - external'].cast(DoubleType()))\\\n",
    "    .withColumn(\"Electricity - consumption\", df['Electricity - consumption(kWh)'].cast(DoubleType()))\\\n",
    "    .withColumn(\"Electricity - production\", df['Electricity - production(kWh)'].cast(DoubleType()))\\\n",
    "    .withColumn(\"Exports\", df['Exports'].cast(DoubleType()))\\\n",
    "    .withColumn(\"GDP\", df['GDP'].cast(DoubleType()))\\\n",
    "    .withColumn(\"GDP - per capita\", df['GDP - per capita'].cast(DoubleType()))\\\n",
    "    .withColumn(\"GDP - real growth rate\", df['GDP - real growth rate(%)'].cast(DoubleType()))\\\n",
    "    .withColumn(\"HIV/AIDS - adult prevalence rate\", df['HIV/AIDS - adult prevalence rate(%)'].cast(DoubleType()))\\\n",
    "    .withColumn(\"HIV/AIDS - deaths\", df['HIV/AIDS - deaths'].cast(DoubleType()))\\\n",
    "    .withColumn(\"HIV/AIDS - people living with HIV/AIDS\", df['HIV/AIDS - people living with HIV/AIDS'].cast(DoubleType()))\\\n",
    "    .withColumn(\"Highways(km)\", df['Highways(km)'].cast(DoubleType()))\\\n",
    "    .withColumn(\"Imports\", df['Imports'].cast(DoubleType()))\\\n",
    "    .withColumn(\"Industrial production growth rate\", df['Industrial production growth rate(%)'].cast(DoubleType()))\\\n",
    "    .withColumn(\"Infant mortality rate\", df['Infant mortality rate(deaths/1000 live births)'].cast(DoubleType()))\\\n",
    "    .withColumn(\"Inflation rate \", df['Inflation rate (consumer prices)(%)'].cast(DoubleType()))\\\n",
    "    .withColumn(\"Internet hosts\", df['Internet hosts'].cast(DoubleType()))\\\n",
    "    .withColumn(\"Internet users\", df['Internet users'].cast(DoubleType()))\\\n",
    "    .withColumn(\"Investment (gross fixed)\", df['Investment (gross fixed)(% of GDP)'].cast(DoubleType()))\\\n",
    "    .withColumn(\"Labor force\", df['Labor force'].cast(DoubleType()))\\\n",
    "    .withColumn(\"Life expectancy at birth\", df['Life expectancy at birth(years)'].cast(DoubleType()))\\\n",
    "    .withColumn(\"Military expenditures - dollar figure\", df['Military expenditures - dollar figure'].cast(DoubleType()))\\\n",
    "    .withColumn(\"Military expenditures - percent of GDP\", df['Military expenditures - percent of GDP(%)'].cast(DoubleType()))\\\n",
    "    .withColumn(\"Natural gas - consumption\", df['Natural gas - consumption(cu m)'].cast(DoubleType()))\\\n",
    "    .withColumn(\"Natural gas - exports\", df['Natural gas - exports(cu m)'].cast(DoubleType()))\\\n",
    "    .withColumn(\"Natural gas - imports\", df['Natural gas - imports(cu m)'].cast(DoubleType()))\\\n",
    "    .withColumn(\"Natural gas - production\", df['Natural gas - production(cu m)'].cast(DoubleType()))\\\n",
    "    .withColumn(\"Natural gas - proved reserves\", df['Natural gas - proved reserves(cu m)'].cast(DoubleType()))\\\n",
    "    .withColumn(\"Oil - consumption\", df['Oil - consumption(bbl/day)'].cast(DoubleType()))\\\n",
    "    .withColumn(\"Oil - exports\", df['Oil - exports(bbl/day)'].cast(DoubleType()))\\\n",
    "    .withColumn(\"Oil - imports\", df['Oil - imports(bbl/day)'].cast(DoubleType()))\\\n",
    "    .withColumn(\"Oil - production\", df['Oil - production(bbl/day)'].cast(DoubleType()))\\\n",
    "    .withColumn(\"Oil - proved reserves\", df['Oil - proved reserves(bbl)'].cast(DoubleType()))\\\n",
    "    .withColumn(\"Population\", df['Population'].cast(DoubleType()))\\\n",
    "    .withColumn(\"Public debt\", df['Public debt(% of GDP)'].cast(DoubleType()))\\\n",
    "    .withColumn(\"Railways\", df['Railways(km)'].cast(DoubleType()))\\\n",
    "    .withColumn(\"Reserves\", df['Reserves of foreign exchange & gold'].cast(DoubleType()))\\\n",
    "    .withColumn(\"Telephones - main lines in use\", df['Telephones - main lines in use'].cast(DoubleType()))\\\n",
    "    .withColumn(\"Telephones - mobile cellular\", df['Telephones - mobile cellular'].cast(DoubleType()))\\\n",
    "    .withColumn(\"Total fertility rate\", df['Total fertility rate(children born/woman)'].cast(DoubleType()))\\\n",
    "    .withColumn(\"Unemployment rate\", df['Unemployment rate(%)'].cast(DoubleType()))\\\n",
    "    .drop('Area(sq km)')\\\n",
    "    .drop('Birth rate(births/1000 population)')\\\n",
    "    .drop('Current account balance')\\\n",
    "    .drop('Death rate(deaths/1000 population)')\\\n",
    "    .drop('Debt - external')\\\n",
    "    .drop('Electricity - consumption(kWh)')\\\n",
    "    .drop('Electricity - production(kWh)')\\\n",
    "    .drop('GDP - real growth rate(%)')\\\n",
    "    .drop('HIV/AIDS - adult prevalence rate(%)')\\\n",
    "    .drop('Industrial production growth rate(%)')\\\n",
    "    .drop('Infant mortality rate(deaths/1000 live births)')\\\n",
    "    .drop('Inflation rate (consumer prices)(%)')\\\n",
    "    .drop('Investment (gross fixed)(% of GDP)')\\\n",
    "    .drop('Life expectancy at birth(years)')\\\n",
    "    .drop('Military expenditures - percent of GDP(%)')\\\n",
    "    .drop('Natural gas - consumption(cu m)')\\\n",
    "    .drop('Natural gas - exports(cu m)')\\\n",
    "    .drop('Natural gas - imports(cu m)')\\\n",
    "    .drop('Natural gas - production(cu m)')\\\n",
    "    .drop('Natural gas - proved reserves(cu m)')\\\n",
    "    .drop('Oil - consumption(bbl/day)')\\\n",
    "    .drop('Oil - exports(bbl/day)')\\\n",
    "    .drop('Oil - imports(bbl/day)')\\\n",
    "    .drop('Oil - production(bbl/day)')\\\n",
    "    .drop('Oil - proved reserves(bbl)')\\\n",
    "    .drop('Public debt(% of GDP)')\\\n",
    "    .drop('Railways(km)')\\\n",
    "    .drop('Reserves of foreign exchange & gold')\\\n",
    "    .drop('Total fertility rate(children born/woman)')\\\n",
    "    .drop('Unemployment rate(%)')\n"
   ]
  },
  {
   "cell_type": "code",
   "execution_count": 71,
   "metadata": {},
   "outputs": [
    {
     "name": "stdout",
     "output_type": "stream",
     "text": [
      "root\n",
      " |-- Country: string (nullable = true)\n",
      " |-- Exports: double (nullable = true)\n",
      " |-- GDP: double (nullable = true)\n",
      " |-- GDP - per capita: double (nullable = true)\n",
      " |-- HIV/AIDS - deaths: double (nullable = true)\n",
      " |-- HIV/AIDS - people living with HIV/AIDS: double (nullable = true)\n",
      " |-- Highways(km): double (nullable = true)\n",
      " |-- Imports: double (nullable = true)\n",
      " |-- Internet hosts: double (nullable = true)\n",
      " |-- Internet users: double (nullable = true)\n",
      " |-- Labor force: double (nullable = true)\n",
      " |-- Military expenditures - dollar figure: double (nullable = true)\n",
      " |-- Population: double (nullable = true)\n",
      " |-- Telephones - main lines in use: double (nullable = true)\n",
      " |-- Telephones - mobile cellular: double (nullable = true)\n",
      " |-- Area: double (nullable = true)\n",
      " |-- Birth rate: double (nullable = true)\n",
      " |-- Death rate: double (nullable = true)\n",
      " |-- Debt: double (nullable = true)\n",
      " |-- Electricity - consumption: double (nullable = true)\n",
      " |-- Electricity - production: double (nullable = true)\n",
      " |-- GDP - real growth rate: double (nullable = true)\n",
      " |-- HIV/AIDS - adult prevalence rate: double (nullable = true)\n",
      " |-- Industrial production growth rate: double (nullable = true)\n",
      " |-- Infant mortality rate: double (nullable = true)\n",
      " |-- Inflation rate : double (nullable = true)\n",
      " |-- Investment (gross fixed): double (nullable = true)\n",
      " |-- Life expectancy at birth: double (nullable = true)\n",
      " |-- Military expenditures - percent of GDP: double (nullable = true)\n",
      " |-- Natural gas - consumption: double (nullable = true)\n",
      " |-- Natural gas - exports: double (nullable = true)\n",
      " |-- Natural gas - imports: double (nullable = true)\n",
      " |-- Natural gas - production: double (nullable = true)\n",
      " |-- Natural gas - proved reserves: double (nullable = true)\n",
      " |-- Oil - consumption: double (nullable = true)\n",
      " |-- Oil - exports: double (nullable = true)\n",
      " |-- Oil - imports: double (nullable = true)\n",
      " |-- Oil - production: double (nullable = true)\n",
      " |-- Oil - proved reserves: double (nullable = true)\n",
      " |-- Public debt: double (nullable = true)\n",
      " |-- Railways: double (nullable = true)\n",
      " |-- Reserves: double (nullable = true)\n",
      " |-- Total fertility rate: double (nullable = true)\n",
      " |-- Unemployment rate: double (nullable = true)\n",
      "\n"
     ]
    }
   ],
   "source": [
    "df_test.printSchema()"
   ]
  },
  {
   "cell_type": "code",
   "execution_count": 72,
   "metadata": {},
   "outputs": [
    {
     "data": {
      "text/plain": [
       "Row(Country='String', Exports=None, GDP=None, GDP - per capita=None, HIV/AIDS - deaths=None, HIV/AIDS - people living with HIV/AIDS=None, Highways(km)=None, Imports=None, Internet hosts=None, Internet users=None, Labor force=None, Military expenditures - dollar figure=None, Population=None, Telephones - main lines in use=None, Telephones - mobile cellular=None, Area=None, Birth rate=None, Death rate=None, Debt=None, Electricity - consumption=None, Electricity - production=None, GDP - real growth rate=None, HIV/AIDS - adult prevalence rate=None, Industrial production growth rate=None, Infant mortality rate=None, Inflation rate =None, Investment (gross fixed)=None, Life expectancy at birth=None, Military expenditures - percent of GDP=None, Natural gas - consumption=None, Natural gas - exports=None, Natural gas - imports=None, Natural gas - production=None, Natural gas - proved reserves=None, Oil - consumption=None, Oil - exports=None, Oil - imports=None, Oil - production=None, Oil - proved reserves=None, Public debt=None, Railways=None, Reserves=None, Total fertility rate=None, Unemployment rate=None)"
      ]
     },
     "execution_count": 72,
     "metadata": {},
     "output_type": "execute_result"
    }
   ],
   "source": [
    "df_test.head()"
   ]
  },
  {
   "cell_type": "code",
   "execution_count": 73,
   "metadata": {},
   "outputs": [
    {
     "data": {
      "text/plain": [
       "[('Country', 'string'),\n",
       " ('Exports', 'double'),\n",
       " ('GDP', 'double'),\n",
       " ('GDP - per capita', 'double'),\n",
       " ('HIV/AIDS - deaths', 'double'),\n",
       " ('HIV/AIDS - people living with HIV/AIDS', 'double'),\n",
       " ('Highways(km)', 'double'),\n",
       " ('Imports', 'double'),\n",
       " ('Internet hosts', 'double'),\n",
       " ('Internet users', 'double'),\n",
       " ('Labor force', 'double'),\n",
       " ('Military expenditures - dollar figure', 'double'),\n",
       " ('Population', 'double'),\n",
       " ('Telephones - main lines in use', 'double'),\n",
       " ('Telephones - mobile cellular', 'double'),\n",
       " ('Area', 'double'),\n",
       " ('Birth rate', 'double'),\n",
       " ('Death rate', 'double'),\n",
       " ('Debt', 'double'),\n",
       " ('Electricity - consumption', 'double'),\n",
       " ('Electricity - production', 'double'),\n",
       " ('GDP - real growth rate', 'double'),\n",
       " ('HIV/AIDS - adult prevalence rate', 'double'),\n",
       " ('Industrial production growth rate', 'double'),\n",
       " ('Infant mortality rate', 'double'),\n",
       " ('Inflation rate ', 'double'),\n",
       " ('Investment (gross fixed)', 'double'),\n",
       " ('Life expectancy at birth', 'double'),\n",
       " ('Military expenditures - percent of GDP', 'double'),\n",
       " ('Natural gas - consumption', 'double'),\n",
       " ('Natural gas - exports', 'double'),\n",
       " ('Natural gas - imports', 'double'),\n",
       " ('Natural gas - production', 'double'),\n",
       " ('Natural gas - proved reserves', 'double'),\n",
       " ('Oil - consumption', 'double'),\n",
       " ('Oil - exports', 'double'),\n",
       " ('Oil - imports', 'double'),\n",
       " ('Oil - production', 'double'),\n",
       " ('Oil - proved reserves', 'double'),\n",
       " ('Public debt', 'double'),\n",
       " ('Railways', 'double'),\n",
       " ('Reserves', 'double'),\n",
       " ('Total fertility rate', 'double'),\n",
       " ('Unemployment rate', 'double')]"
      ]
     },
     "execution_count": 73,
     "metadata": {},
     "output_type": "execute_result"
    }
   ],
   "source": [
    "df_test.dtypes"
   ]
  },
  {
   "cell_type": "markdown",
   "metadata": {},
   "source": [
    "# SQL INSTRUCTIONS"
   ]
  },
  {
   "cell_type": "code",
   "execution_count": 75,
   "metadata": {
    "collapsed": true
   },
   "outputs": [],
   "source": [
    "df_test.createOrReplaceTempView('DATA')"
   ]
  },
  {
   "cell_type": "code",
   "execution_count": 76,
   "metadata": {},
   "outputs": [],
   "source": [
    "df_paises = sqlContext.sql('SELECT * FROM DATA')"
   ]
  },
  {
   "cell_type": "code",
   "execution_count": 79,
   "metadata": {},
   "outputs": [
    {
     "name": "stdout",
     "output_type": "stream",
     "text": [
      "+--------+\n",
      "|count(1)|\n",
      "+--------+\n",
      "|     264|\n",
      "+--------+\n",
      "\n"
     ]
    }
   ],
   "source": [
    "sqlContext.sql('SELECT COUNT(*) FROM DATA').show()"
   ]
  },
  {
   "cell_type": "code",
   "execution_count": 86,
   "metadata": {},
   "outputs": [
    {
     "name": "stdout",
     "output_type": "stream",
     "text": [
      "+--------------------+\n",
      "|             Country|\n",
      "+--------------------+\n",
      "|          Bangladesh|\n",
      "|              Brazil|\n",
      "|               China|\n",
      "|Congo Democratic ...|\n",
      "|               Egypt|\n",
      "|            Ethiopia|\n",
      "|     #European Union|\n",
      "|              France|\n",
      "|             Germany|\n",
      "|               India|\n",
      "|           Indonesia|\n",
      "|                Iran|\n",
      "|               Italy|\n",
      "|               Japan|\n",
      "|              Mexico|\n",
      "|             Nigeria|\n",
      "|            Pakistan|\n",
      "|         Philippines|\n",
      "|              Russia|\n",
      "|            Thailand|\n",
      "+--------------------+\n",
      "only showing top 20 rows\n",
      "\n"
     ]
    }
   ],
   "source": [
    "sqlContext.sql('SELECT Country FROM DATA WHERE Population > 50000000').show()"
   ]
  },
  {
   "cell_type": "code",
   "execution_count": 92,
   "metadata": {},
   "outputs": [
    {
     "name": "stdout",
     "output_type": "stream",
     "text": [
      "+-------+-----------------+\n",
      "|summary|             Area|\n",
      "+-------+-----------------+\n",
      "|  count|              263|\n",
      "|   mean|584987.4866920152|\n",
      "| stddev|1881415.546777828|\n",
      "|    min|              0.0|\n",
      "|    max|        1.70752E7|\n",
      "+-------+-----------------+\n",
      "\n"
     ]
    }
   ],
   "source": [
    "df_paises.describe('Area').show()"
   ]
  },
  {
   "cell_type": "code",
   "execution_count": 95,
   "metadata": {},
   "outputs": [
    {
     "name": "stdout",
     "output_type": "stream",
     "text": [
      "+-----------------+\n",
      "|        avg(Area)|\n",
      "+-----------------+\n",
      "|584987.4866920152|\n",
      "+-----------------+\n",
      "\n"
     ]
    }
   ],
   "source": [
    "sqlContext.sql('SELECT MEAN(Area) FROM DATA').show()"
   ]
  },
  {
   "cell_type": "code",
   "execution_count": 99,
   "metadata": {},
   "outputs": [
    {
     "name": "stdout",
     "output_type": "stream",
     "text": [
      "+--------------------+-------------+\n",
      "|             Country|   Population|\n",
      "+--------------------+-------------+\n",
      "|              Brazil| 1.86112794E8|\n",
      "|               China|1.306313812E9|\n",
      "|Congo Democratic ...|  6.0085804E7|\n",
      "|               Egypt|  7.7505756E7|\n",
      "|            Ethiopia|  7.3053286E7|\n",
      "|     #European Union| 4.57030418E8|\n",
      "|               India|1.080264388E9|\n",
      "|           Indonesia| 2.41973879E8|\n",
      "|                Iran|   6.801786E7|\n",
      "|              Mexico| 1.06202903E8|\n",
      "|             Nigeria| 1.28771988E8|\n",
      "|            Pakistan| 1.62419946E8|\n",
      "|              Russia| 1.43420309E8|\n",
      "|              Turkey|  6.9660559E7|\n",
      "|       United States| 2.95734134E8|\n",
      "+--------------------+-------------+\n",
      "\n"
     ]
    }
   ],
   "source": [
    "sqlContext.sql('SELECT Country, Population FROM DATA WHERE Population > 50000000 AND Area > 584987').show()"
   ]
  },
  {
   "cell_type": "code",
   "execution_count": 102,
   "metadata": {},
   "outputs": [
    {
     "name": "stdout",
     "output_type": "stream",
     "text": [
      "+--------------------+-------------+\n",
      "|             Country|   Population|\n",
      "+--------------------+-------------+\n",
      "|              Brazil| 1.86112794E8|\n",
      "|               China|1.306313812E9|\n",
      "|Congo Democratic ...|  6.0085804E7|\n",
      "|               Egypt|  7.7505756E7|\n",
      "|            Ethiopia|  7.3053286E7|\n",
      "|     #European Union| 4.57030418E8|\n",
      "|               India|1.080264388E9|\n",
      "|           Indonesia| 2.41973879E8|\n",
      "|                Iran|   6.801786E7|\n",
      "|              Mexico| 1.06202903E8|\n",
      "|             Nigeria| 1.28771988E8|\n",
      "|            Pakistan| 1.62419946E8|\n",
      "|              Russia| 1.43420309E8|\n",
      "|              Turkey|  6.9660559E7|\n",
      "|       United States| 2.95734134E8|\n",
      "+--------------------+-------------+\n",
      "\n"
     ]
    }
   ],
   "source": [
    "df_paises.select('Country', 'Population').filter(df_paises.Population > 50000000)\\\n",
    "                                         .filter(df_paises.Area > 584987).show()"
   ]
  },
  {
   "cell_type": "code",
   "execution_count": 103,
   "metadata": {},
   "outputs": [
    {
     "data": {
      "text/plain": [
       "264"
      ]
     },
     "execution_count": 103,
     "metadata": {},
     "output_type": "execute_result"
    }
   ],
   "source": [
    "df_paises.count()"
   ]
  },
  {
   "cell_type": "code",
   "execution_count": 105,
   "metadata": {},
   "outputs": [
    {
     "name": "stdout",
     "output_type": "stream",
     "text": [
      "+---------------+\n",
      "|        Country|\n",
      "+---------------+\n",
      "|          China|\n",
      "|          India|\n",
      "|#European Union|\n",
      "|  United States|\n",
      "|      Indonesia|\n",
      "|         Brazil|\n",
      "|       Pakistan|\n",
      "|     Bangladesh|\n",
      "|         Russia|\n",
      "|        Nigeria|\n",
      "|          Japan|\n",
      "|         Mexico|\n",
      "|    Philippines|\n",
      "|        Vietnam|\n",
      "|        Germany|\n",
      "|          Egypt|\n",
      "|       Ethiopia|\n",
      "|         Turkey|\n",
      "|           Iran|\n",
      "|       Thailand|\n",
      "+---------------+\n",
      "only showing top 20 rows\n",
      "\n"
     ]
    }
   ],
   "source": [
    "sqlContext.sql('SELECT Country FROM DATA ORDER BY Population DESC').show()"
   ]
  },
  {
   "cell_type": "code",
   "execution_count": 110,
   "metadata": {},
   "outputs": [
    {
     "name": "stdout",
     "output_type": "stream",
     "text": [
      "+---------------+\n",
      "|        Country|\n",
      "+---------------+\n",
      "|          China|\n",
      "|          India|\n",
      "|#European Union|\n",
      "|  United States|\n",
      "|      Indonesia|\n",
      "|         Brazil|\n",
      "|       Pakistan|\n",
      "|     Bangladesh|\n",
      "|         Russia|\n",
      "|        Nigeria|\n",
      "|          Japan|\n",
      "|         Mexico|\n",
      "|    Philippines|\n",
      "|        Vietnam|\n",
      "|        Germany|\n",
      "|          Egypt|\n",
      "|       Ethiopia|\n",
      "|         Turkey|\n",
      "|           Iran|\n",
      "|       Thailand|\n",
      "+---------------+\n",
      "only showing top 20 rows\n",
      "\n"
     ]
    }
   ],
   "source": [
    "df_paises.select('Country').orderBy(df_paises.Population, ascending=False).show()"
   ]
  },
  {
   "cell_type": "code",
   "execution_count": 115,
   "metadata": {},
   "outputs": [
    {
     "data": {
      "text/plain": [
       "True"
      ]
     },
     "execution_count": 115,
     "metadata": {},
     "output_type": "execute_result"
    }
   ],
   "source": [
    "df = createDataFrame.sql"
   ]
  },
  {
   "cell_type": "code",
   "execution_count": 118,
   "metadata": {
    "collapsed": true
   },
   "outputs": [],
   "source": [
    "df_countries = sqlContext.read.option('header', 'true').option('delimiter', ';').csv('data/countries.csv')"
   ]
  },
  {
   "cell_type": "code",
   "execution_count": 119,
   "metadata": {},
   "outputs": [
    {
     "name": "stdout",
     "output_type": "stream",
     "text": [
      "root\n",
      " |-- Country: string (nullable = true)\n",
      " |-- Continent: string (nullable = true)\n",
      "\n"
     ]
    }
   ],
   "source": [
    "df_countries.printSchema()"
   ]
  },
  {
   "cell_type": "code",
   "execution_count": 120,
   "metadata": {
    "collapsed": true
   },
   "outputs": [],
   "source": [
    "df_countries.createOrReplaceTempView('CONTINENTES')"
   ]
  },
  {
   "cell_type": "code",
   "execution_count": 147,
   "metadata": {},
   "outputs": [],
   "source": [
    "resultado = sqlContext.sql('SELECT * FROM DATA LEFT JOIN CONTINENTES ON DATA.Country=CONTINENTES.Country')"
   ]
  },
  {
   "cell_type": "code",
   "execution_count": 148,
   "metadata": {
    "collapsed": true
   },
   "outputs": [],
   "source": [
    "resultado.createOrReplaceTempView('RESULT')"
   ]
  },
  {
   "cell_type": "code",
   "execution_count": 153,
   "metadata": {},
   "outputs": [
    {
     "name": "stdout",
     "output_type": "stream",
     "text": [
      "+---------+--------+----------------+-----------------+--------------------------------------+------------+--------+--------------+--------------+-----------+-------------------------------------+-----------+------------------------------+----------------------------+---------+----------+----------+---------+-------------------------+------------------------+----------------------+--------------------------------+---------------------------------+---------------------+---------------+------------------------+------------------------+--------------------------------------+-------------------------+---------------------+---------------------+------------------------+-----------------------------+-----------------+-------------+-------------+----------------+---------------------+-----------+--------+--------+--------------------+-----------------+---------+\n",
      "|  Exports|     GDP|GDP - per capita|HIV/AIDS - deaths|HIV/AIDS - people living with HIV/AIDS|Highways(km)| Imports|Internet hosts|Internet users|Labor force|Military expenditures - dollar figure| Population|Telephones - main lines in use|Telephones - mobile cellular|     Area|Birth rate|Death rate|     Debt|Electricity - consumption|Electricity - production|GDP - real growth rate|HIV/AIDS - adult prevalence rate|Industrial production growth rate|Infant mortality rate|Inflation rate |Investment (gross fixed)|Life expectancy at birth|Military expenditures - percent of GDP|Natural gas - consumption|Natural gas - exports|Natural gas - imports|Natural gas - production|Natural gas - proved reserves|Oil - consumption|Oil - exports|Oil - imports|Oil - production|Oil - proved reserves|Public debt|Railways|Reserves|Total fertility rate|Unemployment rate|Continent|\n",
      "+---------+--------+----------------+-----------------+--------------------------------------+------------+--------+--------------+--------------+-----------+-------------------------------------+-----------+------------------------------+----------------------------+---------+----------+----------+---------+-------------------------+------------------------+----------------------+--------------------------------+---------------------------------+---------------------+---------------+------------------------+------------------------+--------------------------------------+-------------------------+---------------------+---------------------+------------------------+-----------------------------+-----------------+-------------+-------------+----------------+---------------------+-----------+--------+--------+--------------------+-----------------+---------+\n",
      "|     null|    null|            null|             null|                                  null|        null|    null|          null|          null|       null|                                 null|       null|                          null|                        null|     null|      null|      null|     null|                     null|                    null|                  null|                            null|                             null|                 null|           null|                    null|                    null|                                  null|                     null|                 null|                 null|                    null|                         null|             null|         null|         null|            null|                 null|       null|    null|    null|                null|             null|   String|\n",
      "|   4.46E8| 2.15E10|           800.0|             null|                                  null|     21000.0| 3.759E9|          null|        1000.0|     1.18E7|                              1.884E8|2.9928987E7|                       33100.0|                     15000.0| 647500.0|     47.02|     20.75|    8.0E9|                  6.522E8|                   5.4E8|                   7.5|                            0.01|                             null|               163.07|           10.3|                    null|                    42.9|                                   2.6|                    2.2E8|                  0.0|                  0.0|                   2.2E8|                     4.998E10|           3500.0|         null|         null|             0.0|                  0.0|       null|    null|    null|                6.75|             null|       AS|\n",
      "|     null|    null|            null|             null|                                  null|        null|    null|          null|          null|       null|                                 null|       null|                          null|                        null|    123.0|      null|      null|     null|                     null|                    null|                  null|                            null|                             null|                 null|           null|                    null|                    null|                                  null|                     null|                 null|                 null|                    null|                         null|             null|         null|         null|            null|                 null|       null|    null|    null|                null|             null|       EU|\n",
      "|  5.524E8|1.746E10|          4900.0|             null|                                  null|     18000.0| 2.076E9|         455.0|       30000.0|  1090000.0|                               5.65E7|  3563112.0|                      255000.0|                   1100000.0|  28748.0|     15.08|      5.12|   1.41E9|                   6.76E9|                  5.68E9|                   5.6|                            null|                              3.1|                21.52|            3.2|                    18.4|                   77.24|                                  1.49|                    3.0E7|                  0.0|                  0.0|                   3.0E7|                      3.316E9|           7500.0|          0.0|       5500.0|          2000.0|              1.855E8|       null|   447.0| 1.206E9|                2.04|             14.8|       EU|\n",
      "| 3.216E10|2.123E11|          6600.0|            500.0|                                9100.0|    104000.0|1.525E10|         897.0|      500000.0|  9910000.0|                               2.48E9|3.2531853E7|                     2199600.0|                   1447310.0|2381740.0|     17.13|       4.6|  2.19E10|                 2.361E10|                2.576E10|                   6.1|                             0.1|                              6.0|                 31.0|            3.1|                    26.2|                    73.0|                                   3.2|                 2.232E10|             5.798E10|                  0.0|                 8.03E10|                     4.739E12|         209000.0|         null|         null|       1200000.0|             1.187E10|       37.4|  3973.0|4.355E10|                1.92|             25.4|       AF|\n",
      "|    3.0E7|   5.0E8|          8000.0|             null|                                  null|       185.0|  1.23E8|          null|          null|    14000.0|                                 null|    57881.0|                       15000.0|                      2377.0|    199.0|     23.13|      3.33|     null|                  1.209E8|                   1.3E8|                  null|                            null|                             null|                 9.27|           null|                    null|                   75.84|                                  null|                     null|                 null|                 null|                    null|                         null|           3800.0|         null|         null|             0.0|                 null|       null|    null|    null|                3.25|              6.0|       OC|\n",
      "|    5.8E7|   1.9E9|         26800.0|             null|                                  null|       269.0| 1.077E9|        4144.0|       24500.0|    33000.0|                                 null|    70549.0|                       35000.0|                     23500.0|    468.0|       9.0|      6.07|     null|                     null|                    null|                   2.0|                            null|                             null|                 4.05|            4.3|                    null|                   83.51|                                  null|                     null|                 null|                 null|                    null|                         null|             null|         null|         null|            null|                 null|       null|    null|    null|                1.29|              0.0|       EU|\n",
      "| 1.276E10|2.317E10|          2100.0|          21000.0|                              240000.0|     51429.0| 4.896E9|          17.0|       41000.0|  5410000.0|                             1.8358E8|1.1190786E7|                       96300.0|                    130000.0|1246700.0|     44.64|      25.9| 1.045E10|                  1.587E9|                 1.707E9|                  11.7|                             3.9|                              1.0|               191.19|           43.8|                    34.5|                   36.61|                                  10.6|                    5.3E8|                  0.0|                  0.0|                   5.3E8|                     7.957E10|          31000.0|         null|         null|        980000.0|             2.288E10|       null|  2761.0|   8.0E8|                6.27|             null|       AF|\n",
      "|2600000.0|  1.12E8|          7500.0|             null|                                  null|       105.0|  8.09E7|          null|        3000.0|     6049.0|                                 null|    13254.0|                        6200.0|                      1800.0|    102.0|     14.26|      5.43|8800000.0|                   4.26E7|                    null|                   2.8|                            null|                              3.1|                21.03|            2.3|                    null|                   77.11|                                  null|                     null|                 null|                 null|                    null|                         null|             null|         null|         null|            null|                 null|       null|    null|    null|                1.73|              8.0|       AM|\n",
      "|     null|    null|            null|             null|                                  null|        null|    null|          null|          null|       null|                                 null|       null|                           0.0|                        null|    1.4E7|      null|      null|     null|                     null|                    null|                  null|                            null|                             null|                 null|           null|                    null|                    null|                                  null|                     null|                 null|                 null|                    null|                         null|             null|         null|         null|            null|                 null|       null|    null|    null|                null|             null|       AN|\n",
      "|   6.89E8|   7.5E8|         11000.0|             null|                                  null|       250.0|  6.92E8|        1665.0|       10000.0|    30000.0|                                 null|    68722.0|                       38000.0|                     38200.0|    443.0|     17.26|      5.44|   2.31E8|                   1.03E8|                 1.108E8|                   3.0|                            null|                              6.0|                19.46|            0.4|                    null|                    71.9|                                  null|                     null|                 null|                 null|                    null|                         null|           3600.0|         null|         null|             0.0|                 null|       null|    null|    null|                2.26|             11.0|       AM|\n",
      "| 3.378E10|4.835E11|         12400.0|           1500.0|                              130000.0|    215471.0|2.206E10|      742358.0|     4100000.0|    1.504E7|                                4.3E9|3.9537943E7|                     8009400.0|                   6500000.0|2766890.0|      16.9|      7.56| 1.577E11|                 8.165E10|                8.139E10|                   8.3|                             0.7|                             12.0|                15.18|            6.1|                    18.3|                   75.91|                                   1.3|                  3.11E10|               6.05E9|                  0.0|                3.715E10|                      7.68E11|         486000.0|         null|         null|        755000.0|                2.9E9|      118.0| 34091.0|1.947E10|                2.19|             14.8|       AM|\n",
      "|    8.5E8|1.365E10|          4600.0|            200.0|                                2600.0|      8431.0|   1.3E9|        2206.0|      150000.0|  1400000.0|                               1.35E8|  2982904.0|                      562600.0|                    114400.0|  29800.0|     11.76|      8.16|   9.05E8|                  5.797E9|                 6.492E9|                   9.0|                             0.1|                             15.0|                23.28|            3.5|                    19.8|                   71.55|                                   6.5|                    1.4E9|                  0.0|                1.4E9|                     0.0|                         null|           5700.0|         null|         null|             0.0|                 null|       null|   845.0|  5.55E8|                1.32|             30.0|       AS|\n",
      "|   1.28E8|  1.94E9|         28000.0|             null|                                  null|       800.0|  8.41E8|         923.0|       24000.0|    41500.0|                                 null|    71566.0|                       37100.0|                     53000.0|    193.0|     11.26|      6.57|   2.85E8|                  7.512E8|                 8.077E8|                  -1.5|                            null|                             null|                 5.89|            3.2|                    null|                   79.14|                                  null|                     null|                 null|                 null|                    null|                         null|           6500.0|         null|         null|             0.0|                 null|       null|    null|    null|                1.79|              0.6|       AM|\n",
      "|     null|    null|            null|             null|                                  null|        null|    null|          null|          null|       null|                                 null|       null|                          null|                        null|      5.0|      null|      null|     null|                     null|                    null|                  null|                            null|                             null|                 null|           null|                    null|                    null|                                  null|                     null|                 null|                 null|                    null|                         null|             null|         null|         null|            null|                 null|       null|    null|    null|                null|             null|       OC|\n",
      "| 8.689E10|6.117E11|         30700.0|             null|                               14000.0|    811603.0| 9.81E10|     2847763.0|     9472000.0|    1.035E7|                              1.665E9|2.0090437E7|                      1.0815E7|                    1.4347E7|7686850.0|     12.26|      7.44| 3.087E11|                 1.956E11|                2.103E11|                   3.5|                             0.1|                              1.9|                 4.69|            2.3|                    25.3|                   80.39|                                   2.7|                 2.333E10|              9.744E9|                  0.0|                3.308E10|                     2.407E12|         796500.0|     523400.0|     530800.0|        537500.0|              3.664E9|       17.4| 43802.0|3.514E10|                1.76|              5.1|       OC|\n",
      "| 1.027E11|2.559E11|         31300.0|            100.0|                               10000.0|    200000.0|1.012E11|      387006.0|     3730000.0|  3450000.0|                              1.497E9|  8184691.0|                     3881000.0|                   7094500.0|  83870.0|      8.81|       9.7|  1.55E10|                 5.509E10|                5.849E10|                   1.9|                             0.3|                              3.3|                 4.66|            1.8|                    22.6|                   78.92|                                   0.9|                   7.81E9|               4.03E8|              6.033E9|                 1.731E9|                      2.49E10|         262400.0|      35470.0|     262000.0|         20670.0|              8.569E7|       64.2|  6021.0|1.273E10|                1.36|              4.4|       EU|\n",
      "|  3.168E9|3.001E10|          3800.0|            100.0|                                1400.0|     28030.0| 3.622E9|         586.0|      300000.0|  5090000.0|                               1.21E8|  7911974.0|                      923800.0|                    870000.0|  86600.0|      20.4|      9.86|  1.832E9|                 1.737E10|                1.755E10|                   9.8|                             0.1|                              4.0|                81.74|            4.6|                    65.1|                   63.35|                                   2.6|                   6.72E9|                  0.0|                1.0E9|                  5.72E9|                      6.23E10|         140000.0|         null|         null|        312800.0|               5.89E8|       18.9|  2957.0|  8.75E8|                2.44|              1.2|       AS|\n",
      "|   6.36E8| 5.295E9|         17700.0|            200.0|                                5600.0|      2693.0|  1.63E9|         302.0|       84000.0|   156000.0|                                 null|   301790.0|                      131700.0|                    121800.0|  13940.0|     17.87|      8.97|  3.085E8|                  1.596E9|                 1.716E9|                   3.0|                             3.0|                             null|                25.21|            1.2|                    null|                   65.54|                                  null|                     null|                 null|                 null|                    null|                         null|          23000.0|      29000.0|         null|             0.0|                 null|       null|    null|    null|                 2.2|             10.2|       AM|\n",
      "|  8.205E9|1.301E10|         19200.0|            200.0|                                 600.0|      3459.0|  5.87E9|        1334.0|      195700.0|   370000.0|                              6.289E8|   688345.0|                      185800.0|                    443100.0|    665.0|      18.1|      4.08|  6.215E9|                  6.379E9|                  6.86E9|                   5.6|                             0.2|                              2.0|                17.27|            2.1|                    12.8|                   74.23|                                   6.3|                  3.27E10|                  0.0|                  0.0|                 3.27E10|                       4.6E10|          40000.0|         null|         null|         44000.0|               1.26E8|       63.8|    null| 2.141E9|                2.63|             15.0|       AS|\n",
      "+---------+--------+----------------+-----------------+--------------------------------------+------------+--------+--------------+--------------+-----------+-------------------------------------+-----------+------------------------------+----------------------------+---------+----------+----------+---------+-------------------------+------------------------+----------------------+--------------------------------+---------------------------------+---------------------+---------------+------------------------+------------------------+--------------------------------------+-------------------------+---------------------+---------------------+------------------------+-----------------------------+-----------------+-------------+-------------+----------------+---------------------+-----------+--------+--------+--------------------+-----------------+---------+\n",
      "only showing top 20 rows\n",
      "\n"
     ]
    }
   ],
   "source": [
    "resultado.drop('Country').show()"
   ]
  },
  {
   "cell_type": "code",
   "execution_count": 146,
   "metadata": {},
   "outputs": [
    {
     "name": "stdout",
     "output_type": "stream",
     "text": [
      "+---------+-----+\n",
      "|Continent|count|\n",
      "+---------+-----+\n",
      "|       AM|   52|\n",
      "|   String|    1|\n",
      "|       AS|   50|\n",
      "|       AN|    5|\n",
      "|       OC|   37|\n",
      "|       EU|   55|\n",
      "|       AF|   64|\n",
      "+---------+-----+\n",
      "\n"
     ]
    }
   ],
   "source": [
    "df_countries.groupBy('Continent').count().show()"
   ]
  },
  {
   "cell_type": "code",
   "execution_count": 164,
   "metadata": {
    "collapsed": true
   },
   "outputs": [],
   "source": [
    "df_aux = df_paises.join(df_countries, 'Country')"
   ]
  },
  {
   "cell_type": "code",
   "execution_count": 165,
   "metadata": {},
   "outputs": [
    {
     "name": "stdout",
     "output_type": "stream",
     "text": [
      "+--------------------+---------+--------+----------------+-----------------+--------------------------------------+------------+--------+--------------+--------------+-----------+-------------------------------------+-----------+------------------------------+----------------------------+---------+----------+----------+---------+-------------------------+------------------------+----------------------+--------------------------------+---------------------------------+---------------------+---------------+------------------------+------------------------+--------------------------------------+-------------------------+---------------------+---------------------+------------------------+-----------------------------+-----------------+-------------+-------------+----------------+---------------------+-----------+--------+--------+--------------------+-----------------+---------+\n",
      "|             Country|  Exports|     GDP|GDP - per capita|HIV/AIDS - deaths|HIV/AIDS - people living with HIV/AIDS|Highways(km)| Imports|Internet hosts|Internet users|Labor force|Military expenditures - dollar figure| Population|Telephones - main lines in use|Telephones - mobile cellular|     Area|Birth rate|Death rate|     Debt|Electricity - consumption|Electricity - production|GDP - real growth rate|HIV/AIDS - adult prevalence rate|Industrial production growth rate|Infant mortality rate|Inflation rate |Investment (gross fixed)|Life expectancy at birth|Military expenditures - percent of GDP|Natural gas - consumption|Natural gas - exports|Natural gas - imports|Natural gas - production|Natural gas - proved reserves|Oil - consumption|Oil - exports|Oil - imports|Oil - production|Oil - proved reserves|Public debt|Railways|Reserves|Total fertility rate|Unemployment rate|Continent|\n",
      "+--------------------+---------+--------+----------------+-----------------+--------------------------------------+------------+--------+--------------+--------------+-----------+-------------------------------------+-----------+------------------------------+----------------------------+---------+----------+----------+---------+-------------------------+------------------------+----------------------+--------------------------------+---------------------------------+---------------------+---------------+------------------------+------------------------+--------------------------------------+-------------------------+---------------------+---------------------+------------------------+-----------------------------+-----------------+-------------+-------------+----------------+---------------------+-----------+--------+--------+--------------------+-----------------+---------+\n",
      "|              String|     null|    null|            null|             null|                                  null|        null|    null|          null|          null|       null|                                 null|       null|                          null|                        null|     null|      null|      null|     null|                     null|                    null|                  null|                            null|                             null|                 null|           null|                    null|                    null|                                  null|                     null|                 null|                 null|                    null|                         null|             null|         null|         null|            null|                 null|       null|    null|    null|                null|             null|   String|\n",
      "|         Afghanistan|   4.46E8| 2.15E10|           800.0|             null|                                  null|     21000.0| 3.759E9|          null|        1000.0|     1.18E7|                              1.884E8|2.9928987E7|                       33100.0|                     15000.0| 647500.0|     47.02|     20.75|    8.0E9|                  6.522E8|                   5.4E8|                   7.5|                            0.01|                             null|               163.07|           10.3|                    null|                    42.9|                                   2.6|                    2.2E8|                  0.0|                  0.0|                   2.2E8|                     4.998E10|           3500.0|         null|         null|             0.0|                  0.0|       null|    null|    null|                6.75|             null|       AS|\n",
      "|            Akrotiri|     null|    null|            null|             null|                                  null|        null|    null|          null|          null|       null|                                 null|       null|                          null|                        null|    123.0|      null|      null|     null|                     null|                    null|                  null|                            null|                             null|                 null|           null|                    null|                    null|                                  null|                     null|                 null|                 null|                    null|                         null|             null|         null|         null|            null|                 null|       null|    null|    null|                null|             null|       EU|\n",
      "|             Albania|  5.524E8|1.746E10|          4900.0|             null|                                  null|     18000.0| 2.076E9|         455.0|       30000.0|  1090000.0|                               5.65E7|  3563112.0|                      255000.0|                   1100000.0|  28748.0|     15.08|      5.12|   1.41E9|                   6.76E9|                  5.68E9|                   5.6|                            null|                              3.1|                21.52|            3.2|                    18.4|                   77.24|                                  1.49|                    3.0E7|                  0.0|                  0.0|                   3.0E7|                      3.316E9|           7500.0|          0.0|       5500.0|          2000.0|              1.855E8|       null|   447.0| 1.206E9|                2.04|             14.8|       EU|\n",
      "|             Algeria| 3.216E10|2.123E11|          6600.0|            500.0|                                9100.0|    104000.0|1.525E10|         897.0|      500000.0|  9910000.0|                               2.48E9|3.2531853E7|                     2199600.0|                   1447310.0|2381740.0|     17.13|       4.6|  2.19E10|                 2.361E10|                2.576E10|                   6.1|                             0.1|                              6.0|                 31.0|            3.1|                    26.2|                    73.0|                                   3.2|                 2.232E10|             5.798E10|                  0.0|                 8.03E10|                     4.739E12|         209000.0|         null|         null|       1200000.0|             1.187E10|       37.4|  3973.0|4.355E10|                1.92|             25.4|       AF|\n",
      "|      American Samoa|    3.0E7|   5.0E8|          8000.0|             null|                                  null|       185.0|  1.23E8|          null|          null|    14000.0|                                 null|    57881.0|                       15000.0|                      2377.0|    199.0|     23.13|      3.33|     null|                  1.209E8|                   1.3E8|                  null|                            null|                             null|                 9.27|           null|                    null|                   75.84|                                  null|                     null|                 null|                 null|                    null|                         null|           3800.0|         null|         null|             0.0|                 null|       null|    null|    null|                3.25|              6.0|       OC|\n",
      "|             Andorra|    5.8E7|   1.9E9|         26800.0|             null|                                  null|       269.0| 1.077E9|        4144.0|       24500.0|    33000.0|                                 null|    70549.0|                       35000.0|                     23500.0|    468.0|       9.0|      6.07|     null|                     null|                    null|                   2.0|                            null|                             null|                 4.05|            4.3|                    null|                   83.51|                                  null|                     null|                 null|                 null|                    null|                         null|             null|         null|         null|            null|                 null|       null|    null|    null|                1.29|              0.0|       EU|\n",
      "|              Angola| 1.276E10|2.317E10|          2100.0|          21000.0|                              240000.0|     51429.0| 4.896E9|          17.0|       41000.0|  5410000.0|                             1.8358E8|1.1190786E7|                       96300.0|                    130000.0|1246700.0|     44.64|      25.9| 1.045E10|                  1.587E9|                 1.707E9|                  11.7|                             3.9|                              1.0|               191.19|           43.8|                    34.5|                   36.61|                                  10.6|                    5.3E8|                  0.0|                  0.0|                   5.3E8|                     7.957E10|          31000.0|         null|         null|        980000.0|             2.288E10|       null|  2761.0|   8.0E8|                6.27|             null|       AF|\n",
      "|            Anguilla|2600000.0|  1.12E8|          7500.0|             null|                                  null|       105.0|  8.09E7|          null|        3000.0|     6049.0|                                 null|    13254.0|                        6200.0|                      1800.0|    102.0|     14.26|      5.43|8800000.0|                   4.26E7|                    null|                   2.8|                            null|                              3.1|                21.03|            2.3|                    null|                   77.11|                                  null|                     null|                 null|                 null|                    null|                         null|             null|         null|         null|            null|                 null|       null|    null|    null|                1.73|              8.0|       AM|\n",
      "|          Antarctica|     null|    null|            null|             null|                                  null|        null|    null|          null|          null|       null|                                 null|       null|                           0.0|                        null|    1.4E7|      null|      null|     null|                     null|                    null|                  null|                            null|                             null|                 null|           null|                    null|                    null|                                  null|                     null|                 null|                 null|                    null|                         null|             null|         null|         null|            null|                 null|       null|    null|    null|                null|             null|       AN|\n",
      "| Antigua and Barbuda|   6.89E8|   7.5E8|         11000.0|             null|                                  null|       250.0|  6.92E8|        1665.0|       10000.0|    30000.0|                                 null|    68722.0|                       38000.0|                     38200.0|    443.0|     17.26|      5.44|   2.31E8|                   1.03E8|                 1.108E8|                   3.0|                            null|                              6.0|                19.46|            0.4|                    null|                    71.9|                                  null|                     null|                 null|                 null|                    null|                         null|           3600.0|         null|         null|             0.0|                 null|       null|    null|    null|                2.26|             11.0|       AM|\n",
      "|           Argentina| 3.378E10|4.835E11|         12400.0|           1500.0|                              130000.0|    215471.0|2.206E10|      742358.0|     4100000.0|    1.504E7|                                4.3E9|3.9537943E7|                     8009400.0|                   6500000.0|2766890.0|      16.9|      7.56| 1.577E11|                 8.165E10|                8.139E10|                   8.3|                             0.7|                             12.0|                15.18|            6.1|                    18.3|                   75.91|                                   1.3|                  3.11E10|               6.05E9|                  0.0|                3.715E10|                      7.68E11|         486000.0|         null|         null|        755000.0|                2.9E9|      118.0| 34091.0|1.947E10|                2.19|             14.8|       AM|\n",
      "|             Armenia|    8.5E8|1.365E10|          4600.0|            200.0|                                2600.0|      8431.0|   1.3E9|        2206.0|      150000.0|  1400000.0|                               1.35E8|  2982904.0|                      562600.0|                    114400.0|  29800.0|     11.76|      8.16|   9.05E8|                  5.797E9|                 6.492E9|                   9.0|                             0.1|                             15.0|                23.28|            3.5|                    19.8|                   71.55|                                   6.5|                    1.4E9|                  0.0|                1.4E9|                     0.0|                         null|           5700.0|         null|         null|             0.0|                 null|       null|   845.0|  5.55E8|                1.32|             30.0|       AS|\n",
      "|               Aruba|   1.28E8|  1.94E9|         28000.0|             null|                                  null|       800.0|  8.41E8|         923.0|       24000.0|    41500.0|                                 null|    71566.0|                       37100.0|                     53000.0|    193.0|     11.26|      6.57|   2.85E8|                  7.512E8|                 8.077E8|                  -1.5|                            null|                             null|                 5.89|            3.2|                    null|                   79.14|                                  null|                     null|                 null|                 null|                    null|                         null|           6500.0|         null|         null|             0.0|                 null|       null|    null|    null|                1.79|              0.6|       AM|\n",
      "|Ashmore and Carti...|     null|    null|            null|             null|                                  null|        null|    null|          null|          null|       null|                                 null|       null|                          null|                        null|      5.0|      null|      null|     null|                     null|                    null|                  null|                            null|                             null|                 null|           null|                    null|                    null|                                  null|                     null|                 null|                 null|                    null|                         null|             null|         null|         null|            null|                 null|       null|    null|    null|                null|             null|       OC|\n",
      "|           Australia| 8.689E10|6.117E11|         30700.0|             null|                               14000.0|    811603.0| 9.81E10|     2847763.0|     9472000.0|    1.035E7|                              1.665E9|2.0090437E7|                      1.0815E7|                    1.4347E7|7686850.0|     12.26|      7.44| 3.087E11|                 1.956E11|                2.103E11|                   3.5|                             0.1|                              1.9|                 4.69|            2.3|                    25.3|                   80.39|                                   2.7|                 2.333E10|              9.744E9|                  0.0|                3.308E10|                     2.407E12|         796500.0|     523400.0|     530800.0|        537500.0|              3.664E9|       17.4| 43802.0|3.514E10|                1.76|              5.1|       OC|\n",
      "|             Austria| 1.027E11|2.559E11|         31300.0|            100.0|                               10000.0|    200000.0|1.012E11|      387006.0|     3730000.0|  3450000.0|                              1.497E9|  8184691.0|                     3881000.0|                   7094500.0|  83870.0|      8.81|       9.7|  1.55E10|                 5.509E10|                5.849E10|                   1.9|                             0.3|                              3.3|                 4.66|            1.8|                    22.6|                   78.92|                                   0.9|                   7.81E9|               4.03E8|              6.033E9|                 1.731E9|                      2.49E10|         262400.0|      35470.0|     262000.0|         20670.0|              8.569E7|       64.2|  6021.0|1.273E10|                1.36|              4.4|       EU|\n",
      "|          Azerbaijan|  3.168E9|3.001E10|          3800.0|            100.0|                                1400.0|     28030.0| 3.622E9|         586.0|      300000.0|  5090000.0|                               1.21E8|  7911974.0|                      923800.0|                    870000.0|  86600.0|      20.4|      9.86|  1.832E9|                 1.737E10|                1.755E10|                   9.8|                             0.1|                              4.0|                81.74|            4.6|                    65.1|                   63.35|                                   2.6|                   6.72E9|                  0.0|                1.0E9|                  5.72E9|                      6.23E10|         140000.0|         null|         null|        312800.0|               5.89E8|       18.9|  2957.0|  8.75E8|                2.44|              1.2|       AS|\n",
      "|         Bahamas The|   6.36E8| 5.295E9|         17700.0|            200.0|                                5600.0|      2693.0|  1.63E9|         302.0|       84000.0|   156000.0|                                 null|   301790.0|                      131700.0|                    121800.0|  13940.0|     17.87|      8.97|  3.085E8|                  1.596E9|                 1.716E9|                   3.0|                             3.0|                             null|                25.21|            1.2|                    null|                   65.54|                                  null|                     null|                 null|                 null|                    null|                         null|          23000.0|      29000.0|         null|             0.0|                 null|       null|    null|    null|                 2.2|             10.2|       AM|\n",
      "|             Bahrain|  8.205E9|1.301E10|         19200.0|            200.0|                                 600.0|      3459.0|  5.87E9|        1334.0|      195700.0|   370000.0|                              6.289E8|   688345.0|                      185800.0|                    443100.0|    665.0|      18.1|      4.08|  6.215E9|                  6.379E9|                  6.86E9|                   5.6|                             0.2|                              2.0|                17.27|            2.1|                    12.8|                   74.23|                                   6.3|                  3.27E10|                  0.0|                  0.0|                 3.27E10|                       4.6E10|          40000.0|         null|         null|         44000.0|               1.26E8|       63.8|    null| 2.141E9|                2.63|             15.0|       AS|\n",
      "+--------------------+---------+--------+----------------+-----------------+--------------------------------------+------------+--------+--------------+--------------+-----------+-------------------------------------+-----------+------------------------------+----------------------------+---------+----------+----------+---------+-------------------------+------------------------+----------------------+--------------------------------+---------------------------------+---------------------+---------------+------------------------+------------------------+--------------------------------------+-------------------------+---------------------+---------------------+------------------------+-----------------------------+-----------------+-------------+-------------+----------------+---------------------+-----------+--------+--------+--------------------+-----------------+---------+\n",
      "only showing top 20 rows\n",
      "\n"
     ]
    }
   ],
   "source": [
    "df_aux.show()"
   ]
  },
  {
   "cell_type": "markdown",
   "metadata": {},
   "source": [
    "# EJERCICIO: FILTRAR LOS PAISES DEL CONTINENTE EUROPEO Y ORDENAR LOS PAISES DE MAYOR A MENOR"
   ]
  },
  {
   "cell_type": "code",
   "execution_count": 171,
   "metadata": {},
   "outputs": [
    {
     "name": "stdout",
     "output_type": "stream",
     "text": [
      "+--------------------+---------+---------+------------+\n",
      "|             Country|Continent|     Area|  Population|\n",
      "+--------------------+---------+---------+------------+\n",
      "|              Russia|       EU|1.70752E7|1.43420309E8|\n",
      "|     #European Union|       EU|3976372.0|4.57030418E8|\n",
      "|           Greenland|       EU|2166086.0|     56375.0|\n",
      "|             Ukraine|       EU| 603700.0| 4.7425336E7|\n",
      "|              France|       EU| 547030.0| 6.0656178E7|\n",
      "|               Spain|       EU| 504782.0| 4.0341462E7|\n",
      "|              Sweden|       EU| 449964.0|   9001774.0|\n",
      "|             Germany|       EU| 357021.0|  8.243139E7|\n",
      "|             Finland|       EU| 338145.0|   5223442.0|\n",
      "|              Norway|       EU| 324220.0|   4593041.0|\n",
      "|              Poland|       EU| 312685.0| 3.8635144E7|\n",
      "|               Italy|       EU| 301230.0| 5.8103033E7|\n",
      "|      United Kingdom|       EU| 244820.0| 6.0441457E7|\n",
      "|             Romania|       EU| 237500.0| 2.2329977E7|\n",
      "|             Belarus|       EU| 207600.0| 1.0300483E7|\n",
      "|              Greece|       EU| 131940.0| 1.0668354E7|\n",
      "|            Bulgaria|       EU| 110910.0|   7450349.0|\n",
      "|             Iceland|       EU| 103000.0|    296737.0|\n",
      "|Serbia and Monten...|       EU| 102350.0| 1.0829175E7|\n",
      "|             Hungary|       EU|  93030.0| 1.0006835E7|\n",
      "+--------------------+---------+---------+------------+\n",
      "only showing top 20 rows\n",
      "\n"
     ]
    }
   ],
   "source": [
    "df_aux.select('Country', 'Continent', 'Area', 'Population').filter(df_aux.Continent=='EU')\\\n",
    "                .sort('Area',ascending=False).show()"
   ]
  },
  {
   "cell_type": "markdown",
   "metadata": {},
   "source": [
    "# EJERCICIO: CALCULAR LA DENSIDAD DE POBLACION DE LOS PAISES DE LA UNION EUROPEA INSERTANDO UNA NUEVA COLUMNA"
   ]
  },
  {
   "cell_type": "code",
   "execution_count": 172,
   "metadata": {},
   "outputs": [
    {
     "name": "stdout",
     "output_type": "stream",
     "text": [
      "+--------------+---------+--------+-----------+------------------+\n",
      "|       Country|Continent|    Area| Population|           Density|\n",
      "+--------------+---------+--------+-----------+------------------+\n",
      "|        Monaco|       EU|     2.0|    32409.0|           16204.5|\n",
      "|     Gibraltar|       EU|     7.0|    27884.0|3983.4285714285716|\n",
      "|         Malta|       EU|   316.0|   398534.0|1261.1835443037974|\n",
      "|      Guernsey|       EU|    78.0|    65228.0| 836.2564102564103|\n",
      "|        Jersey|       EU|   116.0|    90812.0| 782.8620689655172|\n",
      "|    San Marino|       EU|    61.0|    28880.0|473.44262295081967|\n",
      "|   Netherlands|       EU| 41526.0|1.6407491E7| 395.1136878100467|\n",
      "|       Belgium|       EU| 30528.0|1.0364388E7|339.50432389937106|\n",
      "|United Kingdom|       EU|244820.0|6.0441457E7| 246.8812066007679|\n",
      "|       Germany|       EU|357021.0| 8.243139E7|230.88667053198552|\n",
      "| Liechtenstein|       EU|   160.0|    33717.0|         210.73125|\n",
      "|         Italy|       EU|301230.0|5.8103033E7|192.88594429505693|\n",
      "|   Switzerland|       EU| 41290.0|  7489370.0|181.38459675466214|\n",
      "|    Luxembourg|       EU|  2586.0|   468571.0| 181.1952822892498|\n",
      "|       Andorra|       EU|   468.0|    70549.0| 150.7457264957265|\n",
      "|       Moldova|       EU| 33843.0|  4455421.0|131.64970599533137|\n",
      "|   Man Isle of|       EU|   572.0|    75049.0|131.20454545454547|\n",
      "|Czech Republic|       EU| 78866.0|1.0241138E7|129.85491846930236|\n",
      "|       Denmark|       EU| 43094.0|  5432335.0|126.05780387060844|\n",
      "|       Albania|       EU| 28748.0|  3563112.0|123.94295255322109|\n",
      "+--------------+---------+--------+-----------+------------------+\n",
      "only showing top 20 rows\n",
      "\n"
     ]
    }
   ],
   "source": [
    "df_aux.select('Country', 'Continent', 'Area', 'Population').filter(df_aux.Continent=='EU')\\\n",
    "        .withColumn('Density', df_aux.Population/df_aux.Area).sort('Density',ascending=False).show()"
   ]
  },
  {
   "cell_type": "markdown",
   "metadata": {},
   "source": [
    "# EJERCICIO: CALCULAR LA DENSIDAD DE POBLACION DE LOS PAISES DE LA UNION EUROPEA INSERTANDO UNA NUEVA COLUMNA, TENIENDO SOLO EN CUENTA LOS 10 PAISES MAS POBLADOS"
   ]
  },
  {
   "cell_type": "code",
   "execution_count": 174,
   "metadata": {},
   "outputs": [
    {
     "name": "stdout",
     "output_type": "stream",
     "text": [
      "+---------------+---------+---------+------------+------------------+\n",
      "|        Country|Continent|     Area|  Population|           Density|\n",
      "+---------------+---------+---------+------------+------------------+\n",
      "| United Kingdom|       EU| 244820.0| 6.0441457E7| 246.8812066007679|\n",
      "|        Germany|       EU| 357021.0|  8.243139E7|230.88667053198552|\n",
      "|          Italy|       EU| 301230.0| 5.8103033E7|192.88594429505693|\n",
      "|         Poland|       EU| 312685.0| 3.8635144E7|123.55931368629771|\n",
      "|#European Union|       EU|3976372.0|4.57030418E8|114.93653460994092|\n",
      "|         France|       EU| 547030.0| 6.0656178E7|110.88272672431128|\n",
      "|        Romania|       EU| 237500.0| 2.2329977E7| 94.02095578947369|\n",
      "|          Spain|       EU| 504782.0| 4.0341462E7|  79.9185826752935|\n",
      "|        Ukraine|       EU| 603700.0| 4.7425336E7| 78.55778698028823|\n",
      "|         Russia|       EU|1.70752E7|1.43420309E8| 8.399334063437031|\n",
      "+---------------+---------+---------+------------+------------------+\n",
      "\n"
     ]
    }
   ],
   "source": [
    "df_aux.select('Country', 'Continent', 'Area', 'Population').filter(df_aux.Continent=='EU')\\\n",
    "        .sort('Population',ascending=False).limit(10)\\\n",
    "        .withColumn('Density', df_aux.Population/df_aux.Area).sort('Density',ascending=False).show()"
   ]
  },
  {
   "cell_type": "markdown",
   "metadata": {},
   "source": [
    "# EJERCICIO: CALCULAR LA DENSIDAD DE POBLACION DE LOS PAISES DE LA UNION EUROPEA INSERTANDO UNA NUEVA COLUMNA, TENIENDO SOLO EN CUENTA LOS 10 PAISES MENOS POBLADOS"
   ]
  },
  {
   "cell_type": "code",
   "execution_count": 179,
   "metadata": {},
   "outputs": [
    {
     "name": "stdout",
     "output_type": "stream",
     "text": [
      "+--------------------+---------+---------+----------+--------------------+\n",
      "|             Country|Continent|     Area|Population|             Density|\n",
      "+--------------------+---------+---------+----------+--------------------+\n",
      "|              Monaco|       EU|      2.0|   32409.0|             16204.5|\n",
      "|           Gibraltar|       EU|      7.0|   27884.0|  3983.4285714285716|\n",
      "|            Guernsey|       EU|     78.0|   65228.0|   836.2564102564103|\n",
      "|          San Marino|       EU|     61.0|   28880.0|  473.44262295081967|\n",
      "|       Liechtenstein|       EU|    160.0|   33717.0|           210.73125|\n",
      "|             Andorra|       EU|    468.0|   70549.0|   150.7457264957265|\n",
      "|       Faroe Islands|       EU|   1399.0|   46962.0|   33.56826304503217|\n",
      "|            Svalbard|       EU|  62049.0|    2701.0|0.043530113297555156|\n",
      "|           Greenland|       EU|2166086.0|   56375.0|0.026026205792383128|\n",
      "|Holy See (Vatican...|       EU|      0.0|     921.0|                null|\n",
      "+--------------------+---------+---------+----------+--------------------+\n",
      "\n"
     ]
    }
   ],
   "source": [
    "df_aux.select('Country', 'Continent', 'Area', 'Population').filter(df_aux.Continent=='EU')\\\n",
    "        .sort('Population',ascending=True).dropna().limit(10)\\\n",
    "        .withColumn('Density', df_aux.Population/df_aux.Area).sort('Density',ascending=False).show()"
   ]
  },
  {
   "cell_type": "markdown",
   "metadata": {},
   "source": [
    "# EJERCICIO: CALCULAR LA SUMA DE KMS DE CARRETERAS POR KM² DE CADA PAIS DE LA UNION EUROPEA INSERTANDO UNA NUEVA COLUMNA"
   ]
  },
  {
   "cell_type": "code",
   "execution_count": 212,
   "metadata": {
    "scrolled": true
   },
   "outputs": [
    {
     "name": "stdout",
     "output_type": "stream",
     "text": [
      "+--------------+---------+--------+------------+------------------+\n",
      "|       Country|Continent|    Area|Highways(km)|        Carreteras|\n",
      "+--------------+---------+--------+------------+------------------+\n",
      "|        Monaco|       EU|     2.0|        50.0|              25.0|\n",
      "|         Malta|       EU|   316.0|      2222.0| 7.031645569620253|\n",
      "|        Jersey|       EU|   116.0|       577.0| 4.974137931034483|\n",
      "|       Belgium|       EU| 30528.0|    149028.0| 4.881682389937107|\n",
      "|     Gibraltar|       EU|     7.0|        29.0| 4.142857142857143|\n",
      "|    San Marino|       EU|    61.0|       220.0|3.6065573770491803|\n",
      "|   Netherlands|       EU| 41526.0|    116500.0| 2.805471271010933|\n",
      "|       Austria|       EU| 83870.0|    200000.0|2.3846428997257663|\n",
      "|    Luxembourg|       EU|  2586.0|      5210.0|2.0146945088940447|\n",
      "|   Switzerland|       EU| 41290.0|     71212.0|1.7246790990554615|\n",
      "|       Hungary|       EU| 93030.0|    159568.0|1.7152316457056864|\n",
      "|       Denmark|       EU| 43094.0|     71847.0|1.6672158537151343|\n",
      "|        France|       EU|547030.0|    893100.0|1.6326344076193262|\n",
      "|Czech Republic|       EU| 78866.0|    127204.0|1.6129130423756752|\n",
      "|United Kingdom|       EU|244820.0|    392931.0|1.6049791683685974|\n",
      "|         Italy|       EU|301230.0|    479688.0|1.5924310327656608|\n",
      "| Liechtenstein|       EU|   160.0|       250.0|            1.5625|\n",
      "|        Cyprus|       EU|  9250.0|     13943.0|1.5073513513513515|\n",
      "|   Man Isle of|       EU|   572.0|       800.0|1.3986013986013985|\n",
      "|       Ireland|       EU| 70280.0|     95736.0|1.3622083096186681|\n",
      "+--------------+---------+--------+------------+------------------+\n",
      "only showing top 20 rows\n",
      "\n"
     ]
    }
   ],
   "source": [
    "df_aux.select('Country', 'Continent', 'Area', 'Highways(km)').filter(df_aux.Continent=='EU')\\\n",
    "        .withColumn('Carreteras', df_aux['Highways(km)']/df_aux.Area).sort('Carreteras',ascending=False).show()"
   ]
  }
 ],
 "metadata": {
  "kernelspec": {
   "display_name": "Python 3",
   "language": "python",
   "name": "python3"
  },
  "language_info": {
   "codemirror_mode": {
    "name": "ipython",
    "version": 3
   },
   "file_extension": ".py",
   "mimetype": "text/x-python",
   "name": "python",
   "nbconvert_exporter": "python",
   "pygments_lexer": "ipython3",
   "version": "3.5.2"
  }
 },
 "nbformat": 4,
 "nbformat_minor": 2
}

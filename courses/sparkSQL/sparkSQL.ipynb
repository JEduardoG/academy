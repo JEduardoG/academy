{
 "cells": [
  {
   "cell_type": "markdown",
   "metadata": {},
   "source": [
    "# SPARK CONTEXT Y SQL CONTEXT"
   ]
  },
  {
   "cell_type": "code",
   "execution_count": null,
   "metadata": {},
   "outputs": [],
   "source": [
    "import pyspark\n",
    "sc = pyspark.SparkContext('local[*]')"
   ]
  },
  {
   "cell_type": "code",
   "execution_count": null,
   "metadata": {},
   "outputs": [],
   "source": [
    "sc"
   ]
  },
  {
   "cell_type": "code",
   "execution_count": null,
   "metadata": {
    "collapsed": true
   },
   "outputs": [],
   "source": [
    "sqlContext = pyspark.sql.SQLContext(sc)"
   ]
  },
  {
   "cell_type": "code",
   "execution_count": null,
   "metadata": {},
   "outputs": [],
   "source": [
    "sqlContext"
   ]
  },
  {
   "cell_type": "markdown",
   "metadata": {},
   "source": [
    "# CARGA DE DATASET"
   ]
  },
  {
   "cell_type": "code",
   "execution_count": null,
   "metadata": {
    "collapsed": true
   },
   "outputs": [],
   "source": [
    "df_test = sqlContext.read.csv('data/factbook.csv')"
   ]
  },
  {
   "cell_type": "code",
   "execution_count": null,
   "metadata": {},
   "outputs": [],
   "source": [
    "type(df_test)"
   ]
  },
  {
   "cell_type": "code",
   "execution_count": null,
   "metadata": {},
   "outputs": [],
   "source": [
    "df_test.show()"
   ]
  },
  {
   "cell_type": "code",
   "execution_count": null,
   "metadata": {},
   "outputs": [],
   "source": [
    "df_test.printSchema()"
   ]
  },
  {
   "cell_type": "code",
   "execution_count": null,
   "metadata": {},
   "outputs": [],
   "source": [
    "df_test = sqlContext.read.option('header', 'true').csv('data/factbook.csv')"
   ]
  },
  {
   "cell_type": "code",
   "execution_count": null,
   "metadata": {},
   "outputs": [],
   "source": [
    "type(df_test)"
   ]
  },
  {
   "cell_type": "code",
   "execution_count": null,
   "metadata": {},
   "outputs": [],
   "source": [
    "df_test.show()"
   ]
  },
  {
   "cell_type": "code",
   "execution_count": null,
   "metadata": {},
   "outputs": [],
   "source": [
    "df_test.printSchema()"
   ]
  },
  {
   "cell_type": "code",
   "execution_count": null,
   "metadata": {
    "collapsed": true
   },
   "outputs": [],
   "source": [
    "df = sqlContext.read.option('header', 'true').option('delimiter', ';').csv('data/factbook.csv')"
   ]
  },
  {
   "cell_type": "code",
   "execution_count": null,
   "metadata": {},
   "outputs": [],
   "source": [
    "type(df)"
   ]
  },
  {
   "cell_type": "code",
   "execution_count": null,
   "metadata": {},
   "outputs": [],
   "source": [
    "df.printSchema()"
   ]
  },
  {
   "cell_type": "code",
   "execution_count": null,
   "metadata": {},
   "outputs": [],
   "source": [
    "from pyspark.sql.types import DoubleType\n",
    "df_test = df.withColumn(\"Area\", df['Area(sq km)'].cast(DoubleType()))\\\n",
    "    .withColumn(\"Birth rate\", df['Birth rate(births/1000 population)'].cast(DoubleType()))\\\n",
    "    .withColumn(\"Current account balance\", df['Current account balance'].cast(DoubleType()))\\\n",
    "    .withColumn(\"Death rate\", df['Death rate(deaths/1000 population)'].cast(DoubleType()))\\\n",
    "    .withColumn(\"Debt\", df['Debt - external'].cast(DoubleType()))\\\n",
    "    .withColumn(\"Electricity - consumption\", df['Electricity - consumption(kWh)'].cast(DoubleType()))\\\n",
    "    .withColumn(\"Electricity - production\", df['Electricity - production(kWh)'].cast(DoubleType()))\\\n",
    "    .withColumn(\"Exports\", df['Exports'].cast(DoubleType()))\\\n",
    "    .withColumn(\"GDP\", df['GDP'].cast(DoubleType()))\\\n",
    "    .withColumn(\"GDP - per capita\", df['GDP - per capita'].cast(DoubleType()))\\\n",
    "    .withColumn(\"GDP - real growth rate\", df['GDP - real growth rate(%)'].cast(DoubleType()))\\\n",
    "    .withColumn(\"HIV/AIDS - adult prevalence rate\", df['HIV/AIDS - adult prevalence rate(%)'].cast(DoubleType()))\\\n",
    "    .withColumn(\"HIV/AIDS - deaths\", df['HIV/AIDS - deaths'].cast(DoubleType()))\\\n",
    "    .withColumn(\"HIV/AIDS - people living with HIV/AIDS\", df['HIV/AIDS - people living with HIV/AIDS'].cast(DoubleType()))\\\n",
    "    .withColumn(\"Highways(km)\", df['Highways(km)'].cast(DoubleType()))\\\n",
    "    .withColumn(\"Imports\", df['Imports'].cast(DoubleType()))\\\n",
    "    .withColumn(\"Industrial production growth rate\", df['Industrial production growth rate(%)'].cast(DoubleType()))\\\n",
    "    .withColumn(\"Infant mortality rate\", df['Infant mortality rate(deaths/1000 live births)'].cast(DoubleType()))\\\n",
    "    .withColumn(\"Inflation rate \", df['Inflation rate (consumer prices)(%)'].cast(DoubleType()))\\\n",
    "    .withColumn(\"Internet hosts\", df['Internet hosts'].cast(DoubleType()))\\\n",
    "    .withColumn(\"Internet users\", df['Internet users'].cast(DoubleType()))\\\n",
    "    .withColumn(\"Investment (gross fixed)\", df['Investment (gross fixed)(% of GDP)'].cast(DoubleType()))\\\n",
    "    .withColumn(\"Labor force\", df['Labor force'].cast(DoubleType()))\\\n",
    "    .withColumn(\"Life expectancy at birth\", df['Life expectancy at birth(years)'].cast(DoubleType()))\\\n",
    "    .withColumn(\"Military expenditures - dollar figure\", df['Military expenditures - dollar figure'].cast(DoubleType()))\\\n",
    "    .withColumn(\"Military expenditures - percent of GDP\", df['Military expenditures - percent of GDP(%)'].cast(DoubleType()))\\\n",
    "    .withColumn(\"Natural gas - consumption\", df['Natural gas - consumption(cu m)'].cast(DoubleType()))\\\n",
    "    .withColumn(\"Natural gas - exports\", df['Natural gas - exports(cu m)'].cast(DoubleType()))\\\n",
    "    .withColumn(\"Natural gas - imports\", df['Natural gas - imports(cu m)'].cast(DoubleType()))\\\n",
    "    .withColumn(\"Natural gas - production\", df['Natural gas - production(cu m)'].cast(DoubleType()))\\\n",
    "    .withColumn(\"Natural gas - proved reserves\", df['Natural gas - proved reserves(cu m)'].cast(DoubleType()))\\\n",
    "    .withColumn(\"Oil - consumption\", df['Oil - consumption(bbl/day)'].cast(DoubleType()))\\\n",
    "    .withColumn(\"Oil - exports\", df['Oil - exports(bbl/day)'].cast(DoubleType()))\\\n",
    "    .withColumn(\"Oil - imports\", df['Oil - imports(bbl/day)'].cast(DoubleType()))\\\n",
    "    .withColumn(\"Oil - production\", df['Oil - production(bbl/day)'].cast(DoubleType()))\\\n",
    "    .withColumn(\"Oil - proved reserves\", df['Oil - proved reserves(bbl)'].cast(DoubleType()))\\\n",
    "    .withColumn(\"Population\", df['Population'].cast(DoubleType()))\\\n",
    "    .withColumn(\"Public debt\", df['Public debt(% of GDP)'].cast(DoubleType()))\\\n",
    "    .withColumn(\"Railways\", df['Railways(km)'].cast(DoubleType()))\\\n",
    "    .withColumn(\"Reserves\", df['Reserves of foreign exchange & gold'].cast(DoubleType()))\\\n",
    "    .withColumn(\"Telephones - main lines in use\", df['Telephones - main lines in use'].cast(DoubleType()))\\\n",
    "    .withColumn(\"Telephones - mobile cellular\", df['Telephones - mobile cellular'].cast(DoubleType()))\\\n",
    "    .withColumn(\"Total fertility rate\", df['Total fertility rate(children born/woman)'].cast(DoubleType()))\\\n",
    "    .withColumn(\"Unemployment rate\", df['Unemployment rate(%)'].cast(DoubleType()))\\\n",
    "    .drop('Area(sq km)')\\\n",
    "    .drop('Birth rate(births/1000 population)')\\\n",
    "    .drop('Current account balance')\\\n",
    "    .drop('Death rate(deaths/1000 population)')\\\n",
    "    .drop('Debt - external')\\\n",
    "    .drop('Electricity - consumption(kWh)')\\\n",
    "    .drop('Electricity - production(kWh)')\\\n",
    "    .drop('GDP - real growth rate(%)')\\\n",
    "    .drop('HIV/AIDS - adult prevalence rate(%)')\\\n",
    "    .drop('Industrial production growth rate(%)')\\\n",
    "    .drop('Infant mortality rate(deaths/1000 live births)')\\\n",
    "    .drop('Inflation rate (consumer prices)(%)')\\\n",
    "    .drop('Investment (gross fixed)(% of GDP)')\\\n",
    "    .drop('Life expectancy at birth(years)')\\\n",
    "    .drop('Military expenditures - percent of GDP(%)')\\\n",
    "    .drop('Natural gas - consumption(cu m)')\\\n",
    "    .drop('Natural gas - exports(cu m)')\\\n",
    "    .drop('Natural gas - imports(cu m)')\\\n",
    "    .drop('Natural gas - production(cu m)')\\\n",
    "    .drop('Natural gas - proved reserves(cu m)')\\\n",
    "    .drop('Oil - consumption(bbl/day)')\\\n",
    "    .drop('Oil - exports(bbl/day)')\\\n",
    "    .drop('Oil - imports(bbl/day)')\\\n",
    "    .drop('Oil - production(bbl/day)')\\\n",
    "    .drop('Oil - proved reserves(bbl)')\\\n",
    "    .drop('Public debt(% of GDP)')\\\n",
    "    .drop('Railways(km)')\\\n",
    "    .drop('Reserves of foreign exchange & gold')\\\n",
    "    .drop('Total fertility rate(children born/woman)')\\\n",
    "    .drop('Unemployment rate(%)')\n"
   ]
  },
  {
   "cell_type": "code",
   "execution_count": null,
   "metadata": {},
   "outputs": [],
   "source": [
    "df_test.printSchema()"
   ]
  },
  {
   "cell_type": "code",
   "execution_count": null,
   "metadata": {},
   "outputs": [],
   "source": [
    "df_test.head()"
   ]
  },
  {
   "cell_type": "code",
   "execution_count": null,
   "metadata": {},
   "outputs": [],
   "source": [
    "df_test.dtypes"
   ]
  },
  {
   "cell_type": "markdown",
   "metadata": {},
   "source": [
    "# SQL INSTRUCTIONS"
   ]
  },
  {
   "cell_type": "code",
   "execution_count": null,
   "metadata": {
    "collapsed": true
   },
   "outputs": [],
   "source": [
    "df_test.createOrReplaceTempView('DATA')"
   ]
  },
  {
   "cell_type": "code",
   "execution_count": null,
   "metadata": {},
   "outputs": [],
   "source": [
    "df_paises = sqlContext.sql('SELECT * FROM DATA')"
   ]
  },
  {
   "cell_type": "code",
   "execution_count": null,
   "metadata": {},
   "outputs": [],
   "source": [
    "sqlContext.sql('SELECT COUNT(*) FROM DATA').show()"
   ]
  },
  {
   "cell_type": "code",
   "execution_count": null,
   "metadata": {},
   "outputs": [],
   "source": [
    "sqlContext.sql('SELECT Country FROM DATA WHERE Population > 50000000').show()"
   ]
  },
  {
   "cell_type": "code",
   "execution_count": null,
   "metadata": {},
   "outputs": [],
   "source": [
    "df_paises.describe('Area').show()"
   ]
  },
  {
   "cell_type": "code",
   "execution_count": null,
   "metadata": {},
   "outputs": [],
   "source": [
    "sqlContext.sql('SELECT MEAN(Area) FROM DATA').show()"
   ]
  },
  {
   "cell_type": "code",
   "execution_count": null,
   "metadata": {},
   "outputs": [],
   "source": [
    "sqlContext.sql('SELECT Country, Population FROM DATA WHERE Population > 50000000 AND Area > 584987').show()"
   ]
  },
  {
   "cell_type": "code",
   "execution_count": null,
   "metadata": {},
   "outputs": [],
   "source": [
    "df_paises.select('Country', 'Population').filter(df_paises.Population > 50000000)\\\n",
    "                                         .filter(df_paises.Area > 584987).show()"
   ]
  },
  {
   "cell_type": "code",
   "execution_count": null,
   "metadata": {},
   "outputs": [],
   "source": [
    "df_paises.count()"
   ]
  },
  {
   "cell_type": "code",
   "execution_count": null,
   "metadata": {},
   "outputs": [],
   "source": [
    "sqlContext.sql('SELECT Country FROM DATA ORDER BY Population DESC').show()"
   ]
  },
  {
   "cell_type": "code",
   "execution_count": null,
   "metadata": {},
   "outputs": [],
   "source": [
    "df_paises.select('Country').orderBy(df_paises.Population, ascending=False).show()"
   ]
  },
  {
   "cell_type": "code",
   "execution_count": null,
   "metadata": {
    "collapsed": true
   },
   "outputs": [],
   "source": [
    "df_countries = sqlContext.read.option('header', 'true').option('delimiter', ';').csv('data/countries.csv')"
   ]
  },
  {
   "cell_type": "code",
   "execution_count": null,
   "metadata": {},
   "outputs": [],
   "source": [
    "df_countries.printSchema()"
   ]
  },
  {
   "cell_type": "code",
   "execution_count": null,
   "metadata": {
    "collapsed": true
   },
   "outputs": [],
   "source": [
    "df_countries.createOrReplaceTempView('CONTINENTES')"
   ]
  },
  {
   "cell_type": "code",
   "execution_count": null,
   "metadata": {},
   "outputs": [],
   "source": [
    "resultado = sqlContext.sql('SELECT * FROM DATA LEFT JOIN CONTINENTES ON DATA.Country=CONTINENTES.Country')"
   ]
  },
  {
   "cell_type": "code",
   "execution_count": null,
   "metadata": {
    "collapsed": true
   },
   "outputs": [],
   "source": [
    "resultado.createOrReplaceTempView('RESULT')"
   ]
  },
  {
   "cell_type": "code",
   "execution_count": null,
   "metadata": {},
   "outputs": [],
   "source": [
    "resultado.drop('Country').show()"
   ]
  },
  {
   "cell_type": "code",
   "execution_count": null,
   "metadata": {},
   "outputs": [],
   "source": [
    "df_countries.groupBy('Continent').count().show()"
   ]
  },
  {
   "cell_type": "code",
   "execution_count": null,
   "metadata": {
    "collapsed": true
   },
   "outputs": [],
   "source": [
    "df_aux = df_paises.join(df_countries, 'Country')"
   ]
  },
  {
   "cell_type": "code",
   "execution_count": null,
   "metadata": {},
   "outputs": [],
   "source": [
    "df_aux.show()"
   ]
  },
  {
   "cell_type": "markdown",
   "metadata": {},
   "source": [
    "# EJERCICIO: FILTRAR LOS PAISES DEL CONTINENTE EUROPEO Y ORDENAR LOS PAISES DE MAYOR A MENOR"
   ]
  },
  {
   "cell_type": "code",
   "execution_count": null,
   "metadata": {},
   "outputs": [],
   "source": []
  },
  {
   "cell_type": "markdown",
   "metadata": {},
   "source": [
    "# EJERCICIO: CALCULAR LA DENSIDAD DE POBLACION DE LOS PAISES DE LA UNION EUROPEA INSERTANDO UNA NUEVA COLUMNA"
   ]
  },
  {
   "cell_type": "code",
   "execution_count": null,
   "metadata": {},
   "outputs": [],
   "source": []
  },
  {
   "cell_type": "markdown",
   "metadata": {},
   "source": [
    "# EJERCICIO: CALCULAR LA DENSIDAD DE POBLACION DE LOS PAISES DE LA UNION EUROPEA INSERTANDO UNA NUEVA COLUMNA, TENIENDO SOLO EN CUENTA LOS 10 PAISES MAS POBLADOS"
   ]
  },
  {
   "cell_type": "code",
   "execution_count": null,
   "metadata": {},
   "outputs": [],
   "source": []
  },
  {
   "cell_type": "markdown",
   "metadata": {},
   "source": [
    "# EJERCICIO: CALCULAR LA DENSIDAD DE POBLACION DE LOS PAISES DE LA UNION EUROPEA INSERTANDO UNA NUEVA COLUMNA, TENIENDO SOLO EN CUENTA LOS 10 PAISES MENOS POBLADOS"
   ]
  },
  {
   "cell_type": "code",
   "execution_count": null,
   "metadata": {},
   "outputs": [],
   "source": []
  },
  {
   "cell_type": "markdown",
   "metadata": {},
   "source": [
    "# EJERCICIO: CALCULAR LA SUMA DE KMS DE CARRETERAS POR KM² DE CADA PAIS DE LA UNION EUROPEA INSERTANDO UNA NUEVA COLUMNA"
   ]
  },
  {
   "cell_type": "code",
   "execution_count": null,
   "metadata": {
    "scrolled": true
   },
   "outputs": [],
   "source": []
  }
 ],
 "metadata": {
  "kernelspec": {
   "display_name": "Python 3",
   "language": "python",
   "name": "python3"
  },
  "language_info": {
   "codemirror_mode": {
    "name": "ipython",
    "version": 3
   },
   "file_extension": ".py",
   "mimetype": "text/x-python",
   "name": "python",
   "nbconvert_exporter": "python",
   "pygments_lexer": "ipython3",
   "version": "3.5.2"
  }
 },
 "nbformat": 4,
 "nbformat_minor": 2
}

{
 "cells": [
  {
   "cell_type": "markdown",
   "metadata": {},
   "source": [
    "# SPARK CONTEXT Y SQL CONTEXT"
   ]
  },
  {
   "cell_type": "code",
   "execution_count": 2,
   "metadata": {
    "collapsed": true
   },
   "outputs": [],
   "source": [
    "import pyspark\n",
    "sc = pyspark.SparkContext('local[*]')"
   ]
  },
  {
   "cell_type": "code",
   "execution_count": 3,
   "metadata": {},
   "outputs": [
    {
     "data": {
      "text/plain": [
       "<pyspark.context.SparkContext at 0x7f69a29edf98>"
      ]
     },
     "execution_count": 3,
     "metadata": {},
     "output_type": "execute_result"
    }
   ],
   "source": [
    "sc"
   ]
  },
  {
   "cell_type": "code",
   "execution_count": 4,
   "metadata": {
    "collapsed": true
   },
   "outputs": [],
   "source": [
    "sqlContext = pyspark.sql.SQLContext(sc)"
   ]
  },
  {
   "cell_type": "code",
   "execution_count": 5,
   "metadata": {},
   "outputs": [
    {
     "data": {
      "text/plain": [
       "<pyspark.sql.context.SQLContext at 0x7f696e2c32e8>"
      ]
     },
     "execution_count": 5,
     "metadata": {},
     "output_type": "execute_result"
    }
   ],
   "source": [
    "sqlContext"
   ]
  },
  {
   "cell_type": "markdown",
   "metadata": {},
   "source": [
    "# CARGA DE DATASETS"
   ]
  },
  {
   "cell_type": "code",
   "execution_count": 13,
   "metadata": {},
   "outputs": [],
   "source": [
    "df = sqlContext.read.option('header', 'true').option('delimiter', ',').csv('data/Base_evolucion_fondos.csv')"
   ]
  },
  {
   "cell_type": "code",
   "execution_count": 14,
   "metadata": {},
   "outputs": [
    {
     "data": {
      "text/plain": [
       "Row(COD_USUARIO='E000170', COD_SEGLOBAL=None, fondos_201507='0', fondos_201508='0', fondos_201509='0', fondos_201510='0', fondos_201511='0', fondos_201512='0')"
      ]
     },
     "execution_count": 14,
     "metadata": {},
     "output_type": "execute_result"
    }
   ],
   "source": [
    "df.head()"
   ]
  },
  {
   "cell_type": "code",
   "execution_count": 15,
   "metadata": {},
   "outputs": [
    {
     "name": "stdout",
     "output_type": "stream",
     "text": [
      "root\n",
      " |-- COD_USUARIO: string (nullable = true)\n",
      " |-- COD_SEGLOBAL: string (nullable = true)\n",
      " |-- fondos_201507: string (nullable = true)\n",
      " |-- fondos_201508: string (nullable = true)\n",
      " |-- fondos_201509: string (nullable = true)\n",
      " |-- fondos_201510: string (nullable = true)\n",
      " |-- fondos_201511: string (nullable = true)\n",
      " |-- fondos_201512: string (nullable = true)\n",
      "\n"
     ]
    }
   ],
   "source": [
    "df.printSchema()"
   ]
  },
  {
   "cell_type": "code",
   "execution_count": 19,
   "metadata": {},
   "outputs": [],
   "source": [
    "from pyspark.sql.types import DoubleType\n",
    "fondos_ev = df.withColumn(\"fondos_201507\", df['fondos_201507'].cast(DoubleType()))\\\n",
    "    .withColumn(\"fondos_201508\", df['fondos_201508'].cast(DoubleType()))\\\n",
    "    .withColumn(\"fondos_201509\", df['fondos_201509'].cast(DoubleType()))\\\n",
    "    .withColumn(\"fondos_201510\", df['fondos_201510'].cast(DoubleType()))\\\n",
    "    .withColumn(\"fondos_201511\", df['fondos_201511'].cast(DoubleType()))\\\n",
    "    .withColumn(\"fondos_201512\", df['fondos_201512'].cast(DoubleType()))"
   ]
  },
  {
   "cell_type": "code",
   "execution_count": 20,
   "metadata": {},
   "outputs": [
    {
     "name": "stdout",
     "output_type": "stream",
     "text": [
      "+-----------+------------+-------------+-------------+-------------+-------------+-------------+-------------+\n",
      "|COD_USUARIO|COD_SEGLOBAL|fondos_201507|fondos_201508|fondos_201509|fondos_201510|fondos_201511|fondos_201512|\n",
      "+-----------+------------+-------------+-------------+-------------+-------------+-------------+-------------+\n",
      "|    E000170|        null|          0.0|          0.0|          0.0|          0.0|          0.0|          0.0|\n",
      "|    E000170|          34|          0.0|          0.0|          0.0|          0.0|          0.0|          0.0|\n",
      "|    E000170|          35|          0.0|          0.0|          0.0|          0.0|          0.0|          0.0|\n",
      "|    E000170|          36|          0.0|          0.0|          0.0|          0.0|          0.0|          0.0|\n",
      "|    E000170|          37|     11684.42|     11673.35|     11675.79|     11687.85|     11696.99|     11687.41|\n",
      "|    E000170|          42|     67014.43|     65051.89|     63686.01|     65917.87|     43472.36|     23488.17|\n",
      "|    E000170|          43|    160260.96|    154240.41|    151735.51|     157772.9|    159883.25|    155395.69|\n",
      "|    E000170|          51|          0.0|          0.0|          0.0|          0.0|          0.0|          0.0|\n",
      "|    E000170|          52|          0.0|          0.0|          0.0|          0.0|          0.0|          0.0|\n",
      "|    E000170|          53|          0.0|          0.0|          0.0|          0.0|          0.0|          0.0|\n",
      "|    E000170|          54|          0.0|          0.0|          0.0|          0.0|          0.0|          0.0|\n",
      "|    E000170|          55|          0.0|          0.0|          0.0|          0.0|          0.0|          0.0|\n",
      "|    E000170|          56|          0.0|          0.0|          0.0|          0.0|          0.0|          0.0|\n",
      "|    E000170|          61|          0.0|          0.0|          0.0|          0.0|          0.0|          0.0|\n",
      "|    E000501|        null|    158772.14|    154831.31|    151801.95|     154821.4|    154964.26|    153389.92|\n",
      "|    E000501|          42|   1143726.44|   1152113.04|   1134674.76|   1200680.02|    1205097.5|   1190889.62|\n",
      "|    E000501|          43|    5903439.2|   5859182.06|   5619079.85|   5728629.77|    5747048.3|   5674373.83|\n",
      "|    E000501|          51|     49750.59|     46070.23|     43520.47|     47119.29|     47466.83|     45981.72|\n",
      "|    E000501|          52|          0.0|          0.0|          0.0|          0.0|          0.0|          0.0|\n",
      "|    E000501|          55|      3180.03|      4480.64|      4373.56|     36093.07|     36502.79|     36075.67|\n",
      "+-----------+------------+-------------+-------------+-------------+-------------+-------------+-------------+\n",
      "only showing top 20 rows\n",
      "\n"
     ]
    }
   ],
   "source": [
    "fondos_ev.show()"
   ]
  },
  {
   "cell_type": "code",
   "execution_count": 23,
   "metadata": {
    "collapsed": true
   },
   "outputs": [],
   "source": [
    "gestores = sqlContext.read.option('header', 'true').option('delimiter', ',').csv('data/Base_puesto_gestores.csv')"
   ]
  },
  {
   "cell_type": "code",
   "execution_count": 24,
   "metadata": {},
   "outputs": [
    {
     "name": "stdout",
     "output_type": "stream",
     "text": [
      "root\n",
      " |-- COD_USUARIO: string (nullable = true)\n",
      " |-- tipo_puesto: string (nullable = true)\n",
      "\n"
     ]
    }
   ],
   "source": [
    "gestores.printSchema()"
   ]
  },
  {
   "cell_type": "code",
   "execution_count": 27,
   "metadata": {},
   "outputs": [
    {
     "name": "stdout",
     "output_type": "stream",
     "text": [
      "+-----------+-----------+\n",
      "|COD_USUARIO|tipo_puesto|\n",
      "+-----------+-----------+\n",
      "|    E000170|         GP|\n",
      "|    E000501|         AF|\n",
      "|    E000531|         AF|\n",
      "|    E000545|         AF|\n",
      "|    E000558|         AF|\n",
      "+-----------+-----------+\n",
      "only showing top 5 rows\n",
      "\n"
     ]
    }
   ],
   "source": [
    "gestores.show(5)"
   ]
  },
  {
   "cell_type": "code",
   "execution_count": 28,
   "metadata": {
    "collapsed": true
   },
   "outputs": [],
   "source": [
    "df = sqlContext.read.option('header', 'true').option('delimiter', ',').csv('data/txc_aport_extr_fondos.csv')"
   ]
  },
  {
   "cell_type": "code",
   "execution_count": 29,
   "metadata": {},
   "outputs": [
    {
     "name": "stdout",
     "output_type": "stream",
     "text": [
      "root\n",
      " |-- cod_ofictrn: string (nullable = true)\n",
      " |-- imp_trans: string (nullable = true)\n",
      " |-- cod_user: string (nullable = true)\n",
      " |-- cod_npuesto: string (nullable = true)\n",
      " |-- cod_persona: string (nullable = true)\n",
      " |-- hms_soli_trn: string (nullable = true)\n",
      " |-- cod_trnfims: string (nullable = true)\n",
      " |-- cod_medio_dv: string (nullable = true)\n",
      " |-- cod_canal_dv: string (nullable = true)\n",
      " |-- cod_serv_dv: string (nullable = true)\n",
      " |-- cod_geve_trn: string (nullable = true)\n",
      " |-- cod_eve_trn: string (nullable = true)\n",
      " |-- cod_deve_trn: string (nullable = true)\n",
      "\n"
     ]
    }
   ],
   "source": [
    "df.printSchema()"
   ]
  },
  {
   "cell_type": "code",
   "execution_count": 53,
   "metadata": {},
   "outputs": [],
   "source": [
    "extr_fondos = df.withColumn(\"cod_ofictrn\", df['cod_ofictrn'].cast(DoubleType()))\\\n",
    "    .withColumn(\"imp_trans\", df['imp_trans'].cast(DoubleType()))\\\n",
    "    .withColumn(\"cod_npuesto\", df['cod_npuesto'].cast(DoubleType()))\\\n",
    "    .withColumn(\"cod_persona\", df['cod_persona'].cast(DoubleType()))\\\n",
    "    .withColumn(\"cod_medio_dv\", df['cod_medio_dv'].cast(DoubleType()))\\\n",
    "    .withColumn(\"cod_canal_dv\", df['cod_canal_dv'].cast(DoubleType()))\\\n",
    "    .withColumn(\"cod_serv_dv\", df['cod_serv_dv'].cast(DoubleType()))\\\n",
    "    .withColumn(\"cod_geve_trn\", df['cod_geve_trn'].cast(DoubleType()))\\\n",
    "    .withColumn(\"cod_eve_trn\", df['cod_eve_trn'].cast(DoubleType()))\\\n",
    "    .withColumn(\"cod_deve_trn\", df['cod_deve_trn'].cast(DoubleType()))"
   ]
  },
  {
   "cell_type": "code",
   "execution_count": 54,
   "metadata": {},
   "outputs": [
    {
     "name": "stdout",
     "output_type": "stream",
     "text": [
      "+-----------+---------+--------+-----------+-----------+--------------------+-----------+------------+------------+-----------+------------+-----------+------------+\n",
      "|cod_ofictrn|imp_trans|cod_user|cod_npuesto|cod_persona|        hms_soli_trn|cod_trnfims|cod_medio_dv|cod_canal_dv|cod_serv_dv|cod_geve_trn|cod_eve_trn|cod_deve_trn|\n",
      "+-----------+---------+--------+-----------+-----------+--------------------+-----------+------------+------------+-----------+------------+-----------+------------+\n",
      "|     1557.0|   5000.0| U044181|        2.0|  5133579.0|2015-12-03 16:47:...|   DSFIT008|         1.0|         1.0|        1.0|         3.0|       37.0|        73.0|\n",
      "|     2585.0|  13000.0| E018157|        3.0|2.3783944E7|2015-12-23 10:46:...|   DSFIT008|         1.0|         1.0|        1.0|         3.0|       37.0|        73.0|\n",
      "|     2626.0|  19000.0| UA16687|        1.0|1.2024444E7|2015-12-17 10:25:...|   DSFIT008|         1.0|         1.0|        1.0|         3.0|       37.0|        73.0|\n",
      "|     2738.0|  10000.0| U215376|        7.0|  3771392.0|2015-12-17 11:36:...|   DSFIT008|         1.0|         1.0|        1.0|         3.0|       37.0|        73.0|\n",
      "|     1575.0|  20000.0| U230725|        2.0|  3575357.0|2015-12-03 12:49:...|   DSFIT008|         1.0|         1.0|        1.0|         3.0|       37.0|        73.0|\n",
      "+-----------+---------+--------+-----------+-----------+--------------------+-----------+------------+------------+-----------+------------+-----------+------------+\n",
      "only showing top 5 rows\n",
      "\n"
     ]
    }
   ],
   "source": [
    "extr_fondos.show(5)"
   ]
  },
  {
   "cell_type": "markdown",
   "metadata": {},
   "source": [
    "# EJERCICIO 2.1: BORRAR VALORES NAN"
   ]
  },
  {
   "cell_type": "code",
   "execution_count": 55,
   "metadata": {},
   "outputs": [
    {
     "data": {
      "text/plain": [
       "8599"
      ]
     },
     "execution_count": 55,
     "metadata": {},
     "output_type": "execute_result"
    }
   ],
   "source": [
    "extr_fondos.count()"
   ]
  },
  {
   "cell_type": "code",
   "execution_count": 56,
   "metadata": {},
   "outputs": [],
   "source": [
    "extr_fondos = extr_fondos.na.drop('any')"
   ]
  },
  {
   "cell_type": "code",
   "execution_count": 57,
   "metadata": {},
   "outputs": [
    {
     "data": {
      "text/plain": [
       "pyspark.sql.dataframe.DataFrame"
      ]
     },
     "execution_count": 57,
     "metadata": {},
     "output_type": "execute_result"
    }
   ],
   "source": [
    "type(extr_fondos)"
   ]
  },
  {
   "cell_type": "markdown",
   "metadata": {},
   "source": [
    "# EJERCICIO 2.2: RENOMBRAR LA COLUMNA cod_user COMO COD_USUARIO"
   ]
  },
  {
   "cell_type": "code",
   "execution_count": 58,
   "metadata": {},
   "outputs": [],
   "source": [
    "extr_fondos = extr_fondos.withColumnRenamed('cod_user', 'COD_USUARIO')"
   ]
  },
  {
   "cell_type": "code",
   "execution_count": 60,
   "metadata": {},
   "outputs": [
    {
     "name": "stdout",
     "output_type": "stream",
     "text": [
      "+-----------+---------+-----------+-----------+-----------+--------------------+-----------+------------+------------+-----------+------------+-----------+------------+\n",
      "|cod_ofictrn|imp_trans|COD_USUARIO|cod_npuesto|cod_persona|        hms_soli_trn|cod_trnfims|cod_medio_dv|cod_canal_dv|cod_serv_dv|cod_geve_trn|cod_eve_trn|cod_deve_trn|\n",
      "+-----------+---------+-----------+-----------+-----------+--------------------+-----------+------------+------------+-----------+------------+-----------+------------+\n",
      "|     1557.0|   5000.0|    U044181|        2.0|  5133579.0|2015-12-03 16:47:...|   DSFIT008|         1.0|         1.0|        1.0|         3.0|       37.0|        73.0|\n",
      "|     2585.0|  13000.0|    E018157|        3.0|2.3783944E7|2015-12-23 10:46:...|   DSFIT008|         1.0|         1.0|        1.0|         3.0|       37.0|        73.0|\n",
      "|     2626.0|  19000.0|    UA16687|        1.0|1.2024444E7|2015-12-17 10:25:...|   DSFIT008|         1.0|         1.0|        1.0|         3.0|       37.0|        73.0|\n",
      "|     2738.0|  10000.0|    U215376|        7.0|  3771392.0|2015-12-17 11:36:...|   DSFIT008|         1.0|         1.0|        1.0|         3.0|       37.0|        73.0|\n",
      "|     1575.0|  20000.0|    U230725|        2.0|  3575357.0|2015-12-03 12:49:...|   DSFIT008|         1.0|         1.0|        1.0|         3.0|       37.0|        73.0|\n",
      "|     1539.0|   1500.0|    U102804|        9.0| 3.156371E7|2015-12-28 13:31:...|   DSFIT008|         1.0|         1.0|        1.0|         3.0|       37.0|        73.0|\n",
      "|     1782.0|  70000.0|    E026786|        5.0|  7413286.0|2015-12-23 11:30:...|   DSFIT008|         1.0|         1.0|        1.0|         3.0|       37.0|        73.0|\n",
      "|      740.0|  76000.0|    U084127|        5.0|   716790.0|2015-12-28 14:00:...|   DSFIT008|         1.0|         1.0|        1.0|         3.0|       37.0|        73.0|\n",
      "|     6781.0|   4000.0|    UB37634|        2.0|  9280598.0|2015-12-17 10:22:...|   DSFIT008|         1.0|         1.0|        1.0|         3.0|       37.0|        73.0|\n",
      "|     6809.0|   1500.0|    U076636|        2.0|1.0217131E7|2015-12-28 09:41:...|   DSFIT008|         1.0|         1.0|        1.0|         3.0|       37.0|        73.0|\n",
      "|     7269.0|   5000.0|    E019021|        2.0|1.7459948E7|2015-12-30 13:35:...|   DSFIT008|         1.0|         1.0|        1.0|         3.0|       37.0|        73.0|\n",
      "|     6508.0| 200000.0|    U045949|        4.0|  8855725.0|2015-12-31 10:31:...|   DSFIT008|         1.0|         1.0|        1.0|         3.0|       37.0|        73.0|\n",
      "|      776.0|   2000.0|    U525889|        9.0|  8049888.0|2015-12-01 09:56:...|   DSFIT008|         1.0|         1.0|        1.0|         3.0|       37.0|        73.0|\n",
      "|     1245.0|   1500.0|    E020292|        2.0|2.6862248E7|2015-12-22 13:12:...|   DSFIT008|         1.0|         1.0|        1.0|         3.0|       37.0|        73.0|\n",
      "|     9968.0|   3000.0|    U091564|        2.0|1.4796418E7|2015-12-15 09:59:...|   DSFIT008|         1.0|         1.0|        1.0|         3.0|       37.0|        73.0|\n",
      "|     2392.0|   3000.0|    E026890|        5.0|2.2698738E7|2015-12-15 14:28:...|   DSFIT008|         1.0|         1.0|        1.0|         3.0|       37.0|        73.0|\n",
      "|      787.0|   1000.0|    E044809|        3.0|  9226541.0|2015-12-21 10:30:...|   DSFIT008|         1.0|         1.0|        1.0|         3.0|       37.0|        73.0|\n",
      "|     4423.0|   1000.0|    E021531|        2.0|3.4810405E7|2015-12-04 14:08:...|   DSFIT008|         1.0|         1.0|        1.0|         3.0|       37.0|        73.0|\n",
      "|     1276.0|  12000.0|    U083246|        4.0|  2615088.0|2015-12-03 12:01:...|   DSFIT008|         1.0|         1.0|        1.0|         3.0|       37.0|        73.0|\n",
      "|      117.0|    900.0|    U103160|        9.0|  7231841.0|2015-12-03 11:06:...|   DSFIT008|         1.0|         1.0|        1.0|         3.0|       37.0|        73.0|\n",
      "+-----------+---------+-----------+-----------+-----------+--------------------+-----------+------------+------------+-----------+------------+-----------+------------+\n",
      "only showing top 20 rows\n",
      "\n"
     ]
    }
   ],
   "source": [
    "extr_fondos.show()"
   ]
  },
  {
   "cell_type": "markdown",
   "metadata": {},
   "source": [
    "# EJERCICIO 3.1: ¿CUANTOS GESTORES TIENEN EL TIPO DE PUESTO 'AF'?"
   ]
  },
  {
   "cell_type": "code",
   "execution_count": 64,
   "metadata": {},
   "outputs": [
    {
     "data": {
      "text/plain": [
       "728"
      ]
     },
     "execution_count": 64,
     "metadata": {},
     "output_type": "execute_result"
    }
   ],
   "source": [
    "gestores.filter(gestores.tipo_puesto == 'AF').count()"
   ]
  },
  {
   "cell_type": "markdown",
   "metadata": {},
   "source": [
    "# EJERCICIO 3.2: MUESTRA LAS ULTIMAS DOS APORTACIONES DEL USUARIO UA16687"
   ]
  },
  {
   "cell_type": "code",
   "execution_count": 67,
   "metadata": {},
   "outputs": [
    {
     "data": {
      "text/html": [
       "<div>\n",
       "<table border=\"1\" class=\"dataframe\">\n",
       "  <thead>\n",
       "    <tr style=\"text-align: right;\">\n",
       "      <th></th>\n",
       "      <th>cod_ofictrn</th>\n",
       "      <th>imp_trans</th>\n",
       "      <th>COD_USUARIO</th>\n",
       "      <th>cod_npuesto</th>\n",
       "      <th>cod_persona</th>\n",
       "      <th>hms_soli_trn</th>\n",
       "      <th>cod_trnfims</th>\n",
       "      <th>cod_medio_dv</th>\n",
       "      <th>cod_canal_dv</th>\n",
       "      <th>cod_serv_dv</th>\n",
       "      <th>cod_geve_trn</th>\n",
       "      <th>cod_eve_trn</th>\n",
       "      <th>cod_deve_trn</th>\n",
       "    </tr>\n",
       "  </thead>\n",
       "  <tbody>\n",
       "    <tr>\n",
       "      <th>0</th>\n",
       "      <td>2626.0</td>\n",
       "      <td>19000.0</td>\n",
       "      <td>UA16687</td>\n",
       "      <td>1.0</td>\n",
       "      <td>12024444.0</td>\n",
       "      <td>2015-12-17 10:25:51.0</td>\n",
       "      <td>DSFIT008</td>\n",
       "      <td>1.0</td>\n",
       "      <td>1.0</td>\n",
       "      <td>1.0</td>\n",
       "      <td>3.0</td>\n",
       "      <td>37.0</td>\n",
       "      <td>73.0</td>\n",
       "    </tr>\n",
       "    <tr>\n",
       "      <th>1</th>\n",
       "      <td>2626.0</td>\n",
       "      <td>10000.0</td>\n",
       "      <td>UA16687</td>\n",
       "      <td>1.0</td>\n",
       "      <td>1616852.0</td>\n",
       "      <td>2015-11-24 14:36:16.0</td>\n",
       "      <td>DSFIT008</td>\n",
       "      <td>1.0</td>\n",
       "      <td>1.0</td>\n",
       "      <td>1.0</td>\n",
       "      <td>3.0</td>\n",
       "      <td>37.0</td>\n",
       "      <td>73.0</td>\n",
       "    </tr>\n",
       "  </tbody>\n",
       "</table>\n",
       "</div>"
      ],
      "text/plain": [
       "   cod_ofictrn  imp_trans COD_USUARIO  cod_npuesto  cod_persona  \\\n",
       "0       2626.0    19000.0     UA16687          1.0   12024444.0   \n",
       "1       2626.0    10000.0     UA16687          1.0    1616852.0   \n",
       "\n",
       "            hms_soli_trn cod_trnfims  cod_medio_dv  cod_canal_dv  cod_serv_dv  \\\n",
       "0  2015-12-17 10:25:51.0    DSFIT008           1.0           1.0          1.0   \n",
       "1  2015-11-24 14:36:16.0    DSFIT008           1.0           1.0          1.0   \n",
       "\n",
       "   cod_geve_trn  cod_eve_trn  cod_deve_trn  \n",
       "0           3.0         37.0          73.0  \n",
       "1           3.0         37.0          73.0  "
      ]
     },
     "execution_count": 67,
     "metadata": {},
     "output_type": "execute_result"
    }
   ],
   "source": [
    "extr_fondos.filter(extr_fondos.COD_USUARIO == 'UA16687').sort('hms_soli_trn',ascending=False).toPandas().head(2)"
   ]
  },
  {
   "cell_type": "markdown",
   "metadata": {},
   "source": [
    "# EJERCICIO 3.3: CUENTA LOS USUARIOS CUYO COD_USUARIO COMIENZA POR 'UA'"
   ]
  },
  {
   "cell_type": "code",
   "execution_count": 73,
   "metadata": {},
   "outputs": [
    {
     "data": {
      "text/plain": [
       "133"
      ]
     },
     "execution_count": 73,
     "metadata": {},
     "output_type": "execute_result"
    }
   ],
   "source": [
    "gestores.filter(gestores.COD_USUARIO.startswith('UA')).count()"
   ]
  },
  {
   "cell_type": "markdown",
   "metadata": {},
   "source": [
    "# EJERCICIO 4: TOTAL DE GESTORES POR PUESTO"
   ]
  },
  {
   "cell_type": "code",
   "execution_count": 77,
   "metadata": {},
   "outputs": [
    {
     "name": "stdout",
     "output_type": "stream",
     "text": [
      "+-----------+-----+\n",
      "|tipo_puesto|count|\n",
      "+-----------+-----+\n",
      "|        APR|    3|\n",
      "|         DC|  268|\n",
      "|        AFR|   25|\n",
      "|        DGR|   52|\n",
      "|       DCBC|  347|\n",
      "|        DO3|  638|\n",
      "|         GD|  176|\n",
      "|         DO|    1|\n",
      "|         GP|  424|\n",
      "|        DO2| 1062|\n",
      "|         AP|  228|\n",
      "|         AF|  728|\n",
      "+-----------+-----+\n",
      "\n"
     ]
    }
   ],
   "source": [
    "gestores.groupBy('tipo_puesto').count().show()"
   ]
  },
  {
   "cell_type": "markdown",
   "metadata": {},
   "source": [
    "# EJERCICIO 5.1: INCLUIR LA DESCRIPCION DEL PUESTO DE TRABAJO EN LA TABLA DE GESTORES (a partir del archivo tabla_puestos.csv)"
   ]
  },
  {
   "cell_type": "code",
   "execution_count": 81,
   "metadata": {},
   "outputs": [],
   "source": [
    "tipo_puesto = sqlContext.read.option('header', 'true').option('delimiter', ':').csv('data/tabla_puestos.csv')"
   ]
  },
  {
   "cell_type": "code",
   "execution_count": 82,
   "metadata": {},
   "outputs": [
    {
     "name": "stdout",
     "output_type": "stream",
     "text": [
      "+-----------+--------------------+\n",
      "|tipo_puesto|     tipo_puesto_def|\n",
      "+-----------+--------------------+\n",
      "|         GP|        Gestor_pymes|\n",
      "|         AF|   Asesor_Financiero|\n",
      "|         GD|      Gestor_Directo|\n",
      "|        AFR|Asesor_Financiero...|\n",
      "|        DO3|Asesor_Financiero...|\n",
      "|         DC|  Director_Comercial|\n",
      "|         AP|  Asesor_Patrimonial|\n",
      "|        DO3|Asesor_Financiero...|\n",
      "|        DGR|Director_General_...|\n",
      "|       DCBC|     Director_de_CBC|\n",
      "|         DO|     Drector_Oficina|\n",
      "|        APR|Asesor_Financiero...|\n",
      "+-----------+--------------------+\n",
      "\n"
     ]
    }
   ],
   "source": [
    "tipo_puesto.show()"
   ]
  },
  {
   "cell_type": "code",
   "execution_count": 83,
   "metadata": {
    "collapsed": true
   },
   "outputs": [],
   "source": [
    "gestores = gestores.join(tipo_puesto, 'tipo_puesto')"
   ]
  },
  {
   "cell_type": "code",
   "execution_count": 84,
   "metadata": {},
   "outputs": [
    {
     "name": "stdout",
     "output_type": "stream",
     "text": [
      "+-----------+-----------+--------------------+\n",
      "|tipo_puesto|COD_USUARIO|     tipo_puesto_def|\n",
      "+-----------+-----------+--------------------+\n",
      "|         GP|    E000170|        Gestor_pymes|\n",
      "|         AF|    E000501|   Asesor_Financiero|\n",
      "|         AF|    E000531|   Asesor_Financiero|\n",
      "|         AF|    E000545|   Asesor_Financiero|\n",
      "|         AF|    E000558|   Asesor_Financiero|\n",
      "|         AF|    E000575|   Asesor_Financiero|\n",
      "|         AF|    E000766|   Asesor_Financiero|\n",
      "|         GP|    E000839|        Gestor_pymes|\n",
      "|         AF|    E001223|   Asesor_Financiero|\n",
      "|         AF|    E017652|   Asesor_Financiero|\n",
      "|         GD|    E017834|      Gestor_Directo|\n",
      "|         AF|    E017873|   Asesor_Financiero|\n",
      "|         GD|    E017941|      Gestor_Directo|\n",
      "|         GP|    E018089|        Gestor_pymes|\n",
      "|        AFR|    E018296|Asesor_Financiero...|\n",
      "|         GP|    E018300|        Gestor_pymes|\n",
      "|         AF|    E018439|   Asesor_Financiero|\n",
      "|        DO3|    E018543|Asesor_Financiero...|\n",
      "|        DO3|    E018543|Asesor_Financiero...|\n",
      "|         GP|    E018550|        Gestor_pymes|\n",
      "+-----------+-----------+--------------------+\n",
      "only showing top 20 rows\n",
      "\n"
     ]
    }
   ],
   "source": [
    "gestores.show()"
   ]
  },
  {
   "cell_type": "markdown",
   "metadata": {},
   "source": [
    "# EJERCICIO 5.2: AÑADIR UNA COLUMNA CON EL TOTAL DE PERSONAS POR PUESTO "
   ]
  },
  {
   "cell_type": "code",
   "execution_count": 87,
   "metadata": {
    "collapsed": true
   },
   "outputs": [],
   "source": [
    "total_puesto = gestores.groupBy('tipo_puesto').count()"
   ]
  },
  {
   "cell_type": "code",
   "execution_count": 88,
   "metadata": {},
   "outputs": [
    {
     "name": "stdout",
     "output_type": "stream",
     "text": [
      "+-----------+-----+\n",
      "|tipo_puesto|count|\n",
      "+-----------+-----+\n",
      "|        APR|    3|\n",
      "|         DC|  268|\n",
      "|        AFR|   25|\n",
      "|        DGR|   52|\n",
      "|       DCBC|  347|\n",
      "|        DO3| 1276|\n",
      "|         GD|  176|\n",
      "|         DO|    1|\n",
      "|         GP|  424|\n",
      "|         AP|  228|\n",
      "|         AF|  728|\n",
      "+-----------+-----+\n",
      "\n"
     ]
    }
   ],
   "source": [
    "total_puesto.show()"
   ]
  },
  {
   "cell_type": "code",
   "execution_count": 90,
   "metadata": {},
   "outputs": [],
   "source": [
    "gestores = gestores.join(total_puesto, 'tipo_puesto')"
   ]
  },
  {
   "cell_type": "code",
   "execution_count": 91,
   "metadata": {},
   "outputs": [
    {
     "name": "stdout",
     "output_type": "stream",
     "text": [
      "+-----------+-----------+--------------------+-----+\n",
      "|tipo_puesto|COD_USUARIO|     tipo_puesto_def|count|\n",
      "+-----------+-----------+--------------------+-----+\n",
      "|         GP|    E000170|        Gestor_pymes|  424|\n",
      "|         AF|    E000501|   Asesor_Financiero|  728|\n",
      "|         AF|    E000531|   Asesor_Financiero|  728|\n",
      "|         AF|    E000545|   Asesor_Financiero|  728|\n",
      "|         AF|    E000558|   Asesor_Financiero|  728|\n",
      "|         AF|    E000575|   Asesor_Financiero|  728|\n",
      "|         AF|    E000766|   Asesor_Financiero|  728|\n",
      "|         GP|    E000839|        Gestor_pymes|  424|\n",
      "|         AF|    E001223|   Asesor_Financiero|  728|\n",
      "|         AF|    E017652|   Asesor_Financiero|  728|\n",
      "|         GD|    E017834|      Gestor_Directo|  176|\n",
      "|         AF|    E017873|   Asesor_Financiero|  728|\n",
      "|         GD|    E017941|      Gestor_Directo|  176|\n",
      "|         GP|    E018089|        Gestor_pymes|  424|\n",
      "|        AFR|    E018296|Asesor_Financiero...|   25|\n",
      "|         GP|    E018300|        Gestor_pymes|  424|\n",
      "|         AF|    E018439|   Asesor_Financiero|  728|\n",
      "|        DO3|    E018543|Asesor_Financiero...| 1276|\n",
      "|        DO3|    E018543|Asesor_Financiero...| 1276|\n",
      "|         GP|    E018550|        Gestor_pymes|  424|\n",
      "+-----------+-----------+--------------------+-----+\n",
      "only showing top 20 rows\n",
      "\n"
     ]
    }
   ],
   "source": [
    "gestores.show()"
   ]
  },
  {
   "cell_type": "markdown",
   "metadata": {},
   "source": [
    "# EJERCICIO 5.3: CAMBIAR EL NOMBRE DE LA COLUMNA DEL TOTAL A \"total_por_puesto\""
   ]
  },
  {
   "cell_type": "code",
   "execution_count": 92,
   "metadata": {
    "collapsed": true
   },
   "outputs": [],
   "source": [
    "gestores = gestores.withColumnRenamed('count','total_por_puesto')"
   ]
  },
  {
   "cell_type": "code",
   "execution_count": 93,
   "metadata": {},
   "outputs": [
    {
     "name": "stdout",
     "output_type": "stream",
     "text": [
      "+-----------+-----------+--------------------+----------------+\n",
      "|tipo_puesto|COD_USUARIO|     tipo_puesto_def|total_por_puesto|\n",
      "+-----------+-----------+--------------------+----------------+\n",
      "|         GP|    E000170|        Gestor_pymes|             424|\n",
      "|         AF|    E000501|   Asesor_Financiero|             728|\n",
      "|         AF|    E000531|   Asesor_Financiero|             728|\n",
      "|         AF|    E000545|   Asesor_Financiero|             728|\n",
      "|         AF|    E000558|   Asesor_Financiero|             728|\n",
      "|         AF|    E000575|   Asesor_Financiero|             728|\n",
      "|         AF|    E000766|   Asesor_Financiero|             728|\n",
      "|         GP|    E000839|        Gestor_pymes|             424|\n",
      "|         AF|    E001223|   Asesor_Financiero|             728|\n",
      "|         AF|    E017652|   Asesor_Financiero|             728|\n",
      "|         GD|    E017834|      Gestor_Directo|             176|\n",
      "|         AF|    E017873|   Asesor_Financiero|             728|\n",
      "|         GD|    E017941|      Gestor_Directo|             176|\n",
      "|         GP|    E018089|        Gestor_pymes|             424|\n",
      "|        AFR|    E018296|Asesor_Financiero...|              25|\n",
      "|         GP|    E018300|        Gestor_pymes|             424|\n",
      "|         AF|    E018439|   Asesor_Financiero|             728|\n",
      "|        DO3|    E018543|Asesor_Financiero...|            1276|\n",
      "|        DO3|    E018543|Asesor_Financiero...|            1276|\n",
      "|         GP|    E018550|        Gestor_pymes|             424|\n",
      "+-----------+-----------+--------------------+----------------+\n",
      "only showing top 20 rows\n",
      "\n"
     ]
    }
   ],
   "source": [
    "gestores.show()"
   ]
  },
  {
   "cell_type": "code",
   "execution_count": 107,
   "metadata": {},
   "outputs": [
    {
     "data": {
      "text/plain": [
       "<matplotlib.axes._subplots.AxesSubplot at 0x7f696083a3c8>"
      ]
     },
     "execution_count": 107,
     "metadata": {},
     "output_type": "execute_result"
    },
    {
     "data": {
      "image/png": "[encoded data removed]",
      "text/plain": [
       "<matplotlib.figure.Figure at 0x7f695e548860>"
      ]
     },
     "metadata": {},
     "output_type": "display_data"
    }
   ],
   "source": [
    "total_puesto.toPandas().plot(kind='bar')"
   ]
  },
  {
   "cell_type": "code",
   "execution_count": 109,
   "metadata": {},
   "outputs": [
    {
     "data": {
      "image/png": "[encoded data removed]",
      "text/plain": [
       "<matplotlib.figure.Figure at 0x7f6960332208>"
      ]
     },
     "metadata": {},
     "output_type": "display_data"
    }
   ],
   "source": [
    "\n",
    "df = gestores.toPandas().groupby([\"tipo_puesto_def\"]).size().reset_index(name='Usuarios')\n",
    "N = len(df)\n",
    "ind = np.arange(N) # the x locations for the groups\n",
    "width = 0.35       # the width of the bars: can also be len(x) sequence\n",
    "p1 = plt.bar(ind, df.Usuarios, width, color='r')\n",
    "plt.xticks(ind, df.tipo_puesto_def,rotation=90)\n",
    "plt.title('Número de usuarios por tipo de puesto')\n",
    "plt.show()"
   ]
  },
  {
   "cell_type": "markdown",
   "metadata": {},
   "source": [
    "# EJERCICIO 5: Top 10 de gestores, para un conjunto del segmento global, que tengan mayor cantidad de importe en fondos para el segmento global = 41"
   ]
  },
  {
   "cell_type": "code",
   "execution_count": 122,
   "metadata": {},
   "outputs": [
    {
     "name": "stdout",
     "output_type": "stream",
     "text": [
      "+------------+-----------+------------------+------------------+------------------+------------------+------------------+------------------+\n",
      "|COD_SEGLOBAL|COD_USUARIO|sum(fondos_201507)|sum(fondos_201508)|sum(fondos_201509)|sum(fondos_201510)|sum(fondos_201511)|sum(fondos_201512)|\n",
      "+------------+-----------+------------------+------------------+------------------+------------------+------------------+------------------+\n",
      "|          41|    U075117|               0.0|               0.0|               0.0|               0.0|               0.0|               0.0|\n",
      "|          41|    U077336|               0.0|               0.0|               0.0|               0.0|               0.0|               0.0|\n",
      "|          41|    U078126|          25198.16|          24578.65|          24428.27|          25053.52|           25952.0|          25116.59|\n",
      "|          41|    U091109|         434028.32|         399521.37|          379071.4|         415268.72|         422369.22|         407438.26|\n",
      "|          41|    U093955|        2191775.21|        2144492.33|        2108506.07|        2149490.45|        2052718.55|        1879811.75|\n",
      "|          41|    E027777|        4782974.01|        4670222.81|        4403269.61|         4616186.9|        4434899.72|        4426618.29|\n",
      "|          41|    U076627|        4059185.45|        3981977.36|        2873504.14|        2968638.67|         2989648.3|        2949781.36|\n",
      "|          41|    U079397|               0.0|               0.0|               0.0|               0.0|               0.0|               0.0|\n",
      "|          41|    U103202|               0.0|               0.0|               0.0|               0.0|               0.0|               0.0|\n",
      "|          41|    U082343|         121833.76|           65708.1|          64238.13|          66281.99|          66999.47|          65781.38|\n",
      "|          41|    UA44598|               0.0|               0.0|               0.0|               0.0|               0.0|               0.0|\n",
      "|          41|    U082249|         911017.32|         865519.06|         835491.86|         869456.11|         874452.66|          883095.7|\n",
      "|          41|    U091139|        1006447.38|        1250171.37|        1220416.11|        1257067.03|        1338742.82|        1331626.85|\n",
      "|          41|    U102284|        5064269.84|        4992748.91|        4932645.71|        5017898.21|        5004591.88|        4957779.89|\n",
      "|          41|    U103831|        2786385.01|         2701855.0|        2637049.44|        2736811.71|        2753556.94|        2701972.12|\n",
      "|          41|    UA70869|         398107.25|         485770.82|         474038.66|         486644.14|         563431.09|          645156.3|\n",
      "|          41|    UB29429|         198026.56|         197167.79|         194110.72|         196200.99|         196304.32|          196143.9|\n",
      "|          41|    E025655|         266161.54|         502269.39|         501314.75|         505737.21|         510165.69|         355788.81|\n",
      "|          41|    U079917|        1076936.61|         1058410.7|        1032515.19|         1056405.6|        1062197.34|        1044825.64|\n",
      "|          41|    U082669|         398779.25|         360022.81|         267165.19|         292227.79|         296704.49|         284678.51|\n",
      "+------------+-----------+------------------+------------------+------------------+------------------+------------------+------------------+\n",
      "only showing top 20 rows\n",
      "\n"
     ]
    }
   ],
   "source": [
    "fondos_agrup = fondos_ev.filter(fondos_ev.COD_SEGLOBAL == '41').groupBy(['COD_SEGLOBAL','COD_USUARIO']).sum()\n",
    "fondos_agrup.show()"
   ]
  },
  {
   "cell_type": "code",
   "execution_count": 125,
   "metadata": {
    "collapsed": true
   },
   "outputs": [],
   "source": [
    "fondos_agrup = fondos_agrup.withColumnRenamed('sum(fondos_201507)','fondos_201507')\\\n",
    "                        .withColumnRenamed('sum(fondos_201508)','fondos_201508')\\\n",
    "                        .withColumnRenamed('sum(fondos_201509)','fondos_201509')\\\n",
    "                        .withColumnRenamed('sum(fondos_201510)','fondos_201510')\\\n",
    "                        .withColumnRenamed('sum(fondos_201511)','fondos_201511')\\\n",
    "                        .withColumnRenamed('sum(fondos_201512)','fondos_201512')"
   ]
  },
  {
   "cell_type": "code",
   "execution_count": 126,
   "metadata": {},
   "outputs": [
    {
     "name": "stdout",
     "output_type": "stream",
     "text": [
      "root\n",
      " |-- COD_SEGLOBAL: string (nullable = true)\n",
      " |-- COD_USUARIO: string (nullable = true)\n",
      " |-- fondos_201507: double (nullable = true)\n",
      " |-- fondos_201508: double (nullable = true)\n",
      " |-- fondos_201509: double (nullable = true)\n",
      " |-- fondos_201510: double (nullable = true)\n",
      " |-- fondos_201511: double (nullable = true)\n",
      " |-- fondos_201512: double (nullable = true)\n",
      "\n"
     ]
    }
   ],
   "source": [
    "fondos_agrup.printSchema()"
   ]
  },
  {
   "cell_type": "code",
   "execution_count": 127,
   "metadata": {},
   "outputs": [],
   "source": [
    "fondos_agrup = fondos_agrup.withColumn('TOTAL', fondos_agrup.fondos_201507+fondos_agrup.fondos_201508+\\\n",
    "                                       fondos_agrup.fondos_201509+fondos_agrup.fondos_201510+\\\n",
    "                                       fondos_agrup.fondos_201511+fondos_agrup.fondos_201512)"
   ]
  },
  {
   "cell_type": "code",
   "execution_count": 131,
   "metadata": {},
   "outputs": [
    {
     "name": "stdout",
     "output_type": "stream",
     "text": [
      "+------------+-----------+-------------+-------------+-------------+-------------+-------------+-------------+--------------------+\n",
      "|COD_SEGLOBAL|COD_USUARIO|fondos_201507|fondos_201508|fondos_201509|fondos_201510|fondos_201511|fondos_201512|               TOTAL|\n",
      "+------------+-----------+-------------+-------------+-------------+-------------+-------------+-------------+--------------------+\n",
      "|          41|    U074939|5.061299048E7|5.008202812E7| 4.96176457E7|4.980997095E7|4.817754114E7|4.596494926E7|      2.9426512565E8|\n",
      "|          41|    U098194|3.613579924E7|3.648182101E7|3.555722628E7|3.611930492E7|3.608320397E7|3.560132124E7|      2.1597867666E8|\n",
      "|          41|    U216094|2.422396166E7|2.357620817E7|2.367436165E7|2.357557466E7|2.354551651E7|2.213363075E7|1.4072925339999998E8|\n",
      "|          41|    U075773|2.024342059E7| 2.03429777E7|1.945409504E7|2.116180227E7| 2.11596283E7|2.003409646E7|1.2239602035999998E8|\n",
      "|          41|    U076208|2.047509094E7|2.015505726E7|1.944810827E7|2.048252773E7|2.029708082E7|2.056671216E7|      1.2142457718E8|\n",
      "|          41|    U089882|1.995375831E7|1.965052073E7|1.945363492E7|1.979620375E7| 2.00441904E7|1.889810988E7|1.1779641799000001E8|\n",
      "|          41|    U083994|2.161326117E7| 2.13803786E7|2.113463473E7|2.147901009E7|1.421437848E7|1.407518508E7|      1.1389684815E8|\n",
      "|          41|    U076295| 2.14003058E7|2.074768879E7|1.742263138E7| 1.77189731E7|1.716108233E7|1.685948296E7|1.1131016435999998E8|\n",
      "|          41|    U079152|1.935875405E7|1.890292877E7|1.720511811E7| 1.69610334E7|1.702137754E7|1.763029631E7|      1.0707950818E8|\n",
      "|          41|    U082720| 1.91813372E7|1.860813261E7|1.726847226E7|1.756224565E7|1.729347791E7| 1.66411088E7|1.0655477442999999E8|\n",
      "+------------+-----------+-------------+-------------+-------------+-------------+-------------+-------------+--------------------+\n",
      "only showing top 10 rows\n",
      "\n"
     ]
    }
   ],
   "source": [
    "fondos_agrup.sort('TOTAL',ascending=False).show(10)"
   ]
  },
  {
   "cell_type": "markdown",
   "metadata": {},
   "source": [
    "# EJERCICIO 6: Top 10 de gestores, para un conjunto del segmento global, que tengan una mayor evolución en saldo en fondos con cod_seglobal= 41"
   ]
  },
  {
   "cell_type": "code",
   "execution_count": 132,
   "metadata": {
    "collapsed": true
   },
   "outputs": [],
   "source": [
    "fondos_agrup = fondos_ev.filter(fondos_ev.COD_SEGLOBAL == '41').groupBy(['COD_SEGLOBAL','COD_USUARIO']).sum()"
   ]
  },
  {
   "cell_type": "code",
   "execution_count": 133,
   "metadata": {
    "collapsed": true
   },
   "outputs": [],
   "source": [
    "fondos_agrup = fondos_agrup.withColumnRenamed('sum(fondos_201507)','fondos_201507')\\\n",
    "                        .withColumnRenamed('sum(fondos_201508)','fondos_201508')\\\n",
    "                        .withColumnRenamed('sum(fondos_201509)','fondos_201509')\\\n",
    "                        .withColumnRenamed('sum(fondos_201510)','fondos_201510')\\\n",
    "                        .withColumnRenamed('sum(fondos_201511)','fondos_201511')\\\n",
    "                        .withColumnRenamed('sum(fondos_201512)','fondos_201512')"
   ]
  },
  {
   "cell_type": "code",
   "execution_count": 134,
   "metadata": {
    "collapsed": true
   },
   "outputs": [],
   "source": [
    "fondos_agrup = fondos_agrup.withColumn('EVOLUCION', (fondos_agrup.fondos_201512-fondos_agrup.fondos_201507)/\\\n",
    "                                       fondos_agrup.fondos_201507)"
   ]
  },
  {
   "cell_type": "code",
   "execution_count": 137,
   "metadata": {},
   "outputs": [
    {
     "name": "stdout",
     "output_type": "stream",
     "text": [
      "+------------+-----------+-------------+-------------+-------------+-------------+-------------+-------------+------------------+\n",
      "|COD_SEGLOBAL|COD_USUARIO|fondos_201507|fondos_201508|fondos_201509|fondos_201510|fondos_201511|fondos_201512|         EVOLUCION|\n",
      "+------------+-----------+-------------+-------------+-------------+-------------+-------------+-------------+------------------+\n",
      "|          41|    U084596|   2424728.26|   5588454.14|    5562729.2|   5416636.25|   5460054.69|   5452460.95|1.2486894881985664|\n",
      "|          41|    U089555|     47456.73|     96917.89|     96584.43|     97860.65|     99678.18|     99471.11|1.0960380118899888|\n",
      "|          41|    U095050|     13825.25|      8821.77|     38822.07|     38819.25|     38822.95|     28797.98|1.0829988607800944|\n",
      "|          41|    U096059|     97983.98|     97375.14|    196107.13|    197690.33|    198336.65|    197354.33|1.0141489455725312|\n",
      "|          41|    UA70869|    398107.25|    485770.82|    474038.66|    486644.14|    563431.09|     645156.3|0.6205590327732038|\n",
      "|          41|    U095431|   2035830.53|   1984477.84|   1950720.55|   1997491.93|   2700764.45|   3249019.72|0.5959185561481879|\n",
      "|          41|    U082601|   1534544.97|    954016.21|    895634.38|    861942.61|   1399794.64|   2395129.26|0.5608074750653934|\n",
      "|          41|    U516795|    298657.88|    289933.43|    443931.15|    462236.59|    466313.03|    458786.89| 0.536162012534208|\n",
      "|          41|    U210589|    186639.25|     182501.3|    178947.53|    185374.76|    185785.76|    283515.96|0.5190586117335985|\n",
      "|          41|    U089543|   1515842.95|   1450500.17|   1938837.88|   2349368.66|   2299682.95|   2298608.02|0.5163892934950814|\n",
      "+------------+-----------+-------------+-------------+-------------+-------------+-------------+-------------+------------------+\n",
      "only showing top 10 rows\n",
      "\n"
     ]
    }
   ],
   "source": [
    "fondos_agrup.sort('EVOLUCION',ascending=False).show(10)"
   ]
  },
  {
   "cell_type": "markdown",
   "metadata": {},
   "source": [
    "# EJERCICIO 7 : Cuales son los 3 tipos de puesto que manejan mayor cantidad de fondos en media por mes"
   ]
  },
  {
   "cell_type": "code",
   "execution_count": 140,
   "metadata": {},
   "outputs": [],
   "source": [
    "fondos_agrup = fondos_ev.drop('COD_SEGLOBAL').groupBy(['COD_USUARIO']).sum()\n"
   ]
  },
  {
   "cell_type": "code",
   "execution_count": 150,
   "metadata": {},
   "outputs": [],
   "source": [
    "fondos_ev_gest = fondos_ev.join(gestores, 'COD_USUARIO')\n",
    "a = fondos_ev_gest.groupBy('tipo_puesto').mean().toPandas()"
   ]
  },
  {
   "cell_type": "code",
   "execution_count": 151,
   "metadata": {},
   "outputs": [
    {
     "data": {
      "text/plain": [
       "<matplotlib.axes._subplots.AxesSubplot at 0x7f6957514358>"
      ]
     },
     "execution_count": 151,
     "metadata": {},
     "output_type": "execute_result"
    },
    {
     "data": {
      "image/png": "[encoded data removed]",
      "text/plain": [
       "<matplotlib.figure.Figure at 0x7f6957509320>"
      ]
     },
     "metadata": {},
     "output_type": "display_data"
    }
   ],
   "source": [
    "a.plot(kind = 'bar')"
   ]
  }
 ],
 "metadata": {
  "kernelspec": {
   "display_name": "Python 3",
   "language": "python",
   "name": "python3"
  },
  "language_info": {
   "codemirror_mode": {
    "name": "ipython",
    "version": 3
   },
   "file_extension": ".py",
   "mimetype": "text/x-python",
   "name": "python",
   "nbconvert_exporter": "python",
   "pygments_lexer": "ipython3",
   "version": "3.5.2"
  }
 },
 "nbformat": 4,
 "nbformat_minor": 2
}

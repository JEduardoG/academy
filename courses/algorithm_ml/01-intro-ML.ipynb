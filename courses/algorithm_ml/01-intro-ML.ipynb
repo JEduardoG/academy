{
 "cells": [
  {
   "cell_type": "markdown",
   "metadata": {},
   "source": [
    "![](static/python.jpg)"
   ]
  },
  {
   "cell_type": "markdown",
   "metadata": {},
   "source": [
    "### Definición Machine Learning\n",
    "\n",
    "\"**Machine Learning** es el subcampo de la Ciencia de la Computación que le brinda a las computadoras la habilidad de aprender sin ser explicitamente programada\" (Arthur Samuel, 1959)\"\n",
    "\n",
    "Más formalmente: \"A programa de computadora se dice que **aprende** de la experiencia E con respecto a alguna clase de tareas T y medida de rendimiento P, si su rendimiento en las tareas T, medidas por P, mejoran con la experiencia E\" (Tom M. Mitchell)\n",
    "\n",
    "Ejemplo: *Aprender* a jugar Ajedrez\n",
    "\n",
    "E = la experiencia de jugar muchas partidas de ajedrez\n",
    "\n",
    "T = la tarea de jugar una partida de ajedrez\n",
    "\n",
    "P = la probabilidad de que el programa gane la próxima partida\n",
    "\n",
    "Machine Learning está por todas partes:\n",
    "* Buscadores (mejorar resultados y sugerencias de búsqueda)\n",
    "* Filtros de Correo Spam\n",
    "* Análisis de sentimientos (RRSS)\n",
    "* Detección Facial\n",
    "* Conducción Autónoma\n",
    "* Predicción del tiempo\n",
    "* Predicción del tráfico\n",
    "* ..."
   ]
  },
  {
   "cell_type": "markdown",
   "metadata": {},
   "source": [
    "### Clasificación de los Problemas de Aprendizaje\n",
    "* **Aprendizaje Supervisado** (se tienen ejemplos de inputs y sus correspondientes output)\n",
    "* **Aprendizaje No-Supervisado** (datos sin etiquetas/output desconocido; descubrir estructura/patrones)\n",
    "* Aprendizaje Semi-Supervisado (conjunto de entreanamiento incompleto; pueden faltar algunos outputs)\n",
    "* Aprendizaje con Refuerzo (se proporciona feedback en términos de recompensa/castigo)"
   ]
  },
  {
   "cell_type": "markdown",
   "metadata": {},
   "source": [
    "### Aprendizaje Supervisado\n",
    "Los problemas de Aprendizaje Supervisado se pueden dividir en dos categorías:\n",
    "* Problemas de **Regresión** (predecir un output continuo) \n",
    "* Problemas de **Clasificación** (predecir un output discreto)\n",
    "\n",
    "#### Determinar si los siguientes son Problemas de Regresión o Problemas de Clasificación\n",
    "* Dado el área ($m^2$) de una vivienda predecir su precio (CLASIFICACION or REGRESION?)\n",
    "* Dado el área ($m^2$) de una vivienda predecir si la casa se podrá vender o no en el próximo mes (CLASIFICACION or REGRESION?)\n",
    "* Dado el área ($m^2$) de una vivienda predecir en cuál de los siguientes tres meses se va a vender ó que no se venderá (CLASIFICACION or REGRESION?): \n",
    "  * 0-no se venderá en los próximos tres meses\n",
    "  * 1-se venderá en el próximo mes \n",
    "  * 2-se venderá dentro de dos meses\n",
    "  * 3-se venderá dentro de tres meses "
   ]
  },
  {
   "cell_type": "markdown",
   "metadata": {
    "collapsed": false
   },
   "source": [
    "### Ejemplo\n",
    "\n",
    "Consideremos el siguiente dataset para entrenar un modelo de regresión para predecir las ventas en función de la inversión en publicidad. La inversión en publicidad está desglosada en TV, Radio y Newspaper.\n",
    "\n",
    "||TV|Radio|Newspaper|Sales|\n",
    "|---|---|---|--|--|\n",
    "|1|230.1|37.8|69.2|22.1|\n",
    "|2|44.5|39.3|45.1|10.4|\n",
    "|3|17.2|45.9|69.3|9.3|\n",
    "|4|151.5|41.3|58.5|18.5|\n",
    "|5|180.8|10.8|58.4|12.9|\n",
    "\n",
    "Observamos que el dataset tiene 5 **registro** (instancias/ejemplos) y en este caso cada record es un vector numérico. Para cada registro identificamos 4 **campos** (atributos); según nuestro planteamiento tres campos son **inputs** y uno es **output**. \n",
    "\n",
    "inputs: TV, Radio, Newspaper\n",
    "\n",
    "output: Sales\n",
    "\n",
    "Los inputs son denominados **features**, y el output también es conocido como **target**.\n",
    "\n",
    "Es importante notar que el output (Sales) es una variable de naturaleza contínua por tanto estamos en presencia de un Problema de Regresión.\n",
    "\n",
    "Imaginemos que planteamos un modelo lineal que captura las ventas como una función de la inversión en los diferentes canales de publicidad:\n",
    "\n",
    "$h_\\theta(Ads)=\\theta_0 + \\theta_1 Ads_{tv} + \\theta_2 Ads_{radio} + \\theta_3 Ads_{newspaper}$ \n",
    "(históricamente el modelo se denomina por la letra *h* por hypothesis)\n",
    "\n",
    "Si con los datos que tenemos (ya que conocemos los inputs y output para cada registro) **entrenamos** el modelo, significa que encontramos valores para $\\theta_0$, $\\theta_1$, $\\theta_2$, $\\theta_3$ de forma tal que el modelo **ajuste** al conjunto de entrenamiento, entonces somo capaces de predecir las ventas para un determinado nivel de inversión publicitaria. \n",
    "\n",
    "\n",
    "#### Un Paso Más\n",
    "Consideremos que nuestro dataset tiene un número suficiente de registros (por ejemplo 2000 registros), una idea importante es dividir nuestro dataset en dos: dataset de entrenamiento y dataset test. De esta forma entrenamos el modelo con el dataset de entrenamiento y validamos el modelo con el dataset test que contiene registros que no han sido \"vistos\" por el modelo en la fase de entrenamiento.\n",
    "\n",
    "\n",
    "De esta forma tratamos de evitar el **overfitting**: modelo que ajusta muy bien el conjunto de entrenamiento (\"memoriza\") pero que no generaliza bien para otros registros.\n",
    "\n",
    "\n",
    "**Todas estas ideas/conceptos que se han esbozado las iremos desarrollando en las siguientes secciones**"
   ]
  },
  {
   "cell_type": "code",
   "execution_count": null,
   "metadata": {
    "collapsed": true
   },
   "outputs": [],
   "source": []
  }
 ],
 "metadata": {
  "kernelspec": {
   "display_name": "Python 2",
   "language": "python",
   "name": "python2"
  },
  "language_info": {
   "codemirror_mode": {
    "name": "ipython",
    "version": 2
   },
   "file_extension": ".py",
   "mimetype": "text/x-python",
   "name": "python",
   "nbconvert_exporter": "python",
   "pygments_lexer": "ipython2",
   "version": "2.7.12"
  }
 },
 "nbformat": 4,
 "nbformat_minor": 2
}

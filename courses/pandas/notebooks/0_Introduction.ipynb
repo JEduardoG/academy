{
 "cells": [
  {
   "cell_type": "markdown",
   "metadata": {},
   "source": [
    "<img src=\"../static/logo.png\" alt=\"datio\" style=\"width: 200px \"align=\"right\"/>"
   ]
  },
  {
   "cell_type": "markdown",
   "metadata": {},
   "source": [
    "## Pandas"
   ]
  },
  {
   "cell_type": "markdown",
   "metadata": {},
   "source": [
    "Lo primero que debemos hacer es importar la libreria de Pandas:"
   ]
  },
  {
   "cell_type": "code",
   "execution_count": 1,
   "metadata": {
    "collapsed": true
   },
   "outputs": [],
   "source": [
    "import pandas as pd"
   ]
  },
  {
   "cell_type": "markdown",
   "metadata": {},
   "source": [
    "Por convenio (de la comunidad de desarrollares) se usa \"pd\" como alias de la librería Pandas."
   ]
  },
  {
   "cell_type": "markdown",
   "metadata": {},
   "source": [
    "## Crear tu propio dataset"
   ]
  },
  {
   "cell_type": "markdown",
   "metadata": {},
   "source": [
    "#### Series"
   ]
  },
  {
   "cell_type": "markdown",
   "metadata": {},
   "source": [
    "El primer ejemplo que vamos a poner va a ser el de definir una estructura de datos \"Series\", un array de datos unidimensional con idexación. Las \"Series\" se definen de la siguiente manera:  \n",
    "\n",
    "**serie = pd.Series(data, index=index)**"
   ]
  },
  {
   "cell_type": "code",
   "execution_count": 2,
   "metadata": {
    "collapsed": true
   },
   "outputs": [],
   "source": [
    "pd.Series?"
   ]
  },
  {
   "cell_type": "markdown",
   "metadata": {},
   "source": [
    "Es decir, que en el primer parámetro le indicamos los datos del array y en el segundo parámetro los índices (en el caso de no indicar los índices de forma explícita, se generarán los índides de forma automático empezando desde el valor cero). Veamos un ejemplo de como crear una estructura \"Series\" con la alineación del Real Madrid, en el que tenemos como 'data' sus nombres y como índice su dorsal:"
   ]
  },
  {
   "cell_type": "code",
   "execution_count": 3,
   "metadata": {
    "collapsed": false
   },
   "outputs": [
    {
     "name": "stdout",
     "output_type": "stream",
     "text": [
      "Plantilla del Real Madrid 2017: \n",
      "1             Navas\n",
      "2          Carvajal\n",
      "3              Pepe\n",
      "4             Ramos\n",
      "5            Varane\n",
      "6             Nacho\n",
      "12          Marcelo\n",
      "15         Coentrao\n",
      "23           Danilo\n",
      "8             Kroos\n",
      "10            James\n",
      "14         Casemiro\n",
      "16          Kovacic\n",
      "19           Modric\n",
      "20          Asensio\n",
      "22             Isco\n",
      "7           Ronaldo\n",
      "9           Benzema\n",
      "11             Bale\n",
      "17    Lucas Vazquez\n",
      "18          Mariano\n",
      "21           Morata\n",
      "dtype: object\n"
     ]
    }
   ],
   "source": [
    "realMadridPlayers = pd.Series(\n",
    "    ['Navas', 'Carvajal', 'Pepe', 'Ramos', 'Varane', 'Nacho', 'Marcelo', 'Coentrao', 'Danilo', 'Kroos', 'James',\n",
    "     'Casemiro','Kovacic', 'Modric', 'Asensio', 'Isco','Ronaldo', 'Benzema', 'Bale', 'Lucas Vazquez', 'Mariano', 'Morata'],\n",
    "    index=[1, 2, 3, 4, 5, 6, 12, 15, 23, 8, 10, 14, 16, 19, 20, 22, 7, 9, 11, 17, 18, 21])\n",
    "\n",
    "print(\"Plantilla del Real Madrid 2017: \\n%s\" %realMadridPlayers)"
   ]
  },
  {
   "cell_type": "markdown",
   "metadata": {},
   "source": [
    "También podemos crearnos una estructura de datos \"Series\" a partir de una lista o de un diccionario. Si la construimos a partir de una lista nos pondrá los índices por defecto y si lo creamos a partir de un diccionario, pondrá como índices las claves. Vamos a ver a continuación un ejemplo de como crear una Serie a partir de un diccionario y además vamos a ver como insertar en esta serie un nuevo elemento:"
   ]
  },
  {
   "cell_type": "code",
   "execution_count": 4,
   "metadata": {
    "collapsed": false
   },
   "outputs": [],
   "source": [
    "columnsDict = {1: 'IMP_FACTUZM', 2: 'IMP_FACTUZT', 3: 'IMP_FACTUZA', 4: 'IMP_OPERAM', 5:'IMP_OPERAT', 6: 'IMP_OPERAA'}\n",
    "\n",
    "#>\n",
    "\n",
    "\n",
    "# Insert new element: Add over index 7 the value:'XTI_PRELSTD'\n",
    "\n",
    "#>\n"
   ]
  },
  {
   "cell_type": "code",
   "execution_count": 5,
   "metadata": {
    "collapsed": false
   },
   "outputs": [],
   "source": [
    "# Access to index with value i: Acces the element with index 1\n",
    "\n",
    "#>\n"
   ]
  },
  {
   "cell_type": "markdown",
   "metadata": {},
   "source": [
    "Nota: El índice puede ser de tipo String. Veamos un ejemplo:"
   ]
  },
  {
   "cell_type": "code",
   "execution_count": 6,
   "metadata": {
    "collapsed": true
   },
   "outputs": [],
   "source": [
    "codigoISO2 = pd.Series(['Afganistán','Åland, Islas','Albania','Alemania','Andorra','Angola','Anguila',\n",
    "                        'Antártida','Antigua y Barbuda','Arabia Saudita','Argelia'],\n",
    "                       index=['AF','AX','AL','DE','AD','AO','AI','AQ','AG','SA','DZ'])"
   ]
  },
  {
   "cell_type": "code",
   "execution_count": 7,
   "metadata": {
    "collapsed": false
   },
   "outputs": [],
   "source": [
    "# Access to index with value 'DE'\n",
    "\n",
    "#>\n"
   ]
  },
  {
   "cell_type": "markdown",
   "metadata": {},
   "source": [
    "#### Dataframe"
   ]
  },
  {
   "cell_type": "code",
   "execution_count": 8,
   "metadata": {
    "collapsed": true
   },
   "outputs": [],
   "source": [
    "from pandas import DataFrame"
   ]
  },
  {
   "cell_type": "markdown",
   "metadata": {},
   "source": [
    "Un Datafre es una estructura de datos similar a una tabla de una base de datos relacional, una tabla de excel, etc y como tal se pueden hacer muchas operaciones y como las que se harían con consultas a tablas de bases de datos o en excel.  \n",
    "Para construir un DataFrame se puede hacer de diferentes formas, como por ejemplo a partir de una lista, de un diccionario, de una Serie, de otro DataFrame, leyendo una tabla excel, csv, etc.  \n",
    "Nota: también se pueden añadir índices al dataframe, un indice es como una primary key sobre una tabla sql, con la excepción de que un indice puede tener valores duplicados."
   ]
  },
  {
   "cell_type": "code",
   "execution_count": 9,
   "metadata": {
    "collapsed": false
   },
   "outputs": [],
   "source": [
    "# From dictionary:\n",
    "\n",
    "data = {'state': ['Ohio', 'Ohio', 'Ohio', 'Nevada', 'Nevada'],\n",
    "'year': [2000, 2001, 2002, 2001, 2002],\n",
    "'pop': [1.5, 1.7, 3.6, 2.4, 2.9]}\n",
    "\n",
    "#>\n"
   ]
  },
  {
   "cell_type": "code",
   "execution_count": 10,
   "metadata": {
    "collapsed": false
   },
   "outputs": [],
   "source": [
    "# From matix and columns :\n",
    "\n",
    "columnsDF = ['cod_ofictrn','imp_trans','cod_user','cod_npuesto','cod_persona']\n",
    "list_listas = [[1557,5000,'U044181','02',5133579],[2585,13000,'E018157','03',23783944],[2626,19000,'UA16687','01',12024444]]\n",
    "\n",
    "#>\n"
   ]
  },
  {
   "cell_type": "code",
   "execution_count": 11,
   "metadata": {
    "collapsed": false
   },
   "outputs": [],
   "source": [
    "# From matix, columns and index:\n",
    "\n",
    "indexDF = ['A','A','C']\n",
    "\n",
    "#>\n"
   ]
  },
  {
   "cell_type": "markdown",
   "metadata": {},
   "source": [
    "Usaremos el método **loc** para acceder por índice, o bien **ix**:"
   ]
  },
  {
   "cell_type": "code",
   "execution_count": 12,
   "metadata": {
    "collapsed": false
   },
   "outputs": [
    {
     "name": "stdout",
     "output_type": "stream",
     "text": [
      "Object `DF_2.loc` not found.\n"
     ]
    }
   ],
   "source": [
    "DF_2.loc?"
   ]
  },
  {
   "cell_type": "code",
   "execution_count": 13,
   "metadata": {
    "collapsed": false
   },
   "outputs": [],
   "source": [
    "# Access to value with index 1:\n",
    "\n",
    "#>\n",
    "\n",
    "\n",
    "# or \n",
    "\n",
    "#>\n",
    "\n"
   ]
  },
  {
   "cell_type": "markdown",
   "metadata": {},
   "source": [
    "Si queremos acceder por el elemento en la posición i usaremos **iloc**, tambień **ix** únicamente si el índice no es de tipo entero."
   ]
  },
  {
   "cell_type": "code",
   "execution_count": 14,
   "metadata": {
    "collapsed": false
   },
   "outputs": [],
   "source": [
    "# Access to the second element:\n",
    "\n",
    "#>\n",
    "\n",
    "\n",
    "# or \n",
    "\n",
    "#>\n",
    "\n"
   ]
  },
  {
   "cell_type": "markdown",
   "metadata": {},
   "source": [
    "Nota: Ver las diferencias de: loc, iloc e ix  en : \"Indexing and Selecting data\": http://pandas.pydata.org/pandas-docs/stable/indexing.html"
   ]
  },
  {
   "cell_type": "markdown",
   "metadata": {},
   "source": [
    "Para mergear listas usaremos la función **zip**:"
   ]
  },
  {
   "cell_type": "code",
   "execution_count": 15,
   "metadata": {
    "collapsed": true
   },
   "outputs": [],
   "source": [
    "cod_ofictrnList = [1557,2585,2626]\n",
    "imp_transList = [5000,13000,19000]\n",
    "cod_userList = ['U044181','E018157','UA16687']"
   ]
  },
  {
   "cell_type": "code",
   "execution_count": 16,
   "metadata": {
    "collapsed": true
   },
   "outputs": [],
   "source": [
    "zip?"
   ]
  },
  {
   "cell_type": "code",
   "execution_count": 17,
   "metadata": {
    "collapsed": false
   },
   "outputs": [],
   "source": [
    "# Create dataset as result to merge: cod_ofictrnList, imp_transList and cod_userList. \n",
    "\n",
    "#>\n"
   ]
  },
  {
   "cell_type": "code",
   "execution_count": 18,
   "metadata": {
    "collapsed": false
   },
   "outputs": [],
   "source": [
    "# Create a dataframe with dataset before and columns: 'cod_ofictrn','imp_trans','cod_user':\n",
    "\n",
    "#>\n"
   ]
  },
  {
   "cell_type": "markdown",
   "metadata": {},
   "source": [
    "Para exportar el dataframe a un fichero csv, usaremos **to_csv**"
   ]
  },
  {
   "cell_type": "code",
   "execution_count": 19,
   "metadata": {
    "collapsed": false
   },
   "outputs": [
    {
     "name": "stdout",
     "output_type": "stream",
     "text": [
      "Object `DF_1.to_csv` not found.\n"
     ]
    }
   ],
   "source": [
    "DF_1.to_csv?"
   ]
  },
  {
   "cell_type": "code",
   "execution_count": 20,
   "metadata": {
    "collapsed": true
   },
   "outputs": [],
   "source": [
    "# Export a dataframe in fonder \"data\"\n",
    "\n",
    "#>\n"
   ]
  },
  {
   "cell_type": "markdown",
   "metadata": {},
   "source": [
    "Borramos el fichero creado, para borrar usaremos **remove**:"
   ]
  },
  {
   "cell_type": "code",
   "execution_count": 21,
   "metadata": {
    "collapsed": false
   },
   "outputs": [
    {
     "ename": "IndentationError",
     "evalue": "expected an indented block (<ipython-input-21-7b807728d858>, line 8)",
     "output_type": "error",
     "traceback": [
      "\u001b[0;36m  File \u001b[0;32m\"<ipython-input-21-7b807728d858>\"\u001b[0;36m, line \u001b[0;32m8\u001b[0m\n\u001b[0;31m    else:\u001b[0m\n\u001b[0m       ^\u001b[0m\n\u001b[0;31mIndentationError\u001b[0m\u001b[0;31m:\u001b[0m expected an indented block\n"
     ]
    }
   ],
   "source": [
    "#!/usr/bin/python\n",
    "import os\n",
    "\n",
    "## delete only if file exists ##\n",
    "if os.path.exists(filename):\n",
    "    #>\n",
    "    \n",
    "else:\n",
    "    print(\"Sorry, I can not remove %s file.\" % filename)"
   ]
  },
  {
   "cell_type": "markdown",
   "metadata": {},
   "source": [
    "## Entrada de datos"
   ]
  },
  {
   "cell_type": "markdown",
   "metadata": {},
   "source": [
    "La API de pandas I/O es un conjunto de las mejores funciones de acceso de lectura como pd.read_csv () que por lo general devuelven un objeto pandas.\n",
    ">Fichero de datos:   read_csv   ,  read_table  \n",
    "Datos estructurados:  read_hdf  ,  read_json  \n",
    "Excel:  read_excel\n"
   ]
  },
  {
   "cell_type": "markdown",
   "metadata": {},
   "source": [
    "### read_excel"
   ]
  },
  {
   "cell_type": "code",
   "execution_count": null,
   "metadata": {
    "collapsed": true
   },
   "outputs": [],
   "source": [
    "pd.read_excel?"
   ]
  },
  {
   "cell_type": "code",
   "execution_count": null,
   "metadata": {
    "collapsed": false
   },
   "outputs": [],
   "source": [
    "# Read excel file: tablas_sinfo.xlsx located in data.\n",
    "\n",
    "#>\n"
   ]
  },
  {
   "cell_type": "markdown",
   "metadata": {},
   "source": [
    "### read_csv"
   ]
  },
  {
   "cell_type": "markdown",
   "metadata": {},
   "source": [
    "dataframe = pd.**read_csv**(\"filepath\",sep=', ', delimiter=None,header='infer'...)  \n",
    "Por defecto toma la primera fila como la cabecera con los nombres del dataset."
   ]
  },
  {
   "cell_type": "code",
   "execution_count": null,
   "metadata": {
    "collapsed": true
   },
   "outputs": [],
   "source": [
    "pd.read_csv?"
   ]
  },
  {
   "cell_type": "code",
   "execution_count": null,
   "metadata": {
    "collapsed": false
   },
   "outputs": [],
   "source": [
    "# Read csv file: Base_evolucion_fondos.csv located in data.\n",
    "\n",
    "#>\n"
   ]
  },
  {
   "cell_type": "code",
   "execution_count": null,
   "metadata": {
    "collapsed": false
   },
   "outputs": [],
   "source": [
    "# Read csv file: Base_evolucion_fondos.csv located in data with header\n",
    "\n",
    "#>\n"
   ]
  },
  {
   "cell_type": "code",
   "execution_count": null,
   "metadata": {
    "collapsed": false
   },
   "outputs": [],
   "source": [
    "# Type of the df object:\n",
    "\n",
    "#>\n"
   ]
  },
  {
   "cell_type": "code",
   "execution_count": null,
   "metadata": {
    "collapsed": false
   },
   "outputs": [],
   "source": [
    "# List column names:\n",
    "\n",
    "#>\n",
    "\n",
    "\n",
    "#or \n",
    "\n",
    "#>\n",
    "\n"
   ]
  },
  {
   "cell_type": "code",
   "execution_count": null,
   "metadata": {
    "collapsed": false
   },
   "outputs": [],
   "source": [
    "# Show first few rows\n",
    "\n",
    "#>\n"
   ]
  },
  {
   "cell_type": "code",
   "execution_count": null,
   "metadata": {
    "collapsed": false
   },
   "outputs": [],
   "source": [
    "# Show last few rows\n",
    "\n",
    "#>\n"
   ]
  },
  {
   "cell_type": "code",
   "execution_count": null,
   "metadata": {
    "collapsed": false
   },
   "outputs": [],
   "source": [
    "# Data type of each column\n",
    "\n",
    "#>\n"
   ]
  },
  {
   "cell_type": "code",
   "execution_count": null,
   "metadata": {
    "collapsed": false
   },
   "outputs": [],
   "source": [
    "# Print index\n",
    "\n",
    "#>\n"
   ]
  },
  {
   "cell_type": "code",
   "execution_count": null,
   "metadata": {
    "collapsed": false
   },
   "outputs": [],
   "source": [
    "# Return number of columns and rows of dataframe\n",
    "\n",
    "#>\n"
   ]
  },
  {
   "cell_type": "code",
   "execution_count": null,
   "metadata": {
    "collapsed": false
   },
   "outputs": [],
   "source": [
    "#  Number of rows\n",
    "\n",
    "#>\n"
   ]
  },
  {
   "cell_type": "code",
   "execution_count": null,
   "metadata": {
    "collapsed": false
   },
   "outputs": [],
   "source": [
    "# Number of columns\n",
    "\n",
    "#>\n"
   ]
  },
  {
   "cell_type": "code",
   "execution_count": null,
   "metadata": {
    "collapsed": false
   },
   "outputs": [],
   "source": [
    "# Basic statistics\n",
    "\n",
    "#>\n"
   ]
  },
  {
   "cell_type": "code",
   "execution_count": null,
   "metadata": {
    "collapsed": false
   },
   "outputs": [],
   "source": [
    "#Getting information and basic calculations\n",
    "\n",
    "#>\n"
   ]
  },
  {
   "cell_type": "code",
   "execution_count": null,
   "metadata": {
    "collapsed": false
   },
   "outputs": [],
   "source": [
    "#  Slices the rows via [], select rows with index from 0 to 2\n",
    "\n",
    "#>\n",
    "\n",
    "\n",
    "   # or\n",
    "\n",
    "#>\n",
    "\n",
    "    \n",
    "    # or\n",
    "    \n",
    "#>    \n",
    "\n",
    "\n",
    "    # or\n",
    "    \n",
    "#>    \n",
    "\n"
   ]
  },
  {
   "cell_type": "code",
   "execution_count": null,
   "metadata": {
    "collapsed": false
   },
   "outputs": [],
   "source": [
    "# Label slicing, slice over rows and columns; the same as above and ontly COD_SEGLOBAL\n",
    "\n",
    "#>\n"
   ]
  },
  {
   "cell_type": "code",
   "execution_count": null,
   "metadata": {
    "collapsed": true
   },
   "outputs": [],
   "source": [
    "# Slice rows and columns, select rows[3:6] colummsn [0,3]\n",
    "\n",
    "#>\n"
   ]
  },
  {
   "cell_type": "code",
   "execution_count": null,
   "metadata": {
    "collapsed": true
   },
   "outputs": [],
   "source": [
    "# Get a value explicitly by position, get row:1, column 1\n",
    "\n",
    "#>\n",
    "\n",
    "\n",
    "# or\n",
    "\n",
    "#>\n"
   ]
  },
  {
   "cell_type": "code",
   "execution_count": null,
   "metadata": {
    "collapsed": false
   },
   "outputs": [],
   "source": [
    "# Get a value explicitly by label, get labels 1, 'COD_SEGLOBAL'\n",
    "\n",
    "#>\n"
   ]
  },
  {
   "cell_type": "code",
   "execution_count": null,
   "metadata": {
    "collapsed": false
   },
   "outputs": [],
   "source": [
    "# Select one column, which yields a Series. Select COD_SEGLOBAL:\n",
    "\n",
    "#>\n",
    "\n",
    "\n",
    "# or\n",
    "\n",
    "#>\n"
   ]
  },
  {
   "cell_type": "code",
   "execution_count": null,
   "metadata": {
    "collapsed": false
   },
   "outputs": [],
   "source": [
    "# Select two columns. Select: COD_USUARIO and COD_SEGLOBAL\n",
    "\n",
    "#>\n"
   ]
  },
  {
   "cell_type": "code",
   "execution_count": null,
   "metadata": {
    "collapsed": false
   },
   "outputs": [],
   "source": [
    "# Select with condition, using a single columnn's values to select data\n",
    "# Filter for the condition COD_SEGLOBAL>34\n",
    "\n",
    "#>\n",
    "\n",
    "\n",
    "     # or\n",
    "#>    \n"
   ]
  },
  {
   "cell_type": "code",
   "execution_count": null,
   "metadata": {
    "collapsed": false
   },
   "outputs": [],
   "source": [
    "# Filter with double condition: \n",
    "# Filter for the conditions: COD_SEGLOBAL=34 AND fondos_201507 >0\n",
    "#>\n",
    "\n",
    "\n",
    "# or\n",
    "\n",
    "#>\n",
    "\n"
   ]
  },
  {
   "cell_type": "code",
   "execution_count": null,
   "metadata": {
    "collapsed": false
   },
   "outputs": [],
   "source": [
    "# Filter with double condition: \n",
    "# Filter for the conditions: COD_SEGLOBAL=34 OR fondos_201507 =0\n",
    "\n",
    "#>\n",
    "\n",
    "\n",
    "    # or\n",
    "\n",
    "#>\n"
   ]
  },
  {
   "cell_type": "code",
   "execution_count": null,
   "metadata": {
    "collapsed": false
   },
   "outputs": [],
   "source": [
    "# Filter using isin() method for filtering\n",
    "# Select data if 'COD_SEGLOBAL' isin: 35.0, 39.0, 41.0 \n",
    "\n",
    "#>\n",
    "\n"
   ]
  },
  {
   "cell_type": "code",
   "execution_count": null,
   "metadata": {
    "collapsed": false
   },
   "outputs": [],
   "source": [
    "# Unique COD_SEGLOBAL\n",
    "\n",
    "#>\n"
   ]
  },
  {
   "cell_type": "code",
   "execution_count": null,
   "metadata": {
    "collapsed": false
   },
   "outputs": [],
   "source": [
    "# Maximum of the \"fondos_201507\" column\n",
    "\n",
    "#>\n"
   ]
  },
  {
   "cell_type": "code",
   "execution_count": null,
   "metadata": {
    "collapsed": false
   },
   "outputs": [],
   "source": [
    "# Maximum fondos_201507 by COD_USUARIO\n",
    "\n",
    "#>\n",
    "\n",
    "\n",
    "    #or\n",
    "#>\n"
   ]
  },
  {
   "cell_type": "code",
   "execution_count": null,
   "metadata": {
    "collapsed": false
   },
   "outputs": [],
   "source": [
    "# Mean fondos_201507 by COD_USUARIO, and rename column result to : Mean_fondos_201507\n",
    "\n",
    "#>\n"
   ]
  },
  {
   "cell_type": "code",
   "execution_count": null,
   "metadata": {
    "collapsed": false
   },
   "outputs": [],
   "source": [
    "# Remove a column, delete 'COD_SEGLOBAL'\n",
    "\n",
    "df1 = df.copy()\n",
    "#>\n",
    "\n",
    "\n",
    "\n",
    "#or\n",
    "df1 = df.copy()\n",
    "#>\n",
    "\n",
    "\n",
    "# or\n",
    "df1 = df.copy()\n",
    "#>\n",
    "\n"
   ]
  },
  {
   "cell_type": "code",
   "execution_count": null,
   "metadata": {
    "collapsed": false
   },
   "outputs": [],
   "source": [
    "# Remove multiple columns, delete 'COD_SEGLOBAL' and 'fondos_201507'\n",
    "\n",
    "df1 = df.copy()\n",
    "#>\n",
    "\n",
    "    # or\n",
    "df1 = df.copy()\n",
    "#>\n"
   ]
  },
  {
   "cell_type": "code",
   "execution_count": null,
   "metadata": {
    "collapsed": true
   },
   "outputs": [],
   "source": [
    "df1.merge?"
   ]
  },
  {
   "cell_type": "code",
   "execution_count": null,
   "metadata": {
    "collapsed": false
   },
   "outputs": [],
   "source": [
    "# Merge two dataframes. Merge df1 and df2 (outer join) on Ciudad and Provincia\n",
    "\n",
    "data1 = {'Ciudad':['Trujillo', 'Las Pedroñeras', 'Navaluenga', 'Navaluenga'], 'Provincia':['Caceres', 'Cuenca', 'Avila', 'Albacete'], 'Poblacion':[10000, 2000, 400, 40000]}\n",
    "\n",
    "data2 = {'Ciudad':['Trujillo', 'Las Pedroñeras', 'Navaluenga', 'Navaluenga'], 'Provincia':['Caceres', 'Cuenca', 'Avila', 'Albacete'], 'Poblacion':[12000, 1800, 380, 30000]}\n",
    "\n",
    "df1 = pd.DataFrame(data1)\n",
    "\n",
    "df2 = pd.DataFrame(data2)\n",
    "\n",
    "#>\n"
   ]
  },
  {
   "cell_type": "code",
   "execution_count": null,
   "metadata": {
    "collapsed": false
   },
   "outputs": [],
   "source": [
    "# Substract. Create column Diferencia 1970-2000 with  Poblacion_2000 - Poblacion_1970 \n",
    "\n",
    "#>\n"
   ]
  },
  {
   "cell_type": "code",
   "execution_count": null,
   "metadata": {
    "collapsed": false
   },
   "outputs": [],
   "source": [
    "# Call functions for grouping. From df, create 'Count_201507_0' column to count fondos_201507=0.0\n",
    "\n",
    "#>\n"
   ]
  },
  {
   "cell_type": "code",
   "execution_count": null,
   "metadata": {
    "collapsed": false
   },
   "outputs": [],
   "source": [
    "# Return the first occurance of COD_SEGLOBAL == 37.0\n",
    "\n",
    "#>\n"
   ]
  },
  {
   "cell_type": "code",
   "execution_count": null,
   "metadata": {
    "collapsed": false
   },
   "outputs": [],
   "source": [
    "# Return the last occurance of COD_SEGLOBAL == 37.0\n",
    "\n",
    "#>\n"
   ]
  },
  {
   "cell_type": "code",
   "execution_count": null,
   "metadata": {
    "collapsed": false
   },
   "outputs": [],
   "source": [
    "# Order in ascending order by fondos_201507 show top 6\n",
    "\n",
    "#>\n"
   ]
  },
  {
   "cell_type": "code",
   "execution_count": null,
   "metadata": {
    "collapsed": false
   },
   "outputs": [],
   "source": [
    "# Order in descending order by fondos_201507 show top 6\n",
    "\n",
    "#>\n"
   ]
  },
  {
   "cell_type": "code",
   "execution_count": null,
   "metadata": {
    "collapsed": false
   },
   "outputs": [],
   "source": [
    "# Order in different order: \"fondos_201507\" in descending and \"COD_USUARIO\" in ascending\n",
    "\n",
    "#>\n"
   ]
  },
  {
   "cell_type": "code",
   "execution_count": null,
   "metadata": {
    "collapsed": false
   },
   "outputs": [],
   "source": [
    "# Rename columns, \"COD_USUARIO\":\"user_code\" and \"COD_SEGLOBAL\":\"global_seg_code\"\n",
    "\n",
    "#>\n"
   ]
  },
  {
   "cell_type": "code",
   "execution_count": null,
   "metadata": {
    "collapsed": false
   },
   "outputs": [],
   "source": [
    "# Add column 'new_column' with string 'Constant'\n",
    "\n",
    "#>\n"
   ]
  },
  {
   "cell_type": "code",
   "execution_count": null,
   "metadata": {
    "collapsed": false
   },
   "outputs": [],
   "source": [
    "# Add a column 'COD_SEG_34', with boolean values depending on COD_SEGLOBA==34.0\n",
    "\n",
    "#>\n",
    "\n"
   ]
  },
  {
   "cell_type": "code",
   "execution_count": null,
   "metadata": {
    "collapsed": false
   },
   "outputs": [],
   "source": [
    "# Transposing data\n",
    "\n",
    "#>\n"
   ]
  },
  {
   "cell_type": "code",
   "execution_count": null,
   "metadata": {
    "collapsed": false
   },
   "outputs": [],
   "source": [
    "# Create new column Q3_2015 where fondos_201507 +  fondos_201508\n",
    "\n",
    "#>\n"
   ]
  },
  {
   "cell_type": "code",
   "execution_count": null,
   "metadata": {
    "collapsed": false
   },
   "outputs": [],
   "source": [
    "# Concatenate two DataFrame columns into a new, single column. Concatenate COD_USUARIO and COD_SEGLOBAL in column 'concatenated'\n",
    "\n",
    "#>\n"
   ]
  },
  {
   "cell_type": "code",
   "execution_count": null,
   "metadata": {
    "collapsed": false
   },
   "outputs": [],
   "source": [
    "# Split delimited values in a DataFrame column into two new columns. Split column concatenated with delimeted :.\n",
    "\n",
    "#>\n"
   ]
  },
  {
   "cell_type": "code",
   "execution_count": null,
   "metadata": {
    "collapsed": false
   },
   "outputs": [],
   "source": [
    "# Unique rows on \"COD_USUARIO\",\"COD_SEGLOBAL\"\n",
    "# By default: Drop duplicates except for the first occurrence.\n",
    "\n",
    "#>\n"
   ]
  },
  {
   "cell_type": "markdown",
   "metadata": {},
   "source": [
    "### Missing Data\n",
    "pandas primarily uses the value np.nan to represent missing data. See the Missing Data section : http://pandas.pydata.org/pandas-docs/stable/missing_data.html#missing-data"
   ]
  },
  {
   "cell_type": "code",
   "execution_count": null,
   "metadata": {
    "collapsed": false
   },
   "outputs": [],
   "source": [
    "# Get the boolean mask where values ans nan\n",
    "\n",
    "#>\n"
   ]
  },
  {
   "cell_type": "code",
   "execution_count": null,
   "metadata": {
    "collapsed": false
   },
   "outputs": [],
   "source": [
    "# Count number on missing values\n",
    "\n",
    "#>\n"
   ]
  },
  {
   "cell_type": "code",
   "execution_count": null,
   "metadata": {
    "collapsed": false
   },
   "outputs": [],
   "source": [
    "# Check if there is any null\n",
    "\n",
    "#>\n"
   ]
  },
  {
   "cell_type": "code",
   "execution_count": null,
   "metadata": {
    "collapsed": false
   },
   "outputs": [],
   "source": [
    "# Drop any rows that have missing data\n",
    "\n",
    "#>\n"
   ]
  },
  {
   "cell_type": "code",
   "execution_count": null,
   "metadata": {
    "collapsed": false
   },
   "outputs": [],
   "source": [
    "# Filling missing data\n",
    "\n",
    "#>\n"
   ]
  }
 ],
 "metadata": {
  "kernelspec": {
   "display_name": "Python 3",
   "language": "python",
   "name": "python3"
  },
  "language_info": {
   "codemirror_mode": {
    "name": "ipython",
    "version": 3
   },
   "file_extension": ".py",
   "mimetype": "text/x-python",
   "name": "python",
   "nbconvert_exporter": "python",
   "pygments_lexer": "ipython3",
   "version": "3.5.2"
  }
 },
 "nbformat": 4,
 "nbformat_minor": 2
}

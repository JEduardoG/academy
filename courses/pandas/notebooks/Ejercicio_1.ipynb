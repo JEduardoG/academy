{
 "cells": [
  {
   "cell_type": "markdown",
   "metadata": {},
   "source": [
    "<img src=\"../static/logo.png\" alt=\"datio\" style=\"width: 200px \"align=\"right\"/>"
   ]
  },
  {
   "cell_type": "markdown",
   "metadata": {},
   "source": [
    "## EJERCICIO 1: Cargar los tres ficheros indicados"
   ]
  },
  {
   "cell_type": "code",
   "execution_count": 3,
   "metadata": {
    "collapsed": false
   },
   "outputs": [],
   "source": [
    "import matplotlib.pyplot as plt;\n",
    "#The plots in this document are made using matplotlib’s ggplot style (new in version 1.4):\n",
    "import matplotlib\n",
    "matplotlib.style.use('ggplot')\n",
    "import numpy as np\n",
    "import pandas as pd"
   ]
  },
  {
   "cell_type": "markdown",
   "metadata": {},
   "source": [
    "### 1.1 Carga el fichero csv : Base_evolucion_fondos.csv\n",
    " Contiene la información a nivel gestor por cada segmento global de la evolución del saldo en fondos mes a mes"
   ]
  },
  {
   "cell_type": "code",
   "execution_count": null,
   "metadata": {
    "collapsed": false
   },
   "outputs": [],
   "source": []
  },
  {
   "cell_type": "markdown",
   "metadata": {},
   "source": [
    "## 1.2 Carga el fichero csv : Base_puesto_gestores.csv\n",
    "Contiene el tipo de puesto de cada gestor"
   ]
  },
  {
   "cell_type": "code",
   "execution_count": null,
   "metadata": {
    "collapsed": false
   },
   "outputs": [],
   "source": []
  },
  {
   "cell_type": "markdown",
   "metadata": {},
   "source": [
    "## 1.3 Carga el fichero csv : txc_aport_extr_fondos.csv\n",
    "Transacciones por canal (TxC) (octubre, noviembre, diciembre 2015) de aport. ext a fondos en oficina"
   ]
  },
  {
   "cell_type": "code",
   "execution_count": null,
   "metadata": {
    "collapsed": false
   },
   "outputs": [],
   "source": []
  },
  {
   "cell_type": "markdown",
   "metadata": {},
   "source": [
    "## EJERCICIO 2: Transformaciones básicas"
   ]
  },
  {
   "cell_type": "markdown",
   "metadata": {},
   "source": [
    "### 2.1 Borrar valores NaN"
   ]
  },
  {
   "cell_type": "code",
   "execution_count": null,
   "metadata": {
    "collapsed": false
   },
   "outputs": [],
   "source": []
  },
  {
   "cell_type": "markdown",
   "metadata": {},
   "source": [
    "### 2.2 Incluir una columna con el significado del tipo de gestor: 'tipo_puesto_def'   \n",
    "(GP: Gestor_pymes, AF: Asesor_Financiero, GD : Gestor_Directo, AFR : Asesor_Financiero_Remoto, \n",
    "DO3 : Asesor_Financiero_Remoto3 , DC : , AP : Asesor_Patrimonial , DO3 : Asesor_Financiero_Remoto2 , \n",
    "DGR : Director_General_Remoto, DCBC : Director_de_CBC, DO : Drector_Oficina, APR : Asesor_Financiero_Remoto)"
   ]
  },
  {
   "cell_type": "code",
   "execution_count": null,
   "metadata": {
    "collapsed": false
   },
   "outputs": [],
   "source": [
    "di_gestores = {\"GP\": \"Gestor_pymes\", \"AF\": \"Asesor_Financiero\",\"GD\":\"Gestor_Directo\",\n",
    "               \"AFR\":\"Asesor_Financiero_Remoto\", \"DO3\":\"Asesor_Financiero_Remoto 3\",\n",
    "               \"DC\":\"Director_Comercial\",\"AP\": \"Asesor_Patrimonial\",\"DO3\":\"Asesor_Financiero_Remoto 2\",\n",
    "               \"DGR\":\"Director_General_Remoto\",\"DCBC\":\"Director_de_CBC\", \"DO\":\"Drector_Oficina\",\n",
    "               \"APR\":\"Asesor_Financiero_Remoto\"}"
   ]
  },
  {
   "cell_type": "code",
   "execution_count": null,
   "metadata": {
    "collapsed": false
   },
   "outputs": [],
   "source": []
  },
  {
   "cell_type": "markdown",
   "metadata": {},
   "source": [
    "### 2.3 Añadir una columna \"day_month\" con el día del mes de la transacción\n",
    "Nota: la columna se creará de tipo numérico"
   ]
  },
  {
   "cell_type": "code",
   "execution_count": null,
   "metadata": {
    "collapsed": false
   },
   "outputs": [],
   "source": []
  },
  {
   "cell_type": "markdown",
   "metadata": {},
   "source": [
    "### 2.4 Renombrar la columna cod_user"
   ]
  },
  {
   "cell_type": "code",
   "execution_count": null,
   "metadata": {
    "collapsed": false
   },
   "outputs": [],
   "source": []
  },
  {
   "cell_type": "markdown",
   "metadata": {},
   "source": [
    "## EJERCICIO 3: Queries sencillas"
   ]
  },
  {
   "cell_type": "markdown",
   "metadata": {},
   "source": [
    "### 3.1 ¿Cuantos gestores tienen el tipo de puesto 'AF'?"
   ]
  },
  {
   "cell_type": "code",
   "execution_count": null,
   "metadata": {
    "collapsed": false
   },
   "outputs": [],
   "source": []
  },
  {
   "cell_type": "markdown",
   "metadata": {},
   "source": [
    "### 3.2 Muestra las ultimas dos aportaciones del usuario UA16687"
   ]
  },
  {
   "cell_type": "code",
   "execution_count": null,
   "metadata": {
    "collapsed": false
   },
   "outputs": [],
   "source": []
  },
  {
   "cell_type": "markdown",
   "metadata": {
    "collapsed": true
   },
   "source": [
    "###  3.3 Cuenta los usuarios cuyo cod_usuario comienza por 'UA'"
   ]
  },
  {
   "cell_type": "code",
   "execution_count": null,
   "metadata": {
    "collapsed": false
   },
   "outputs": [],
   "source": []
  },
  {
   "cell_type": "markdown",
   "metadata": {},
   "source": [
    "### 3.4 Dibuja un gráfico de barras con el número de usarios de cada tipo de puesto (usar la definiciond de puesto no las siglas)"
   ]
  },
  {
   "cell_type": "code",
   "execution_count": null,
   "metadata": {
    "collapsed": false
   },
   "outputs": [],
   "source": []
  },
  {
   "cell_type": "markdown",
   "metadata": {},
   "source": [
    "## EJERCICIO 4: Indicar para cada usuario los tres segmentos globales con mayor cantidad de saldo en fondos"
   ]
  },
  {
   "cell_type": "code",
   "execution_count": null,
   "metadata": {
    "collapsed": false
   },
   "outputs": [],
   "source": []
  },
  {
   "cell_type": "markdown",
   "metadata": {
    "collapsed": true
   },
   "source": [
    "## EJERCICIO 5: Top 10 de gestores, para un conjunto del segmento global, que tengan mayor cantidad de importe en fondos para el segmento global = 43"
   ]
  },
  {
   "cell_type": "code",
   "execution_count": null,
   "metadata": {
    "collapsed": false
   },
   "outputs": [],
   "source": []
  },
  {
   "cell_type": "markdown",
   "metadata": {},
   "source": [
    "## EJERCICIO 6: Top 10 de gestores, para un conjunto del segmento global, que tengan una mayor evolución en saldo en fondos con cod_seglobal= 41\n",
    "Evolución: Porcentaje de aumento en el importe gestionado entre Julio y Diciembre del 2015"
   ]
  },
  {
   "cell_type": "code",
   "execution_count": null,
   "metadata": {
    "collapsed": false
   },
   "outputs": [],
   "source": []
  },
  {
   "cell_type": "markdown",
   "metadata": {},
   "source": [
    "## EJERCICIO 7: Top 10 de gestores con mayor número de aportaciones extraordinarias (a clientes distintos) en los primeros 15 días de cada mes"
   ]
  },
  {
   "cell_type": "code",
   "execution_count": null,
   "metadata": {
    "collapsed": false
   },
   "outputs": [],
   "source": []
  },
  {
   "cell_type": "markdown",
   "metadata": {},
   "source": [
    "## EJERCICIO 8 : Crear una tabla donde a nivel usuario se muestre la evolucion total en fondos por meses, la cantidad total en fondos del 2015, el número de aportaciones realizadas por sus clientes, y la cantidad total de las aportaciones. A continuación sacar el top 3 de los usarios con mayor número de aportaciones y mayor cantidad en fondos\n"
   ]
  },
  {
   "cell_type": "code",
   "execution_count": null,
   "metadata": {
    "collapsed": false
   },
   "outputs": [],
   "source": []
  },
  {
   "cell_type": "code",
   "execution_count": null,
   "metadata": {
    "collapsed": false
   },
   "outputs": [],
   "source": []
  },
  {
   "cell_type": "markdown",
   "metadata": {
    "collapsed": true
   },
   "source": [
    "## EJERCICIO 9 : Cuales son los 3 tipos de puesto que manejan mayor cantidad de fondos en media por mes\n"
   ]
  },
  {
   "cell_type": "code",
   "execution_count": null,
   "metadata": {
    "collapsed": false
   },
   "outputs": [],
   "source": []
  },
  {
   "cell_type": "code",
   "execution_count": null,
   "metadata": {
    "collapsed": true
   },
   "outputs": [],
   "source": []
  }
 ],
 "metadata": {
  "kernelspec": {
   "display_name": "Python 3",
   "language": "python",
   "name": "python3"
  },
  "language_info": {
   "codemirror_mode": {
    "name": "ipython",
    "version": 3
   },
   "file_extension": ".py",
   "mimetype": "text/x-python",
   "name": "python",
   "nbconvert_exporter": "python",
   "pygments_lexer": "ipython3",
   "version": "3.5.2"
  }
 },
 "nbformat": 4,
 "nbformat_minor": 2
}

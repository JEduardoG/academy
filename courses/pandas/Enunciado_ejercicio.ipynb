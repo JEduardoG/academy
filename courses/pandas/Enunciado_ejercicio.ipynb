{
 "cells": [
  {
   "cell_type": "markdown",
   "metadata": {},
   "source": [
    "# ENUNCIADO EJERCICIO"
   ]
  },
  {
   "cell_type": "markdown",
   "metadata": {},
   "source": [
    "Por territorial y luego por segmento sacar el capital inicial medio que solo incluya los contratos activos\n",
    "\n",
    "Cuantos clientes activos y primeros titulares, con préstamos no cancelados hay por zonas\n",
    "\n",
    "Distribución por edad y distribución por estados de los préstamos\n",
    "\n",
    "Distribución de aperturas por día de la semana y distribución de aperturas por año"
   ]
  }
 ],
 "metadata": {
  "kernelspec": {
   "display_name": "Python 3",
   "language": "python",
   "name": "python3"
  },
  "language_info": {
   "codemirror_mode": {
    "name": "ipython",
    "version": 3
   },
   "file_extension": ".py",
   "mimetype": "text/x-python",
   "name": "python",
   "nbconvert_exporter": "python",
   "pygments_lexer": "ipython3",
   "version": "3.5.2"
  }
 },
 "nbformat": 4,
 "nbformat_minor": 2
}

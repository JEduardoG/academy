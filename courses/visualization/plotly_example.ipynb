{
 "cells": [
  {
   "cell_type": "markdown",
   "metadata": {},
   "source": [
    "# Interactive plot with plotly"
   ]
  },
  {
   "cell_type": "code",
   "execution_count": null,
   "metadata": {},
   "outputs": [],
   "source": [
    "from plotly.offline import download_plotlyjs, init_notebook_mode, iplot\n",
    "from plotly.offline import plot\n",
    "from plotly.graph_objs import *\n",
    "import plotly.tools as tls  \n",
    "import plotly.graph_objs as go\n",
    "init_notebook_mode()"
   ]
  },
  {
   "cell_type": "code",
   "execution_count": null,
   "metadata": {},
   "outputs": [],
   "source": [
    "import numpy as np  # (*) numpy for math functions and arrays\n",
    "\n",
    "# (*) Pandas for data manipulation\n",
    "import pandas as pd \n",
    "\n",
    "# Read csv file and define dataframe object (df for dataframe)\n",
    "df = pd.read_csv('data/gapminderDataFiveYear.txt', sep='\\t')\n",
    "\n",
    "df.head()  # show dataframe header to stdout\n"
   ]
  },
  {
   "cell_type": "code",
   "execution_count": null,
   "metadata": {},
   "outputs": [],
   "source": [
    "# Choose a year, find other years with df['year'].unique()\n",
    "the_year = 2007   \n",
    "\n",
    "# Find indices corresponding to 'the_year'\n",
    "i_year = (df['year'] == the_year)\n",
    "\n",
    "# Grab all rows correponding to 'the_year'\n",
    "df_year = df[i_year] "
   ]
  },
  {
   "cell_type": "code",
   "execution_count": null,
   "metadata": {
    "collapsed": true
   },
   "outputs": [],
   "source": [
    "colors = dict(\n",
    "    Asia='#1f77b4', \n",
    "    Europe='#ff7f0e', \n",
    "    Africa='#2ca02c',\n",
    "    Americas='#d62728',\n",
    "    Oceania='#9467bd'\n",
    ")\n",
    "# (!) Set 'size' values to be proportional to rendered area,\n",
    "#     instead of diameter. This makes the range of bubble sizes smaller\n",
    "sizemode = 'area'       \n",
    "\n",
    "# (!) Set a reference for 'size' values (i.e. a population-to-pixel scaling).\n",
    "#     Here the max bubble area will be on the order of 100 pixels\n",
    "sizeref = df_year['pop'].max() / 1e2**2\n",
    "\n",
    "# Define a trace-generating function (returns a Scatter object)\n",
    "def make_trace(X, continent, sizes, color):  \n",
    "    return Scatter(\n",
    "        x=X['gdpPercap'],  # GDP on the x-xaxis\n",
    "        y=X['lifeExp'],    # life Exp on th y-axis\n",
    "        name=continent,    # label continent names on hover\n",
    "        mode='markers',    # (!) point markers only on this plot\n",
    "        marker= Marker(\n",
    "            color=color,          # marker color\n",
    "            size=sizes,           # (!) marker sizes (sizes is a list)\n",
    "            sizeref=sizeref,      # link sizeref\n",
    "            sizemode=sizemode,    # link sizemode\n",
    "            opacity=0.6,          # (!) partly transparent markers\n",
    "            line=Line(width=0.0)  # remove marker borders\n",
    "        )\n",
    "    )"
   ]
  },
  {
   "cell_type": "code",
   "execution_count": null,
   "metadata": {
    "collapsed": true
   },
   "outputs": [],
   "source": [
    "\n",
    "\n",
    "# Initialize data object \n",
    "data = Data()\n",
    "\n",
    "# Group data frame by continent sub-dataframe (named X), \n",
    "#   make one trace object per continent and append to data object\n",
    "for continent, X in df_year.groupby('continent'):\n",
    "    \n",
    "    sizes = X['pop']                            # get population array \n",
    "    color = colors[continent]                   # get bubble color\n",
    "    \n",
    "    data.append(\n",
    "        make_trace(X, continent, sizes, color)  # append trace to data object\n",
    "    )                             \n",
    "\n"
   ]
  },
  {
   "cell_type": "code",
   "execution_count": null,
   "metadata": {
    "collapsed": true
   },
   "outputs": [],
   "source": [
    "# Set plot and axis titles\n",
    "title = \"Fig 3.1a: Hans Rosling's Bubble Chart for the year {}\".format(the_year)\n",
    "x_title = \"Gross Domestic Product per Capita [in USD of the year 2000]\"\n",
    "y_title = \"Life Expentancy [in years]\"\n",
    "\n",
    "# Define a dictionary of axis style options\n",
    "axis_style = dict(     \n",
    "    zeroline=False,       # remove thick zero line\n",
    "    gridcolor='#FFFFFF',  # white grid lines\n",
    "    ticks='outside',      # draw ticks outside axes \n",
    "    ticklen=8,            # tick length\n",
    "    tickwidth=1.5         #   and width\n",
    ")\n",
    "\n",
    "# Make layout object\n",
    "layout = Layout(\n",
    "    title=title,             # set plot title\n",
    "    plot_bgcolor='#EFECEA',  # set plot color to grey\n",
    "    xaxis=XAxis(\n",
    "        axis_style,      # add axis style dictionary\n",
    "        title=x_title,   # x-axis title\n",
    "    ),\n",
    "    yaxis=YAxis(\n",
    "        axis_style,      # add axis style dictionary\n",
    "        title=y_title,   # y-axis title\n",
    "    )\n",
    ")"
   ]
  },
  {
   "cell_type": "code",
   "execution_count": null,
   "metadata": {},
   "outputs": [],
   "source": [
    "fig = go.Figure(data=data, layout=layout)\n",
    "plot(fig)"
   ]
  },
  {
   "cell_type": "code",
   "execution_count": null,
   "metadata": {
    "collapsed": true
   },
   "outputs": [],
   "source": [
    "# Update 'xaxis' key, set it to log type and with a power exponent format\n",
    "fig['layout']['xaxis'].update(\n",
    "    type='log',\n",
    "    exponentformat='power',\n",
    "    showexponent='all'\n",
    ")\n",
    "\n",
    "# Update the layout object\n",
    "fig['layout'].update(\n",
    "    hovermode='closest',  # (!) hover -> closest data pt\n",
    "    showlegend=False,     # remove legend (info in hover)\n",
    "    autosize=False,       # turn off autosize\n",
    "    width=650,            # plot width\n",
    "    height=500,           # plot height\n",
    ")"
   ]
  },
  {
   "cell_type": "code",
   "execution_count": null,
   "metadata": {
    "collapsed": true
   },
   "outputs": [],
   "source": [
    "# Define a hover-text generating function (returns a list of strings)\n",
    "def make_text(X):\n",
    "    return 'Country: %s\\\n",
    "    <br>Life Expectancy: %s years\\\n",
    "    <br>GDP per capita: %s $\\\n",
    "    <br>Population: %s million'\\\n",
    "    % (X['country'], X['lifeExp'], X['gdpPercap'], X['pop']/1e6)     \n",
    "    \n",
    "# Again, group data frame by continent sub-dataframe (named X),\n",
    "#   make one trace object per continent and append to data object\n",
    "i_trace = 0                                        # init. trace counter\n",
    "\n",
    "for continent, X in df_year.groupby('continent'):\n",
    "    text = X.apply(make_text, axis=1).tolist()     # get list of hover texts\n",
    "    fig['data'][i_trace].update(text=text)         # update trace i\n",
    "    i_trace += 1                                   # inc. trace counter\n",
    "\n"
   ]
  },
  {
   "cell_type": "code",
   "execution_count": null,
   "metadata": {},
   "outputs": [],
   "source": [
    "# Update layout with an annotation object in 'annotations' (linked to a list)\n",
    "fig['layout'].update(annotations=Annotations([\n",
    "    Annotation(\n",
    "        text='Data source: GapMinder 2007',  # annotation text\n",
    "        showarrow=False,                     # remove arrow \n",
    "        xref='paper',   # use paper coords\n",
    "        yref='paper',   #  for both x and y coordinates\n",
    "        x=0.02,         # x-coord (slightly of plotting area edge)\n",
    "        y=0.98,         # y-coord (slightly of plotting area edge)\n",
    "        font=Font(size=14),   # increase font size (default is 12)\n",
    "        bgcolor='#FFFFFF',    # white background\n",
    "        borderpad=4           # set border/text space (in pixels)\n",
    "    )\n",
    "]))  \n",
    "\n",
    "# Update title\n",
    "title = \"Fig 3.1b: Hans Rosling's Bubble Chart for the year {}\".format(the_year)\n",
    "fig['layout'].update(title=title)\n"
   ]
  },
  {
   "cell_type": "code",
   "execution_count": null,
   "metadata": {},
   "outputs": [],
   "source": [
    "# (@) Send to Plotly and show in notebook\n",
    "plot(fig)    "
   ]
  }
 ],
 "metadata": {
  "kernelspec": {
   "display_name": "Python 3",
   "language": "python",
   "name": "python3"
  },
  "language_info": {
   "codemirror_mode": {
    "name": "ipython",
    "version": 3
   },
   "file_extension": ".py",
   "mimetype": "text/x-python",
   "name": "python",
   "nbconvert_exporter": "python",
   "pygments_lexer": "ipython3",
   "version": "3.5.2"
  }
 },
 "nbformat": 4,
 "nbformat_minor": 1
}

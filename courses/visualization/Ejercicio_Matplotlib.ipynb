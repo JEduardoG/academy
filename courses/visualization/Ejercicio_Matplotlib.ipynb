{
 "cells": [
  {
   "cell_type": "markdown",
   "metadata": {},
   "source": [
    "# MATPLOTLIB"
   ]
  },
  {
   "cell_type": "markdown",
   "metadata": {},
   "source": [
    "El origen de Matplotlib es intentar recrear las posibilidades de representación de gráficas y figuras de Matlab en Python.\n",
    "\n",
    "Las mayores ventajas que presenta esta librería son:\n",
    "- La simplicidad de crear representaciones sencillas\n",
    "- La capacidad de controlar cualquier elemento de la figura\n",
    "- Flexibilidad para elegir la visualización deseada\n",
    "\n",
    "Toda la documentación de esta librería está disponible en la url: https://matplotlib.org/"
   ]
  },
  {
   "cell_type": "markdown",
   "metadata": {},
   "source": [
    "# Importar librería"
   ]
  },
  {
   "cell_type": "code",
   "execution_count": null,
   "metadata": {
    "collapsed": true
   },
   "outputs": [],
   "source": [
    "import matplotlib.pyplot as plt"
   ]
  },
  {
   "cell_type": "code",
   "execution_count": null,
   "metadata": {
    "collapsed": true
   },
   "outputs": [],
   "source": [
    "%matplotlib inline"
   ]
  },
  {
   "cell_type": "code",
   "execution_count": null,
   "metadata": {
    "collapsed": true
   },
   "outputs": [],
   "source": [
    "import matplotlib"
   ]
  },
  {
   "cell_type": "code",
   "execution_count": null,
   "metadata": {},
   "outputs": [],
   "source": [
    "matplotlib.__version__"
   ]
  },
  {
   "cell_type": "markdown",
   "metadata": {},
   "source": [
    "# Carga de datos"
   ]
  },
  {
   "cell_type": "markdown",
   "metadata": {},
   "source": [
    "Importamos las librerías numpy y pandas porque seguramente las usemos en estos ejercicios"
   ]
  },
  {
   "cell_type": "code",
   "execution_count": null,
   "metadata": {
    "collapsed": true
   },
   "outputs": [],
   "source": [
    "import numpy as np\n",
    "import pandas as pd"
   ]
  },
  {
   "cell_type": "code",
   "execution_count": null,
   "metadata": {
    "collapsed": true
   },
   "outputs": [],
   "source": [
    "meteo = pd.DataFrame.from_csv('data/meteo.csv', index_col=None)"
   ]
  },
  {
   "cell_type": "code",
   "execution_count": null,
   "metadata": {},
   "outputs": [],
   "source": [
    "type(meteo)"
   ]
  },
  {
   "cell_type": "code",
   "execution_count": null,
   "metadata": {},
   "outputs": [],
   "source": [
    "meteo.describe()"
   ]
  },
  {
   "cell_type": "code",
   "execution_count": null,
   "metadata": {},
   "outputs": [],
   "source": [
    "meteo.head()"
   ]
  },
  {
   "cell_type": "code",
   "execution_count": null,
   "metadata": {},
   "outputs": [],
   "source": [
    "meteo.count()"
   ]
  },
  {
   "cell_type": "markdown",
   "metadata": {},
   "source": [
    "Creamos un nuevo dataset \"enero\", en el que nos quedaremos únicamente con los datos del mes de enero."
   ]
  },
  {
   "cell_type": "code",
   "execution_count": null,
   "metadata": {},
   "outputs": [],
   "source": [
    "enero = meteo.query(\"MES == 1\")\n",
    "enero.count()"
   ]
  },
  {
   "cell_type": "code",
   "execution_count": null,
   "metadata": {},
   "outputs": [],
   "source": [
    "enero"
   ]
  },
  {
   "cell_type": "code",
   "execution_count": null,
   "metadata": {
    "collapsed": true
   },
   "outputs": [],
   "source": [
    "plt.plot?"
   ]
  },
  {
   "cell_type": "code",
   "execution_count": null,
   "metadata": {},
   "outputs": [],
   "source": [
    "plt.plot(enero.TEMP_MAX)"
   ]
  },
  {
   "cell_type": "markdown",
   "metadata": {},
   "source": [
    "Eliminamos la entrada incompleta de la serie de datos de enero."
   ]
  },
  {
   "cell_type": "code",
   "execution_count": null,
   "metadata": {},
   "outputs": [],
   "source": [
    "enero_filter = enero.dropna()\n",
    "enero_filter.count()"
   ]
  },
  {
   "cell_type": "code",
   "execution_count": null,
   "metadata": {},
   "outputs": [],
   "source": [
    "plt.plot(enero_filter.DIA, enero_filter.TEMP_MAX)"
   ]
  },
  {
   "cell_type": "code",
   "execution_count": null,
   "metadata": {},
   "outputs": [],
   "source": [
    "plt.plot(enero_filter.DIA, enero_filter.TEMP_MAX)\n",
    "plt.xlabel('Etiqueta eje X')\n",
    "plt.ylabel('Etiqueta eje Y')\n",
    "plt.title('Título de la gráfica')\n",
    "plt.show()"
   ]
  },
  {
   "cell_type": "markdown",
   "metadata": {},
   "source": [
    "# EJERCICIO 1: PINTAR LA GRÁFICA DE COLOR ROJO Y  PONER LAS ETIQUETAS Y TÍTULO ACORDES A LA GRÁFICA"
   ]
  },
  {
   "cell_type": "code",
   "execution_count": null,
   "metadata": {},
   "outputs": [],
   "source": []
  },
  {
   "cell_type": "markdown",
   "metadata": {},
   "source": [
    "# EJERCICIO 2: REALIZAR LA MISMA REPRESENTACIÓN PARA LAS TEMPERATURAS MÍNIMAS DEL MES DE ENERO"
   ]
  },
  {
   "cell_type": "code",
   "execution_count": null,
   "metadata": {},
   "outputs": [],
   "source": []
  },
  {
   "cell_type": "markdown",
   "metadata": {},
   "source": [
    "# Crear varias representaciones simultáneamente"
   ]
  },
  {
   "cell_type": "code",
   "execution_count": null,
   "metadata": {
    "collapsed": true
   },
   "outputs": [],
   "source": [
    "plt.subplot?"
   ]
  },
  {
   "cell_type": "code",
   "execution_count": null,
   "metadata": {},
   "outputs": [],
   "source": [
    "# plt.subplot(nrows, ncols, plot_number)\n",
    "plt.subplot(1,2,1)\n",
    "plt.plot(enero_filter.DIA, enero_filter.TEMP_MAX, 'r--') \n",
    "plt.subplot(1,2,2)\n",
    "plt.plot(enero_filter.DIA, enero_filter.TEMP_MIN, 'b*-');"
   ]
  },
  {
   "cell_type": "markdown",
   "metadata": {},
   "source": [
    "# EJERCICIO 3: REPRESENTAR LAS DOS GRÁFICAS UNA ENCIMA DE LA OTRA"
   ]
  },
  {
   "cell_type": "code",
   "execution_count": null,
   "metadata": {},
   "outputs": [],
   "source": []
  },
  {
   "cell_type": "markdown",
   "metadata": {},
   "source": [
    "# MÉTODO ORIENTADO A OBJETOS"
   ]
  },
  {
   "cell_type": "markdown",
   "metadata": {},
   "source": [
    "La idea detrás de este método es crear objetos figura y realizar llamadas a métodos o atributos de dicho objeto para completarlo.\n",
    "\n",
    "En primer lugar se crea una figura, y luego añadiremos ejes a la figura."
   ]
  },
  {
   "cell_type": "code",
   "execution_count": null,
   "metadata": {},
   "outputs": [],
   "source": [
    "#Creamos la figura\n",
    "fig = plt.figure()\n",
    "\n",
    "#Añadimos ejes\n",
    "axes = fig.add_axes([0.0, 0.0, 0.9, 0.9]) #izq, abajo, ancho, altura (entre 0 y 1)\n",
    "\n",
    "#Dibujamos en estos ejes\n",
    "axes.plot(enero_filter.DIA, enero_filter.TEMP_MIN, 'b')\n",
    "axes.set_xlabel('DIA')\n",
    "axes.set_ylabel('TEMPERATURA')\n",
    "axes.set_title('TEMPERATURA MINIMA DEL MES DE ENERO')"
   ]
  },
  {
   "cell_type": "code",
   "execution_count": null,
   "metadata": {},
   "outputs": [],
   "source": [
    "#Creamos la figura\n",
    "fig = plt.figure()\n",
    "\n",
    "#Añadimos ejes\n",
    "axes = fig.add_axes([0.0, 0.0, 0.9, 0.9]) #izq, abajo, ancho, altura (entre 0 y 1)\n",
    "\n",
    "#Dibujamos en estos ejes\n",
    "axes.plot(enero_filter.DIA, enero_filter.PLUVIOMETRIA, 'b')\n",
    "axes.set_xlabel('DIA')\n",
    "axes.set_ylabel('PLUVIOMETRIA')\n",
    "axes.set_title('PLUVIOMETRIA DEL MES DE ENERO')"
   ]
  },
  {
   "cell_type": "code",
   "execution_count": null,
   "metadata": {},
   "outputs": [],
   "source": [
    "# Nueva representación\n",
    "fig = plt.figure()\n",
    "\n",
    "axes1 = fig.add_axes([0.0, 0.0, 1.0, 1.0]) # ejes principales\n",
    "axes2 = fig.add_axes([0.6, 0.4, 0.35, 0.5]) # ejes secundarios\n",
    "\n",
    "# Eje 1: figura grande\n",
    "axes1.plot(enero_filter.DIA, enero_filter.PLUVIOMETRIA, 'g')\n",
    "axes1.set_xlabel('Día')\n",
    "axes1.set_ylabel('Pluviometría')\n",
    "axes1.set_title('Pluviometría del mes de enero')\n",
    "\n",
    "# Eje 2: figura pequeña\n",
    "axes2.plot(enero_filter.DIA, enero_filter.TEMP_MIN, 'b')\n",
    "axes2.set_xlabel('Día')\n",
    "axes2.set_ylabel('Temperatura mínima')\n",
    "axes2.set_title('Temperaturas mínimas de enero');"
   ]
  },
  {
   "cell_type": "markdown",
   "metadata": {},
   "source": [
    "# Tamaño de figura, relación de aspecto y DPI"
   ]
  },
  {
   "cell_type": "markdown",
   "metadata": {},
   "source": [
    "- figsize es una tupla de ancho y alto de la figura\n",
    "- dpi es el nivel de píxeles por pulgada (pixel-per-inch o Dots-per-inch)"
   ]
  },
  {
   "cell_type": "code",
   "execution_count": null,
   "metadata": {},
   "outputs": [],
   "source": [
    "fig = plt.figure(figsize=(8,4), dpi=100)"
   ]
  },
  {
   "cell_type": "code",
   "execution_count": null,
   "metadata": {},
   "outputs": [],
   "source": [
    "fig = plt.figure(figsize=(8,4))\n",
    "\n",
    "axes = fig.add_axes([0.0, 0.0, 1.0, 1.0])\n",
    "\n",
    "axes.plot(enero_filter.DIA, enero_filter.TEMP_MAX, 'r')\n",
    "axes.plot(enero_filter.DIA, enero_filter.TEMP_MIN, 'b')\n",
    "axes.set_xlabel('Día')\n",
    "axes.set_ylabel('Temperatura')\n",
    "axes1.set_title('Temperaturas máximas y mínimas del mes de enero')"
   ]
  },
  {
   "cell_type": "markdown",
   "metadata": {},
   "source": [
    "# EJERCICIO 4: REALIZAR LA MISMA REPRESENTACIÓN PARA EL MES DE FEBRERO"
   ]
  },
  {
   "cell_type": "markdown",
   "metadata": {},
   "source": [
    "Partimos de nuevo del dataframe \"meteo\" y nos quedamos con los días del mes de febrero para su representación."
   ]
  },
  {
   "cell_type": "code",
   "execution_count": null,
   "metadata": {},
   "outputs": [],
   "source": []
  },
  {
   "cell_type": "code",
   "execution_count": null,
   "metadata": {},
   "outputs": [],
   "source": []
  },
  {
   "cell_type": "markdown",
   "metadata": {},
   "source": [
    "# EJERCICIO 5: REPETIR LA GRÁFICA INCLUYENDO LA LEYENDA"
   ]
  },
  {
   "cell_type": "code",
   "execution_count": null,
   "metadata": {},
   "outputs": [],
   "source": []
  },
  {
   "cell_type": "markdown",
   "metadata": {},
   "source": [
    "# EJERCICIO 6: REPETIR LA GRÁFICA INCLUYENDO LA LEYENDA EN LA ESQUINA INFERIOR IZQUIERDA"
   ]
  },
  {
   "cell_type": "code",
   "execution_count": null,
   "metadata": {},
   "outputs": [],
   "source": []
  },
  {
   "cell_type": "markdown",
   "metadata": {},
   "source": [
    "# EJERCICIO 7: REPRESENTAR LA GRÁFICA EQUIVALENTE PARA EL MES DE JUNIO, CON LAS TEMPERATURAS MÍNIMAS EN LÍNEA AZUL CON PUNTOS Y LA MÁXIMA CON LÍNEA ROJA DISCONTINUA"
   ]
  },
  {
   "cell_type": "code",
   "execution_count": null,
   "metadata": {},
   "outputs": [],
   "source": []
  },
  {
   "cell_type": "code",
   "execution_count": null,
   "metadata": {},
   "outputs": [],
   "source": []
  },
  {
   "cell_type": "code",
   "execution_count": null,
   "metadata": {
    "collapsed": true
   },
   "outputs": [],
   "source": []
  },
  {
   "cell_type": "code",
   "execution_count": null,
   "metadata": {},
   "outputs": [],
   "source": []
  },
  {
   "cell_type": "markdown",
   "metadata": {},
   "source": [
    "# EJERCICIO 8: MISMA GRÁFICA PARA TODOS LOS DÍAS DEL AÑO"
   ]
  },
  {
   "cell_type": "code",
   "execution_count": null,
   "metadata": {
    "collapsed": true
   },
   "outputs": [],
   "source": []
  },
  {
   "cell_type": "code",
   "execution_count": null,
   "metadata": {},
   "outputs": [],
   "source": []
  }
 ],
 "metadata": {
  "kernelspec": {
   "display_name": "Python 3",
   "language": "python",
   "name": "python3"
  },
  "language_info": {
   "codemirror_mode": {
    "name": "ipython",
    "version": 3
   },
   "file_extension": ".py",
   "mimetype": "text/x-python",
   "name": "python",
   "nbconvert_exporter": "python",
   "pygments_lexer": "ipython3",
   "version": "3.5.2"
  }
 },
 "nbformat": 4,
 "nbformat_minor": 2
}

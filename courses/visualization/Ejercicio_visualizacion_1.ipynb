{
 "cells": [
  {
   "cell_type": "markdown",
   "metadata": {},
   "source": [
    "# Representación visual"
   ]
  },
  {
   "cell_type": "code",
   "execution_count": null,
   "metadata": {
    "collapsed": true
   },
   "outputs": [],
   "source": [
    "import matplotlib.pyplot as plt;\n",
    "#The plots in this document are made using matplotlib’s ggplot style (new in version 1.4):\n",
    "import matplotlib\n",
    "matplotlib.style.use('ggplot')\n",
    "import numpy as np\n",
    "import pandas as pd"
   ]
  },
  {
   "cell_type": "markdown",
   "metadata": {},
   "source": [
    "# 0. Carga de Ficheros de Datos"
   ]
  },
  {
   "cell_type": "markdown",
   "metadata": {},
   "source": [
    "Cargamos los tres ficheros csv con los datos que vamos a emplear en la sesión."
   ]
  },
  {
   "cell_type": "markdown",
   "metadata": {},
   "source": [
    "El fichero 'Base_evolucion_fondos.csv' contiene la información a nivel gestor por cada segmento global de la evolución del saldo en fondos mes a mes"
   ]
  },
  {
   "cell_type": "code",
   "execution_count": null,
   "metadata": {},
   "outputs": [],
   "source": [
    "fondos_ev =  pd.DataFrame.from_csv('data/Base_evolucion_fondos.csv', index_col=None)\n",
    "fondos_ev.head()"
   ]
  },
  {
   "cell_type": "markdown",
   "metadata": {},
   "source": [
    "El fichero 'Base_puesto_gestores.csv' contiene el tipo de puesto de cada gestor"
   ]
  },
  {
   "cell_type": "code",
   "execution_count": null,
   "metadata": {},
   "outputs": [],
   "source": [
    "gestores = pd.DataFrame.from_csv('data/Base_puesto_gestores.csv', index_col=None)\n",
    "gestores.head()"
   ]
  },
  {
   "cell_type": "markdown",
   "metadata": {},
   "source": [
    "El fichero 'txc_aport_ext_fondos.csv' contiene las transacciones por canal (TxC) (octubre, noviembre, diciembre 2015) de aport. ext a fondos en oficina"
   ]
  },
  {
   "cell_type": "code",
   "execution_count": null,
   "metadata": {},
   "outputs": [],
   "source": [
    "extr_fondos = pd.DataFrame.from_csv('data/txc_aport_extr_fondos.csv', index_col=None)\n",
    "extr_fondos.head()"
   ]
  },
  {
   "cell_type": "code",
   "execution_count": null,
   "metadata": {},
   "outputs": [],
   "source": [
    "di_gestores = {\"GP\": \"Gestor_pymes\", \"AF\": \"Asesor_Financiero\",\"GD\":\"Gestor_Directo\",\n",
    "               \"AFR\":\"Asesor_Financiero_Remoto\", \"DO3\":\"Asesor_Financiero_Remoto 3\",\n",
    "               \"DC\":\"Director_Comercial\",\"AP\": \"Asesor_Patrimonial\",\"DO3\":\"Asesor_Financiero_Remoto 2\",\n",
    "               \"DGR\":\"Director_General_Remoto\",\"DCBC\":\"Director_de_CBC\", \"DO\":\"Drector_Oficina\",\n",
    "               \"APR\":\"Asesor_Financiero_Remoto\"}\n",
    "\n",
    "gestores['tipo_puesto_def']= gestores['tipo_puesto'].map(di_gestores)\n",
    "gestores"
   ]
  },
  {
   "cell_type": "markdown",
   "metadata": {},
   "source": [
    "# 1. Ejercicio 1: Representar el número de usuarios de cada tipo en gráfico de barras verticales (Sin tipo de puesto)"
   ]
  },
  {
   "cell_type": "code",
   "execution_count": null,
   "metadata": {
    "collapsed": true
   },
   "outputs": [],
   "source": [
    "df = gestores.groupby([\"tipo_puesto_def\"]).size().reset_index(name='Usuarios')"
   ]
  },
  {
   "cell_type": "code",
   "execution_count": null,
   "metadata": {},
   "outputs": [],
   "source": [
    "#####"
   ]
  },
  {
   "cell_type": "markdown",
   "metadata": {},
   "source": [
    "# 2. Ejercicio 2: Representar el número de usuarios de cada tipo en gráfico de barras verticales (Con tipo de puesto)"
   ]
  },
  {
   "cell_type": "code",
   "execution_count": null,
   "metadata": {},
   "outputs": [],
   "source": [
    "df = gestores.groupby([\"tipo_puesto\"]).size().reset_index(name='Usuarios')\n",
    "df.head()"
   ]
  },
  {
   "cell_type": "code",
   "execution_count": null,
   "metadata": {},
   "outputs": [],
   "source": [
    "#####"
   ]
  },
  {
   "cell_type": "markdown",
   "metadata": {},
   "source": [
    "# 3. Ejercicio 3: Representar el número de usuarios de cada tipo en gráfico de barras verticales (Con definición de tipo de puesto)"
   ]
  },
  {
   "cell_type": "code",
   "execution_count": null,
   "metadata": {},
   "outputs": [],
   "source": [
    "df = gestores.groupby([\"tipo_puesto_def\"]).size().reset_index(name='Usuarios')\n",
    "df.head()"
   ]
  },
  {
   "cell_type": "code",
   "execution_count": null,
   "metadata": {},
   "outputs": [],
   "source": [
    "#####"
   ]
  },
  {
   "cell_type": "markdown",
   "metadata": {},
   "source": [
    "# 4. Ejercicio 4: Representar el número de usuarios de cada tipo en gráfico de barras horizontales (Con definición de tipo de puesto)"
   ]
  },
  {
   "cell_type": "code",
   "execution_count": null,
   "metadata": {},
   "outputs": [],
   "source": [
    "######"
   ]
  },
  {
   "cell_type": "markdown",
   "metadata": {},
   "source": [
    "# 5. Ejercicio 5: Representar el número de usuarios de cada tipo en gráfico de barras horizontales, ordenadas de mayor a menor"
   ]
  },
  {
   "cell_type": "code",
   "execution_count": null,
   "metadata": {
    "collapsed": true
   },
   "outputs": [],
   "source": [
    "df_sorted = ######"
   ]
  },
  {
   "cell_type": "code",
   "execution_count": null,
   "metadata": {},
   "outputs": [],
   "source": [
    "######"
   ]
  },
  {
   "cell_type": "markdown",
   "metadata": {},
   "source": [
    "# 6. Ejercicio 6: Realizar un gráfico circular de la distribución de número de usuarios por tipo de puesto"
   ]
  },
  {
   "cell_type": "code",
   "execution_count": null,
   "metadata": {},
   "outputs": [],
   "source": [
    "fig1, ax1 = plt.subplots()\n",
    "sizes = ######\n",
    "labels = ######\n",
    "\n",
    "ax1.pie(sizes, labels= labels, autopct='%1.1f%%',\n",
    "        shadow=True, startangle=90)\n",
    "ax1.axis('equal')  # Equal aspect ratio ensures that pie is drawn as a circle.\n",
    "\n",
    "plt.show()"
   ]
  },
  {
   "cell_type": "markdown",
   "metadata": {},
   "source": [
    "# 7. Ejercicio 7: Realizar un gráfico circular de la distribución de número de usuarios por tipo de puesto resaltando al menos uno de los puestos y en orden de tamaño"
   ]
  },
  {
   "cell_type": "code",
   "execution_count": null,
   "metadata": {},
   "outputs": [],
   "source": [
    "#########"
   ]
  },
  {
   "cell_type": "markdown",
   "metadata": {},
   "source": [
    "# 8. Ejercicio 8: Representar con un gráfico de línea la evolución según el día del mes del importe de transacciones"
   ]
  },
  {
   "cell_type": "code",
   "execution_count": null,
   "metadata": {},
   "outputs": [],
   "source": [
    "extr_fondos['day_month'] = extr_fondos['hms_soli_trn'].apply(lambda x:x[8:10]).astype(int)\n",
    "extr_fondos"
   ]
  },
  {
   "cell_type": "code",
   "execution_count": null,
   "metadata": {
    "collapsed": true
   },
   "outputs": [],
   "source": [
    "######"
   ]
  },
  {
   "cell_type": "code",
   "execution_count": null,
   "metadata": {},
   "outputs": [],
   "source": [
    "########"
   ]
  },
  {
   "cell_type": "markdown",
   "metadata": {},
   "source": [
    "# 9. Ejercicio 9: Comparar la evolución diaria en los meses de octubre, noviembre y diciembre del importe de transacciones"
   ]
  },
  {
   "cell_type": "code",
   "execution_count": null,
   "metadata": {},
   "outputs": [],
   "source": [
    "extr_fondos['month'] = extr_fondos['hms_soli_trn'].apply(lambda ######).astype(int)\n",
    "extr_fondos"
   ]
  },
  {
   "cell_type": "code",
   "execution_count": null,
   "metadata": {
    "scrolled": true
   },
   "outputs": [],
   "source": [
    "evolucion_octubre = extr_fondos.query('month == 10').groupby('day_month').sum()\n",
    "evolucion_octubre"
   ]
  },
  {
   "cell_type": "code",
   "execution_count": null,
   "metadata": {
    "collapsed": true
   },
   "outputs": [],
   "source": [
    "evolucion_noviembre = extr_fondos.query('month == 11').groupby('day_month').sum()\n",
    "evolucion_diciembre = extr_fondos.query('month == 12').groupby('day_month').sum()"
   ]
  },
  {
   "cell_type": "code",
   "execution_count": null,
   "metadata": {},
   "outputs": [],
   "source": [
    "#evolucion.plot(evolucion['imp_trans'])\n",
    "plt.plot(#####)\n",
    "plt.plot(#####)\n",
    "plt.plot(#####)\n",
    "plt.ylabel('importe transacciones')\n",
    "plt.xlabel('dia del mes')\n",
    "plt.title('transacciones por dia del mes')\n",
    "plt.show()"
   ]
  },
  {
   "cell_type": "markdown",
   "metadata": {},
   "source": [
    "# 10. Ejercicio 10: Suponiendo que el valor que se obtiene para el día 30 de octubre es un valor falso, o que distorsiona la gráfica que se desea representar, eliminar el valor y volver a representar las 3 curvas"
   ]
  },
  {
   "cell_type": "code",
   "execution_count": null,
   "metadata": {
    "collapsed": true
   },
   "outputs": [],
   "source": [
    "evolucion_octubre_filtrado = evolucion_octubre.######"
   ]
  },
  {
   "cell_type": "code",
   "execution_count": null,
   "metadata": {},
   "outputs": [],
   "source": [
    "#evolucion.plot(evolucion['imp_trans'])\n",
    "plt.plot(#####)\n",
    "plt.plot(#####)\n",
    "plt.plot(#####)\n",
    "plt.ylabel('importe transacciones')\n",
    "plt.xlabel('dia del mes')\n",
    "plt.title('transacciones por dia del mes')\n",
    "plt.show()"
   ]
  },
  {
   "cell_type": "markdown",
   "metadata": {},
   "source": [
    "# 11. EJERCICIO 11: Representar los tipos de puesto por la cantidad media de fondos que manejan al mes"
   ]
  },
  {
   "cell_type": "code",
   "execution_count": null,
   "metadata": {},
   "outputs": [],
   "source": [
    "fondos_ev_gest = fondos_ev.merge(gestores, how='inner', on=['COD_USUARIO'])\n",
    "fondos_ev_gest"
   ]
  },
  {
   "cell_type": "code",
   "execution_count": null,
   "metadata": {},
   "outputs": [],
   "source": [
    "#del fondos_ev_gest[['COD_SEGLOBAL','COD_USUARIO']]\n",
    "fondos_ev_gest.drop(fondos_ev_gest.columns[[0, 1]], axis=1, inplace=True)\n",
    "fondos_ev_gest"
   ]
  },
  {
   "cell_type": "code",
   "execution_count": null,
   "metadata": {},
   "outputs": [],
   "source": [
    "fondos_ev_gest.######"
   ]
  }
 ],
 "metadata": {
  "kernelspec": {
   "display_name": "Python 3",
   "language": "python",
   "name": "python3"
  },
  "language_info": {
   "codemirror_mode": {
    "name": "ipython",
    "version": 3
   },
   "file_extension": ".py",
   "mimetype": "text/x-python",
   "name": "python",
   "nbconvert_exporter": "python",
   "pygments_lexer": "ipython3",
   "version": "3.5.2"
  }
 },
 "nbformat": 4,
 "nbformat_minor": 2
}

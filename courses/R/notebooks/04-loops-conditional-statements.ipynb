{
 "cells": [
  {
   "cell_type": "markdown",
   "metadata": {},
   "source": [
    "![](../static/cran.png)"
   ]
  },
  {
   "cell_type": "markdown",
   "metadata": {},
   "source": [
    "## Loops and Conditional Statements"
   ]
  },
  {
   "cell_type": "markdown",
   "metadata": {},
   "source": [
    "There are cases where we need to do one action or another action in accordance to a condition. In such cases, we should use a *conditional statement*:\n",
    "~~~R\n",
    "if (condition) command1 else command2\n",
    "~~~\n",
    "\n",
    "In other cases, we need to perform the same (or a very similar) action a number of times. In such cases we may use loops. In R we have three ways to build cycles:\n",
    "* whike loops\n",
    "* for loops\n",
    "* repeat loops"
   ]
  },
  {
   "cell_type": "markdown",
   "metadata": {},
   "source": [
    "### Conditional Statements (if and if-else)"
   ]
  },
  {
   "cell_type": "code",
   "execution_count": 10,
   "metadata": {
    "collapsed": false,
    "slideshow": {
     "slide_type": "-"
    }
   },
   "outputs": [],
   "source": [
    "# Conditional statements: \n",
    "# if (condition) expression1\n",
    "# if (condition) expression1 else expression2\n",
    "# Examples:\n",
    "x <- \"Daniel\"\n",
    "if (length(x)>5) print(\"Not a short name!\")"
   ]
  },
  {
   "cell_type": "code",
   "execution_count": 11,
   "metadata": {
    "collapsed": false,
    "slideshow": {
     "slide_type": "-"
    }
   },
   "outputs": [
    {
     "name": "stdout",
     "output_type": "stream",
     "text": [
      "[1] \"Long Name!\"\n"
     ]
    }
   ],
   "source": [
    "# Examples:\n",
    "if (length(x)>0) print(\"Long Name!\") else print(\"Short Name!\")"
   ]
  },
  {
   "cell_type": "markdown",
   "metadata": {},
   "source": [
    "### Loops (while, for and repeat)"
   ]
  },
  {
   "cell_type": "code",
   "execution_count": null,
   "metadata": {
    "collapsed": true
   },
   "outputs": [],
   "source": [
    "# While loop\n",
    "# Executes the block of sentences WHILE the boolean condition equals TRUE\n",
    "i <- 10\n",
    "print(\"Counting down:\")\n",
    "while(i>0) {\n",
    "    print(i)\n",
    "    i = i-1\n",
    "}"
   ]
  },
  {
   "cell_type": "code",
   "execution_count": 12,
   "metadata": {
    "collapsed": false,
    "slideshow": {
     "slide_type": "-"
    }
   },
   "outputs": [
    {
     "name": "stdout",
     "output_type": "stream",
     "text": [
      "[1] 1\n",
      "[1] 2\n",
      "[1] 3\n",
      "[1] 4\n",
      "[1] 5\n"
     ]
    }
   ],
   "source": [
    "# For Loops \n",
    "# Executes the block of sentences FOR each value in a sequence\n",
    "for (x in 1:5) print(x)"
   ]
  },
  {
   "cell_type": "code",
   "execution_count": 4,
   "metadata": {
    "collapsed": false
   },
   "outputs": [
    {
     "name": "stdout",
     "output_type": "stream",
     "text": [
      "[1] \"Hola Maria\"\n",
      "[1] \"Hola Ana\"\n",
      "[1] \"Hola Juan\"\n"
     ]
    }
   ],
   "source": [
    "for (x in list(\"Maria\", \"Ana\", \"Juan\")) print(paste(\"Hola\",x,sep=\" \"))"
   ]
  },
  {
   "cell_type": "code",
   "execution_count": 21,
   "metadata": {
    "collapsed": false
   },
   "outputs": [
    {
     "name": "stdout",
     "output_type": "stream",
     "text": [
      "[1] 2\n",
      "[1] 5\n",
      "[1] 6\n",
      "[1] 3\n"
     ]
    }
   ],
   "source": [
    "# Repeat Loops\n",
    "# Executes the block of sentences UNTIL a condition equals TRUE (that is, while this condition is FALSE)\n",
    "# We must check (conditional-statement) for the condition and if condition is true then \"break\" the loop\n",
    "y <- c(1,2,5,6,3,-10,2,11,5)\n",
    "i <- i\n",
    "repeat {\n",
    "    print(y[i])\n",
    "    i <- i + 1\n",
    "    if (y[i]<0) break\n",
    "}"
   ]
  },
  {
   "cell_type": "markdown",
   "metadata": {},
   "source": [
    "#### Loop-control Statements\n",
    "There are two loop-control statements:\n",
    "* **break**: terminates the loop and goes to the next sentence\n",
    "* **next**: terminates current iteration (inside the loop) and jumps to the next iteration\n",
    "\n",
    "Both (break and next) may be used in any kind of loops (while, for and repeat). In the case of repeat-loop to use a break is a must, in other case the program get into an infinite loop."
   ]
  },
  {
   "cell_type": "code",
   "execution_count": 27,
   "metadata": {
    "collapsed": false
   },
   "outputs": [
    {
     "name": "stdout",
     "output_type": "stream",
     "text": [
      "[1] 1\n",
      "[1] 2\n",
      "[1] 4\n",
      "[1] 5\n",
      "[1] 7\n",
      "[1] 11\n"
     ]
    }
   ],
   "source": [
    "# Example of next: print only positive elements in a vector\n",
    "y <- c(1,2,-3,4,5,-6,7,-9,11)\n",
    "for (x in y) {\n",
    "    if (x<=0) \n",
    "        \n",
    "        next    \n",
    "           print(x)       \n",
    "}"
   ]
  },
  {
   "cell_type": "code",
   "execution_count": 50,
   "metadata": {
    "collapsed": false
   },
   "outputs": [
    {
     "data": {
      "text/html": [
       "<table>\n",
       "<tbody>\n",
       "\t<tr><td>1</td><td>3</td><td>5</td></tr>\n",
       "\t<tr><td>2</td><td>4</td><td>6</td></tr>\n",
       "</tbody>\n",
       "</table>\n"
      ],
      "text/latex": [
       "\\begin{tabular}{lll}\n",
       "\t 1 & 3 & 5\\\\\n",
       "\t 2 & 4 & 6\\\\\n",
       "\\end{tabular}\n"
      ],
      "text/markdown": [
       "\n",
       "| 1 | 3 | 5 | \n",
       "| 2 | 4 | 6 | \n",
       "\n",
       "\n"
      ],
      "text/plain": [
       "     [,1] [,2] [,3]\n",
       "[1,] 1    3    5   \n",
       "[2,] 2    4    6   "
      ]
     },
     "metadata": {},
     "output_type": "display_data"
    },
    {
     "name": "stdout",
     "output_type": "stream",
     "text": [
      "[1] \"Raw 1\"\n",
      "[1] \" Col 1 = 1\"\n",
      "[1] \" Col 2 = 3\"\n",
      "[1] \" Col 3 = 5\"\n",
      "[1] \"Raw 2\"\n",
      "[1] \" Col 1 = 2\"\n",
      "[1] \" Col 2 = 4\"\n",
      "[1] \" Col 3 = 6\"\n"
     ]
    }
   ],
   "source": [
    "# Nesting loops\n",
    "# We may use loops inside a loop, for example to iterate on every element in a matrix\n",
    "m <- matrix(c(1,2,3,4,5,6), nrow=2)\n",
    "m\n",
    "n1 <- nrow(m)\n",
    "n2 <- ncol(m)\n",
    "for (x in 1:n1) {\n",
    "    print(paste(\"Raw\", as.character(x)))\n",
    "    for (y in 1:n2) {\n",
    "        print(paste(\" Col\", as.character(y), \"=\", as.character(m[x,y])))\n",
    "    }\n",
    "}"
   ]
  }
 ],
 "metadata": {
  "kernelspec": {
   "display_name": "R",
   "language": "R",
   "name": "ir"
  },
  "language_info": {
   "codemirror_mode": "r",
   "file_extension": ".r",
   "mimetype": "text/x-r-source",
   "name": "R",
   "pygments_lexer": "r",
   "version": "3.3.2"
  }
 },
 "nbformat": 4,
 "nbformat_minor": 2
}

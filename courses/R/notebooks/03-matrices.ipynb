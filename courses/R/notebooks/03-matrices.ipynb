{
 "cells": [
  {
   "cell_type": "markdown",
   "metadata": {},
   "source": [
    "![](../static/cran.png)"
   ]
  },
  {
   "cell_type": "markdown",
   "metadata": {},
   "source": [
    "## Matrices\n",
    "A Matrix is a two-dimensional collection of data. It is a fundamental object for linear algebra"
   ]
  },
  {
   "cell_type": "code",
   "execution_count": 9,
   "metadata": {
    "collapsed": false,
    "slideshow": {
     "slide_type": "-"
    }
   },
   "outputs": [
    {
     "data": {
      "text/html": [
       "<table>\n",
       "<thead><tr><th scope=col>c1</th><th scope=col>c2</th></tr></thead>\n",
       "<tbody>\n",
       "\t<tr><td>1</td><td>4</td></tr>\n",
       "\t<tr><td>2</td><td>5</td></tr>\n",
       "\t<tr><td>3</td><td>6</td></tr>\n",
       "</tbody>\n",
       "</table>\n"
      ],
      "text/latex": [
       "\\begin{tabular}{ll}\n",
       " c1 & c2\\\\\n",
       "\\hline\n",
       "\t 1 & 4\\\\\n",
       "\t 2 & 5\\\\\n",
       "\t 3 & 6\\\\\n",
       "\\end{tabular}\n"
      ],
      "text/markdown": [
       "1. 1\n",
       "2. 2\n",
       "3. 3\n",
       "4. 4\n",
       "5. 5\n",
       "6. 6\n",
       "\n",
       "\n"
      ],
      "text/plain": [
       "     c1 c2\n",
       "[1,]  1  4\n",
       "[2,]  2  5\n",
       "[3,]  3  6"
      ]
     },
     "metadata": {},
     "output_type": "display_data"
    }
   ],
   "source": [
    "# Matrices can be created in a variety of ways\n",
    "# put the columns together cbind():\n",
    "c1 <- c(1,2,3)\n",
    "c2 <- c(4,5,6)\n",
    "m <- cbind(c1, c2)\n",
    "m"
   ]
  },
  {
   "cell_type": "code",
   "execution_count": 4,
   "metadata": {
    "collapsed": false,
    "slideshow": {
     "slide_type": "-"
    }
   },
   "outputs": [
    {
     "data": {
      "text/html": [
       "<table>\n",
       "<tbody>\n",
       "\t<tr><th scope=row>c1</th><td>1</td><td>2</td><td>3</td></tr>\n",
       "\t<tr><th scope=row>c2</th><td>4</td><td>5</td><td>6</td></tr>\n",
       "</tbody>\n",
       "</table>\n"
      ],
      "text/latex": [
       "\\begin{tabular}{r|lll}\n",
       "\tc1 & 1 & 2 & 3\\\\\n",
       "\tc2 & 4 & 5 & 6\\\\\n",
       "\\end{tabular}\n"
      ],
      "text/markdown": [
       "1. 1\n",
       "2. 4\n",
       "3. 2\n",
       "4. 5\n",
       "5. 3\n",
       "6. 6\n",
       "\n",
       "\n"
      ],
      "text/plain": [
       "   [,1] [,2] [,3]\n",
       "c1    1    2    3\n",
       "c2    4    5    6"
      ]
     },
     "metadata": {},
     "output_type": "display_data"
    }
   ],
   "source": [
    "# putting the rows together rbind()\n",
    "m2 <- rbind(c1, c2)\n",
    "m2"
   ]
  },
  {
   "cell_type": "code",
   "execution_count": 13,
   "metadata": {
    "collapsed": false
   },
   "outputs": [
    {
     "data": {
      "text/html": [
       "3"
      ],
      "text/latex": [
       "3"
      ],
      "text/markdown": [
       "3"
      ],
      "text/plain": [
       "[1] 3"
      ]
     },
     "metadata": {},
     "output_type": "display_data"
    },
    {
     "data": {
      "text/html": [
       "2"
      ],
      "text/latex": [
       "2"
      ],
      "text/markdown": [
       "2"
      ],
      "text/plain": [
       "[1] 2"
      ]
     },
     "metadata": {},
     "output_type": "display_data"
    },
    {
     "data": {
      "text/html": [
       "<ol class=list-inline>\n",
       "\t<li>3</li>\n",
       "\t<li>2</li>\n",
       "</ol>\n"
      ],
      "text/latex": [
       "\\begin{enumerate*}\n",
       "\\item 3\n",
       "\\item 2\n",
       "\\end{enumerate*}\n"
      ],
      "text/markdown": [
       "1. 3\n",
       "2. 2\n",
       "\n",
       "\n"
      ],
      "text/plain": [
       "[1] 3 2"
      ]
     },
     "metadata": {},
     "output_type": "display_data"
    }
   ],
   "source": [
    "# Matrix dimensions\n",
    "# We may use nrow(), ncol(), dim() returns the number of rows, number of columns and dimension of a matrix respectively\n",
    "nrow(m)\n",
    "ncol(m)\n",
    "dim(m)"
   ]
  },
  {
   "cell_type": "code",
   "execution_count": 7,
   "metadata": {
    "collapsed": false,
    "slideshow": {
     "slide_type": "-"
    }
   },
   "outputs": [
    {
     "data": {
      "text/html": [
       "<table>\n",
       "<tbody>\n",
       "\t<tr><th scope=row>c1</th><td>1</td><td>2</td><td>3</td></tr>\n",
       "\t<tr><th scope=row>c2</th><td>4</td><td>5</td><td>6</td></tr>\n",
       "\t<tr><th scope=row>c1</th><td>1</td><td>2</td><td>3</td></tr>\n",
       "\t<tr><th scope=row>c2</th><td>4</td><td>5</td><td>6</td></tr>\n",
       "</tbody>\n",
       "</table>\n"
      ],
      "text/latex": [
       "\\begin{tabular}{r|lll}\n",
       "\tc1 & 1 & 2 & 3\\\\\n",
       "\tc2 & 4 & 5 & 6\\\\\n",
       "\tc1 & 1 & 2 & 3\\\\\n",
       "\tc2 & 4 & 5 & 6\\\\\n",
       "\\end{tabular}\n"
      ],
      "text/markdown": [
       "1. 1\n",
       "2. 4\n",
       "3. 1\n",
       "4. 4\n",
       "5. 2\n",
       "6. 5\n",
       "7. 2\n",
       "8. 5\n",
       "9. 3\n",
       "10. 6\n",
       "11. 3\n",
       "12. 6\n",
       "\n",
       "\n"
      ],
      "text/plain": [
       "   [,1] [,2] [,3]\n",
       "c1    1    2    3\n",
       "c2    4    5    6\n",
       "c1    1    2    3\n",
       "c2    4    5    6"
      ]
     },
     "metadata": {},
     "output_type": "display_data"
    }
   ],
   "source": [
    "# We may bind not only rows or columns, in general we can bind columns\n",
    "rbind(m2, m2)\n",
    "# Matrices show be \"compatible\" for the bind operation, \n",
    "# that is: rbind(m1,m2)=>ncol(m1)==ncol(m2)\n",
    "# also cbind(m1,m2)=>nrow(m1)==nrow(m2)"
   ]
  },
  {
   "cell_type": "code",
   "execution_count": 23,
   "metadata": {
    "collapsed": false
   },
   "outputs": [
    {
     "data": {
      "text/html": [
       "<table>\n",
       "<tbody>\n",
       "\t<tr><td> 1</td><td> 4</td><td> 7</td><td>10</td></tr>\n",
       "\t<tr><td> 2</td><td> 5</td><td> 8</td><td>11</td></tr>\n",
       "\t<tr><td> 3</td><td> 6</td><td> 9</td><td>12</td></tr>\n",
       "</tbody>\n",
       "</table>\n"
      ],
      "text/latex": [
       "\\begin{tabular}{llll}\n",
       "\t  1 &  4 &  7 & 10\\\\\n",
       "\t  2 &  5 &  8 & 11\\\\\n",
       "\t  3 &  6 &  9 & 12\\\\\n",
       "\\end{tabular}\n"
      ],
      "text/markdown": [
       "1. 1\n",
       "2. 2\n",
       "3. 3\n",
       "4. 4\n",
       "5. 5\n",
       "6. 6\n",
       "7. 7\n",
       "8. 8\n",
       "9. 9\n",
       "10. 10\n",
       "11. 11\n",
       "12. 12\n",
       "\n",
       "\n"
      ],
      "text/plain": [
       "     [,1] [,2] [,3] [,4]\n",
       "[1,]    1    4    7   10\n",
       "[2,]    2    5    8   11\n",
       "[3,]    3    6    9   12"
      ]
     },
     "metadata": {},
     "output_type": "display_data"
    }
   ],
   "source": [
    "# We may also create matrix by: specifying a vector and the number of rows\n",
    "m3 <- matrix(c(1,2,3,4,5,6,7,8,9,10,11,12), nrow=3)\n",
    "m3"
   ]
  },
  {
   "cell_type": "code",
   "execution_count": 18,
   "metadata": {
    "collapsed": false
   },
   "outputs": [
    {
     "data": {
      "text/html": [
       "<table>\n",
       "<tbody>\n",
       "\t<tr><td> 1</td><td> 3</td><td> 5</td><td> 7</td><td> 9</td><td>11</td></tr>\n",
       "\t<tr><td> 2</td><td> 4</td><td> 6</td><td> 8</td><td>10</td><td>12</td></tr>\n",
       "</tbody>\n",
       "</table>\n"
      ],
      "text/latex": [
       "\\begin{tabular}{llllll}\n",
       "\t  1 &  3 &  5 &  7 &  9 & 11\\\\\n",
       "\t  2 &  4 &  6 &  8 & 10 & 12\\\\\n",
       "\\end{tabular}\n"
      ],
      "text/markdown": [
       "1. 1\n",
       "2. 2\n",
       "3. 3\n",
       "4. 4\n",
       "5. 5\n",
       "6. 6\n",
       "7. 7\n",
       "8. 8\n",
       "9. 9\n",
       "10. 10\n",
       "11. 11\n",
       "12. 12\n",
       "\n",
       "\n"
      ],
      "text/plain": [
       "     [,1] [,2] [,3] [,4] [,5] [,6]\n",
       "[1,]    1    3    5    7    9   11\n",
       "[2,]    2    4    6    8   10   12"
      ]
     },
     "metadata": {},
     "output_type": "display_data"
    }
   ],
   "source": [
    "# Similarly, specifying a vector and the number of columns\n",
    "m4 <- matrix(c(1,2,3,4,5,6,7,8,9,10,11,12), ncol=6)\n",
    "m4"
   ]
  },
  {
   "cell_type": "code",
   "execution_count": 19,
   "metadata": {
    "collapsed": false
   },
   "outputs": [
    {
     "data": {
      "text/html": [
       "<table>\n",
       "<tbody>\n",
       "\t<tr><td>1</td><td>2</td><td>3</td><td>4</td><td>5</td><td>6</td></tr>\n",
       "\t<tr><td> 7</td><td> 8</td><td> 9</td><td>10</td><td>11</td><td>12</td></tr>\n",
       "</tbody>\n",
       "</table>\n"
      ],
      "text/latex": [
       "\\begin{tabular}{llllll}\n",
       "\t 1 & 2 & 3 & 4 & 5 & 6\\\\\n",
       "\t  7 &  8 &  9 & 10 & 11 & 12\\\\\n",
       "\\end{tabular}\n"
      ],
      "text/markdown": [
       "1. 1\n",
       "2. 7\n",
       "3. 2\n",
       "4. 8\n",
       "5. 3\n",
       "6. 9\n",
       "7. 4\n",
       "8. 10\n",
       "9. 5\n",
       "10. 11\n",
       "11. 6\n",
       "12. 12\n",
       "\n",
       "\n"
      ],
      "text/plain": [
       "     [,1] [,2] [,3] [,4] [,5] [,6]\n",
       "[1,]    1    2    3    4    5    6\n",
       "[2,]    7    8    9   10   11   12"
      ]
     },
     "metadata": {},
     "output_type": "display_data"
    }
   ],
   "source": [
    "# Please, notice how the previous matrices were create: \"by column\"\n",
    "# We may create the matrix \"by row\" as follows:\n",
    "m5 <- matrix(c(1,2,3,4,5,6,7,8,9,10,11,12), ncol=6, byrow=T)\n",
    "m5"
   ]
  },
  {
   "cell_type": "code",
   "execution_count": 7,
   "metadata": {
    "collapsed": false
   },
   "outputs": [
    {
     "name": "stderr",
     "output_type": "stream",
     "text": [
      "Warning message in matrix(c(1, 2, 3, 4, 5), nrow = 2, ncol = 2, byrow = T):\n",
      "“data length [5] is not a sub-multiple or multiple of the number of rows [2]”"
     ]
    },
    {
     "data": {
      "text/html": [
       "<table>\n",
       "<tbody>\n",
       "\t<tr><td>1</td><td>2</td></tr>\n",
       "\t<tr><td>3</td><td>4</td></tr>\n",
       "</tbody>\n",
       "</table>\n"
      ],
      "text/latex": [
       "\\begin{tabular}{ll}\n",
       "\t 1 & 2\\\\\n",
       "\t 3 & 4\\\\\n",
       "\\end{tabular}\n"
      ],
      "text/markdown": [
       "1. 1\n",
       "2. 3\n",
       "3. 2\n",
       "4. 4\n",
       "\n",
       "\n"
      ],
      "text/plain": [
       "     [,1] [,2]\n",
       "[1,]    1    2\n",
       "[2,]    3    4"
      ]
     },
     "metadata": {},
     "output_type": "display_data"
    },
    {
     "name": "stderr",
     "output_type": "stream",
     "text": [
      "Warning message in matrix(c(1, 2, 3, 4, 5), nrow = 2, ncol = 4, byrow = T):\n",
      "“data length [5] is not a sub-multiple or multiple of the number of rows [2]”"
     ]
    },
    {
     "data": {
      "text/html": [
       "<table>\n",
       "<tbody>\n",
       "\t<tr><td>1</td><td>2</td><td>3</td><td>4</td></tr>\n",
       "\t<tr><td>5</td><td>1</td><td>2</td><td>3</td></tr>\n",
       "</tbody>\n",
       "</table>\n"
      ],
      "text/latex": [
       "\\begin{tabular}{llll}\n",
       "\t 1 & 2 & 3 & 4\\\\\n",
       "\t 5 & 1 & 2 & 3\\\\\n",
       "\\end{tabular}\n"
      ],
      "text/markdown": [
       "1. 1\n",
       "2. 5\n",
       "3. 2\n",
       "4. 1\n",
       "5. 3\n",
       "6. 2\n",
       "7. 4\n",
       "8. 3\n",
       "\n",
       "\n"
      ],
      "text/plain": [
       "     [,1] [,2] [,3] [,4]\n",
       "[1,]    1    2    3    4\n",
       "[2,]    5    1    2    3"
      ]
     },
     "metadata": {},
     "output_type": "display_data"
    }
   ],
   "source": [
    "# In general the matrix function: matrix(vector,nrow,rcol,byrow)\n",
    "matrix(c(1,2,3,4,5),nrow=2,ncol=2,byrow=T)\n",
    "matrix(c(1,2,3,4,5),nrow=2,ncol=4,byrow=T)"
   ]
  },
  {
   "cell_type": "code",
   "execution_count": 10,
   "metadata": {
    "collapsed": false
   },
   "outputs": [
    {
     "data": {
      "text/html": [
       "<table>\n",
       "<tbody>\n",
       "\t<tr><th scope=row>c1</th><td>1</td><td>2</td><td>3</td></tr>\n",
       "\t<tr><th scope=row>c2</th><td>4</td><td>5</td><td>6</td></tr>\n",
       "</tbody>\n",
       "</table>\n"
      ],
      "text/latex": [
       "\\begin{tabular}{r|lll}\n",
       "\tc1 & 1 & 2 & 3\\\\\n",
       "\tc2 & 4 & 5 & 6\\\\\n",
       "\\end{tabular}\n"
      ],
      "text/markdown": [
       "1. 1\n",
       "2. 4\n",
       "3. 2\n",
       "4. 5\n",
       "5. 3\n",
       "6. 6\n",
       "\n",
       "\n"
      ],
      "text/plain": [
       "   [,1] [,2] [,3]\n",
       "c1    1    2    3\n",
       "c2    4    5    6"
      ]
     },
     "metadata": {},
     "output_type": "display_data"
    }
   ],
   "source": [
    "# Operations on Matrices: Transpose t()\n",
    "t(m)"
   ]
  },
  {
   "cell_type": "code",
   "execution_count": 17,
   "metadata": {
    "collapsed": false
   },
   "outputs": [
    {
     "data": {
      "text/html": [
       "<table>\n",
       "<thead><tr><th scope=col>c1</th><th scope=col>c2</th></tr></thead>\n",
       "<tbody>\n",
       "\t<tr><td>3</td><td>9</td></tr>\n",
       "\t<tr><td> 5</td><td>11</td></tr>\n",
       "\t<tr><td> 7</td><td>13</td></tr>\n",
       "</tbody>\n",
       "</table>\n"
      ],
      "text/latex": [
       "\\begin{tabular}{ll}\n",
       " c1 & c2\\\\\n",
       "\\hline\n",
       "\t 3 & 9\\\\\n",
       "\t  5 & 11\\\\\n",
       "\t  7 & 13\\\\\n",
       "\\end{tabular}\n"
      ],
      "text/markdown": [
       "1. 3\n",
       "2. 5\n",
       "3. 7\n",
       "4. 9\n",
       "5. 11\n",
       "6. 13\n",
       "\n",
       "\n"
      ],
      "text/plain": [
       "     c1 c2\n",
       "[1,]  3  9\n",
       "[2,]  5 11\n",
       "[3,]  7 13"
      ]
     },
     "metadata": {},
     "output_type": "display_data"
    },
    {
     "data": {
      "text/html": [
       "<table>\n",
       "<thead><tr><th scope=col>c1</th><th scope=col>c2</th></tr></thead>\n",
       "<tbody>\n",
       "\t<tr><td> 1</td><td>16</td></tr>\n",
       "\t<tr><td> 4</td><td>25</td></tr>\n",
       "\t<tr><td> 9</td><td>36</td></tr>\n",
       "</tbody>\n",
       "</table>\n"
      ],
      "text/latex": [
       "\\begin{tabular}{ll}\n",
       " c1 & c2\\\\\n",
       "\\hline\n",
       "\t  1 & 16\\\\\n",
       "\t  4 & 25\\\\\n",
       "\t  9 & 36\\\\\n",
       "\\end{tabular}\n"
      ],
      "text/markdown": [
       "1. 1\n",
       "2. 4\n",
       "3. 9\n",
       "4. 16\n",
       "5. 25\n",
       "6. 36\n",
       "\n",
       "\n"
      ],
      "text/plain": [
       "     c1 c2\n",
       "[1,]  1 16\n",
       "[2,]  4 25\n",
       "[3,]  9 36"
      ]
     },
     "metadata": {},
     "output_type": "display_data"
    },
    {
     "data": {
      "text/html": [
       "<table>\n",
       "<thead><tr><th></th><th scope=col>c1</th><th scope=col>c2</th></tr></thead>\n",
       "<tbody>\n",
       "\t<tr><th scope=row>c1</th><td>14</td><td>32</td></tr>\n",
       "\t<tr><th scope=row>c2</th><td>32</td><td>77</td></tr>\n",
       "</tbody>\n",
       "</table>\n"
      ],
      "text/latex": [
       "\\begin{tabular}{r|ll}\n",
       "  & c1 & c2\\\\\n",
       "\\hline\n",
       "\tc1 & 14 & 32\\\\\n",
       "\tc2 & 32 & 77\\\\\n",
       "\\end{tabular}\n"
      ],
      "text/markdown": [
       "1. 14\n",
       "2. 32\n",
       "3. 32\n",
       "4. 77\n",
       "\n",
       "\n"
      ],
      "text/plain": [
       "   c1 c2\n",
       "c1 14 32\n",
       "c2 32 77"
      ]
     },
     "metadata": {},
     "output_type": "display_data"
    }
   ],
   "source": [
    "# Sum and product (scalar and vectorial)\n",
    "2*m + 1 \n",
    "m * m\n",
    "t(m) %*% m"
   ]
  },
  {
   "cell_type": "code",
   "execution_count": null,
   "metadata": {
    "collapsed": true
   },
   "outputs": [],
   "source": [
    "# Retrieving elements and sub-matrices\n",
    "m[1,1]\n",
    "m[,2]\n",
    "m3[2,2:3]"
   ]
  },
  {
   "cell_type": "code",
   "execution_count": 41,
   "metadata": {
    "collapsed": false
   },
   "outputs": [
    {
     "data": {
      "text/html": [
       "<table>\n",
       "<tbody>\n",
       "\t<tr><td>-3</td><td> 2</td></tr>\n",
       "\t<tr><td> 2</td><td>-1</td></tr>\n",
       "</tbody>\n",
       "</table>\n"
      ],
      "text/latex": [
       "\\begin{tabular}{ll}\n",
       "\t -3 &  2\\\\\n",
       "\t  2 & -1\\\\\n",
       "\\end{tabular}\n"
      ],
      "text/markdown": [
       "1. -3\n",
       "2. 2\n",
       "3. 2\n",
       "4. -1\n",
       "\n",
       "\n"
      ],
      "text/plain": [
       "     [,1] [,2]\n",
       "[1,]   -3    2\n",
       "[2,]    2   -1"
      ]
     },
     "metadata": {},
     "output_type": "display_data"
    },
    {
     "data": {
      "text/html": [
       "-1"
      ],
      "text/latex": [
       "-1"
      ],
      "text/markdown": [
       "-1"
      ],
      "text/plain": [
       "[1] -1"
      ]
     },
     "metadata": {},
     "output_type": "display_data"
    }
   ],
   "source": [
    "# Matrix inverse and determinant: solve() and det()\n",
    "m1 <- cbind(c(1,2), c(2,3))\n",
    "solve(m1)\n",
    "det(m1)"
   ]
  },
  {
   "cell_type": "code",
   "execution_count": 42,
   "metadata": {
    "collapsed": false
   },
   "outputs": [
    {
     "data": {
      "text/html": [
       "<ol class=list-inline>\n",
       "\t<li>1</li>\n",
       "\t<li>1</li>\n",
       "\t<li>2</li>\n",
       "\t<li>2</li>\n",
       "</ol>\n"
      ],
      "text/latex": [
       "\\begin{enumerate*}\n",
       "\\item 1\n",
       "\\item 1\n",
       "\\item 2\n",
       "\\item 2\n",
       "\\end{enumerate*}\n"
      ],
      "text/markdown": [
       "1. 1\n",
       "2. 1\n",
       "3. 2\n",
       "4. 2\n",
       "\n",
       "\n"
      ],
      "text/plain": [
       "[1] 1 1 2 2"
      ]
     },
     "metadata": {},
     "output_type": "display_data"
    }
   ],
   "source": [
    "# Matrix deconstruction c()\n",
    "c(m)"
   ]
  },
  {
   "cell_type": "code",
   "execution_count": 48,
   "metadata": {
    "collapsed": false
   },
   "outputs": [
    {
     "data": {
      "text/html": [
       "<table>\n",
       "<thead><tr><th></th><th scope=col>x</th><th scope=col>y</th><th scope=col>z</th></tr></thead>\n",
       "<tbody>\n",
       "\t<tr><th scope=row>r1</th><td>1</td><td>1</td><td>1</td></tr>\n",
       "\t<tr><th scope=row>r2</th><td>2</td><td>1</td><td>1</td></tr>\n",
       "\t<tr><th scope=row>r3</th><td>3</td><td>2</td><td>3</td></tr>\n",
       "</tbody>\n",
       "</table>\n"
      ],
      "text/latex": [
       "\\begin{tabular}{r|lll}\n",
       "  & x & y & z\\\\\n",
       "\\hline\n",
       "\tr1 & 1 & 1 & 1\\\\\n",
       "\tr2 & 2 & 1 & 1\\\\\n",
       "\tr3 & 3 & 2 & 3\\\\\n",
       "\\end{tabular}\n"
      ],
      "text/markdown": [
       "1. 1\n",
       "2. 2\n",
       "3. 3\n",
       "4. 1\n",
       "5. 1\n",
       "6. 2\n",
       "7. 1\n",
       "8. 1\n",
       "9. 3\n",
       "\n",
       "\n"
      ],
      "text/plain": [
       "   x y z\n",
       "r1 1 1 1\n",
       "r2 2 1 1\n",
       "r3 3 2 3"
      ]
     },
     "metadata": {},
     "output_type": "display_data"
    }
   ],
   "source": [
    "# Solving a system of linear equations\n",
    "cx <- c(1,2,3)\n",
    "cy <- c(1,1,2)\n",
    "cz <- c(1,1,3)\n",
    "y <- c(1,2,5)\n",
    "m <-cbind(cx,cy,cz)\n",
    "\n",
    "# Names to rows and columms\n",
    "dimnames(m) = list(c(\"r1\", \"r2\", \"r3\"), c(\"x\", \"y\", \"z\"))\n",
    "m"
   ]
  },
  {
   "cell_type": "code",
   "execution_count": 49,
   "metadata": {
    "collapsed": false
   },
   "outputs": [
    {
     "data": {
      "text/html": [
       "<table>\n",
       "<tbody>\n",
       "\t<tr><th scope=row>x</th><td>1</td></tr>\n",
       "\t<tr><th scope=row>y</th><td>-2</td></tr>\n",
       "\t<tr><th scope=row>z</th><td>2</td></tr>\n",
       "</tbody>\n",
       "</table>\n"
      ],
      "text/latex": [
       "\\begin{tabular}{r|l}\n",
       "\tx & 1\\\\\n",
       "\ty & -2\\\\\n",
       "\tz & 2\\\\\n",
       "\\end{tabular}\n"
      ],
      "text/markdown": [
       "1. 1\n",
       "2. -2\n",
       "3. 2\n",
       "\n",
       "\n"
      ],
      "text/plain": [
       "  [,1]\n",
       "x    1\n",
       "y   -2\n",
       "z    2"
      ]
     },
     "metadata": {},
     "output_type": "display_data"
    }
   ],
   "source": [
    "# Solution Ax=Y => x = CY where C is inverse of A (if A is non-singular)\n",
    "# Therefore x = Solve(A) %*% Y\n",
    "# If matrix is not square to use: solve(t(m)%*%m) %*% t(m)\n",
    "solve(m) %*% y"
   ]
  },
  {
   "cell_type": "code",
   "execution_count": null,
   "metadata": {
    "collapsed": true
   },
   "outputs": [],
   "source": []
  }
 ],
 "metadata": {
  "kernelspec": {
   "display_name": "R",
   "language": "R",
   "name": "ir"
  },
  "language_info": {
   "codemirror_mode": "r",
   "file_extension": ".r",
   "mimetype": "text/x-r-source",
   "name": "R",
   "pygments_lexer": "r",
   "version": "3.3.2"
  }
 },
 "nbformat": 4,
 "nbformat_minor": 2
}

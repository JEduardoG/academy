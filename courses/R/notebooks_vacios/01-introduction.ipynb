{
 "cells": [
  {
   "cell_type": "markdown",
   "metadata": {},
   "source": [
    "![](../static/cran.png)"
   ]
  },
  {
   "cell_type": "markdown",
   "metadata": {},
   "source": [
    "## Introduction to R"
   ]
  },
  {
   "cell_type": "markdown",
   "metadata": {},
   "source": [
    "> R is a language for programming statistical analysis. \n",
    "\n",
    "> R has capabilities to: explore data, data modelling, data representation (graphical or tabular), etc.\n",
    "\n",
    "> After R (https://www.r-project.org/) is installed, we may work with R from the console (> R) or may use an IDE like R-Studio (https://www.rstudio.com/).\n",
    "\n",
    "> When we work in a **session** in R, we may create objects (scalars, vectors, matrices...)\n",
    "\n",
    "> These objects are stored in your **workspace** "
   ]
  },
  {
   "cell_type": "code",
   "execution_count": 1,
   "metadata": {
    "collapsed": false,
    "slideshow": {
     "slide_type": "-"
    }
   },
   "outputs": [],
   "source": [
    "# R stores data and operates on objects\n"
   ]
  },
  {
   "cell_type": "code",
   "execution_count": 2,
   "metadata": {
    "collapsed": false,
    "slideshow": {
     "slide_type": "-"
    }
   },
   "outputs": [],
   "source": [
    "# We may assign a name to object values for subsequent use\n"
   ]
  },
  {
   "cell_type": "code",
   "execution_count": 3,
   "metadata": {
    "collapsed": false,
    "slideshow": {
     "slide_type": "-"
    }
   },
   "outputs": [],
   "source": [
    "# We may list the previously created objects\n"
   ]
  },
  {
   "cell_type": "code",
   "execution_count": 19,
   "metadata": {
    "collapsed": true
   },
   "outputs": [],
   "source": [
    "# Objects as we will see later are classified in: scalars, vectors, matrices, lists, dataframes, etc.\n",
    "# x, y and z are scalars"
   ]
  },
  {
   "cell_type": "code",
   "execution_count": 4,
   "metadata": {
    "collapsed": false
   },
   "outputs": [],
   "source": [
    "# A way to create a vector is by using the function c() (concatenate)\n"
   ]
  },
  {
   "cell_type": "code",
   "execution_count": 5,
   "metadata": {
    "collapsed": false
   },
   "outputs": [],
   "source": [
    "# There are other ways to create a Vector\n",
    "# For instance by function seq() (secuences)\n",
    "\n",
    "# The same result could be get by:\n",
    "\n",
    "# In next sections we will learn more about sequences"
   ]
  },
  {
   "cell_type": "code",
   "execution_count": 6,
   "metadata": {
    "collapsed": false
   },
   "outputs": [],
   "source": [
    "# As mentioned above: object are stored in the workspace\n",
    "# To get the location of current workspace:\n",
    "\n",
    "# to set a new working directory: setwd(<newDir>)"
   ]
  },
  {
   "cell_type": "code",
   "execution_count": 23,
   "metadata": {
    "collapsed": true
   },
   "outputs": [],
   "source": [
    "# Object may be removed from the workspace with the function rm()\n"
   ]
  },
  {
   "cell_type": "code",
   "execution_count": null,
   "metadata": {
    "collapsed": false
   },
   "outputs": [],
   "source": []
  },
  {
   "cell_type": "markdown",
   "metadata": {},
   "source": [
    "##### There are open discussion about: R vs. SAS or R vs. Python\n",
    "\n",
    "One point in favor of R is: \"a third of all Kaggle competitors report using R, but 50% of competition winners used R\" (http://www.kdnuggets.com/2011/04/kaggle-competitors-use-r.html)"
   ]
  },
  {
   "cell_type": "markdown",
   "metadata": {},
   "source": [
    "#### Working with Packages\n",
    "Packages is a mechanism to reuse/share objects(code) with others. Packages are maintained in CRAN central (and other) repositories.\n",
    "\n",
    "Searching for an object in a package:\n",
    "~~~\n",
    "find(\"<objectName>\")\n",
    "~~~\n",
    "Output examples:\n",
    "~~~\n",
    "> find(\"plot999\")\n",
    "character(0)\n",
    "> find(\"plot\")\n",
    "\"package:graphics\"\n",
    "~~~\n",
    "\n",
    "To install a package:\n",
    "~~~R\n",
    "install.packages(\"<packageName>\")\n",
    "~~~\n",
    "\n",
    "To check the version of an installed package:\n",
    "~~~R\n",
    "packageVersion(\"<packageName>\")\n",
    "~~~\n",
    "\n",
    "To load a package:\n",
    "~~~R\n",
    "library(<packageName>)\n",
    "~~~"
   ]
  },
  {
   "cell_type": "markdown",
   "metadata": {
    "collapsed": true
   },
   "source": [
    "#### To quit the session (RStudio, Console): q()\n",
    "\n",
    "### Bibliography\n",
    "* [The Art of R Programming, Norman Matloff](https://www.amazon.es/Art-Programming-Statistical-Software-Design/dp/1593273843)\n",
    "* [R Programming for Data Science, Roger Peng](https://www.amazon.es/Programming-Data-Science-Roger-Peng/dp/1365056821)\n",
    "* http://www.r-tutor.com/r-introduction\n",
    "* http://stat.ethz.ch/R-manual/R-devel/library/base/html/00Index.html\n"
   ]
  },
  {
   "cell_type": "code",
   "execution_count": null,
   "metadata": {
    "collapsed": true
   },
   "outputs": [],
   "source": []
  }
 ],
 "metadata": {
  "kernelspec": {
   "display_name": "R",
   "language": "R",
   "name": "ir"
  },
  "language_info": {
   "codemirror_mode": "r",
   "file_extension": ".r",
   "mimetype": "text/x-r-source",
   "name": "R",
   "pygments_lexer": "r",
   "version": "3.3.2"
  }
 },
 "nbformat": 4,
 "nbformat_minor": 2
}

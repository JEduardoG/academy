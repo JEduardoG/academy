{
 "cells": [
  {
   "cell_type": "markdown",
   "metadata": {},
   "source": [
    "![](../static/cran.png)"
   ]
  },
  {
   "cell_type": "markdown",
   "metadata": {},
   "source": [
    "## Loops and Conditional Statements"
   ]
  },
  {
   "cell_type": "markdown",
   "metadata": {},
   "source": [
    "There are cases where we need to do one action or another action in accordance to a condition. In such cases, we should use a *conditional statement*:\n",
    "~~~R\n",
    "if (condition) command1 else command2\n",
    "~~~\n",
    "\n",
    "In other cases, we need to perform the same (or a very similar) action a number of times. In such cases we may use loops. In R we have three ways to build cycles:\n",
    "* whike loops\n",
    "* for loops\n",
    "* repeat loops"
   ]
  },
  {
   "cell_type": "markdown",
   "metadata": {},
   "source": [
    "### Conditional Statements (if and if-else)"
   ]
  },
  {
   "cell_type": "code",
   "execution_count": 1,
   "metadata": {
    "collapsed": false,
    "slideshow": {
     "slide_type": "-"
    }
   },
   "outputs": [],
   "source": [
    "# Conditional statements: \n",
    "# if (condition) expression1\n",
    "# if (condition) expression1 else expression2\n",
    "# Examples:\n"
   ]
  },
  {
   "cell_type": "code",
   "execution_count": 2,
   "metadata": {
    "collapsed": false,
    "slideshow": {
     "slide_type": "-"
    }
   },
   "outputs": [],
   "source": [
    "# Examples:\n"
   ]
  },
  {
   "cell_type": "markdown",
   "metadata": {},
   "source": [
    "### Loops (while, for and repeat)"
   ]
  },
  {
   "cell_type": "code",
   "execution_count": 3,
   "metadata": {
    "collapsed": true
   },
   "outputs": [],
   "source": [
    "# While loop\n",
    "# Executes the block of sentences WHILE the boolean condition equals TRUE\n"
   ]
  },
  {
   "cell_type": "code",
   "execution_count": 4,
   "metadata": {
    "collapsed": false,
    "slideshow": {
     "slide_type": "-"
    }
   },
   "outputs": [],
   "source": [
    "# For Loops \n",
    "# Executes the block of sentences FOR each value in a sequence\n"
   ]
  },
  {
   "cell_type": "code",
   "execution_count": null,
   "metadata": {
    "collapsed": false
   },
   "outputs": [],
   "source": []
  },
  {
   "cell_type": "code",
   "execution_count": 5,
   "metadata": {
    "collapsed": false
   },
   "outputs": [],
   "source": [
    "# Repeat Loops\n",
    "# Executes the block of sentences UNTIL a condition equals TRUE (that is, while this condition is FALSE)\n",
    "# We must check (conditional-statement) for the condition and if condition is true then \"break\" the loop\n"
   ]
  },
  {
   "cell_type": "markdown",
   "metadata": {},
   "source": [
    "#### Loop-control Statements\n",
    "There are two loop-control statements:\n",
    "* **break**: terminates the loop and goes to the next sentence\n",
    "* **next**: terminates current iteration (inside the loop) and jumps to the next iteration\n",
    "\n",
    "Both (break and next) may be used in any kind of loops (while, for and repeat). In the case of repeat-loop to use a break is a must, in other case the program get into an infinite loop."
   ]
  },
  {
   "cell_type": "code",
   "execution_count": 6,
   "metadata": {
    "collapsed": false
   },
   "outputs": [],
   "source": [
    "# Example of next: print only positive elements in a vector\n"
   ]
  },
  {
   "cell_type": "code",
   "execution_count": 7,
   "metadata": {
    "collapsed": false
   },
   "outputs": [],
   "source": [
    "# Nesting loops\n",
    "# We may use loops inside a loop, for example to iterate on every element in a matrix\n"
   ]
  },
  {
   "cell_type": "code",
   "execution_count": null,
   "metadata": {
    "collapsed": true
   },
   "outputs": [],
   "source": []
  }
 ],
 "metadata": {
  "kernelspec": {
   "display_name": "R",
   "language": "R",
   "name": "ir"
  },
  "language_info": {
   "codemirror_mode": "r",
   "file_extension": ".r",
   "mimetype": "text/x-r-source",
   "name": "R",
   "pygments_lexer": "r",
   "version": "3.3.2"
  }
 },
 "nbformat": 4,
 "nbformat_minor": 2
}

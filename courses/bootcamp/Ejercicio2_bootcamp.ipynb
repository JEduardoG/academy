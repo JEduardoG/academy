{
 "cells": [
  {
   "cell_type": "markdown",
   "metadata": {},
   "source": [
    "# ENUNCIADO"
   ]
  },
  {
   "cell_type": "markdown",
   "metadata": {},
   "source": [
    "- Transformar los datos cargados para mantener una coherencia de tipos.\n",
    "\n",
    "- Recuperar los valores que faltan en la tabla.\n",
    "\n",
    "- Representar la dispersión de duración de los vuelos, por número de vuelo."
   ]
  },
  {
   "cell_type": "markdown",
   "metadata": {},
   "source": [
    "## Notas"
   ]
  },
  {
   "cell_type": "markdown",
   "metadata": {},
   "source": [
    "En los vuelos 5024 y 5012, algunas veces no se registra el aeropuerto de origen.\n",
    "\n",
    "En los vuelos 5015 y 5001, algunas veces no se registra el aeropuerto de destino.  "
   ]
  },
  {
   "cell_type": "code",
   "execution_count": 1,
   "metadata": {
    "collapsed": true
   },
   "outputs": [],
   "source": [
    "import pyspark\n",
    "sc = pyspark.SparkContext('local[*]')"
   ]
  },
  {
   "cell_type": "code",
   "execution_count": 2,
   "metadata": {
    "collapsed": true
   },
   "outputs": [],
   "source": [
    "from pyspark.sql import SQLContext\n",
    "sqlContext = SQLContext(sc)"
   ]
  },
  {
   "cell_type": "code",
   "execution_count": 103,
   "metadata": {
    "collapsed": true
   },
   "outputs": [],
   "source": [
    "import matplotlib.pyplot as plt;\n",
    "#The plots in this document are made using matplotlib’s ggplot style (new in version 1.4):\n",
    "import matplotlib\n",
    "matplotlib.style.use('ggplot')"
   ]
  },
  {
   "cell_type": "code",
   "execution_count": 102,
   "metadata": {
    "collapsed": true
   },
   "outputs": [],
   "source": [
    "import pandas as pd\n",
    "import numpy as np"
   ]
  },
  {
   "cell_type": "code",
   "execution_count": 89,
   "metadata": {
    "collapsed": true
   },
   "outputs": [],
   "source": [
    "flights = sqlContext.read.format(\"com.databricks.spark.csv\").option(\"header\", \"true\")\\\n",
    "                .option(\"mode\",\"DROPMALFORMED\").option(\"delimiter\", \";\")\\\n",
    "                .load(\"data/flights.csv\")"
   ]
  },
  {
   "cell_type": "code",
   "execution_count": 90,
   "metadata": {},
   "outputs": [
    {
     "data": {
      "text/plain": [
       "100000"
      ]
     },
     "execution_count": 90,
     "metadata": {},
     "output_type": "execute_result"
    }
   ],
   "source": [
    "flights.count()"
   ]
  },
  {
   "cell_type": "code",
   "execution_count": 91,
   "metadata": {},
   "outputs": [
    {
     "name": "stdout",
     "output_type": "stream",
     "text": [
      "root\n",
      " |-- YEAR: string (nullable = true)\n",
      " |-- MONTH: string (nullable = true)\n",
      " |-- FLIGHT_NUMBER: string (nullable = true)\n",
      " |-- ORIGIN: string (nullable = true)\n",
      " |-- DESTINATION: string (nullable = true)\n",
      " |-- DURATION: string (nullable = true)\n",
      " |-- DELAY: string (nullable = true)\n",
      "\n"
     ]
    }
   ],
   "source": [
    "flights.printSchema()"
   ]
  },
  {
   "cell_type": "code",
   "execution_count": 92,
   "metadata": {},
   "outputs": [],
   "source": [
    "from pyspark.sql.types import IntegerType\n",
    "flights = flights.withColumn(\"YEAR\", flights['YEAR'].cast(IntegerType()))\\\n",
    "            .withColumn(\"MONTH\", flights['MONTH'].cast(IntegerType()))\\\n",
    "            .withColumn(\"FLIGHT_NUMBER\", flights['FLIGHT_NUMBER'].cast(IntegerType()))\\\n",
    "            .withColumn(\"DURATION\", flights['DURATION'].cast(IntegerType()))\\\n",
    "            .withColumn(\"DELAY\", flights['DELAY'].cast(IntegerType()))"
   ]
  },
  {
   "cell_type": "code",
   "execution_count": 93,
   "metadata": {},
   "outputs": [
    {
     "name": "stdout",
     "output_type": "stream",
     "text": [
      "root\n",
      " |-- YEAR: integer (nullable = true)\n",
      " |-- MONTH: integer (nullable = true)\n",
      " |-- FLIGHT_NUMBER: integer (nullable = true)\n",
      " |-- ORIGIN: string (nullable = true)\n",
      " |-- DESTINATION: string (nullable = true)\n",
      " |-- DURATION: integer (nullable = true)\n",
      " |-- DELAY: integer (nullable = true)\n",
      "\n"
     ]
    }
   ],
   "source": [
    "flights.printSchema()"
   ]
  },
  {
   "cell_type": "code",
   "execution_count": 94,
   "metadata": {
    "collapsed": true
   },
   "outputs": [],
   "source": [
    "flights_pd = flights.toPandas()"
   ]
  },
  {
   "cell_type": "code",
   "execution_count": 95,
   "metadata": {},
   "outputs": [
    {
     "data": {
      "text/html": [
       "<div>\n",
       "<table border=\"1\" class=\"dataframe\">\n",
       "  <thead>\n",
       "    <tr style=\"text-align: right;\">\n",
       "      <th></th>\n",
       "      <th>YEAR</th>\n",
       "      <th>MONTH</th>\n",
       "      <th>FLIGHT_NUMBER</th>\n",
       "      <th>DURATION</th>\n",
       "      <th>DELAY</th>\n",
       "    </tr>\n",
       "  </thead>\n",
       "  <tbody>\n",
       "    <tr>\n",
       "      <th>count</th>\n",
       "      <td>100000.000000</td>\n",
       "      <td>100000.000000</td>\n",
       "      <td>100000.000000</td>\n",
       "      <td>100000.000000</td>\n",
       "      <td>100000.00000</td>\n",
       "    </tr>\n",
       "    <tr>\n",
       "      <th>mean</th>\n",
       "      <td>2011.498110</td>\n",
       "      <td>6.483010</td>\n",
       "      <td>5012.971900</td>\n",
       "      <td>128.662050</td>\n",
       "      <td>12.53170</td>\n",
       "    </tr>\n",
       "    <tr>\n",
       "      <th>std</th>\n",
       "      <td>1.119816</td>\n",
       "      <td>3.451969</td>\n",
       "      <td>7.796726</td>\n",
       "      <td>52.817748</td>\n",
       "      <td>13.26893</td>\n",
       "    </tr>\n",
       "    <tr>\n",
       "      <th>min</th>\n",
       "      <td>2010.000000</td>\n",
       "      <td>1.000000</td>\n",
       "      <td>5000.000000</td>\n",
       "      <td>30.000000</td>\n",
       "      <td>-10.00000</td>\n",
       "    </tr>\n",
       "    <tr>\n",
       "      <th>25%</th>\n",
       "      <td>2010.000000</td>\n",
       "      <td>3.000000</td>\n",
       "      <td>5006.000000</td>\n",
       "      <td>89.000000</td>\n",
       "      <td>1.00000</td>\n",
       "    </tr>\n",
       "    <tr>\n",
       "      <th>50%</th>\n",
       "      <td>2011.000000</td>\n",
       "      <td>6.000000</td>\n",
       "      <td>5013.000000</td>\n",
       "      <td>115.500000</td>\n",
       "      <td>13.00000</td>\n",
       "    </tr>\n",
       "    <tr>\n",
       "      <th>75%</th>\n",
       "      <td>2013.000000</td>\n",
       "      <td>9.000000</td>\n",
       "      <td>5020.000000</td>\n",
       "      <td>165.000000</td>\n",
       "      <td>24.00000</td>\n",
       "    </tr>\n",
       "    <tr>\n",
       "      <th>max</th>\n",
       "      <td>2013.000000</td>\n",
       "      <td>12.000000</td>\n",
       "      <td>5026.000000</td>\n",
       "      <td>275.000000</td>\n",
       "      <td>35.00000</td>\n",
       "    </tr>\n",
       "  </tbody>\n",
       "</table>\n",
       "</div>"
      ],
      "text/plain": [
       "                YEAR          MONTH  FLIGHT_NUMBER       DURATION  \\\n",
       "count  100000.000000  100000.000000  100000.000000  100000.000000   \n",
       "mean     2011.498110       6.483010    5012.971900     128.662050   \n",
       "std         1.119816       3.451969       7.796726      52.817748   \n",
       "min      2010.000000       1.000000    5000.000000      30.000000   \n",
       "25%      2010.000000       3.000000    5006.000000      89.000000   \n",
       "50%      2011.000000       6.000000    5013.000000     115.500000   \n",
       "75%      2013.000000       9.000000    5020.000000     165.000000   \n",
       "max      2013.000000      12.000000    5026.000000     275.000000   \n",
       "\n",
       "              DELAY  \n",
       "count  100000.00000  \n",
       "mean       12.53170  \n",
       "std        13.26893  \n",
       "min       -10.00000  \n",
       "25%         1.00000  \n",
       "50%        13.00000  \n",
       "75%        24.00000  \n",
       "max        35.00000  "
      ]
     },
     "execution_count": 95,
     "metadata": {},
     "output_type": "execute_result"
    }
   ],
   "source": [
    "flights_pd.describe()"
   ]
  },
  {
   "cell_type": "code",
   "execution_count": null,
   "metadata": {
    "collapsed": true
   },
   "outputs": [],
   "source": [
    "En los vuelos 5024 y 5012, algunas veces no se registra el aeropuerto de origen.\n",
    "En los vuelos 5015 y 5001, algunas veces no se registra el aeropuerto de destino."
   ]
  },
  {
   "cell_type": "code",
   "execution_count": 98,
   "metadata": {},
   "outputs": [
    {
     "name": "stdout",
     "output_type": "stream",
     "text": [
      "+----+-----+-------------+------+-----------+--------+-----+\n",
      "|YEAR|MONTH|FLIGHT_NUMBER|ORIGIN|DESTINATION|DURATION|DELAY|\n",
      "+----+-----+-------------+------+-----------+--------+-----+\n",
      "|2013|   11|         5000|   TIA|        MPL|      95|   -5|\n",
      "|2012|   10|         5008|   LPA|        LUX|      77|   -3|\n",
      "|2013|    3|         5004|   TBS|        CGN|     251|   11|\n",
      "|2011|    9|         5025|   CDG|        TXL|      89|   19|\n",
      "|2013|    8|         5012|  null|        OSL|     174|   24|\n",
      "|2010|    9|         5008|   LPA|        LUX|      73|   -7|\n",
      "|2012|    4|         5026|   TXL|        DUS|     118|   18|\n",
      "|2011|    2|         5012|   BGO|        OSL|     160|   10|\n",
      "|2011|    7|         5010|   TGD|        AMS|      92|   -3|\n",
      "|2011|    7|         5016|   IST|        BHX|      89|   14|\n",
      "|2010|    1|         5010|   TGD|        AMS|     119|   24|\n",
      "|2011|    5|         5021|   LTN|        MAN|     200|    0|\n",
      "|2012|    1|         5005|   CGN|        MAD|     111|    1|\n",
      "|2010|    7|         5010|   TGD|        AMS|     124|   29|\n",
      "|2012|    3|         5011|   AMS|        BGO|     185|    5|\n",
      "|2011|    2|         5025|   CDG|        TXL|     102|   32|\n",
      "|2011|   10|         5015|   SVQ|        IST|      77|   17|\n",
      "|2013|    5|         5001|   MPL|        BVA|     118|   -2|\n",
      "|2012|    1|         5016|   IST|        BHX|     102|   27|\n",
      "|2010|    9|         5022|   MAN|        GLA|     217|    7|\n",
      "+----+-----+-------------+------+-----------+--------+-----+\n",
      "only showing top 20 rows\n",
      "\n"
     ]
    }
   ],
   "source": [
    "flights.show()"
   ]
  },
  {
   "cell_type": "code",
   "execution_count": 96,
   "metadata": {
    "collapsed": true
   },
   "outputs": [],
   "source": [
    "flights_1 = flights.filter('FLIGHT_NUMBER <= 5010')\n",
    "flights_2 = flights.filter('FLIGHT_NUMBER > 5010').filter('FLIGHT_NUMBER <= 5014')\n",
    "flights_3 = flights.filter('FLIGHT_NUMBER > 5014').filter('FLIGHT_NUMBER <= 5020')\n",
    "flights_4 = flights.filter('FLIGHT_NUMBER > 5020')"
   ]
  },
  {
   "cell_type": "code",
   "execution_count": 97,
   "metadata": {
    "collapsed": true
   },
   "outputs": [],
   "source": [
    "flights_1 = flights_1.na.replace('null','BVA')\n",
    "flights_2 = flights_2.na.replace('null','BGO')\n",
    "flights_3 = flights_3.na.replace('null','IST')\n",
    "flights_4 = flights_4.na.replace('null','SXF')"
   ]
  },
  {
   "cell_type": "code",
   "execution_count": 99,
   "metadata": {
    "collapsed": true
   },
   "outputs": [],
   "source": [
    "flights_filter = flights_1.union(flights_2).union(flights_3).union(flights_4)\n",
    "flights_filter.show()"
   ]
  },
  {
   "cell_type": "code",
   "execution_count": 105,
   "metadata": {
    "collapsed": true
   },
   "outputs": [],
   "source": [
    "flights_pd = flights_filter.toPandas()"
   ]
  },
  {
   "cell_type": "code",
   "execution_count": 104,
   "metadata": {
    "collapsed": true
   },
   "outputs": [],
   "source": [
    "import seaborn as sns"
   ]
  },
  {
   "cell_type": "code",
   "execution_count": 107,
   "metadata": {},
   "outputs": [
    {
     "data": {
      "text/plain": [
       "<matplotlib.axes._subplots.AxesSubplot at 0x7f2ffd67fac8>"
      ]
     },
     "execution_count": 107,
     "metadata": {},
     "output_type": "execute_result"
    },
    {
     "name": "stderr",
     "output_type": "stream",
     "text": [
      "/opt/conda/lib/python3.5/site-packages/matplotlib/font_manager.py:1297: UserWarning: findfont: Font family ['sans-serif'] not found. Falling back to DejaVu Sans\n",
      "  (prop.get_family(), self.defaultFamily[fontext]))\n"
     ]
    },
    {
     "data": {
      "image/png": "[encoded data removed]",
      "text/plain": [
       "<matplotlib.figure.Figure at 0x7f2ffcebbef0>"
      ]
     },
     "metadata": {},
     "output_type": "display_data"
    }
   ],
   "source": [
    "sns.boxplot(x = 'FLIGHT_NUMBER', y = 'DURATION', data = flights_pd)"
   ]
  },
  {
   "cell_type": "code",
   "execution_count": 115,
   "metadata": {},
   "outputs": [],
   "source": [
    "flight_5015 = flights_filter.filter('FLIGHT_NUMBER = 5015')"
   ]
  },
  {
   "cell_type": "code",
   "execution_count": 118,
   "metadata": {},
   "outputs": [],
   "source": [
    "flight_5015_pd = flight_5015.toPandas()"
   ]
  },
  {
   "cell_type": "code",
   "execution_count": 128,
   "metadata": {},
   "outputs": [
    {
     "name": "stderr",
     "output_type": "stream",
     "text": [
      "/opt/conda/lib/python3.5/site-packages/matplotlib/font_manager.py:1297: UserWarning: findfont: Font family ['sans-serif'] not found. Falling back to DejaVu Sans\n",
      "  (prop.get_family(), self.defaultFamily[fontext]))\n"
     ]
    },
    {
     "data": {
      "image/png": "[encoded data removed]",
      "text/plain": [
       "<matplotlib.figure.Figure at 0x7f2fe9547b70>"
      ]
     },
     "metadata": {},
     "output_type": "display_data"
    }
   ],
   "source": [
    "N = len(flight_5015_pd)\n",
    "ind = np.arange(N) # the x locations for the groups\n",
    "width = 0.9       # the width of the bars: can also be len(x) sequence\n",
    "plt.bar(ind, flight_5015_pd.MONTH, width, color='b')\n",
    "plt.show()"
   ]
  },
  {
   "cell_type": "code",
   "execution_count": 124,
   "metadata": {},
   "outputs": [],
   "source": [
    "stats = flights_pd.groupby('FLIGHT_NUMBER').count()"
   ]
  },
  {
   "cell_type": "code",
   "execution_count": 125,
   "metadata": {},
   "outputs": [
    {
     "data": {
      "text/html": [
       "<div>\n",
       "<table border=\"1\" class=\"dataframe\">\n",
       "  <thead>\n",
       "    <tr style=\"text-align: right;\">\n",
       "      <th></th>\n",
       "      <th>YEAR</th>\n",
       "      <th>MONTH</th>\n",
       "      <th>ORIGIN</th>\n",
       "      <th>DESTINATION</th>\n",
       "      <th>DURATION</th>\n",
       "      <th>DELAY</th>\n",
       "    </tr>\n",
       "    <tr>\n",
       "      <th>FLIGHT_NUMBER</th>\n",
       "      <th></th>\n",
       "      <th></th>\n",
       "      <th></th>\n",
       "      <th></th>\n",
       "      <th></th>\n",
       "      <th></th>\n",
       "    </tr>\n",
       "  </thead>\n",
       "  <tbody>\n",
       "    <tr>\n",
       "      <th>5000</th>\n",
       "      <td>3722</td>\n",
       "      <td>3722</td>\n",
       "      <td>3722</td>\n",
       "      <td>3722</td>\n",
       "      <td>3722</td>\n",
       "      <td>3722</td>\n",
       "    </tr>\n",
       "    <tr>\n",
       "      <th>5001</th>\n",
       "      <td>3756</td>\n",
       "      <td>3756</td>\n",
       "      <td>3756</td>\n",
       "      <td>3756</td>\n",
       "      <td>3756</td>\n",
       "      <td>3756</td>\n",
       "    </tr>\n",
       "    <tr>\n",
       "      <th>5002</th>\n",
       "      <td>3717</td>\n",
       "      <td>3717</td>\n",
       "      <td>3717</td>\n",
       "      <td>3717</td>\n",
       "      <td>3717</td>\n",
       "      <td>3717</td>\n",
       "    </tr>\n",
       "    <tr>\n",
       "      <th>5003</th>\n",
       "      <td>3619</td>\n",
       "      <td>3619</td>\n",
       "      <td>3619</td>\n",
       "      <td>3619</td>\n",
       "      <td>3619</td>\n",
       "      <td>3619</td>\n",
       "    </tr>\n",
       "    <tr>\n",
       "      <th>5004</th>\n",
       "      <td>3798</td>\n",
       "      <td>3798</td>\n",
       "      <td>3798</td>\n",
       "      <td>3798</td>\n",
       "      <td>3798</td>\n",
       "      <td>3798</td>\n",
       "    </tr>\n",
       "    <tr>\n",
       "      <th>5005</th>\n",
       "      <td>3685</td>\n",
       "      <td>3685</td>\n",
       "      <td>3685</td>\n",
       "      <td>3685</td>\n",
       "      <td>3685</td>\n",
       "      <td>3685</td>\n",
       "    </tr>\n",
       "    <tr>\n",
       "      <th>5006</th>\n",
       "      <td>3685</td>\n",
       "      <td>3685</td>\n",
       "      <td>3685</td>\n",
       "      <td>3685</td>\n",
       "      <td>3685</td>\n",
       "      <td>3685</td>\n",
       "    </tr>\n",
       "    <tr>\n",
       "      <th>5007</th>\n",
       "      <td>3677</td>\n",
       "      <td>3677</td>\n",
       "      <td>3677</td>\n",
       "      <td>3677</td>\n",
       "      <td>3677</td>\n",
       "      <td>3677</td>\n",
       "    </tr>\n",
       "    <tr>\n",
       "      <th>5008</th>\n",
       "      <td>3828</td>\n",
       "      <td>3828</td>\n",
       "      <td>3828</td>\n",
       "      <td>3828</td>\n",
       "      <td>3828</td>\n",
       "      <td>3828</td>\n",
       "    </tr>\n",
       "    <tr>\n",
       "      <th>5009</th>\n",
       "      <td>3817</td>\n",
       "      <td>3817</td>\n",
       "      <td>3817</td>\n",
       "      <td>3817</td>\n",
       "      <td>3817</td>\n",
       "      <td>3817</td>\n",
       "    </tr>\n",
       "    <tr>\n",
       "      <th>5010</th>\n",
       "      <td>3713</td>\n",
       "      <td>3713</td>\n",
       "      <td>3713</td>\n",
       "      <td>3713</td>\n",
       "      <td>3713</td>\n",
       "      <td>3713</td>\n",
       "    </tr>\n",
       "    <tr>\n",
       "      <th>5011</th>\n",
       "      <td>3792</td>\n",
       "      <td>3792</td>\n",
       "      <td>3792</td>\n",
       "      <td>3792</td>\n",
       "      <td>3792</td>\n",
       "      <td>3792</td>\n",
       "    </tr>\n",
       "    <tr>\n",
       "      <th>5012</th>\n",
       "      <td>3604</td>\n",
       "      <td>3604</td>\n",
       "      <td>3604</td>\n",
       "      <td>3604</td>\n",
       "      <td>3604</td>\n",
       "      <td>3604</td>\n",
       "    </tr>\n",
       "    <tr>\n",
       "      <th>5013</th>\n",
       "      <td>3765</td>\n",
       "      <td>3765</td>\n",
       "      <td>3765</td>\n",
       "      <td>3765</td>\n",
       "      <td>3765</td>\n",
       "      <td>3765</td>\n",
       "    </tr>\n",
       "    <tr>\n",
       "      <th>5014</th>\n",
       "      <td>3626</td>\n",
       "      <td>3626</td>\n",
       "      <td>3626</td>\n",
       "      <td>3626</td>\n",
       "      <td>3626</td>\n",
       "      <td>3626</td>\n",
       "    </tr>\n",
       "    <tr>\n",
       "      <th>5015</th>\n",
       "      <td>3631</td>\n",
       "      <td>3631</td>\n",
       "      <td>3631</td>\n",
       "      <td>3631</td>\n",
       "      <td>3631</td>\n",
       "      <td>3631</td>\n",
       "    </tr>\n",
       "    <tr>\n",
       "      <th>5016</th>\n",
       "      <td>3767</td>\n",
       "      <td>3767</td>\n",
       "      <td>3767</td>\n",
       "      <td>3767</td>\n",
       "      <td>3767</td>\n",
       "      <td>3767</td>\n",
       "    </tr>\n",
       "    <tr>\n",
       "      <th>5017</th>\n",
       "      <td>3605</td>\n",
       "      <td>3605</td>\n",
       "      <td>3605</td>\n",
       "      <td>3605</td>\n",
       "      <td>3605</td>\n",
       "      <td>3605</td>\n",
       "    </tr>\n",
       "    <tr>\n",
       "      <th>5018</th>\n",
       "      <td>3621</td>\n",
       "      <td>3621</td>\n",
       "      <td>3621</td>\n",
       "      <td>3621</td>\n",
       "      <td>3621</td>\n",
       "      <td>3621</td>\n",
       "    </tr>\n",
       "    <tr>\n",
       "      <th>5019</th>\n",
       "      <td>3747</td>\n",
       "      <td>3747</td>\n",
       "      <td>3747</td>\n",
       "      <td>3747</td>\n",
       "      <td>3747</td>\n",
       "      <td>3747</td>\n",
       "    </tr>\n",
       "    <tr>\n",
       "      <th>5020</th>\n",
       "      <td>3637</td>\n",
       "      <td>3637</td>\n",
       "      <td>3637</td>\n",
       "      <td>3637</td>\n",
       "      <td>3637</td>\n",
       "      <td>3637</td>\n",
       "    </tr>\n",
       "    <tr>\n",
       "      <th>5021</th>\n",
       "      <td>3639</td>\n",
       "      <td>3639</td>\n",
       "      <td>3639</td>\n",
       "      <td>3639</td>\n",
       "      <td>3639</td>\n",
       "      <td>3639</td>\n",
       "    </tr>\n",
       "    <tr>\n",
       "      <th>5022</th>\n",
       "      <td>3762</td>\n",
       "      <td>3762</td>\n",
       "      <td>3762</td>\n",
       "      <td>3762</td>\n",
       "      <td>3762</td>\n",
       "      <td>3762</td>\n",
       "    </tr>\n",
       "    <tr>\n",
       "      <th>5023</th>\n",
       "      <td>3622</td>\n",
       "      <td>3622</td>\n",
       "      <td>3622</td>\n",
       "      <td>3622</td>\n",
       "      <td>3622</td>\n",
       "      <td>3622</td>\n",
       "    </tr>\n",
       "    <tr>\n",
       "      <th>5024</th>\n",
       "      <td>3603</td>\n",
       "      <td>3603</td>\n",
       "      <td>3603</td>\n",
       "      <td>3603</td>\n",
       "      <td>3603</td>\n",
       "      <td>3603</td>\n",
       "    </tr>\n",
       "    <tr>\n",
       "      <th>5025</th>\n",
       "      <td>3805</td>\n",
       "      <td>3805</td>\n",
       "      <td>3805</td>\n",
       "      <td>3805</td>\n",
       "      <td>3805</td>\n",
       "      <td>3805</td>\n",
       "    </tr>\n",
       "    <tr>\n",
       "      <th>5026</th>\n",
       "      <td>3757</td>\n",
       "      <td>3757</td>\n",
       "      <td>3757</td>\n",
       "      <td>3757</td>\n",
       "      <td>3757</td>\n",
       "      <td>3757</td>\n",
       "    </tr>\n",
       "  </tbody>\n",
       "</table>\n",
       "</div>"
      ],
      "text/plain": [
       "               YEAR  MONTH  ORIGIN  DESTINATION  DURATION  DELAY\n",
       "FLIGHT_NUMBER                                                   \n",
       "5000           3722   3722    3722         3722      3722   3722\n",
       "5001           3756   3756    3756         3756      3756   3756\n",
       "5002           3717   3717    3717         3717      3717   3717\n",
       "5003           3619   3619    3619         3619      3619   3619\n",
       "5004           3798   3798    3798         3798      3798   3798\n",
       "5005           3685   3685    3685         3685      3685   3685\n",
       "5006           3685   3685    3685         3685      3685   3685\n",
       "5007           3677   3677    3677         3677      3677   3677\n",
       "5008           3828   3828    3828         3828      3828   3828\n",
       "5009           3817   3817    3817         3817      3817   3817\n",
       "5010           3713   3713    3713         3713      3713   3713\n",
       "5011           3792   3792    3792         3792      3792   3792\n",
       "5012           3604   3604    3604         3604      3604   3604\n",
       "5013           3765   3765    3765         3765      3765   3765\n",
       "5014           3626   3626    3626         3626      3626   3626\n",
       "5015           3631   3631    3631         3631      3631   3631\n",
       "5016           3767   3767    3767         3767      3767   3767\n",
       "5017           3605   3605    3605         3605      3605   3605\n",
       "5018           3621   3621    3621         3621      3621   3621\n",
       "5019           3747   3747    3747         3747      3747   3747\n",
       "5020           3637   3637    3637         3637      3637   3637\n",
       "5021           3639   3639    3639         3639      3639   3639\n",
       "5022           3762   3762    3762         3762      3762   3762\n",
       "5023           3622   3622    3622         3622      3622   3622\n",
       "5024           3603   3603    3603         3603      3603   3603\n",
       "5025           3805   3805    3805         3805      3805   3805\n",
       "5026           3757   3757    3757         3757      3757   3757"
      ]
     },
     "execution_count": 125,
     "metadata": {},
     "output_type": "execute_result"
    }
   ],
   "source": [
    "stats"
   ]
  },
  {
   "cell_type": "code",
   "execution_count": 127,
   "metadata": {},
   "outputs": [
    {
     "name": "stderr",
     "output_type": "stream",
     "text": [
      "/opt/conda/lib/python3.5/site-packages/matplotlib/font_manager.py:1297: UserWarning: findfont: Font family ['sans-serif'] not found. Falling back to DejaVu Sans\n",
      "  (prop.get_family(), self.defaultFamily[fontext]))\n"
     ]
    },
    {
     "data": {
      "image/png": "[encoded data removed]",
      "text/plain": [
       "<matplotlib.figure.Figure at 0x7f2ffe210eb8>"
      ]
     },
     "metadata": {},
     "output_type": "display_data"
    }
   ],
   "source": [
    "N = len(stats)\n",
    "ind = np.arange(N) # the x locations for the groups\n",
    "width = 0.9       # the width of the bars: can also be len(x) sequence\n",
    "plt.barh(ind, stats.DELAY, width, color='b')\n",
    "plt.show()"
   ]
  }
 ],
 "metadata": {
  "kernelspec": {
   "display_name": "Python 3",
   "language": "python",
   "name": "python3"
  },
  "language_info": {
   "codemirror_mode": {
    "name": "ipython",
    "version": 3
   },
   "file_extension": ".py",
   "mimetype": "text/x-python",
   "name": "python",
   "nbconvert_exporter": "python",
   "pygments_lexer": "ipython3",
   "version": "3.5.2"
  }
 },
 "nbformat": 4,
 "nbformat_minor": 2
}

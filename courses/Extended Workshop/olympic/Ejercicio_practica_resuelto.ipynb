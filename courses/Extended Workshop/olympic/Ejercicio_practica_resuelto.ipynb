{
 "cells": [
  {
   "cell_type": "markdown",
   "metadata": {},
   "source": [
    "# SPARK CONTEXT Y SPARKSQL CONTEXT"
   ]
  },
  {
   "cell_type": "code",
   "execution_count": 1,
   "metadata": {},
   "outputs": [
    {
     "data": {
      "text/plain": [
       "<pyspark.context.SparkContext at 0x7f79a16bf278>"
      ]
     },
     "execution_count": 1,
     "metadata": {},
     "output_type": "execute_result"
    }
   ],
   "source": [
    "import pyspark\n",
    "sc = pyspark.SparkContext('local[*]')\n",
    "sc"
   ]
  },
  {
   "cell_type": "code",
   "execution_count": 2,
   "metadata": {},
   "outputs": [
    {
     "data": {
      "text/plain": [
       "<pyspark.sql.context.SQLContext at 0x7f796ce5feb8>"
      ]
     },
     "execution_count": 2,
     "metadata": {},
     "output_type": "execute_result"
    }
   ],
   "source": [
    "sqlContext = pyspark.sql.SQLContext(sc)\n",
    "sqlContext"
   ]
  },
  {
   "cell_type": "markdown",
   "metadata": {},
   "source": [
    "# CARGA DE DATASETS"
   ]
  },
  {
   "cell_type": "code",
   "execution_count": 3,
   "metadata": {
    "collapsed": true
   },
   "outputs": [],
   "source": [
    "winter = sqlContext.read.format(\"com.databricks.spark.csv\").option(\"header\", \"true\")\\\n",
    "                .option(\"inferschema\", \"true\").option(\"mode\",\"DROPMALFORMED\").option(\"delimiter\", \",\")\\\n",
    "                .load(\"data/winter.csv\")"
   ]
  },
  {
   "cell_type": "code",
   "execution_count": 4,
   "metadata": {
    "collapsed": true
   },
   "outputs": [],
   "source": [
    "summer = sqlContext.read.format(\"com.databricks.spark.csv\").option(\"header\", \"true\")\\\n",
    "                .option(\"inferschema\", \"true\").option(\"mode\",\"DROPMALFORMED\").option(\"delimiter\", \",\")\\\n",
    "                .load(\"data/summer.csv\")"
   ]
  },
  {
   "cell_type": "code",
   "execution_count": 100,
   "metadata": {
    "collapsed": true
   },
   "outputs": [],
   "source": [
    "countries = sqlContext.read.format(\"com.databricks.spark.csv\").option(\"header\", \"true\")\\\n",
    "                .option(\"inferschema\", \"true\").option(\"mode\",\"DROPMALFORMED\").option(\"delimiter\", \",\")\\\n",
    "                .load(\"data/dictionary.csv\")"
   ]
  },
  {
   "cell_type": "code",
   "execution_count": 6,
   "metadata": {},
   "outputs": [
    {
     "data": {
      "text/plain": [
       "[('Year', 'int'),\n",
       " ('City', 'string'),\n",
       " ('Sport', 'string'),\n",
       " ('Discipline', 'string'),\n",
       " ('Athlete', 'string'),\n",
       " ('Country', 'string'),\n",
       " ('Gender', 'string'),\n",
       " ('Event', 'string'),\n",
       " ('Medal', 'string')]"
      ]
     },
     "execution_count": 6,
     "metadata": {},
     "output_type": "execute_result"
    }
   ],
   "source": [
    "winter.dtypes"
   ]
  },
  {
   "cell_type": "code",
   "execution_count": 7,
   "metadata": {},
   "outputs": [
    {
     "data": {
      "text/plain": [
       "[('Year', 'int'),\n",
       " ('City', 'string'),\n",
       " ('Sport', 'string'),\n",
       " ('Discipline', 'string'),\n",
       " ('Athlete', 'string'),\n",
       " ('Country', 'string'),\n",
       " ('Gender', 'string'),\n",
       " ('Event', 'string'),\n",
       " ('Medal', 'string')]"
      ]
     },
     "execution_count": 7,
     "metadata": {},
     "output_type": "execute_result"
    }
   ],
   "source": [
    "summer.dtypes"
   ]
  },
  {
   "cell_type": "code",
   "execution_count": 101,
   "metadata": {},
   "outputs": [
    {
     "data": {
      "text/plain": [
       "[('Name', 'string'),\n",
       " ('Code', 'string'),\n",
       " ('Population', 'int'),\n",
       " ('GDP', 'double')]"
      ]
     },
     "execution_count": 101,
     "metadata": {},
     "output_type": "execute_result"
    }
   ],
   "source": [
    "countries.dtypes"
   ]
  },
  {
   "cell_type": "code",
   "execution_count": 12,
   "metadata": {},
   "outputs": [
    {
     "name": "stdout",
     "output_type": "stream",
     "text": [
      "5770\n",
      "31165\n",
      "201\n"
     ]
    }
   ],
   "source": [
    "print(winter.count())\n",
    "print(summer.count())\n",
    "print(countries.count())"
   ]
  },
  {
   "cell_type": "code",
   "execution_count": 58,
   "metadata": {
    "collapsed": true
   },
   "outputs": [],
   "source": [
    "from pyspark.sql.functions import lit\n",
    "winter = winter.withColumn('type', lit(1))\n",
    "summer = summer.withColumn('type', lit(2))"
   ]
  },
  {
   "cell_type": "markdown",
   "metadata": {},
   "source": [
    "# UNIR LOS DOS DATAFRAMES"
   ]
  },
  {
   "cell_type": "code",
   "execution_count": 59,
   "metadata": {},
   "outputs": [
    {
     "data": {
      "text/plain": [
       "36935"
      ]
     },
     "execution_count": 59,
     "metadata": {},
     "output_type": "execute_result"
    }
   ],
   "source": [
    "olympics = winter.union(summer)\n",
    "olympics.count()"
   ]
  },
  {
   "cell_type": "code",
   "execution_count": 60,
   "metadata": {},
   "outputs": [
    {
     "name": "stdout",
     "output_type": "stream",
     "text": [
      "+----+--------+---------+----------+--------------------+-------+------+---------------+------+----+\n",
      "|Year|    City|    Sport|Discipline|             Athlete|Country|Gender|          Event| Medal|type|\n",
      "+----+--------+---------+----------+--------------------+-------+------+---------------+------+----+\n",
      "|1924|Chamonix| Biathlon|  Biathlon|         BERTHET, G.|    FRA|   Men|Military Patrol|Bronze|   1|\n",
      "|1924|Chamonix| Biathlon|  Biathlon|      MANDRILLON, C.|    FRA|   Men|Military Patrol|Bronze|   1|\n",
      "|1924|Chamonix| Biathlon|  Biathlon| MANDRILLON, Maurice|    FRA|   Men|Military Patrol|Bronze|   1|\n",
      "|1924|Chamonix| Biathlon|  Biathlon|     VANDELLE, André|    FRA|   Men|Military Patrol|Bronze|   1|\n",
      "|1924|Chamonix| Biathlon|  Biathlon|AUFDENBLATTEN, Adolf|    SUI|   Men|Military Patrol|  Gold|   1|\n",
      "|1924|Chamonix| Biathlon|  Biathlon|     JULEN, Alphonse|    SUI|   Men|Military Patrol|  Gold|   1|\n",
      "|1924|Chamonix| Biathlon|  Biathlon|         JULEN, Ant.|    SUI|   Men|Military Patrol|  Gold|   1|\n",
      "|1924|Chamonix| Biathlon|  Biathlon|         VAUCHER, D.|    SUI|   Men|Military Patrol|  Gold|   1|\n",
      "|1924|Chamonix| Biathlon|  Biathlon|        BREMER, V.E.|    FIN|   Men|Military Patrol|Silver|   1|\n",
      "|1924|Chamonix| Biathlon|  Biathlon|       ESKELINEN, A.|    FIN|   Men|Military Patrol|Silver|   1|\n",
      "|1924|Chamonix| Biathlon|  Biathlon|        HIRVONEN, H.|    FIN|   Men|Military Patrol|Silver|   1|\n",
      "|1924|Chamonix| Biathlon|  Biathlon| LAPPALAINEN, Martti|    FIN|   Men|Military Patrol|Silver|   1|\n",
      "|1924|Chamonix|Bobsleigh| Bobsleigh|      MORTIAUX, René|    BEL|   Men|       Four-Man|Bronze|   1|\n",
      "|1924|Chamonix|Bobsleigh| Bobsleigh|     MULDER, Charles|    BEL|   Men|       Four-Man|Bronze|   1|\n",
      "|1924|Chamonix|Bobsleigh| Bobsleigh|VAN DEN BROECK, Paul|    BEL|   Men|       Four-Man|Bronze|   1|\n",
      "|1924|Chamonix|Bobsleigh| Bobsleigh| VERSCHUEREN, Victor|    BEL|   Men|       Four-Man|Bronze|   1|\n",
      "|1924|Chamonix|Bobsleigh| Bobsleigh|     WILLIEMS, Henri|    BEL|   Men|       Four-Man|Bronze|   1|\n",
      "|1924|Chamonix|Bobsleigh| Bobsleigh|       NEVEU, Alfred|    SUI|   Men|       Four-Man|  Gold|   1|\n",
      "|1924|Chamonix|Bobsleigh| Bobsleigh|    SCHERRER, Eduard|    SUI|   Men|       Four-Man|  Gold|   1|\n",
      "|1924|Chamonix|Bobsleigh| Bobsleigh|    SCHLÄPPI, Alfred|    SUI|   Men|       Four-Man|  Gold|   1|\n",
      "+----+--------+---------+----------+--------------------+-------+------+---------------+------+----+\n",
      "only showing top 20 rows\n",
      "\n"
     ]
    }
   ],
   "source": [
    "olympics.show()"
   ]
  },
  {
   "cell_type": "markdown",
   "metadata": {},
   "source": [
    "# ANALISIS DE LOS DATOS"
   ]
  },
  {
   "cell_type": "markdown",
   "metadata": {},
   "source": [
    "# Obtener el total de medallas de Francia en los juegos Olímpicos"
   ]
  },
  {
   "cell_type": "code",
   "execution_count": 61,
   "metadata": {},
   "outputs": [
    {
     "data": {
      "text/plain": [
       "1548"
      ]
     },
     "execution_count": 61,
     "metadata": {},
     "output_type": "execute_result"
    }
   ],
   "source": [
    "olympics.where(\"Country == 'FRA'\").count()"
   ]
  },
  {
   "cell_type": "code",
   "execution_count": 62,
   "metadata": {
    "collapsed": true
   },
   "outputs": [],
   "source": [
    "import pandas as pd\n",
    "ol_pd = olympics.toPandas()"
   ]
  },
  {
   "cell_type": "code",
   "execution_count": 63,
   "metadata": {},
   "outputs": [
    {
     "data": {
      "text/plain": [
       "array(['Biathlon', 'Bobsleigh', 'Curling', 'Ice Hockey', 'Skating',\n",
       "       'Skiing', 'Luge', 'Aquatics', 'Athletics', 'Cycling', 'Fencing',\n",
       "       'Gymnastics', 'Shooting', 'Tennis', 'Weightlifting', 'Wrestling',\n",
       "       'Archery', 'Basque Pelota', 'Cricket', 'Croquet', 'Equestrian',\n",
       "       'Football', 'Golf', 'Polo', 'Rowing', 'Rugby', 'Sailing',\n",
       "       'Tug of War', 'Boxing', 'Lacrosse', 'Roque', 'Hockey',\n",
       "       'Jeu de paume', 'Rackets', 'Water Motorsports', 'Modern Pentathlon',\n",
       "       'Basketball', 'Canoe / Kayak', 'Handball', 'Judo', 'Volleyball',\n",
       "       'Table Tennis', 'Badminton', 'Baseball', 'Softball', 'Taekwondo',\n",
       "       'Triathlon', 'Canoe'], dtype=object)"
      ]
     },
     "execution_count": 63,
     "metadata": {},
     "output_type": "execute_result"
    }
   ],
   "source": [
    "ol_pd.Sport.unique()"
   ]
  },
  {
   "cell_type": "markdown",
   "metadata": {},
   "source": [
    "# Obtener el total de medallas de Rusia en los juegos Olímpicos separadas por metal"
   ]
  },
  {
   "cell_type": "code",
   "execution_count": 64,
   "metadata": {},
   "outputs": [
    {
     "name": "stdout",
     "output_type": "stream",
     "text": [
      "+------+-----+\n",
      "| Medal|count|\n",
      "+------+-----+\n",
      "|Silver|  328|\n",
      "|  Gold|  333|\n",
      "|Bronze|  370|\n",
      "+------+-----+\n",
      "\n"
     ]
    }
   ],
   "source": [
    "olympics.where(\"Country == 'RUS'\").groupby('Medal').count().show()"
   ]
  },
  {
   "cell_type": "markdown",
   "metadata": {},
   "source": [
    "# Obtener el podio masculino de la prueba de 1500M de Barcelona '92"
   ]
  },
  {
   "cell_type": "code",
   "execution_count": 65,
   "metadata": {},
   "outputs": [
    {
     "name": "stdout",
     "output_type": "stream",
     "text": [
      "+----+---------+---------+----------+--------------------+-------+------+-----+------+----+\n",
      "|Year|     City|    Sport|Discipline|             Athlete|Country|Gender|Event| Medal|type|\n",
      "+----+---------+---------+----------+--------------------+-------+------+-----+------+----+\n",
      "|1992|Barcelona|Athletics| Athletics|SULAIMAN, Mohamed...|    QAT|   Men|1500M|Bronze|   2|\n",
      "|1992|Barcelona|Athletics| Athletics|  CACHO RUIZ, Fermin|    ESP|   Men|1500M|  Gold|   2|\n",
      "|1992|Barcelona|Athletics| Athletics|    EL BASIR, Rachid|    MAR|   Men|1500M|Silver|   2|\n",
      "+----+---------+---------+----------+--------------------+-------+------+-----+------+----+\n",
      "\n"
     ]
    }
   ],
   "source": [
    "olympics.filter('Year == 1992').filter(\"Sport == 'Athletics'\")\\\n",
    "        .filter(\"Event == '1500M'\").filter(\"Gender ='Men'\").show()"
   ]
  },
  {
   "cell_type": "markdown",
   "metadata": {},
   "source": [
    "# Obtener el número de medallas obtenidas por las competidoras de USA en todas las modalidades de Natación en Londres 2012 por metales"
   ]
  },
  {
   "cell_type": "code",
   "execution_count": 66,
   "metadata": {},
   "outputs": [
    {
     "name": "stdout",
     "output_type": "stream",
     "text": [
      "+------+-----+\n",
      "| Medal|count|\n",
      "+------+-----+\n",
      "|Silver|    6|\n",
      "|  Gold|   33|\n",
      "|Bronze|    8|\n",
      "+------+-----+\n",
      "\n"
     ]
    }
   ],
   "source": [
    "olympics.filter('Year == 2012').filter(\"Sport == 'Aquatics'\")\\\n",
    "        .filter(\"Gender ='Women'\").filter(\"Country == 'USA'\").groupby('Medal').count().show()"
   ]
  },
  {
   "cell_type": "markdown",
   "metadata": {},
   "source": [
    "# Obtener el país con mayor número de medallas de cualquier tipo en juegos olímpicos de verano antes de 1980"
   ]
  },
  {
   "cell_type": "code",
   "execution_count": 69,
   "metadata": {},
   "outputs": [
    {
     "name": "stdout",
     "output_type": "stream",
     "text": [
      "+-------+-----+\n",
      "|Country|count|\n",
      "+-------+-----+\n",
      "|    USA| 2498|\n",
      "|    URS| 1755|\n",
      "|    GBR| 1204|\n",
      "|    FRA|  914|\n",
      "|    SWE|  856|\n",
      "|    ITA|  810|\n",
      "|    HUN|  801|\n",
      "|    GDR|  651|\n",
      "|    GER|  520|\n",
      "|    FIN|  412|\n",
      "|    NOR|  389|\n",
      "|    BEL|  377|\n",
      "|    NED|  375|\n",
      "|    POL|  359|\n",
      "|    DEN|  359|\n",
      "|    JPN|  357|\n",
      "|    AUS|  313|\n",
      "|    TCH|  311|\n",
      "|    SUI|  309|\n",
      "|    CAN|  308|\n",
      "+-------+-----+\n",
      "only showing top 20 rows\n",
      "\n"
     ]
    }
   ],
   "source": [
    "olympics.filter('Year <= 1980').filter('type == 2').groupby('Country').count().sort('count',ascending=False).show()"
   ]
  },
  {
   "cell_type": "markdown",
   "metadata": {},
   "source": [
    "# Mostrar todas las medallas ganadas por la gimnasta rumana Nadia Comaneci"
   ]
  },
  {
   "cell_type": "code",
   "execution_count": 73,
   "metadata": {},
   "outputs": [
    {
     "name": "stdout",
     "output_type": "stream",
     "text": [
      "+----+--------+----------+-----------+---------------+-------+------+--------------------+------+----+\n",
      "|Year|    City|     Sport| Discipline|        Athlete|Country|Gender|               Event| Medal|type|\n",
      "+----+--------+----------+-----------+---------------+-------+------+--------------------+------+----+\n",
      "|1976|Montreal|Gymnastics|Artistic G.|COMANECI, Nadia|    ROU| Women|        Balance Beam|  Gold|   2|\n",
      "|1976|Montreal|Gymnastics|Artistic G.|COMANECI, Nadia|    ROU| Women|     Floor Exercises|Bronze|   2|\n",
      "|1976|Montreal|Gymnastics|Artistic G.|COMANECI, Nadia|    ROU| Women|Individual All-Round|  Gold|   2|\n",
      "|1976|Montreal|Gymnastics|Artistic G.|COMANECI, Nadia|    ROU| Women|    Team Competition|Silver|   2|\n",
      "|1976|Montreal|Gymnastics|Artistic G.|COMANECI, Nadia|    ROU| Women|         Uneven Bars|  Gold|   2|\n",
      "|1980|  Moscow|Gymnastics|Artistic G.|COMANECI, Nadia|    ROU| Women|        Balance Beam|  Gold|   2|\n",
      "|1980|  Moscow|Gymnastics|Artistic G.|COMANECI, Nadia|    ROU| Women|     Floor Exercises|  Gold|   2|\n",
      "|1980|  Moscow|Gymnastics|Artistic G.|COMANECI, Nadia|    ROU| Women|Individual All-Round|Silver|   2|\n",
      "|1980|  Moscow|Gymnastics|Artistic G.|COMANECI, Nadia|    ROU| Women|    Team Competition|Silver|   2|\n",
      "+----+--------+----------+-----------+---------------+-------+------+--------------------+------+----+\n",
      "\n"
     ]
    }
   ],
   "source": [
    "olympics.filter(\"Athlete == 'COMANECI, Nadia'\").show()"
   ]
  },
  {
   "cell_type": "markdown",
   "metadata": {},
   "source": [
    "# Mostrar todas las medallas de oro ganadas por el atleta jamaicano Usain Bolt"
   ]
  },
  {
   "cell_type": "code",
   "execution_count": 76,
   "metadata": {},
   "outputs": [
    {
     "name": "stdout",
     "output_type": "stream",
     "text": [
      "+----+-------+---------+----------+-----------+-------+------+------------+-----+----+\n",
      "|Year|   City|    Sport|Discipline|    Athlete|Country|Gender|       Event|Medal|type|\n",
      "+----+-------+---------+----------+-----------+-------+------+------------+-----+----+\n",
      "|2008|Beijing|Athletics| Athletics|BOLT, Usain|    JAM|   Men|        100M| Gold|   2|\n",
      "|2008|Beijing|Athletics| Athletics|BOLT, Usain|    JAM|   Men|        200M| Gold|   2|\n",
      "|2008|Beijing|Athletics| Athletics|BOLT, Usain|    JAM|   Men|4X100M Relay| Gold|   2|\n",
      "|2012| London|Athletics| Athletics|BOLT, Usain|    JAM|   Men|        100M| Gold|   2|\n",
      "|2012| London|Athletics| Athletics|BOLT, Usain|    JAM|   Men|        200M| Gold|   2|\n",
      "|2012| London|Athletics| Athletics|BOLT, Usain|    JAM|   Men|4X100M Relay| Gold|   2|\n",
      "+----+-------+---------+----------+-----------+-------+------+------------+-----+----+\n",
      "\n"
     ]
    }
   ],
   "source": [
    "olympics.filter(\"Athlete == 'BOLT, Usain'\").filter(\"Medal == 'Gold'\").show()"
   ]
  },
  {
   "cell_type": "markdown",
   "metadata": {},
   "source": [
    "# OBTENER LOS PRIMEROS PAÍSES EN RATIO DE MEDALLAS/POBLACIÓN Y MEDALLAS/GDP"
   ]
  },
  {
   "cell_type": "code",
   "execution_count": 102,
   "metadata": {},
   "outputs": [
    {
     "name": "stdout",
     "output_type": "stream",
     "text": [
      "+-------+-----+\n",
      "|Country|count|\n",
      "+-------+-----+\n",
      "|    POL|  538|\n",
      "|    JAM|  127|\n",
      "|    BRA|  431|\n",
      "|    ARM|   11|\n",
      "|    MOZ|    2|\n",
      "|    CUB|  410|\n",
      "|    FRA| 1548|\n",
      "|    ALG|   15|\n",
      "|    BRN|    1|\n",
      "|    VIE|    2|\n",
      "|    BOT|    1|\n",
      "|    EUA|  281|\n",
      "|    RSA|  106|\n",
      "|    ETH|   45|\n",
      "|    ITA| 1488|\n",
      "|    UKR|  184|\n",
      "|    GHA|   16|\n",
      "|    CMR|   23|\n",
      "|    SCG|   14|\n",
      "|    SEN|    1|\n",
      "+-------+-----+\n",
      "only showing top 20 rows\n",
      "\n"
     ]
    }
   ],
   "source": [
    "medals_by_country = olympics.groupby('Country').count()\n",
    "medals_by_country.show()"
   ]
  },
  {
   "cell_type": "code",
   "execution_count": 105,
   "metadata": {},
   "outputs": [],
   "source": [
    "df = medals_by_country.join(countries, medals_by_country.Country == countries.Code)   \n",
    "df = df.drop('Code').withColumnRenamed('count','total')"
   ]
  },
  {
   "cell_type": "code",
   "execution_count": 108,
   "metadata": {},
   "outputs": [
    {
     "name": "stdout",
     "output_type": "stream",
     "text": [
      "+-------+-----+--------------------+----------+----------------+\n",
      "|Country|total|                Name|Population|             GDP|\n",
      "+-------+-----+--------------------+----------+----------------+\n",
      "|    POL|  538|              Poland|  37999494|12554.5475536313|\n",
      "|    JAM|  127|             Jamaica|   2725941|5232.02458271187|\n",
      "|    BRA|  431|              Brazil| 207847528| 8538.5899749574|\n",
      "|    ARM|   11|             Armenia|   3017712|3489.12768956995|\n",
      "|    MOZ|    2|          Mozambique|  27977863|529.242556068943|\n",
      "|    CUB|  410|                Cuba|  11389562|            null|\n",
      "|    FRA| 1548|              France|  66808385|36205.5681017036|\n",
      "|    ALG|   15|             Algeria|  39666519|4206.03123244958|\n",
      "|    BRN|    1|             Bahrain|   1377237|22600.2140981035|\n",
      "|    VIE|    2|             Vietnam|  91703800|2111.13802366815|\n",
      "|    BOT|    1|            Botswana|   2262485|6360.13822018837|\n",
      "|    RSA|  106|        South Africa|  54956920|5723.97335690212|\n",
      "|    ETH|   45|            Ethiopia|  99390750|619.169406475891|\n",
      "|    ITA| 1488|               Italy|  60802085|29957.8043154372|\n",
      "|    UKR|  184|             Ukraine|  45198200|2114.95471628444|\n",
      "|    GHA|   16|               Ghana|  27409893|1369.70112227585|\n",
      "|    CMR|   23|            Cameroon|  23344179|1217.26067048427|\n",
      "|    SCG|   14|              Serbia|   7098247|5235.14220696525|\n",
      "|    SEN|    1|             Senegal|  15129273|899.579879484977|\n",
      "|    AHO|    1|Netherlands Antil...|      null|            null|\n",
      "+-------+-----+--------------------+----------+----------------+\n",
      "only showing top 20 rows\n",
      "\n"
     ]
    }
   ],
   "source": [
    "df.show()"
   ]
  },
  {
   "cell_type": "code",
   "execution_count": 109,
   "metadata": {},
   "outputs": [],
   "source": [
    "df = df.withColumn('ratio_GDP', df.total/df.GDP).withColumn('ratio_Pop', df.total/df.Population)"
   ]
  },
  {
   "cell_type": "code",
   "execution_count": 113,
   "metadata": {},
   "outputs": [
    {
     "name": "stdout",
     "output_type": "stream",
     "text": [
      "+-------+-----+--------------+----------+----------------+--------------------+--------------------+\n",
      "|Country|total|          Name|Population|             GDP|           ratio_GDP|           ratio_Pop|\n",
      "+-------+-----+--------------+----------+----------------+--------------------+--------------------+\n",
      "|    IND|  184|         India|1311050527|1598.25903421916| 0.11512526822030099|1.403454681651640...|\n",
      "|    RUS| 1031|        Russia| 144096812|9092.58053606884| 0.11338915238750813|7.154911935178691E-6|\n",
      "|    CHN|  889|         China|1371220000|8027.68381013907| 0.11074178069609335|6.483277665144907E-7|\n",
      "|    USA| 5238| United States| 321418820|56115.7184261955| 0.09334283061686399|1.629649439942564...|\n",
      "|    HUN| 1091|       Hungary|   9844686|12363.5434596539|  0.0882433101448847|1.108212085179761E-4|\n",
      "|    UKR|  184|       Ukraine|  45198200|2114.95471628444| 0.08699949865747095|4.070958577996469E-6|\n",
      "|    PAK|  121|      Pakistan| 188924874|1434.69666504969| 0.08433838521246527|6.404662204512043E-7|\n",
      "|    ETH|   45|      Ethiopia|  99390750|619.169406475891| 0.07267800949036747|4.527584307392790...|\n",
      "|    KEN|   93|         Kenya|  46050302|1376.71282894881| 0.06755221426316642|2.019530729679036...|\n",
      "|    BRA|  431|        Brazil| 207847528| 8538.5899749574|0.050476718201022445|2.073635439147489E-6|\n",
      "|    ITA| 1488|         Italy|  60802085|29957.8043154372|0.049669861794017944|2.447284496904999...|\n",
      "|    BUL|  339|      Bulgaria|   7177991|6993.47735975728| 0.04847373953774629|4.722769922670563...|\n",
      "|    POL|  538|        Poland|  37999494|12554.5475536313| 0.04285299790388606|1.415808326289818...|\n",
      "|    FRA| 1548|        France|  66808385|36205.5681017036| 0.04275585444900563|2.317074421122438...|\n",
      "|    GBR| 1799|United Kingdom|  65138232|43875.9696143686| 0.04100194288152801|2.761818896159171E-5|\n",
      "|    GER| 1665|       Germany|  81413145|41313.3139945434|0.040301777780884646|2.045124285519248...|\n",
      "|    NGR|   84|       Nigeria| 182201962| 2640.2907388575| 0.03181467812001199|4.610268686349272...|\n",
      "|    CAN| 1274|        Canada|  35851774| 43248.529909341|  0.0294576486800962|3.553520113119088E-5|\n",
      "|    SWE| 1477|        Sweden|   9798871|50579.6736486777| 0.02920145373533095|1.507316506156678...|\n",
      "|    JPN|  851|         Japan| 126958472|32477.2151449234| 0.02620298557627476|6.702979223001361E-6|\n",
      "+-------+-----+--------------+----------+----------------+--------------------+--------------------+\n",
      "only showing top 20 rows\n",
      "\n"
     ]
    }
   ],
   "source": [
    "df.dropna().sort('ratio_GDP',ascending=False).show()"
   ]
  },
  {
   "cell_type": "code",
   "execution_count": 114,
   "metadata": {},
   "outputs": [
    {
     "name": "stdout",
     "output_type": "stream",
     "text": [
      "+-------+-----+--------------+----------+----------------+--------------------+--------------------+\n",
      "|Country|total|          Name|Population|             GDP|           ratio_GDP|           ratio_Pop|\n",
      "+-------+-----+--------------+----------+----------------+--------------------+--------------------+\n",
      "|    NOR| 1011|        Norway|   5195921|74400.3697770928|0.013588642140207182|1.945757065975406...|\n",
      "|    FIN|  890|       Finland|   5482013|42311.0362306446| 0.02103470109189621|1.623491224847515E-4|\n",
      "|    SWE| 1477|        Sweden|   9798871|50579.6736486777| 0.02920145373533095|1.507316506156678...|\n",
      "|    HUN| 1091|       Hungary|   9844686|12363.5434596539|  0.0882433101448847|1.108212085179761E-4|\n",
      "|    DEN|  512|       Denmark|   5676002|51989.2934712354|0.009848181535363218|9.020433748966262E-5|\n",
      "|    SUI|  665|   Switzerland|   8286976|80945.0792194742|0.008215446898222453|8.024640109974977E-5|\n",
      "|    BAH|   27|       Bahamas|    388019|22817.2308572518|0.001183316247660...|6.958422139122053E-5|\n",
      "|    NED|  973|   Netherlands|  16936520| 44299.768085383|0.021963997602078816|5.744981849872347E-5|\n",
      "|    ISL|   17|       Iceland|    330823|50173.3399156473|3.388253608107579E-4|5.138699546283058E-5|\n",
      "|    AUS| 1204|     Australia|  23781169|56310.9629933721|0.021381271709768362|5.062829333579018E-5|\n",
      "|    AUT|  426|       Austria|   8611088| 43774.985173612|0.009731585249212079| 4.94711005159859E-5|\n",
      "|    BUL|  339|      Bulgaria|   7177991|6993.47735975728| 0.04847373953774629|4.722769922670563...|\n",
      "|    JAM|  127|       Jamaica|   2725941|5232.02458271187|0.024273586255623668|4.658941627863552E-5|\n",
      "|    NZL|  191|   New Zealand|   4595700|37807.9672760442|0.005051845252760...|4.156058924646952...|\n",
      "|    BEL|  424|       Belgium|  11285721|40324.0277657215|0.010514822637842551|3.756959790163162...|\n",
      "|    CAN| 1274|        Canada|  35851774| 43248.529909341|  0.0294576486800962|3.553520113119088E-5|\n",
      "|    EST|   46|       Estonia|   1311998|17118.5042003236|0.002687150668171...|3.506102905644673E-5|\n",
      "|    CRO|  125|       Croatia|   4224404|11535.8293558997|0.010835805224188064|2.958997292872556...|\n",
      "|    GBR| 1799|United Kingdom|  65138232|43875.9696143686| 0.04100194288152801|2.761818896159171E-5|\n",
      "|    ITA| 1488|         Italy|  60802085|29957.8043154372|0.049669861794017944|2.447284496904999...|\n",
      "+-------+-----+--------------+----------+----------------+--------------------+--------------------+\n",
      "only showing top 20 rows\n",
      "\n"
     ]
    }
   ],
   "source": [
    "df.dropna().sort('ratio_Pop',ascending=False).show()"
   ]
  }
 ],
 "metadata": {
  "kernelspec": {
   "display_name": "Python 3",
   "language": "python",
   "name": "python3"
  },
  "language_info": {
   "codemirror_mode": {
    "name": "ipython",
    "version": 3
   },
   "file_extension": ".py",
   "mimetype": "text/x-python",
   "name": "python",
   "nbconvert_exporter": "python",
   "pygments_lexer": "ipython3",
   "version": "3.5.2"
  }
 },
 "nbformat": 4,
 "nbformat_minor": 2
}

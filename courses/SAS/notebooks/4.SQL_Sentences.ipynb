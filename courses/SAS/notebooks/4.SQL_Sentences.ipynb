{
 "cells": [
  {
   "cell_type": "markdown",
   "metadata": {},
   "source": [
    "<img src=\"../static/logo.png\" alt=\"datio\" style=\"width: 200px \"align=\"right\"/>"
   ]
  },
  {
   "cell_type": "markdown",
   "metadata": {},
   "source": [
    "We are goig to use SparSQL to replicate two queries from SAS language:"
   ]
  },
  {
   "cell_type": "markdown",
   "metadata": {},
   "source": [
    "## 1 - Query 1\n",
    "\n",
    "*proc sort data=diaria.Tsfaucno out=mdv_prealtas (keep=cod_persona cod_ofici fec_alta xti_origen  \n",
    "where=(fec_alta>=&fecha_SEMANA_INI and fec_alta<=&fecha_SEMANA_FIN and xti_origen eq 'O')   \n",
    "rename (COD_OFICIPR=COD_OFICI))\n",
    "nodupkey;  \n",
    "by cod_persona;  \n",
    "run;*"
   ]
  },
  {
   "cell_type": "markdown",
   "metadata": {},
   "source": [
    "**Register dataframe as table**: To work over a dataframe with SQL sentece it is necessary register the given dataframe as a temporary table in the catalog.Temporary tables exist only during the lifetime of this instance of SQLContext. Use : **dataframe.registerTempTable(\"name_table\")**"
   ]
  },
  {
   "cell_type": "code",
   "execution_count": null,
   "metadata": {
    "collapsed": true
   },
   "outputs": [],
   "source": [
    "import pyspark\n",
    "from pyspark.sql.context import SQLContext\n",
    "sc = pyspark.SparkContext('local[*]')\n",
    "sqlContext = SQLContext(sc)"
   ]
  },
  {
   "cell_type": "code",
   "execution_count": null,
   "metadata": {
    "collapsed": true
   },
   "outputs": [],
   "source": [
    "dataPath = \"../data/tsfaucno_muestra.csv\"\n",
    "\n",
    "dataframe = sqlContext.read.format('com.databricks.spark.csv')\\\n",
    ".options(header='true').option(\"inferSchema\", \"true\").load(dataPath)"
   ]
  },
  {
   "cell_type": "code",
   "execution_count": null,
   "metadata": {
    "collapsed": false
   },
   "outputs": [],
   "source": [
    "dataframe.registerTempTable(\"Tsfaucno\")"
   ]
  },
  {
   "cell_type": "markdown",
   "metadata": {},
   "source": [
    "**Show registered tables in catalog**:"
   ]
  },
  {
   "cell_type": "code",
   "execution_count": null,
   "metadata": {
    "collapsed": false
   },
   "outputs": [],
   "source": [
    "sqlContext.sql(\"SHOW TABLES\").collect()"
   ]
  },
  {
   "cell_type": "code",
   "execution_count": null,
   "metadata": {
    "collapsed": false
   },
   "outputs": [],
   "source": [
    "sqlContext.sql(\"select * from Tsfaucno\").count()"
   ]
  },
  {
   "cell_type": "code",
   "execution_count": null,
   "metadata": {
    "collapsed": false
   },
   "outputs": [],
   "source": [
    "import datetime\n",
    "fecha_SEMANA_INI = datetime.date(2015, 1, 21).strftime(\"%Y-%m-%d %X\")\n",
    "fecha_SEMANA_FIN = datetime.date(2015, 1, 28).strftime(\"%Y-%m-%d %X\")"
   ]
  },
  {
   "cell_type": "code",
   "execution_count": null,
   "metadata": {
    "collapsed": false
   },
   "outputs": [],
   "source": [
    "#Query\n",
    "query = \"SELECT cod_persona, cod_ofici as cod_oficipr \\\n",
    "FROM Tsfaucno where fec_alta>= '\" + fecha_SEMANA_INI  + \"' and \\\n",
    "     fec_alta<='\" + fecha_SEMANA_FIN + \"' and xti_origen='O'\"\n",
    "\n",
    "sqlContext.sql(query)\\\n",
    ".registerTempTable(\"mdv_prealtas\")"
   ]
  },
  {
   "cell_type": "code",
   "execution_count": null,
   "metadata": {
    "collapsed": false
   },
   "outputs": [],
   "source": [
    "sqlContext.sql(\"select * from mdv_prealtas\").show()"
   ]
  },
  {
   "cell_type": "markdown",
   "metadata": {},
   "source": [
    "## 2 - Query 2  \n",
    "\n",
    "*data ingresos_semanal (keep= cod_persona tenencia_ingresos_semanal);  \n",
    "set mdv_prealtas;  \n",
    "tenencia_ingresos_semanal=1;  \n",
    "area_recibos=13;  \n",
    "run;*  "
   ]
  },
  {
   "cell_type": "code",
   "execution_count": null,
   "metadata": {
    "collapsed": false
   },
   "outputs": [],
   "source": [
    "from pyspark.sql.functions import lit\n",
    "\n",
    "sqlContext.sql(\"Select cod_persona \\\n",
    "FROM mdv_prealtas\")\\\n",
    ".withColumn(\"tenencia_ingresos_semanal\",lit('1'))\\\n",
    ".withColumn(\"area_recibos\",lit('13'))\\\n",
    ".registerTempTable(\"ingresos_semanal\")"
   ]
  },
  {
   "cell_type": "code",
   "execution_count": null,
   "metadata": {
    "collapsed": false
   },
   "outputs": [],
   "source": [
    "sqlContext.sql(\"select * from ingresos_semanal\").show()"
   ]
  }
 ],
 "metadata": {
  "kernelspec": {
   "display_name": "Python 3",
   "language": "python",
   "name": "python3"
  },
  "language_info": {
   "codemirror_mode": {
    "name": "ipython",
    "version": 3
   },
   "file_extension": ".py",
   "mimetype": "text/x-python",
   "name": "python",
   "nbconvert_exporter": "python",
   "pygments_lexer": "ipython3",
   "version": "3.5.2"
  }
 },
 "nbformat": 4,
 "nbformat_minor": 2
}

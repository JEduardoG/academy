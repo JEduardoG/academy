{
 "cells": [
  {
   "cell_type": "markdown",
   "metadata": {},
   "source": [
    "<img src=\"../static/logo.png\" alt=\"datio\" style=\"width: 200px \"align=\"right\"/>"
   ]
  },
  {
   "cell_type": "markdown",
   "metadata": {},
   "source": [
    "## Defining Spark UDFs"
   ]
  },
  {
   "cell_type": "markdown",
   "metadata": {},
   "source": [
    "Defining our udf is pretty easy, we just create an anonymous function and register it through the SqlContext or through the udf function in org.apache.spark.sql.functions.udf depending on how you want to use it.  \n",
    "UDF operates on distributed DataFrames and works row by row.  \n",
    "\n",
    "As a montivating example assume we want to convert a String Column \"f-cierre\" with date information divided in year, month and day. "
   ]
  },
  {
   "cell_type": "code",
   "execution_count": 1,
   "metadata": {
    "collapsed": false
   },
   "outputs": [],
   "source": [
    "import pyspark\n",
    "from pyspark.sql.context import SQLContext\n",
    "from pyspark.sql.types import *\n",
    "sc = pyspark.SparkContext('local[*]') \n",
    "sqlContext = SQLContext(sc)\n",
    "# We are going to work with a the data Ttgofici\n",
    "dataPath = \"../data/\"\n",
    "customSchema = StructType([\n",
    " StructField(\"cod_bancsb\",  StringType(), True),\n",
    " StructField(\"cod_ofici\",  IntegerType(), True),\n",
    " StructField(\"cnivel\",  StringType(), True),\n",
    " StructField(\"cod_zona\",  StringType(), True),\n",
    " StructField(\"cod_territor\",  StringType(), True),\n",
    " StructField(\"cod_dirgener\",  StringType(), True),\n",
    " StructField(\"cod_areanego\",  IntegerType(), True),\n",
    " StructField(\"cod_dar\",  StringType(), True),\n",
    " StructField(\"des_nomco\",  StringType(), True),\n",
    " StructField(\"des_nomab\",  StringType(), True),\n",
    " StructField(\"f_cierre\",  StringType(), True),\n",
    " StructField(\"cod_cbc\",  StringType(), True)])\n",
    "\n",
    "ttgoficiDF = sqlContext.read.format(\"com.databricks.spark.csv\")\\\n",
    "            .option(\"header\", \"true\")\\\n",
    "            .load(dataPath + \"ttgofici.csv\", schema=customSchema)\\"
   ]
  },
  {
   "cell_type": "code",
   "execution_count": 2,
   "metadata": {
    "collapsed": false
   },
   "outputs": [],
   "source": [
    "from pyspark.sql.functions import UserDefinedFunction\n",
    "getDay = UserDefinedFunction(lambda x: x[8:10], StringType())\n",
    "getMonth = UserDefinedFunction(lambda x: x[5:7], StringType())\n",
    "getYear = UserDefinedFunction(lambda x: x[0:4], StringType())"
   ]
  },
  {
   "cell_type": "code",
   "execution_count": 3,
   "metadata": {
    "collapsed": false
   },
   "outputs": [],
   "source": [
    "ttgoficiDF2 = ttgoficiDF\\\n",
    ".withColumn(\"dia\",getDay(\"f_cierre\"))\\\n",
    ".withColumn(\"mes\",getMonth(\"f_cierre\"))\\\n",
    ".withColumn(\"anio\",getYear(\"f_cierre\"))"
   ]
  },
  {
   "cell_type": "code",
   "execution_count": 4,
   "metadata": {
    "collapsed": false
   },
   "outputs": [
    {
     "name": "stdout",
     "output_type": "stream",
     "text": [
      "+----------+---------+------+--------+------------+------------+------------+-------+--------------------+--------------------+----------+-------+---+---+----+\n",
      "|cod_bancsb|cod_ofici|cnivel|cod_zona|cod_territor|cod_dirgener|cod_areanego|cod_dar|           des_nomco|           des_nomab|  f_cierre|cod_cbc|dia|mes|anio|\n",
      "+----------+---------+------+--------+------------+------------+------------+-------+--------------------+--------------------+----------+-------+---+---+----+\n",
      "|         9|      555|    10|       0|        4744|           0|        9007|      0|CENTRALIZADORA OF...|CTDRA.OFNAS.FINANZIA|2011-07-11|      0| 11| 07|2011|\n",
      "|         9|      557|    10|       0|        3860|           0|        9007|      0|CENTRALIZADORA FA...| CENTRALIZ FACTORING|2011-07-11|      0| 11| 07|2011|\n",
      "|         9|      574|    10|       0|        4744|           0|        9007|      0|OF. MOAD ADJUDICA...|OF.MOAD ADJUDIC. INM|2011-07-11|      0| 11| 07|2011|\n",
      "|         9|      991|    10|       0|        3860|           0|        9007|      0|CENTRO ADMINISTRA...| CTRO.ADM.REG.MADRID|1991-10-17|      0| 17| 10|1991|\n",
      "|         9|      995|    10|       0|        3860|           0|        9007|      0|CENTRO ELECTRONIC...|CTRO.ELECTRON.BILBAO|1993-05-21|      0| 21| 05|1993|\n",
      "|         9|      996|    10|       0|        3860|           0|        9007|      0|CENTRO ELECTRONIC...|CTRO.ELECTRON.MADRID|1993-05-21|      0| 21| 05|1993|\n",
      "|         9|     1095|    10|       0|        3860|           0|        9007|      0|MADRID-CENTRO TEL...|CTRO.TELEPROC.MADRID|2011-07-11|      0| 11| 07|2011|\n",
      "|         9|     1396|    10|       0|        3860|           0|        9007|      0|INSTRUMENTAL TESO...|  INSTRUM. TESORERIA|2011-07-11|      0| 11| 07|2011|\n",
      "|         9|     1500|    10|       0|        3860|           0|        9007|      0|      S.A.C. CENTRAL|      S.A.C. CENTRAL|2010-07-19|      0| 19| 07|2010|\n",
      "|         9|     1501|    10|       0|        3860|           0|        9007|      0|      S.A.C. CENTRAL|      S.A.C. CENTRAL|2011-07-11|      0| 11| 07|2011|\n",
      "|         9|     2016|    10|       0|        3860|           0|        9007|      0|INM. DE USO PROPI...|INM.U.PR.Y AFE.(FIN)|2011-07-11|      0| 11| 07|2011|\n",
      "|         9|     2019|    10|       0|        3860|           0|        9007|      0|GEST.ACT. NO FINA...|GEST.ACT.NO F.(FINA)|2011-07-11|      0| 11| 07|2011|\n",
      "|         9|     2999|    10|       0|        3860|           0|        9007|      0|OFICINA DE SINERG...|OF.SINERGIAS(FINAN.)|2011-07-11|      0| 11| 07|2011|\n",
      "|         9|     3008|    10|       0|        3860|           0|        9007|      0|     COAP (FINANZIA)|     COAP (FINANZIA)|2011-07-11|      0| 11| 07|2011|\n",
      "|         9|     3009|    10|       0|        3860|           0|        9007|   3868|OFICINA TITULIZACION|OFICINA TITULIZACION|2011-07-11|      0| 11| 07|2011|\n",
      "|         9|     3062|    10|       0|        3860|           0|        9007|      0|REFUNDIDORA DIVIS...| REF.DIV.OF.RED(FIN)|2011-07-11|      0| 11| 07|2011|\n",
      "|         9|     3801|    10|    3869|        3867|           0|        9011|      0|HOSPITALET DE LLO...|          HOSPITALET|2008-11-24|      0| 24| 11|2008|\n",
      "|         9|     3802|    10|    3869|        3867|           0|        9011|      0|            SABADELL|            SABADELL|2011-07-11|      0| 11| 07|2011|\n",
      "|         9|     3803|    10|    3869|        3867|           0|        9011|      0|              MATARO|              MATARO|2011-07-11|      0| 11| 07|2011|\n",
      "|         9|     3804|    10|       0|        3860|           0|        9007|      0|FINANCIACION FINA...|FINANC.FINANZIA AUTO|2011-07-11|      0| 11| 07|2011|\n",
      "+----------+---------+------+--------+------------+------------+------------+-------+--------------------+--------------------+----------+-------+---+---+----+\n",
      "only showing top 20 rows\n",
      "\n"
     ]
    }
   ],
   "source": [
    "ttgoficiDF2.show()"
   ]
  },
  {
   "cell_type": "code",
   "execution_count": 5,
   "metadata": {
    "collapsed": true
   },
   "outputs": [],
   "source": [
    "ttgoficiDF2.registerTempTable(\"TtgoficiDMY\")"
   ]
  },
  {
   "cell_type": "markdown",
   "metadata": {},
   "source": [
    "## Register UDF in sparksql"
   ]
  },
  {
   "cell_type": "markdown",
   "metadata": {},
   "source": [
    "Another option is to register a function as a UDF so it can be used in SQL statements.  \n",
    "\n",
    "registerFunction(name, f, returnType=StringType)"
   ]
  },
  {
   "cell_type": "markdown",
   "metadata": {},
   "source": [
    "### 1. Register an anonymous function"
   ]
  },
  {
   "cell_type": "markdown",
   "metadata": {},
   "source": [
    "    Syntax  \n",
    "\n",
    "    The syntax of lambda functions contains only a single statement, which is as follows −  \n",
    "\n",
    "    lambda [arg1 [,arg2,.....argn]]:expression  "
   ]
  },
  {
   "cell_type": "code",
   "execution_count": 6,
   "metadata": {
    "collapsed": false
   },
   "outputs": [],
   "source": [
    "sqlContext.registerFunction(\"getDay\", lambda x: x[8:10], StringType())\n",
    "sqlContext.registerFunction(\"getMonth\", lambda x: x[5:7], StringType())\n",
    "sqlContext.registerFunction(\"getYear\", lambda x: x[0:4], StringType())"
   ]
  },
  {
   "cell_type": "code",
   "execution_count": 7,
   "metadata": {
    "collapsed": true
   },
   "outputs": [],
   "source": [
    "sqlContext.registerDataFrameAsTable(ttgoficiDF,\"ttgoficiDF\")"
   ]
  },
  {
   "cell_type": "markdown",
   "metadata": {},
   "source": [
    "Now we can use our function directly in SparkSQL."
   ]
  },
  {
   "cell_type": "code",
   "execution_count": 8,
   "metadata": {
    "collapsed": false
   },
   "outputs": [
    {
     "data": {
      "text/plain": [
       "DataFrame[cod_bancsb: string, cod_ofici: int, cnivel: string, cod_zona: string, cod_territor: string, cod_dirgener: string, cod_areanego: int, cod_dar: string, des_nomco: string, des_nomab: string, f_cierre: string, cod_cbc: string, dia: string, mes: string, anio: string]"
      ]
     },
     "execution_count": 8,
     "metadata": {},
     "output_type": "execute_result"
    }
   ],
   "source": [
    "sqlContext.sql(\"select *, getDay(f_cierre) as dia, getMonth(f_cierre) as mes, getYear(f_cierre) as anio \\\n",
    "from ttgoficiDF\")"
   ]
  },
  {
   "cell_type": "markdown",
   "metadata": {},
   "source": [
    "### 2. Register a function"
   ]
  },
  {
   "cell_type": "markdown",
   "metadata": {},
   "source": [
    "    Syntax  \n",
    "\n",
    "    def functionname( parameters ):  \n",
    "       \"function_docstring\"  \n",
    "       function_suite  \n",
    "       return [expression]  "
   ]
  },
  {
   "cell_type": "code",
   "execution_count": 9,
   "metadata": {
    "collapsed": true
   },
   "outputs": [],
   "source": [
    "def includePref(value, pref ) : return pref + value"
   ]
  },
  {
   "cell_type": "code",
   "execution_count": 10,
   "metadata": {
    "collapsed": true
   },
   "outputs": [],
   "source": [
    "sqlContext.registerFunction(\"includePref\",includePref)"
   ]
  },
  {
   "cell_type": "code",
   "execution_count": 11,
   "metadata": {
    "collapsed": false
   },
   "outputs": [
    {
     "name": "stdout",
     "output_type": "stream",
     "text": [
      "+----------+---------+------+--------+------------+------------+------------+-------+--------------------+--------------------+----------+-------+------+\n",
      "|cod_bancsb|cod_ofici|cnivel|cod_zona|cod_territor|cod_dirgener|cod_areanego|cod_dar|           des_nomco|           des_nomab|  f_cierre|cod_cbc|cnivel|\n",
      "+----------+---------+------+--------+------------+------------+------------+-------+--------------------+--------------------+----------+-------+------+\n",
      "|         9|      555|    10|       0|        4744|           0|        9007|      0|CENTRALIZADORA OF...|CTDRA.OFNAS.FINANZIA|2011-07-11|      0|  C-10|\n",
      "|         9|      557|    10|       0|        3860|           0|        9007|      0|CENTRALIZADORA FA...| CENTRALIZ FACTORING|2011-07-11|      0|  C-10|\n",
      "|         9|      574|    10|       0|        4744|           0|        9007|      0|OF. MOAD ADJUDICA...|OF.MOAD ADJUDIC. INM|2011-07-11|      0|  C-10|\n",
      "|         9|      991|    10|       0|        3860|           0|        9007|      0|CENTRO ADMINISTRA...| CTRO.ADM.REG.MADRID|1991-10-17|      0|  C-10|\n",
      "|         9|      995|    10|       0|        3860|           0|        9007|      0|CENTRO ELECTRONIC...|CTRO.ELECTRON.BILBAO|1993-05-21|      0|  C-10|\n",
      "|         9|      996|    10|       0|        3860|           0|        9007|      0|CENTRO ELECTRONIC...|CTRO.ELECTRON.MADRID|1993-05-21|      0|  C-10|\n",
      "|         9|     1095|    10|       0|        3860|           0|        9007|      0|MADRID-CENTRO TEL...|CTRO.TELEPROC.MADRID|2011-07-11|      0|  C-10|\n",
      "|         9|     1396|    10|       0|        3860|           0|        9007|      0|INSTRUMENTAL TESO...|  INSTRUM. TESORERIA|2011-07-11|      0|  C-10|\n",
      "|         9|     1500|    10|       0|        3860|           0|        9007|      0|      S.A.C. CENTRAL|      S.A.C. CENTRAL|2010-07-19|      0|  C-10|\n",
      "|         9|     1501|    10|       0|        3860|           0|        9007|      0|      S.A.C. CENTRAL|      S.A.C. CENTRAL|2011-07-11|      0|  C-10|\n",
      "|         9|     2016|    10|       0|        3860|           0|        9007|      0|INM. DE USO PROPI...|INM.U.PR.Y AFE.(FIN)|2011-07-11|      0|  C-10|\n",
      "|         9|     2019|    10|       0|        3860|           0|        9007|      0|GEST.ACT. NO FINA...|GEST.ACT.NO F.(FINA)|2011-07-11|      0|  C-10|\n",
      "|         9|     2999|    10|       0|        3860|           0|        9007|      0|OFICINA DE SINERG...|OF.SINERGIAS(FINAN.)|2011-07-11|      0|  C-10|\n",
      "|         9|     3008|    10|       0|        3860|           0|        9007|      0|     COAP (FINANZIA)|     COAP (FINANZIA)|2011-07-11|      0|  C-10|\n",
      "|         9|     3009|    10|       0|        3860|           0|        9007|   3868|OFICINA TITULIZACION|OFICINA TITULIZACION|2011-07-11|      0|  C-10|\n",
      "|         9|     3062|    10|       0|        3860|           0|        9007|      0|REFUNDIDORA DIVIS...| REF.DIV.OF.RED(FIN)|2011-07-11|      0|  C-10|\n",
      "|         9|     3801|    10|    3869|        3867|           0|        9011|      0|HOSPITALET DE LLO...|          HOSPITALET|2008-11-24|      0|  C-10|\n",
      "|         9|     3802|    10|    3869|        3867|           0|        9011|      0|            SABADELL|            SABADELL|2011-07-11|      0|  C-10|\n",
      "|         9|     3803|    10|    3869|        3867|           0|        9011|      0|              MATARO|              MATARO|2011-07-11|      0|  C-10|\n",
      "|         9|     3804|    10|       0|        3860|           0|        9007|      0|FINANCIACION FINA...|FINANC.FINANZIA AUTO|2011-07-11|      0|  C-10|\n",
      "+----------+---------+------+--------+------------+------------+------------+-------+--------------------+--------------------+----------+-------+------+\n",
      "only showing top 20 rows\n",
      "\n"
     ]
    }
   ],
   "source": [
    "sqlContext.sql(\"select *, includePref(cnivel, 'C-') as cnivel from ttgoficiDF\").show()"
   ]
  },
  {
   "cell_type": "code",
   "execution_count": 12,
   "metadata": {
    "collapsed": false
   },
   "outputs": [
    {
     "ename": "NameError",
     "evalue": "name 'udfincludePref' is not defined",
     "output_type": "error",
     "traceback": [
      "\u001b[0;31m---------------------------------------------------------------------------\u001b[0m",
      "\u001b[0;31mNameError\u001b[0m                                 Traceback (most recent call last)",
      "\u001b[0;32m<ipython-input-12-a68d57ddd433>\u001b[0m in \u001b[0;36m<module>\u001b[0;34m()\u001b[0m\n\u001b[1;32m      1\u001b[0m \u001b[0;31m# but not outside\u001b[0m\u001b[0;34m\u001b[0m\u001b[0;34m\u001b[0m\u001b[0m\n\u001b[0;32m----> 2\u001b[0;31m \u001b[0mttgoficiDF\u001b[0m\u001b[0;34m.\u001b[0m\u001b[0mwithColumn\u001b[0m\u001b[0;34m(\u001b[0m\u001b[0;34m\"cnivel2\"\u001b[0m\u001b[0;34m,\u001b[0m\u001b[0mudfincludePref\u001b[0m\u001b[0;34m(\u001b[0m\u001b[0mcol\u001b[0m\u001b[0;34m(\u001b[0m\u001b[0;34m\"cnivel\"\u001b[0m\u001b[0;34m)\u001b[0m\u001b[0;34m,\u001b[0m \u001b[0mlit\u001b[0m\u001b[0;34m(\u001b[0m\u001b[0;34m\"C-\"\u001b[0m\u001b[0;34m)\u001b[0m\u001b[0;34m)\u001b[0m\u001b[0;34m)\u001b[0m\u001b[0;34m.\u001b[0m\u001b[0mshow\u001b[0m\u001b[0;34m(\u001b[0m\u001b[0;34m)\u001b[0m\u001b[0;34m\u001b[0m\u001b[0m\n\u001b[0m",
      "\u001b[0;31mNameError\u001b[0m: name 'udfincludePref' is not defined"
     ]
    }
   ],
   "source": [
    "# but not outside\n",
    "ttgoficiDF.withColumn(\"cnivel2\",udfincludePref(col(\"cnivel\"), lit(\"C-\"))).show()"
   ]
  },
  {
   "cell_type": "markdown",
   "metadata": {},
   "source": [
    "You can see above that we can use it within SQL but not outside of it.  \n",
    "To do that we're going to have to create a different UDF using:\n",
    "spark.sql.function.udf wich returns a UDFRegistration for UDF registration."
   ]
  },
  {
   "cell_type": "code",
   "execution_count": 13,
   "metadata": {
    "collapsed": false
   },
   "outputs": [
    {
     "name": "stdout",
     "output_type": "stream",
     "text": [
      "+----------+---------+------+--------+------------+------------+------------+-------+--------------------+--------------------+----------+-------+-------+\n",
      "|cod_bancsb|cod_ofici|cnivel|cod_zona|cod_territor|cod_dirgener|cod_areanego|cod_dar|           des_nomco|           des_nomab|  f_cierre|cod_cbc|cnivel2|\n",
      "+----------+---------+------+--------+------------+------------+------------+-------+--------------------+--------------------+----------+-------+-------+\n",
      "|         9|      555|    10|       0|        4744|           0|        9007|      0|CENTRALIZADORA OF...|CTDRA.OFNAS.FINANZIA|2011-07-11|      0|   C-10|\n",
      "|         9|      557|    10|       0|        3860|           0|        9007|      0|CENTRALIZADORA FA...| CENTRALIZ FACTORING|2011-07-11|      0|   C-10|\n",
      "|         9|      574|    10|       0|        4744|           0|        9007|      0|OF. MOAD ADJUDICA...|OF.MOAD ADJUDIC. INM|2011-07-11|      0|   C-10|\n",
      "|         9|      991|    10|       0|        3860|           0|        9007|      0|CENTRO ADMINISTRA...| CTRO.ADM.REG.MADRID|1991-10-17|      0|   C-10|\n",
      "|         9|      995|    10|       0|        3860|           0|        9007|      0|CENTRO ELECTRONIC...|CTRO.ELECTRON.BILBAO|1993-05-21|      0|   C-10|\n",
      "|         9|      996|    10|       0|        3860|           0|        9007|      0|CENTRO ELECTRONIC...|CTRO.ELECTRON.MADRID|1993-05-21|      0|   C-10|\n",
      "|         9|     1095|    10|       0|        3860|           0|        9007|      0|MADRID-CENTRO TEL...|CTRO.TELEPROC.MADRID|2011-07-11|      0|   C-10|\n",
      "|         9|     1396|    10|       0|        3860|           0|        9007|      0|INSTRUMENTAL TESO...|  INSTRUM. TESORERIA|2011-07-11|      0|   C-10|\n",
      "|         9|     1500|    10|       0|        3860|           0|        9007|      0|      S.A.C. CENTRAL|      S.A.C. CENTRAL|2010-07-19|      0|   C-10|\n",
      "|         9|     1501|    10|       0|        3860|           0|        9007|      0|      S.A.C. CENTRAL|      S.A.C. CENTRAL|2011-07-11|      0|   C-10|\n",
      "|         9|     2016|    10|       0|        3860|           0|        9007|      0|INM. DE USO PROPI...|INM.U.PR.Y AFE.(FIN)|2011-07-11|      0|   C-10|\n",
      "|         9|     2019|    10|       0|        3860|           0|        9007|      0|GEST.ACT. NO FINA...|GEST.ACT.NO F.(FINA)|2011-07-11|      0|   C-10|\n",
      "|         9|     2999|    10|       0|        3860|           0|        9007|      0|OFICINA DE SINERG...|OF.SINERGIAS(FINAN.)|2011-07-11|      0|   C-10|\n",
      "|         9|     3008|    10|       0|        3860|           0|        9007|      0|     COAP (FINANZIA)|     COAP (FINANZIA)|2011-07-11|      0|   C-10|\n",
      "|         9|     3009|    10|       0|        3860|           0|        9007|   3868|OFICINA TITULIZACION|OFICINA TITULIZACION|2011-07-11|      0|   C-10|\n",
      "|         9|     3062|    10|       0|        3860|           0|        9007|      0|REFUNDIDORA DIVIS...| REF.DIV.OF.RED(FIN)|2011-07-11|      0|   C-10|\n",
      "|         9|     3801|    10|    3869|        3867|           0|        9011|      0|HOSPITALET DE LLO...|          HOSPITALET|2008-11-24|      0|   C-10|\n",
      "|         9|     3802|    10|    3869|        3867|           0|        9011|      0|            SABADELL|            SABADELL|2011-07-11|      0|   C-10|\n",
      "|         9|     3803|    10|    3869|        3867|           0|        9011|      0|              MATARO|              MATARO|2011-07-11|      0|   C-10|\n",
      "|         9|     3804|    10|       0|        3860|           0|        9007|      0|FINANCIACION FINA...|FINANC.FINANZIA AUTO|2011-07-11|      0|   C-10|\n",
      "+----------+---------+------+--------+------------+------------+------------+-------+--------------------+--------------------+----------+-------+-------+\n",
      "only showing top 20 rows\n",
      "\n"
     ]
    }
   ],
   "source": [
    "from pyspark.sql.functions import udf,lit,col\n",
    "udfincludePref = udf(includePref, StringType())\n",
    "#now this works\n",
    "ttgoficiDF.withColumn(\"cnivel2\",udfincludePref(\"cnivel\", lit(\"C-\"))).show()"
   ]
  },
  {
   "cell_type": "markdown",
   "metadata": {},
   "source": [
    "## Ejercicio  1: "
   ]
  },
  {
   "cell_type": "markdown",
   "metadata": {},
   "source": [
    "Añadir al dataframe ttgoficiDF una nueva columna denominada \"area\", según el avalor de cod_territor, de tal forma:  \n",
    "    con_territor >= 8000 -> area = A  \n",
    "    con_territor >= 6000 -> area = B  \n",
    "    con_territor >= 4000 -> area = C  \n",
    "    con_territor <  4000 -> area = D  "
   ]
  },
  {
   "cell_type": "code",
   "execution_count": 15,
   "metadata": {
    "collapsed": true
   },
   "outputs": [],
   "source": [
    "def codTerritorToArea(cod_territor):\n",
    "    territor = int(cod_territor)\n",
    "    if territor >= 8000: return 'A'\n",
    "    elif territor >= 6000: return 'B'\n",
    "    elif territor >= 4000: return 'C'\n",
    "    else: return 'D'"
   ]
  },
  {
   "cell_type": "code",
   "execution_count": 16,
   "metadata": {
    "collapsed": false
   },
   "outputs": [
    {
     "name": "stdout",
     "output_type": "stream",
     "text": [
      "+----------+---------+------+--------+------------+------------+------------+-------+--------------------+--------------------+----------+-------+----+\n",
      "|cod_bancsb|cod_ofici|cnivel|cod_zona|cod_territor|cod_dirgener|cod_areanego|cod_dar|           des_nomco|           des_nomab|  f_cierre|cod_cbc|area|\n",
      "+----------+---------+------+--------+------------+------------+------------+-------+--------------------+--------------------+----------+-------+----+\n",
      "|         9|      555|    10|       0|        4744|           0|        9007|      0|CENTRALIZADORA OF...|CTDRA.OFNAS.FINANZIA|2011-07-11|      0|   C|\n",
      "|         9|      557|    10|       0|        3860|           0|        9007|      0|CENTRALIZADORA FA...| CENTRALIZ FACTORING|2011-07-11|      0|   D|\n",
      "|         9|      574|    10|       0|        4744|           0|        9007|      0|OF. MOAD ADJUDICA...|OF.MOAD ADJUDIC. INM|2011-07-11|      0|   C|\n",
      "|         9|      991|    10|       0|        3860|           0|        9007|      0|CENTRO ADMINISTRA...| CTRO.ADM.REG.MADRID|1991-10-17|      0|   D|\n",
      "|         9|      995|    10|       0|        3860|           0|        9007|      0|CENTRO ELECTRONIC...|CTRO.ELECTRON.BILBAO|1993-05-21|      0|   D|\n",
      "|         9|      996|    10|       0|        3860|           0|        9007|      0|CENTRO ELECTRONIC...|CTRO.ELECTRON.MADRID|1993-05-21|      0|   D|\n",
      "|         9|     1095|    10|       0|        3860|           0|        9007|      0|MADRID-CENTRO TEL...|CTRO.TELEPROC.MADRID|2011-07-11|      0|   D|\n",
      "|         9|     1396|    10|       0|        3860|           0|        9007|      0|INSTRUMENTAL TESO...|  INSTRUM. TESORERIA|2011-07-11|      0|   D|\n",
      "|         9|     1500|    10|       0|        3860|           0|        9007|      0|      S.A.C. CENTRAL|      S.A.C. CENTRAL|2010-07-19|      0|   D|\n",
      "|         9|     1501|    10|       0|        3860|           0|        9007|      0|      S.A.C. CENTRAL|      S.A.C. CENTRAL|2011-07-11|      0|   D|\n",
      "|         9|     2016|    10|       0|        3860|           0|        9007|      0|INM. DE USO PROPI...|INM.U.PR.Y AFE.(FIN)|2011-07-11|      0|   D|\n",
      "|         9|     2019|    10|       0|        3860|           0|        9007|      0|GEST.ACT. NO FINA...|GEST.ACT.NO F.(FINA)|2011-07-11|      0|   D|\n",
      "|         9|     2999|    10|       0|        3860|           0|        9007|      0|OFICINA DE SINERG...|OF.SINERGIAS(FINAN.)|2011-07-11|      0|   D|\n",
      "|         9|     3008|    10|       0|        3860|           0|        9007|      0|     COAP (FINANZIA)|     COAP (FINANZIA)|2011-07-11|      0|   D|\n",
      "|         9|     3009|    10|       0|        3860|           0|        9007|   3868|OFICINA TITULIZACION|OFICINA TITULIZACION|2011-07-11|      0|   D|\n",
      "|         9|     3062|    10|       0|        3860|           0|        9007|      0|REFUNDIDORA DIVIS...| REF.DIV.OF.RED(FIN)|2011-07-11|      0|   D|\n",
      "|         9|     3801|    10|    3869|        3867|           0|        9011|      0|HOSPITALET DE LLO...|          HOSPITALET|2008-11-24|      0|   D|\n",
      "|         9|     3802|    10|    3869|        3867|           0|        9011|      0|            SABADELL|            SABADELL|2011-07-11|      0|   D|\n",
      "|         9|     3803|    10|    3869|        3867|           0|        9011|      0|              MATARO|              MATARO|2011-07-11|      0|   D|\n",
      "|         9|     3804|    10|       0|        3860|           0|        9007|      0|FINANCIACION FINA...|FINANC.FINANZIA AUTO|2011-07-11|      0|   D|\n",
      "+----------+---------+------+--------+------------+------------+------------+-------+--------------------+--------------------+----------+-------+----+\n",
      "only showing top 20 rows\n",
      "\n"
     ]
    }
   ],
   "source": [
    "udfcodTerritorToArea=udf(codTerritorToArea, StringType())\n",
    "ttgoficiDF.withColumn(\"area\", udfcodTerritorToArea(\"cod_territor\")).show()"
   ]
  },
  {
   "cell_type": "markdown",
   "metadata": {},
   "source": [
    "Realizar la misma funcionalidad mediante secuencia sql: case..."
   ]
  },
  {
   "cell_type": "code",
   "execution_count": 17,
   "metadata": {
    "collapsed": false
   },
   "outputs": [
    {
     "name": "stdout",
     "output_type": "stream",
     "text": [
      "+----------+---------+------+--------+------------+------------+------------+-------+--------------------+--------------------+----------+-------+----+\n",
      "|cod_bancsb|cod_ofici|cnivel|cod_zona|cod_territor|cod_dirgener|cod_areanego|cod_dar|           des_nomco|           des_nomab|  f_cierre|cod_cbc|area|\n",
      "+----------+---------+------+--------+------------+------------+------------+-------+--------------------+--------------------+----------+-------+----+\n",
      "|         9|      555|    10|       0|        4744|           0|        9007|      0|CENTRALIZADORA OF...|CTDRA.OFNAS.FINANZIA|2011-07-11|      0|   C|\n",
      "|         9|      557|    10|       0|        3860|           0|        9007|      0|CENTRALIZADORA FA...| CENTRALIZ FACTORING|2011-07-11|      0|   D|\n",
      "|         9|      574|    10|       0|        4744|           0|        9007|      0|OF. MOAD ADJUDICA...|OF.MOAD ADJUDIC. INM|2011-07-11|      0|   C|\n",
      "|         9|      991|    10|       0|        3860|           0|        9007|      0|CENTRO ADMINISTRA...| CTRO.ADM.REG.MADRID|1991-10-17|      0|   D|\n",
      "|         9|      995|    10|       0|        3860|           0|        9007|      0|CENTRO ELECTRONIC...|CTRO.ELECTRON.BILBAO|1993-05-21|      0|   D|\n",
      "|         9|      996|    10|       0|        3860|           0|        9007|      0|CENTRO ELECTRONIC...|CTRO.ELECTRON.MADRID|1993-05-21|      0|   D|\n",
      "|         9|     1095|    10|       0|        3860|           0|        9007|      0|MADRID-CENTRO TEL...|CTRO.TELEPROC.MADRID|2011-07-11|      0|   D|\n",
      "|         9|     1396|    10|       0|        3860|           0|        9007|      0|INSTRUMENTAL TESO...|  INSTRUM. TESORERIA|2011-07-11|      0|   D|\n",
      "|         9|     1500|    10|       0|        3860|           0|        9007|      0|      S.A.C. CENTRAL|      S.A.C. CENTRAL|2010-07-19|      0|   D|\n",
      "|         9|     1501|    10|       0|        3860|           0|        9007|      0|      S.A.C. CENTRAL|      S.A.C. CENTRAL|2011-07-11|      0|   D|\n",
      "|         9|     2016|    10|       0|        3860|           0|        9007|      0|INM. DE USO PROPI...|INM.U.PR.Y AFE.(FIN)|2011-07-11|      0|   D|\n",
      "|         9|     2019|    10|       0|        3860|           0|        9007|      0|GEST.ACT. NO FINA...|GEST.ACT.NO F.(FINA)|2011-07-11|      0|   D|\n",
      "|         9|     2999|    10|       0|        3860|           0|        9007|      0|OFICINA DE SINERG...|OF.SINERGIAS(FINAN.)|2011-07-11|      0|   D|\n",
      "|         9|     3008|    10|       0|        3860|           0|        9007|      0|     COAP (FINANZIA)|     COAP (FINANZIA)|2011-07-11|      0|   D|\n",
      "|         9|     3009|    10|       0|        3860|           0|        9007|   3868|OFICINA TITULIZACION|OFICINA TITULIZACION|2011-07-11|      0|   D|\n",
      "|         9|     3062|    10|       0|        3860|           0|        9007|      0|REFUNDIDORA DIVIS...| REF.DIV.OF.RED(FIN)|2011-07-11|      0|   D|\n",
      "|         9|     3801|    10|    3869|        3867|           0|        9011|      0|HOSPITALET DE LLO...|          HOSPITALET|2008-11-24|      0|   D|\n",
      "|         9|     3802|    10|    3869|        3867|           0|        9011|      0|            SABADELL|            SABADELL|2011-07-11|      0|   D|\n",
      "|         9|     3803|    10|    3869|        3867|           0|        9011|      0|              MATARO|              MATARO|2011-07-11|      0|   D|\n",
      "|         9|     3804|    10|       0|        3860|           0|        9007|      0|FINANCIACION FINA...|FINANC.FINANZIA AUTO|2011-07-11|      0|   D|\n",
      "+----------+---------+------+--------+------------+------------+------------+-------+--------------------+--------------------+----------+-------+----+\n",
      "only showing top 20 rows\n",
      "\n"
     ]
    }
   ],
   "source": [
    "sqlContext.sql(\"select *,\\\n",
    "    CASE \\\n",
    "    WHEN int(cod_territor)>=8000 THEN 'A' \\\n",
    "    WHEN int(cod_territor)>=6000 THEN 'B' \\\n",
    "    WHEN int(cod_territor)>=4000 THEN 'C' \\\n",
    "    ELSE 'D' END AS area \\\n",
    "    FROM ttgoficiDF\").show()"
   ]
  },
  {
   "cell_type": "code",
   "execution_count": null,
   "metadata": {
    "collapsed": true
   },
   "outputs": [],
   "source": []
  }
 ],
 "metadata": {
  "kernelspec": {
   "display_name": "Python 3",
   "language": "python",
   "name": "python3"
  },
  "language_info": {
   "codemirror_mode": {
    "name": "ipython",
    "version": 3
   },
   "file_extension": ".py",
   "mimetype": "text/x-python",
   "name": "python",
   "nbconvert_exporter": "python",
   "pygments_lexer": "ipython3",
   "version": "3.5.2"
  }
 },
 "nbformat": 4,
 "nbformat_minor": 2
}
